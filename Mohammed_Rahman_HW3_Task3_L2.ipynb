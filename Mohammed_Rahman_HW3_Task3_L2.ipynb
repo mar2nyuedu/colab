{
  "cells": [
    {
      "cell_type": "markdown",
      "metadata": {
        "id": "view-in-github",
        "colab_type": "text"
      },
      "source": [
        "<a href=\"https://colab.research.google.com/github/mar2nyuedu/colab/blob/main/Mohammed_Rahman_HW3_Task3_L2.ipynb\" target=\"_parent\"><img src=\"https://colab.research.google.com/assets/colab-badge.svg\" alt=\"Open In Colab\"/></a>"
      ]
    },
    {
      "cell_type": "code",
      "execution_count": 104,
      "metadata": {
        "cellView": "form",
        "id": "wDlWLbfkJtvu"
      },
      "outputs": [],
      "source": [
        "#@title Copyright 2020 Google LLC. Double-click here for license information.\n",
        "# Licensed under the Apache License, Version 2.0 (the \"License\");\n",
        "# you may not use this file except in compliance with the License.\n",
        "# You may obtain a copy of the License at\n",
        "#\n",
        "# https://www.apache.org/licenses/LICENSE-2.0\n",
        "#\n",
        "# Unless required by applicable law or agreed to in writing, software\n",
        "# distributed under the License is distributed on an \"AS IS\" BASIS,\n",
        "# WITHOUT WARRANTIES OR CONDITIONS OF ANY KIND, either express or implied.\n",
        "# See the License for the specific language governing permissions and\n",
        "# limitations under the License."
      ]
    },
    {
      "cell_type": "markdown",
      "metadata": {
        "id": "TL5y5fY9Jy_x"
      },
      "source": [
        "# Introduction to Neural Nets\n",
        "\n",
        "This Colab builds a deep neural network to perform more sophisticated regression than the earlier Colabs."
      ]
    },
    {
      "cell_type": "markdown",
      "metadata": {
        "id": "7RDY3EeAluPd"
      },
      "source": [
        "## Learning Objectives:\n",
        "\n",
        "After doing this Colab, you'll know how to do the following:\n",
        "\n",
        "  * Create a simple deep neural network.\n",
        "  * Tune the hyperparameters for a simple deep neural network."
      ]
    },
    {
      "cell_type": "markdown",
      "metadata": {
        "id": "XGj0PNaJlubZ"
      },
      "source": [
        "## The Dataset\n",
        "  \n",
        "Like several of the previous Colabs, this Colab uses the [California Housing Dataset](https://developers.google.com/machine-learning/crash-course/california-housing-data-description)."
      ]
    },
    {
      "cell_type": "markdown",
      "metadata": {
        "id": "xchnxAsaKKqO"
      },
      "source": [
        "## Import relevant modules\n",
        "\n",
        "The following hidden code cell imports the necessary code to run the code in the rest of this Colaboratory."
      ]
    },
    {
      "cell_type": "code",
      "execution_count": 105,
      "metadata": {
        "id": "9n9_cTveKmse",
        "colab": {
          "base_uri": "https://localhost:8080/"
        },
        "outputId": "b92e7280-66c4-4b04-d6c0-e62afca0e8f0"
      },
      "outputs": [
        {
          "output_type": "stream",
          "name": "stdout",
          "text": [
            "Imported modules.\n"
          ]
        }
      ],
      "source": [
        "#@title Import relevant modules\n",
        "import numpy as np\n",
        "import pandas as pd\n",
        "import tensorflow as tf\n",
        "from tensorflow.keras import layers\n",
        "from matplotlib import pyplot as plt\n",
        "# import seaborn as sns\n",
        "\n",
        "# The following lines adjust the granularity of reporting. \n",
        "pd.options.display.max_rows = 10\n",
        "pd.options.display.float_format = \"{:.1f}\".format\n",
        "\n",
        "print(\"Imported modules.\")"
      ]
    },
    {
      "cell_type": "markdown",
      "metadata": {
        "id": "X_TaJhU4KcuY"
      },
      "source": [
        "## Load the dataset\n",
        "\n",
        "Like most of the previous Colab exercises, this exercise uses the California Housing Dataset.  The following code cell loads the separate .csv files and creates the following two pandas DataFrames:\n",
        "\n",
        "* `train_df`, which contains the training set\n",
        "* `test_df`, which contains the test set\n",
        "   "
      ]
    },
    {
      "cell_type": "code",
      "execution_count": 106,
      "metadata": {
        "id": "JZlvdpyYKx7V"
      },
      "outputs": [],
      "source": [
        "train_df = pd.read_csv(\"https://download.mlcc.google.com/mledu-datasets/california_housing_train.csv\")\n",
        "train_df = train_df.reindex(np.random.permutation(train_df.index)) # shuffle the examples helps ensuring that batches are more representative of the entire dataset \n",
        "test_df = pd.read_csv(\"https://download.mlcc.google.com/mledu-datasets/california_housing_test.csv\")"
      ]
    },
    {
      "cell_type": "code",
      "source": [
        "train_df"
      ],
      "metadata": {
        "id": "cxASbGEOs2XP",
        "colab": {
          "base_uri": "https://localhost:8080/",
          "height": 0
        },
        "outputId": "a8c6ab91-1623-4825-d78a-f83c84ac35df"
      },
      "execution_count": 107,
      "outputs": [
        {
          "output_type": "execute_result",
          "data": {
            "text/plain": [
              "       longitude  latitude  housing_median_age  total_rooms  total_bedrooms  \\\n",
              "8205      -118.4      34.2                20.0       5756.0          1477.0   \n",
              "13380     -121.9      36.6                34.0       2351.0           440.0   \n",
              "2889      -117.8      34.1                52.0         24.0             6.0   \n",
              "7551      -118.4      33.9                44.0       1362.0           237.0   \n",
              "11757     -121.3      39.4                18.0       1860.0           409.0   \n",
              "...          ...       ...                 ...          ...             ...   \n",
              "12868     -121.8      37.3                16.0       2030.0           321.0   \n",
              "5429      -118.2      34.2                44.0       1870.0           389.0   \n",
              "905       -117.1      32.7                27.0       2204.0           598.0   \n",
              "473       -117.0      33.7                25.0       4952.0          1062.0   \n",
              "11445     -121.2      38.7                28.0       3558.0           589.0   \n",
              "\n",
              "       population  households  median_income  median_house_value  \n",
              "8205       4031.0      1369.0            3.2            221200.0  \n",
              "13380      1063.0       428.0            3.7            278000.0  \n",
              "2889         46.0         7.0            1.6             67500.0  \n",
              "7551        709.0       247.0            4.4            336200.0  \n",
              "11757       741.0       349.0            1.9             84700.0  \n",
              "...           ...         ...            ...                 ...  \n",
              "12868      1343.0       365.0            6.4            279100.0  \n",
              "5429       1345.0       391.0            1.9            136100.0  \n",
              "905        1656.0       521.0            1.5             86200.0  \n",
              "473        1589.0      1024.0            1.8             85700.0  \n",
              "11445      1742.0       581.0            4.0            131700.0  \n",
              "\n",
              "[17000 rows x 9 columns]"
            ],
            "text/html": [
              "\n",
              "  <div id=\"df-36710f2b-ee83-4331-847e-26a93ad11591\">\n",
              "    <div class=\"colab-df-container\">\n",
              "      <div>\n",
              "<style scoped>\n",
              "    .dataframe tbody tr th:only-of-type {\n",
              "        vertical-align: middle;\n",
              "    }\n",
              "\n",
              "    .dataframe tbody tr th {\n",
              "        vertical-align: top;\n",
              "    }\n",
              "\n",
              "    .dataframe thead th {\n",
              "        text-align: right;\n",
              "    }\n",
              "</style>\n",
              "<table border=\"1\" class=\"dataframe\">\n",
              "  <thead>\n",
              "    <tr style=\"text-align: right;\">\n",
              "      <th></th>\n",
              "      <th>longitude</th>\n",
              "      <th>latitude</th>\n",
              "      <th>housing_median_age</th>\n",
              "      <th>total_rooms</th>\n",
              "      <th>total_bedrooms</th>\n",
              "      <th>population</th>\n",
              "      <th>households</th>\n",
              "      <th>median_income</th>\n",
              "      <th>median_house_value</th>\n",
              "    </tr>\n",
              "  </thead>\n",
              "  <tbody>\n",
              "    <tr>\n",
              "      <th>8205</th>\n",
              "      <td>-118.4</td>\n",
              "      <td>34.2</td>\n",
              "      <td>20.0</td>\n",
              "      <td>5756.0</td>\n",
              "      <td>1477.0</td>\n",
              "      <td>4031.0</td>\n",
              "      <td>1369.0</td>\n",
              "      <td>3.2</td>\n",
              "      <td>221200.0</td>\n",
              "    </tr>\n",
              "    <tr>\n",
              "      <th>13380</th>\n",
              "      <td>-121.9</td>\n",
              "      <td>36.6</td>\n",
              "      <td>34.0</td>\n",
              "      <td>2351.0</td>\n",
              "      <td>440.0</td>\n",
              "      <td>1063.0</td>\n",
              "      <td>428.0</td>\n",
              "      <td>3.7</td>\n",
              "      <td>278000.0</td>\n",
              "    </tr>\n",
              "    <tr>\n",
              "      <th>2889</th>\n",
              "      <td>-117.8</td>\n",
              "      <td>34.1</td>\n",
              "      <td>52.0</td>\n",
              "      <td>24.0</td>\n",
              "      <td>6.0</td>\n",
              "      <td>46.0</td>\n",
              "      <td>7.0</td>\n",
              "      <td>1.6</td>\n",
              "      <td>67500.0</td>\n",
              "    </tr>\n",
              "    <tr>\n",
              "      <th>7551</th>\n",
              "      <td>-118.4</td>\n",
              "      <td>33.9</td>\n",
              "      <td>44.0</td>\n",
              "      <td>1362.0</td>\n",
              "      <td>237.0</td>\n",
              "      <td>709.0</td>\n",
              "      <td>247.0</td>\n",
              "      <td>4.4</td>\n",
              "      <td>336200.0</td>\n",
              "    </tr>\n",
              "    <tr>\n",
              "      <th>11757</th>\n",
              "      <td>-121.3</td>\n",
              "      <td>39.4</td>\n",
              "      <td>18.0</td>\n",
              "      <td>1860.0</td>\n",
              "      <td>409.0</td>\n",
              "      <td>741.0</td>\n",
              "      <td>349.0</td>\n",
              "      <td>1.9</td>\n",
              "      <td>84700.0</td>\n",
              "    </tr>\n",
              "    <tr>\n",
              "      <th>...</th>\n",
              "      <td>...</td>\n",
              "      <td>...</td>\n",
              "      <td>...</td>\n",
              "      <td>...</td>\n",
              "      <td>...</td>\n",
              "      <td>...</td>\n",
              "      <td>...</td>\n",
              "      <td>...</td>\n",
              "      <td>...</td>\n",
              "    </tr>\n",
              "    <tr>\n",
              "      <th>12868</th>\n",
              "      <td>-121.8</td>\n",
              "      <td>37.3</td>\n",
              "      <td>16.0</td>\n",
              "      <td>2030.0</td>\n",
              "      <td>321.0</td>\n",
              "      <td>1343.0</td>\n",
              "      <td>365.0</td>\n",
              "      <td>6.4</td>\n",
              "      <td>279100.0</td>\n",
              "    </tr>\n",
              "    <tr>\n",
              "      <th>5429</th>\n",
              "      <td>-118.2</td>\n",
              "      <td>34.2</td>\n",
              "      <td>44.0</td>\n",
              "      <td>1870.0</td>\n",
              "      <td>389.0</td>\n",
              "      <td>1345.0</td>\n",
              "      <td>391.0</td>\n",
              "      <td>1.9</td>\n",
              "      <td>136100.0</td>\n",
              "    </tr>\n",
              "    <tr>\n",
              "      <th>905</th>\n",
              "      <td>-117.1</td>\n",
              "      <td>32.7</td>\n",
              "      <td>27.0</td>\n",
              "      <td>2204.0</td>\n",
              "      <td>598.0</td>\n",
              "      <td>1656.0</td>\n",
              "      <td>521.0</td>\n",
              "      <td>1.5</td>\n",
              "      <td>86200.0</td>\n",
              "    </tr>\n",
              "    <tr>\n",
              "      <th>473</th>\n",
              "      <td>-117.0</td>\n",
              "      <td>33.7</td>\n",
              "      <td>25.0</td>\n",
              "      <td>4952.0</td>\n",
              "      <td>1062.0</td>\n",
              "      <td>1589.0</td>\n",
              "      <td>1024.0</td>\n",
              "      <td>1.8</td>\n",
              "      <td>85700.0</td>\n",
              "    </tr>\n",
              "    <tr>\n",
              "      <th>11445</th>\n",
              "      <td>-121.2</td>\n",
              "      <td>38.7</td>\n",
              "      <td>28.0</td>\n",
              "      <td>3558.0</td>\n",
              "      <td>589.0</td>\n",
              "      <td>1742.0</td>\n",
              "      <td>581.0</td>\n",
              "      <td>4.0</td>\n",
              "      <td>131700.0</td>\n",
              "    </tr>\n",
              "  </tbody>\n",
              "</table>\n",
              "<p>17000 rows × 9 columns</p>\n",
              "</div>\n",
              "      <button class=\"colab-df-convert\" onclick=\"convertToInteractive('df-36710f2b-ee83-4331-847e-26a93ad11591')\"\n",
              "              title=\"Convert this dataframe to an interactive table.\"\n",
              "              style=\"display:none;\">\n",
              "        \n",
              "  <svg xmlns=\"http://www.w3.org/2000/svg\" height=\"24px\"viewBox=\"0 0 24 24\"\n",
              "       width=\"24px\">\n",
              "    <path d=\"M0 0h24v24H0V0z\" fill=\"none\"/>\n",
              "    <path d=\"M18.56 5.44l.94 2.06.94-2.06 2.06-.94-2.06-.94-.94-2.06-.94 2.06-2.06.94zm-11 1L8.5 8.5l.94-2.06 2.06-.94-2.06-.94L8.5 2.5l-.94 2.06-2.06.94zm10 10l.94 2.06.94-2.06 2.06-.94-2.06-.94-.94-2.06-.94 2.06-2.06.94z\"/><path d=\"M17.41 7.96l-1.37-1.37c-.4-.4-.92-.59-1.43-.59-.52 0-1.04.2-1.43.59L10.3 9.45l-7.72 7.72c-.78.78-.78 2.05 0 2.83L4 21.41c.39.39.9.59 1.41.59.51 0 1.02-.2 1.41-.59l7.78-7.78 2.81-2.81c.8-.78.8-2.07 0-2.86zM5.41 20L4 18.59l7.72-7.72 1.47 1.35L5.41 20z\"/>\n",
              "  </svg>\n",
              "      </button>\n",
              "      \n",
              "  <style>\n",
              "    .colab-df-container {\n",
              "      display:flex;\n",
              "      flex-wrap:wrap;\n",
              "      gap: 12px;\n",
              "    }\n",
              "\n",
              "    .colab-df-convert {\n",
              "      background-color: #E8F0FE;\n",
              "      border: none;\n",
              "      border-radius: 50%;\n",
              "      cursor: pointer;\n",
              "      display: none;\n",
              "      fill: #1967D2;\n",
              "      height: 32px;\n",
              "      padding: 0 0 0 0;\n",
              "      width: 32px;\n",
              "    }\n",
              "\n",
              "    .colab-df-convert:hover {\n",
              "      background-color: #E2EBFA;\n",
              "      box-shadow: 0px 1px 2px rgba(60, 64, 67, 0.3), 0px 1px 3px 1px rgba(60, 64, 67, 0.15);\n",
              "      fill: #174EA6;\n",
              "    }\n",
              "\n",
              "    [theme=dark] .colab-df-convert {\n",
              "      background-color: #3B4455;\n",
              "      fill: #D2E3FC;\n",
              "    }\n",
              "\n",
              "    [theme=dark] .colab-df-convert:hover {\n",
              "      background-color: #434B5C;\n",
              "      box-shadow: 0px 1px 3px 1px rgba(0, 0, 0, 0.15);\n",
              "      filter: drop-shadow(0px 1px 2px rgba(0, 0, 0, 0.3));\n",
              "      fill: #FFFFFF;\n",
              "    }\n",
              "  </style>\n",
              "\n",
              "      <script>\n",
              "        const buttonEl =\n",
              "          document.querySelector('#df-36710f2b-ee83-4331-847e-26a93ad11591 button.colab-df-convert');\n",
              "        buttonEl.style.display =\n",
              "          google.colab.kernel.accessAllowed ? 'block' : 'none';\n",
              "\n",
              "        async function convertToInteractive(key) {\n",
              "          const element = document.querySelector('#df-36710f2b-ee83-4331-847e-26a93ad11591');\n",
              "          const dataTable =\n",
              "            await google.colab.kernel.invokeFunction('convertToInteractive',\n",
              "                                                     [key], {});\n",
              "          if (!dataTable) return;\n",
              "\n",
              "          const docLinkHtml = 'Like what you see? Visit the ' +\n",
              "            '<a target=\"_blank\" href=https://colab.research.google.com/notebooks/data_table.ipynb>data table notebook</a>'\n",
              "            + ' to learn more about interactive tables.';\n",
              "          element.innerHTML = '';\n",
              "          dataTable['output_type'] = 'display_data';\n",
              "          await google.colab.output.renderOutput(dataTable, element);\n",
              "          const docLink = document.createElement('div');\n",
              "          docLink.innerHTML = docLinkHtml;\n",
              "          element.appendChild(docLink);\n",
              "        }\n",
              "      </script>\n",
              "    </div>\n",
              "  </div>\n",
              "  "
            ]
          },
          "metadata": {},
          "execution_count": 107
        }
      ]
    },
    {
      "cell_type": "code",
      "source": [
        "train_df.describe()"
      ],
      "metadata": {
        "colab": {
          "base_uri": "https://localhost:8080/",
          "height": 0
        },
        "id": "nVgTsGACt6E5",
        "outputId": "c60e56d0-a694-49d1-c3cc-4169924a3b40"
      },
      "execution_count": 108,
      "outputs": [
        {
          "output_type": "execute_result",
          "data": {
            "text/plain": [
              "       longitude  latitude  housing_median_age  total_rooms  total_bedrooms  \\\n",
              "count    17000.0   17000.0             17000.0      17000.0         17000.0   \n",
              "mean      -119.6      35.6                28.6       2643.7           539.4   \n",
              "std          2.0       2.1                12.6       2179.9           421.5   \n",
              "min       -124.3      32.5                 1.0          2.0             1.0   \n",
              "25%       -121.8      33.9                18.0       1462.0           297.0   \n",
              "50%       -118.5      34.2                29.0       2127.0           434.0   \n",
              "75%       -118.0      37.7                37.0       3151.2           648.2   \n",
              "max       -114.3      42.0                52.0      37937.0          6445.0   \n",
              "\n",
              "       population  households  median_income  median_house_value  \n",
              "count     17000.0     17000.0        17000.0             17000.0  \n",
              "mean       1429.6       501.2            3.9            207300.9  \n",
              "std        1147.9       384.5            1.9            115983.8  \n",
              "min           3.0         1.0            0.5             14999.0  \n",
              "25%         790.0       282.0            2.6            119400.0  \n",
              "50%        1167.0       409.0            3.5            180400.0  \n",
              "75%        1721.0       605.2            4.8            265000.0  \n",
              "max       35682.0      6082.0           15.0            500001.0  "
            ],
            "text/html": [
              "\n",
              "  <div id=\"df-dcadfdee-b18b-4489-a0e6-76a507bc8ba5\">\n",
              "    <div class=\"colab-df-container\">\n",
              "      <div>\n",
              "<style scoped>\n",
              "    .dataframe tbody tr th:only-of-type {\n",
              "        vertical-align: middle;\n",
              "    }\n",
              "\n",
              "    .dataframe tbody tr th {\n",
              "        vertical-align: top;\n",
              "    }\n",
              "\n",
              "    .dataframe thead th {\n",
              "        text-align: right;\n",
              "    }\n",
              "</style>\n",
              "<table border=\"1\" class=\"dataframe\">\n",
              "  <thead>\n",
              "    <tr style=\"text-align: right;\">\n",
              "      <th></th>\n",
              "      <th>longitude</th>\n",
              "      <th>latitude</th>\n",
              "      <th>housing_median_age</th>\n",
              "      <th>total_rooms</th>\n",
              "      <th>total_bedrooms</th>\n",
              "      <th>population</th>\n",
              "      <th>households</th>\n",
              "      <th>median_income</th>\n",
              "      <th>median_house_value</th>\n",
              "    </tr>\n",
              "  </thead>\n",
              "  <tbody>\n",
              "    <tr>\n",
              "      <th>count</th>\n",
              "      <td>17000.0</td>\n",
              "      <td>17000.0</td>\n",
              "      <td>17000.0</td>\n",
              "      <td>17000.0</td>\n",
              "      <td>17000.0</td>\n",
              "      <td>17000.0</td>\n",
              "      <td>17000.0</td>\n",
              "      <td>17000.0</td>\n",
              "      <td>17000.0</td>\n",
              "    </tr>\n",
              "    <tr>\n",
              "      <th>mean</th>\n",
              "      <td>-119.6</td>\n",
              "      <td>35.6</td>\n",
              "      <td>28.6</td>\n",
              "      <td>2643.7</td>\n",
              "      <td>539.4</td>\n",
              "      <td>1429.6</td>\n",
              "      <td>501.2</td>\n",
              "      <td>3.9</td>\n",
              "      <td>207300.9</td>\n",
              "    </tr>\n",
              "    <tr>\n",
              "      <th>std</th>\n",
              "      <td>2.0</td>\n",
              "      <td>2.1</td>\n",
              "      <td>12.6</td>\n",
              "      <td>2179.9</td>\n",
              "      <td>421.5</td>\n",
              "      <td>1147.9</td>\n",
              "      <td>384.5</td>\n",
              "      <td>1.9</td>\n",
              "      <td>115983.8</td>\n",
              "    </tr>\n",
              "    <tr>\n",
              "      <th>min</th>\n",
              "      <td>-124.3</td>\n",
              "      <td>32.5</td>\n",
              "      <td>1.0</td>\n",
              "      <td>2.0</td>\n",
              "      <td>1.0</td>\n",
              "      <td>3.0</td>\n",
              "      <td>1.0</td>\n",
              "      <td>0.5</td>\n",
              "      <td>14999.0</td>\n",
              "    </tr>\n",
              "    <tr>\n",
              "      <th>25%</th>\n",
              "      <td>-121.8</td>\n",
              "      <td>33.9</td>\n",
              "      <td>18.0</td>\n",
              "      <td>1462.0</td>\n",
              "      <td>297.0</td>\n",
              "      <td>790.0</td>\n",
              "      <td>282.0</td>\n",
              "      <td>2.6</td>\n",
              "      <td>119400.0</td>\n",
              "    </tr>\n",
              "    <tr>\n",
              "      <th>50%</th>\n",
              "      <td>-118.5</td>\n",
              "      <td>34.2</td>\n",
              "      <td>29.0</td>\n",
              "      <td>2127.0</td>\n",
              "      <td>434.0</td>\n",
              "      <td>1167.0</td>\n",
              "      <td>409.0</td>\n",
              "      <td>3.5</td>\n",
              "      <td>180400.0</td>\n",
              "    </tr>\n",
              "    <tr>\n",
              "      <th>75%</th>\n",
              "      <td>-118.0</td>\n",
              "      <td>37.7</td>\n",
              "      <td>37.0</td>\n",
              "      <td>3151.2</td>\n",
              "      <td>648.2</td>\n",
              "      <td>1721.0</td>\n",
              "      <td>605.2</td>\n",
              "      <td>4.8</td>\n",
              "      <td>265000.0</td>\n",
              "    </tr>\n",
              "    <tr>\n",
              "      <th>max</th>\n",
              "      <td>-114.3</td>\n",
              "      <td>42.0</td>\n",
              "      <td>52.0</td>\n",
              "      <td>37937.0</td>\n",
              "      <td>6445.0</td>\n",
              "      <td>35682.0</td>\n",
              "      <td>6082.0</td>\n",
              "      <td>15.0</td>\n",
              "      <td>500001.0</td>\n",
              "    </tr>\n",
              "  </tbody>\n",
              "</table>\n",
              "</div>\n",
              "      <button class=\"colab-df-convert\" onclick=\"convertToInteractive('df-dcadfdee-b18b-4489-a0e6-76a507bc8ba5')\"\n",
              "              title=\"Convert this dataframe to an interactive table.\"\n",
              "              style=\"display:none;\">\n",
              "        \n",
              "  <svg xmlns=\"http://www.w3.org/2000/svg\" height=\"24px\"viewBox=\"0 0 24 24\"\n",
              "       width=\"24px\">\n",
              "    <path d=\"M0 0h24v24H0V0z\" fill=\"none\"/>\n",
              "    <path d=\"M18.56 5.44l.94 2.06.94-2.06 2.06-.94-2.06-.94-.94-2.06-.94 2.06-2.06.94zm-11 1L8.5 8.5l.94-2.06 2.06-.94-2.06-.94L8.5 2.5l-.94 2.06-2.06.94zm10 10l.94 2.06.94-2.06 2.06-.94-2.06-.94-.94-2.06-.94 2.06-2.06.94z\"/><path d=\"M17.41 7.96l-1.37-1.37c-.4-.4-.92-.59-1.43-.59-.52 0-1.04.2-1.43.59L10.3 9.45l-7.72 7.72c-.78.78-.78 2.05 0 2.83L4 21.41c.39.39.9.59 1.41.59.51 0 1.02-.2 1.41-.59l7.78-7.78 2.81-2.81c.8-.78.8-2.07 0-2.86zM5.41 20L4 18.59l7.72-7.72 1.47 1.35L5.41 20z\"/>\n",
              "  </svg>\n",
              "      </button>\n",
              "      \n",
              "  <style>\n",
              "    .colab-df-container {\n",
              "      display:flex;\n",
              "      flex-wrap:wrap;\n",
              "      gap: 12px;\n",
              "    }\n",
              "\n",
              "    .colab-df-convert {\n",
              "      background-color: #E8F0FE;\n",
              "      border: none;\n",
              "      border-radius: 50%;\n",
              "      cursor: pointer;\n",
              "      display: none;\n",
              "      fill: #1967D2;\n",
              "      height: 32px;\n",
              "      padding: 0 0 0 0;\n",
              "      width: 32px;\n",
              "    }\n",
              "\n",
              "    .colab-df-convert:hover {\n",
              "      background-color: #E2EBFA;\n",
              "      box-shadow: 0px 1px 2px rgba(60, 64, 67, 0.3), 0px 1px 3px 1px rgba(60, 64, 67, 0.15);\n",
              "      fill: #174EA6;\n",
              "    }\n",
              "\n",
              "    [theme=dark] .colab-df-convert {\n",
              "      background-color: #3B4455;\n",
              "      fill: #D2E3FC;\n",
              "    }\n",
              "\n",
              "    [theme=dark] .colab-df-convert:hover {\n",
              "      background-color: #434B5C;\n",
              "      box-shadow: 0px 1px 3px 1px rgba(0, 0, 0, 0.15);\n",
              "      filter: drop-shadow(0px 1px 2px rgba(0, 0, 0, 0.3));\n",
              "      fill: #FFFFFF;\n",
              "    }\n",
              "  </style>\n",
              "\n",
              "      <script>\n",
              "        const buttonEl =\n",
              "          document.querySelector('#df-dcadfdee-b18b-4489-a0e6-76a507bc8ba5 button.colab-df-convert');\n",
              "        buttonEl.style.display =\n",
              "          google.colab.kernel.accessAllowed ? 'block' : 'none';\n",
              "\n",
              "        async function convertToInteractive(key) {\n",
              "          const element = document.querySelector('#df-dcadfdee-b18b-4489-a0e6-76a507bc8ba5');\n",
              "          const dataTable =\n",
              "            await google.colab.kernel.invokeFunction('convertToInteractive',\n",
              "                                                     [key], {});\n",
              "          if (!dataTable) return;\n",
              "\n",
              "          const docLinkHtml = 'Like what you see? Visit the ' +\n",
              "            '<a target=\"_blank\" href=https://colab.research.google.com/notebooks/data_table.ipynb>data table notebook</a>'\n",
              "            + ' to learn more about interactive tables.';\n",
              "          element.innerHTML = '';\n",
              "          dataTable['output_type'] = 'display_data';\n",
              "          await google.colab.output.renderOutput(dataTable, element);\n",
              "          const docLink = document.createElement('div');\n",
              "          docLink.innerHTML = docLinkHtml;\n",
              "          element.appendChild(docLink);\n",
              "        }\n",
              "      </script>\n",
              "    </div>\n",
              "  </div>\n",
              "  "
            ]
          },
          "metadata": {},
          "execution_count": 108
        }
      ]
    },
    {
      "cell_type": "markdown",
      "metadata": {
        "id": "8ldP-5z1B2vL"
      },
      "source": [
        "## Normalize values\n",
        "\n",
        "When building a model with multiple features, the values of each feature should cover roughly the same range.  The following code cell normalizes datasets by converting each raw value to its Z-score. "
      ]
    },
    {
      "cell_type": "code",
      "execution_count": 109,
      "metadata": {
        "id": "g8HC-TDgB1D1",
        "colab": {
          "base_uri": "https://localhost:8080/"
        },
        "outputId": "d2909735-ad0c-4e3e-b7d0-40ac62270273"
      },
      "outputs": [
        {
          "output_type": "stream",
          "name": "stdout",
          "text": [
            "Normalized the values.\n"
          ]
        }
      ],
      "source": [
        "#@title Convert raw values to their Z-scores \n",
        "\n",
        "# Calculate the Z-scores of each column in the training set:\n",
        "train_df_mean = train_df.mean()\n",
        "train_df_std = train_df.std()\n",
        "train_df_norm = (train_df - train_df_mean)/train_df_std\n",
        "\n",
        "# Calculate the Z-scores of each column in the test set.\n",
        "test_df_mean = test_df.mean()\n",
        "test_df_std = test_df.std()\n",
        "test_df_norm = (test_df - test_df_mean)/test_df_std\n",
        "\n",
        "print(\"Normalized the values.\")"
      ]
    },
    {
      "cell_type": "code",
      "source": [
        "train_df_norm"
      ],
      "metadata": {
        "id": "pyIVGqp4H-nk",
        "colab": {
          "base_uri": "https://localhost:8080/",
          "height": 424
        },
        "outputId": "13100334-6440-4537-f44a-2deb65b41955"
      },
      "execution_count": 110,
      "outputs": [
        {
          "output_type": "execute_result",
          "data": {
            "text/plain": [
              "       longitude  latitude  housing_median_age  total_rooms  total_bedrooms  \\\n",
              "8205         0.6      -0.7                -0.7          1.4             2.2   \n",
              "13380       -1.2       0.5                 0.4         -0.1            -0.2   \n",
              "2889         0.9      -0.7                 1.9         -1.2            -1.3   \n",
              "7551         0.6      -0.8                 1.2         -0.6            -0.7   \n",
              "11757       -0.9       1.8                -0.8         -0.4            -0.3   \n",
              "...          ...       ...                 ...          ...             ...   \n",
              "12868       -1.1       0.8                -1.0         -0.3            -0.5   \n",
              "5429         0.7      -0.7                 1.2         -0.4            -0.4   \n",
              "905          1.2      -1.4                -0.1         -0.2             0.1   \n",
              "473          1.3      -0.9                -0.3          1.1             1.2   \n",
              "11445       -0.8       1.4                -0.0          0.4             0.1   \n",
              "\n",
              "       population  households  median_income  median_house_value  \n",
              "8205          2.3         2.3           -0.3                 0.1  \n",
              "13380        -0.3        -0.2           -0.1                 0.6  \n",
              "2889         -1.2        -1.3           -1.2                -1.2  \n",
              "7551         -0.6        -0.7            0.3                 1.1  \n",
              "11757        -0.6        -0.4           -1.1                -1.1  \n",
              "...           ...         ...            ...                 ...  \n",
              "12868        -0.1        -0.4            1.3                 0.6  \n",
              "5429         -0.1        -0.3           -1.0                -0.6  \n",
              "905           0.2         0.1           -1.3                -1.0  \n",
              "473           0.1         1.4           -1.1                -1.0  \n",
              "11445         0.3         0.2            0.1                -0.7  \n",
              "\n",
              "[17000 rows x 9 columns]"
            ],
            "text/html": [
              "\n",
              "  <div id=\"df-bcac3293-f72c-46fb-b36b-40efa44a4f77\">\n",
              "    <div class=\"colab-df-container\">\n",
              "      <div>\n",
              "<style scoped>\n",
              "    .dataframe tbody tr th:only-of-type {\n",
              "        vertical-align: middle;\n",
              "    }\n",
              "\n",
              "    .dataframe tbody tr th {\n",
              "        vertical-align: top;\n",
              "    }\n",
              "\n",
              "    .dataframe thead th {\n",
              "        text-align: right;\n",
              "    }\n",
              "</style>\n",
              "<table border=\"1\" class=\"dataframe\">\n",
              "  <thead>\n",
              "    <tr style=\"text-align: right;\">\n",
              "      <th></th>\n",
              "      <th>longitude</th>\n",
              "      <th>latitude</th>\n",
              "      <th>housing_median_age</th>\n",
              "      <th>total_rooms</th>\n",
              "      <th>total_bedrooms</th>\n",
              "      <th>population</th>\n",
              "      <th>households</th>\n",
              "      <th>median_income</th>\n",
              "      <th>median_house_value</th>\n",
              "    </tr>\n",
              "  </thead>\n",
              "  <tbody>\n",
              "    <tr>\n",
              "      <th>8205</th>\n",
              "      <td>0.6</td>\n",
              "      <td>-0.7</td>\n",
              "      <td>-0.7</td>\n",
              "      <td>1.4</td>\n",
              "      <td>2.2</td>\n",
              "      <td>2.3</td>\n",
              "      <td>2.3</td>\n",
              "      <td>-0.3</td>\n",
              "      <td>0.1</td>\n",
              "    </tr>\n",
              "    <tr>\n",
              "      <th>13380</th>\n",
              "      <td>-1.2</td>\n",
              "      <td>0.5</td>\n",
              "      <td>0.4</td>\n",
              "      <td>-0.1</td>\n",
              "      <td>-0.2</td>\n",
              "      <td>-0.3</td>\n",
              "      <td>-0.2</td>\n",
              "      <td>-0.1</td>\n",
              "      <td>0.6</td>\n",
              "    </tr>\n",
              "    <tr>\n",
              "      <th>2889</th>\n",
              "      <td>0.9</td>\n",
              "      <td>-0.7</td>\n",
              "      <td>1.9</td>\n",
              "      <td>-1.2</td>\n",
              "      <td>-1.3</td>\n",
              "      <td>-1.2</td>\n",
              "      <td>-1.3</td>\n",
              "      <td>-1.2</td>\n",
              "      <td>-1.2</td>\n",
              "    </tr>\n",
              "    <tr>\n",
              "      <th>7551</th>\n",
              "      <td>0.6</td>\n",
              "      <td>-0.8</td>\n",
              "      <td>1.2</td>\n",
              "      <td>-0.6</td>\n",
              "      <td>-0.7</td>\n",
              "      <td>-0.6</td>\n",
              "      <td>-0.7</td>\n",
              "      <td>0.3</td>\n",
              "      <td>1.1</td>\n",
              "    </tr>\n",
              "    <tr>\n",
              "      <th>11757</th>\n",
              "      <td>-0.9</td>\n",
              "      <td>1.8</td>\n",
              "      <td>-0.8</td>\n",
              "      <td>-0.4</td>\n",
              "      <td>-0.3</td>\n",
              "      <td>-0.6</td>\n",
              "      <td>-0.4</td>\n",
              "      <td>-1.1</td>\n",
              "      <td>-1.1</td>\n",
              "    </tr>\n",
              "    <tr>\n",
              "      <th>...</th>\n",
              "      <td>...</td>\n",
              "      <td>...</td>\n",
              "      <td>...</td>\n",
              "      <td>...</td>\n",
              "      <td>...</td>\n",
              "      <td>...</td>\n",
              "      <td>...</td>\n",
              "      <td>...</td>\n",
              "      <td>...</td>\n",
              "    </tr>\n",
              "    <tr>\n",
              "      <th>12868</th>\n",
              "      <td>-1.1</td>\n",
              "      <td>0.8</td>\n",
              "      <td>-1.0</td>\n",
              "      <td>-0.3</td>\n",
              "      <td>-0.5</td>\n",
              "      <td>-0.1</td>\n",
              "      <td>-0.4</td>\n",
              "      <td>1.3</td>\n",
              "      <td>0.6</td>\n",
              "    </tr>\n",
              "    <tr>\n",
              "      <th>5429</th>\n",
              "      <td>0.7</td>\n",
              "      <td>-0.7</td>\n",
              "      <td>1.2</td>\n",
              "      <td>-0.4</td>\n",
              "      <td>-0.4</td>\n",
              "      <td>-0.1</td>\n",
              "      <td>-0.3</td>\n",
              "      <td>-1.0</td>\n",
              "      <td>-0.6</td>\n",
              "    </tr>\n",
              "    <tr>\n",
              "      <th>905</th>\n",
              "      <td>1.2</td>\n",
              "      <td>-1.4</td>\n",
              "      <td>-0.1</td>\n",
              "      <td>-0.2</td>\n",
              "      <td>0.1</td>\n",
              "      <td>0.2</td>\n",
              "      <td>0.1</td>\n",
              "      <td>-1.3</td>\n",
              "      <td>-1.0</td>\n",
              "    </tr>\n",
              "    <tr>\n",
              "      <th>473</th>\n",
              "      <td>1.3</td>\n",
              "      <td>-0.9</td>\n",
              "      <td>-0.3</td>\n",
              "      <td>1.1</td>\n",
              "      <td>1.2</td>\n",
              "      <td>0.1</td>\n",
              "      <td>1.4</td>\n",
              "      <td>-1.1</td>\n",
              "      <td>-1.0</td>\n",
              "    </tr>\n",
              "    <tr>\n",
              "      <th>11445</th>\n",
              "      <td>-0.8</td>\n",
              "      <td>1.4</td>\n",
              "      <td>-0.0</td>\n",
              "      <td>0.4</td>\n",
              "      <td>0.1</td>\n",
              "      <td>0.3</td>\n",
              "      <td>0.2</td>\n",
              "      <td>0.1</td>\n",
              "      <td>-0.7</td>\n",
              "    </tr>\n",
              "  </tbody>\n",
              "</table>\n",
              "<p>17000 rows × 9 columns</p>\n",
              "</div>\n",
              "      <button class=\"colab-df-convert\" onclick=\"convertToInteractive('df-bcac3293-f72c-46fb-b36b-40efa44a4f77')\"\n",
              "              title=\"Convert this dataframe to an interactive table.\"\n",
              "              style=\"display:none;\">\n",
              "        \n",
              "  <svg xmlns=\"http://www.w3.org/2000/svg\" height=\"24px\"viewBox=\"0 0 24 24\"\n",
              "       width=\"24px\">\n",
              "    <path d=\"M0 0h24v24H0V0z\" fill=\"none\"/>\n",
              "    <path d=\"M18.56 5.44l.94 2.06.94-2.06 2.06-.94-2.06-.94-.94-2.06-.94 2.06-2.06.94zm-11 1L8.5 8.5l.94-2.06 2.06-.94-2.06-.94L8.5 2.5l-.94 2.06-2.06.94zm10 10l.94 2.06.94-2.06 2.06-.94-2.06-.94-.94-2.06-.94 2.06-2.06.94z\"/><path d=\"M17.41 7.96l-1.37-1.37c-.4-.4-.92-.59-1.43-.59-.52 0-1.04.2-1.43.59L10.3 9.45l-7.72 7.72c-.78.78-.78 2.05 0 2.83L4 21.41c.39.39.9.59 1.41.59.51 0 1.02-.2 1.41-.59l7.78-7.78 2.81-2.81c.8-.78.8-2.07 0-2.86zM5.41 20L4 18.59l7.72-7.72 1.47 1.35L5.41 20z\"/>\n",
              "  </svg>\n",
              "      </button>\n",
              "      \n",
              "  <style>\n",
              "    .colab-df-container {\n",
              "      display:flex;\n",
              "      flex-wrap:wrap;\n",
              "      gap: 12px;\n",
              "    }\n",
              "\n",
              "    .colab-df-convert {\n",
              "      background-color: #E8F0FE;\n",
              "      border: none;\n",
              "      border-radius: 50%;\n",
              "      cursor: pointer;\n",
              "      display: none;\n",
              "      fill: #1967D2;\n",
              "      height: 32px;\n",
              "      padding: 0 0 0 0;\n",
              "      width: 32px;\n",
              "    }\n",
              "\n",
              "    .colab-df-convert:hover {\n",
              "      background-color: #E2EBFA;\n",
              "      box-shadow: 0px 1px 2px rgba(60, 64, 67, 0.3), 0px 1px 3px 1px rgba(60, 64, 67, 0.15);\n",
              "      fill: #174EA6;\n",
              "    }\n",
              "\n",
              "    [theme=dark] .colab-df-convert {\n",
              "      background-color: #3B4455;\n",
              "      fill: #D2E3FC;\n",
              "    }\n",
              "\n",
              "    [theme=dark] .colab-df-convert:hover {\n",
              "      background-color: #434B5C;\n",
              "      box-shadow: 0px 1px 3px 1px rgba(0, 0, 0, 0.15);\n",
              "      filter: drop-shadow(0px 1px 2px rgba(0, 0, 0, 0.3));\n",
              "      fill: #FFFFFF;\n",
              "    }\n",
              "  </style>\n",
              "\n",
              "      <script>\n",
              "        const buttonEl =\n",
              "          document.querySelector('#df-bcac3293-f72c-46fb-b36b-40efa44a4f77 button.colab-df-convert');\n",
              "        buttonEl.style.display =\n",
              "          google.colab.kernel.accessAllowed ? 'block' : 'none';\n",
              "\n",
              "        async function convertToInteractive(key) {\n",
              "          const element = document.querySelector('#df-bcac3293-f72c-46fb-b36b-40efa44a4f77');\n",
              "          const dataTable =\n",
              "            await google.colab.kernel.invokeFunction('convertToInteractive',\n",
              "                                                     [key], {});\n",
              "          if (!dataTable) return;\n",
              "\n",
              "          const docLinkHtml = 'Like what you see? Visit the ' +\n",
              "            '<a target=\"_blank\" href=https://colab.research.google.com/notebooks/data_table.ipynb>data table notebook</a>'\n",
              "            + ' to learn more about interactive tables.';\n",
              "          element.innerHTML = '';\n",
              "          dataTable['output_type'] = 'display_data';\n",
              "          await google.colab.output.renderOutput(dataTable, element);\n",
              "          const docLink = document.createElement('div');\n",
              "          docLink.innerHTML = docLinkHtml;\n",
              "          element.appendChild(docLink);\n",
              "        }\n",
              "      </script>\n",
              "    </div>\n",
              "  </div>\n",
              "  "
            ]
          },
          "metadata": {},
          "execution_count": 110
        }
      ]
    },
    {
      "cell_type": "code",
      "source": [
        "train_df_norm.describe()"
      ],
      "metadata": {
        "id": "xUvYWPcB7C7l",
        "colab": {
          "base_uri": "https://localhost:8080/",
          "height": 300
        },
        "outputId": "8782296b-7e5a-4ace-c090-04f11938ec7c"
      },
      "execution_count": 111,
      "outputs": [
        {
          "output_type": "execute_result",
          "data": {
            "text/plain": [
              "       longitude  latitude  housing_median_age  total_rooms  total_bedrooms  \\\n",
              "count    17000.0   17000.0             17000.0      17000.0         17000.0   \n",
              "mean        -0.0      -0.0                -0.0         -0.0            -0.0   \n",
              "std          1.0       1.0                 1.0          1.0             1.0   \n",
              "min         -2.4      -1.4                -2.2         -1.2            -1.3   \n",
              "25%         -1.1      -0.8                -0.8         -0.5            -0.6   \n",
              "50%          0.5      -0.6                 0.0         -0.2            -0.3   \n",
              "75%          0.8       1.0                 0.7          0.2             0.3   \n",
              "max          2.6       3.0                 1.9         16.2            14.0   \n",
              "\n",
              "       population  households  median_income  median_house_value  \n",
              "count     17000.0     17000.0        17000.0             17000.0  \n",
              "mean          0.0         0.0           -0.0                 0.0  \n",
              "std           1.0         1.0            1.0                 1.0  \n",
              "min          -1.2        -1.3           -1.8                -1.7  \n",
              "25%          -0.6        -0.6           -0.7                -0.8  \n",
              "50%          -0.2        -0.2           -0.2                -0.2  \n",
              "75%           0.3         0.3            0.5                 0.5  \n",
              "max          29.8        14.5            5.8                 2.5  "
            ],
            "text/html": [
              "\n",
              "  <div id=\"df-dc43c0af-2b7e-43bf-a152-e7ae9814b471\">\n",
              "    <div class=\"colab-df-container\">\n",
              "      <div>\n",
              "<style scoped>\n",
              "    .dataframe tbody tr th:only-of-type {\n",
              "        vertical-align: middle;\n",
              "    }\n",
              "\n",
              "    .dataframe tbody tr th {\n",
              "        vertical-align: top;\n",
              "    }\n",
              "\n",
              "    .dataframe thead th {\n",
              "        text-align: right;\n",
              "    }\n",
              "</style>\n",
              "<table border=\"1\" class=\"dataframe\">\n",
              "  <thead>\n",
              "    <tr style=\"text-align: right;\">\n",
              "      <th></th>\n",
              "      <th>longitude</th>\n",
              "      <th>latitude</th>\n",
              "      <th>housing_median_age</th>\n",
              "      <th>total_rooms</th>\n",
              "      <th>total_bedrooms</th>\n",
              "      <th>population</th>\n",
              "      <th>households</th>\n",
              "      <th>median_income</th>\n",
              "      <th>median_house_value</th>\n",
              "    </tr>\n",
              "  </thead>\n",
              "  <tbody>\n",
              "    <tr>\n",
              "      <th>count</th>\n",
              "      <td>17000.0</td>\n",
              "      <td>17000.0</td>\n",
              "      <td>17000.0</td>\n",
              "      <td>17000.0</td>\n",
              "      <td>17000.0</td>\n",
              "      <td>17000.0</td>\n",
              "      <td>17000.0</td>\n",
              "      <td>17000.0</td>\n",
              "      <td>17000.0</td>\n",
              "    </tr>\n",
              "    <tr>\n",
              "      <th>mean</th>\n",
              "      <td>-0.0</td>\n",
              "      <td>-0.0</td>\n",
              "      <td>-0.0</td>\n",
              "      <td>-0.0</td>\n",
              "      <td>-0.0</td>\n",
              "      <td>0.0</td>\n",
              "      <td>0.0</td>\n",
              "      <td>-0.0</td>\n",
              "      <td>0.0</td>\n",
              "    </tr>\n",
              "    <tr>\n",
              "      <th>std</th>\n",
              "      <td>1.0</td>\n",
              "      <td>1.0</td>\n",
              "      <td>1.0</td>\n",
              "      <td>1.0</td>\n",
              "      <td>1.0</td>\n",
              "      <td>1.0</td>\n",
              "      <td>1.0</td>\n",
              "      <td>1.0</td>\n",
              "      <td>1.0</td>\n",
              "    </tr>\n",
              "    <tr>\n",
              "      <th>min</th>\n",
              "      <td>-2.4</td>\n",
              "      <td>-1.4</td>\n",
              "      <td>-2.2</td>\n",
              "      <td>-1.2</td>\n",
              "      <td>-1.3</td>\n",
              "      <td>-1.2</td>\n",
              "      <td>-1.3</td>\n",
              "      <td>-1.8</td>\n",
              "      <td>-1.7</td>\n",
              "    </tr>\n",
              "    <tr>\n",
              "      <th>25%</th>\n",
              "      <td>-1.1</td>\n",
              "      <td>-0.8</td>\n",
              "      <td>-0.8</td>\n",
              "      <td>-0.5</td>\n",
              "      <td>-0.6</td>\n",
              "      <td>-0.6</td>\n",
              "      <td>-0.6</td>\n",
              "      <td>-0.7</td>\n",
              "      <td>-0.8</td>\n",
              "    </tr>\n",
              "    <tr>\n",
              "      <th>50%</th>\n",
              "      <td>0.5</td>\n",
              "      <td>-0.6</td>\n",
              "      <td>0.0</td>\n",
              "      <td>-0.2</td>\n",
              "      <td>-0.3</td>\n",
              "      <td>-0.2</td>\n",
              "      <td>-0.2</td>\n",
              "      <td>-0.2</td>\n",
              "      <td>-0.2</td>\n",
              "    </tr>\n",
              "    <tr>\n",
              "      <th>75%</th>\n",
              "      <td>0.8</td>\n",
              "      <td>1.0</td>\n",
              "      <td>0.7</td>\n",
              "      <td>0.2</td>\n",
              "      <td>0.3</td>\n",
              "      <td>0.3</td>\n",
              "      <td>0.3</td>\n",
              "      <td>0.5</td>\n",
              "      <td>0.5</td>\n",
              "    </tr>\n",
              "    <tr>\n",
              "      <th>max</th>\n",
              "      <td>2.6</td>\n",
              "      <td>3.0</td>\n",
              "      <td>1.9</td>\n",
              "      <td>16.2</td>\n",
              "      <td>14.0</td>\n",
              "      <td>29.8</td>\n",
              "      <td>14.5</td>\n",
              "      <td>5.8</td>\n",
              "      <td>2.5</td>\n",
              "    </tr>\n",
              "  </tbody>\n",
              "</table>\n",
              "</div>\n",
              "      <button class=\"colab-df-convert\" onclick=\"convertToInteractive('df-dc43c0af-2b7e-43bf-a152-e7ae9814b471')\"\n",
              "              title=\"Convert this dataframe to an interactive table.\"\n",
              "              style=\"display:none;\">\n",
              "        \n",
              "  <svg xmlns=\"http://www.w3.org/2000/svg\" height=\"24px\"viewBox=\"0 0 24 24\"\n",
              "       width=\"24px\">\n",
              "    <path d=\"M0 0h24v24H0V0z\" fill=\"none\"/>\n",
              "    <path d=\"M18.56 5.44l.94 2.06.94-2.06 2.06-.94-2.06-.94-.94-2.06-.94 2.06-2.06.94zm-11 1L8.5 8.5l.94-2.06 2.06-.94-2.06-.94L8.5 2.5l-.94 2.06-2.06.94zm10 10l.94 2.06.94-2.06 2.06-.94-2.06-.94-.94-2.06-.94 2.06-2.06.94z\"/><path d=\"M17.41 7.96l-1.37-1.37c-.4-.4-.92-.59-1.43-.59-.52 0-1.04.2-1.43.59L10.3 9.45l-7.72 7.72c-.78.78-.78 2.05 0 2.83L4 21.41c.39.39.9.59 1.41.59.51 0 1.02-.2 1.41-.59l7.78-7.78 2.81-2.81c.8-.78.8-2.07 0-2.86zM5.41 20L4 18.59l7.72-7.72 1.47 1.35L5.41 20z\"/>\n",
              "  </svg>\n",
              "      </button>\n",
              "      \n",
              "  <style>\n",
              "    .colab-df-container {\n",
              "      display:flex;\n",
              "      flex-wrap:wrap;\n",
              "      gap: 12px;\n",
              "    }\n",
              "\n",
              "    .colab-df-convert {\n",
              "      background-color: #E8F0FE;\n",
              "      border: none;\n",
              "      border-radius: 50%;\n",
              "      cursor: pointer;\n",
              "      display: none;\n",
              "      fill: #1967D2;\n",
              "      height: 32px;\n",
              "      padding: 0 0 0 0;\n",
              "      width: 32px;\n",
              "    }\n",
              "\n",
              "    .colab-df-convert:hover {\n",
              "      background-color: #E2EBFA;\n",
              "      box-shadow: 0px 1px 2px rgba(60, 64, 67, 0.3), 0px 1px 3px 1px rgba(60, 64, 67, 0.15);\n",
              "      fill: #174EA6;\n",
              "    }\n",
              "\n",
              "    [theme=dark] .colab-df-convert {\n",
              "      background-color: #3B4455;\n",
              "      fill: #D2E3FC;\n",
              "    }\n",
              "\n",
              "    [theme=dark] .colab-df-convert:hover {\n",
              "      background-color: #434B5C;\n",
              "      box-shadow: 0px 1px 3px 1px rgba(0, 0, 0, 0.15);\n",
              "      filter: drop-shadow(0px 1px 2px rgba(0, 0, 0, 0.3));\n",
              "      fill: #FFFFFF;\n",
              "    }\n",
              "  </style>\n",
              "\n",
              "      <script>\n",
              "        const buttonEl =\n",
              "          document.querySelector('#df-dc43c0af-2b7e-43bf-a152-e7ae9814b471 button.colab-df-convert');\n",
              "        buttonEl.style.display =\n",
              "          google.colab.kernel.accessAllowed ? 'block' : 'none';\n",
              "\n",
              "        async function convertToInteractive(key) {\n",
              "          const element = document.querySelector('#df-dc43c0af-2b7e-43bf-a152-e7ae9814b471');\n",
              "          const dataTable =\n",
              "            await google.colab.kernel.invokeFunction('convertToInteractive',\n",
              "                                                     [key], {});\n",
              "          if (!dataTable) return;\n",
              "\n",
              "          const docLinkHtml = 'Like what you see? Visit the ' +\n",
              "            '<a target=\"_blank\" href=https://colab.research.google.com/notebooks/data_table.ipynb>data table notebook</a>'\n",
              "            + ' to learn more about interactive tables.';\n",
              "          element.innerHTML = '';\n",
              "          dataTable['output_type'] = 'display_data';\n",
              "          await google.colab.output.renderOutput(dataTable, element);\n",
              "          const docLink = document.createElement('div');\n",
              "          docLink.innerHTML = docLinkHtml;\n",
              "          element.appendChild(docLink);\n",
              "        }\n",
              "      </script>\n",
              "    </div>\n",
              "  </div>\n",
              "  "
            ]
          },
          "metadata": {},
          "execution_count": 111
        }
      ]
    },
    {
      "cell_type": "markdown",
      "metadata": {
        "id": "b9ehCgIRjTxy"
      },
      "source": [
        "## Represent data\n",
        "\n",
        "The following code cell creates a feature layer containing three features:\n",
        "\n",
        "* `latitude` X `longitude` (a feature cross)\n",
        "* `median_income`\n",
        "* `population`\n",
        "\n",
        "This code cell specifies the features that you'll ultimately train the model on and how each of those features will be represented. The transformations (collected in `my_feature_layer`) don't actually get applied until you pass a DataFrame to it, which will happen when we train the model. "
      ]
    },
    {
      "cell_type": "code",
      "source": [
        "plt.scatter(train_df[\"latitude\"], train_df[\"median_house_value\"])"
      ],
      "metadata": {
        "id": "URWif05OvqTp",
        "colab": {
          "base_uri": "https://localhost:8080/",
          "height": 0
        },
        "outputId": "e21cc33c-cdf6-484a-b098-00c7edd10015"
      },
      "execution_count": 112,
      "outputs": [
        {
          "output_type": "execute_result",
          "data": {
            "text/plain": [
              "<matplotlib.collections.PathCollection at 0x7f4079fdf490>"
            ]
          },
          "metadata": {},
          "execution_count": 112
        },
        {
          "output_type": "display_data",
          "data": {
            "text/plain": [
              "<Figure size 432x288 with 1 Axes>"
            ],
            "image/png": "[encoded data removed]"
          },
          "metadata": {
            "needs_background": "light"
          }
        }
      ]
    },
    {
      "cell_type": "code",
      "execution_count": 113,
      "metadata": {
        "id": "8EkNAQhnjSu-"
      },
      "outputs": [],
      "source": [
        "# Create an empty list that will eventually hold all created feature columns.\n",
        "feature_columns = []\n",
        "\n",
        "# We scaled all the columns, including latitude and longitude, into their\n",
        "# Z scores. So, instead of picking a resolution in degrees, we're going\n",
        "# to use resolution_in_Zs.  A resolution_in_Zs of 1 corresponds to \n",
        "# a full standard deviation. \n",
        "resolution_in_Zs = 0.3  # 3/10 of a standard deviation.\n",
        "\n",
        "# Create a bucket feature column for latitude.\n",
        "latitude_as_a_numeric_column = tf.feature_column.numeric_column(\"latitude\")\n",
        "latitude_boundaries = list(np.arange(int(min(train_df_norm['latitude'])), \n",
        "                                     int(max(train_df_norm['latitude'])), \n",
        "                                     resolution_in_Zs))\n",
        "latitude = tf.feature_column.bucketized_column(latitude_as_a_numeric_column, latitude_boundaries)\n",
        "\n",
        "# Create a bucket feature column for longitude.\n",
        "longitude_as_a_numeric_column = tf.feature_column.numeric_column(\"longitude\")\n",
        "longitude_boundaries = list(np.arange(int(min(train_df_norm['longitude'])), \n",
        "                                      int(max(train_df_norm['longitude'])), \n",
        "                                      resolution_in_Zs))\n",
        "longitude = tf.feature_column.bucketized_column(longitude_as_a_numeric_column, \n",
        "                                                longitude_boundaries)\n",
        "\n",
        "# Create a feature cross of latitude and longitude.\n",
        "latitude_x_longitude = tf.feature_column.crossed_column([latitude, longitude], hash_bucket_size=100)\n",
        "crossed_feature = tf.feature_column.indicator_column(latitude_x_longitude)\n",
        "feature_columns.append(crossed_feature)  \n",
        "\n",
        "# Represent median_income as a floating-point value.\n",
        "median_income = tf.feature_column.numeric_column(\"median_income\")\n",
        "feature_columns.append(median_income)\n",
        "\n",
        "# Represent population as a floating-point value.\n",
        "population = tf.feature_column.numeric_column(\"population\")\n",
        "feature_columns.append(population)\n",
        "\n",
        "# Convert the list of feature columns into a layer that will later be fed into\n",
        "# the model. \n",
        "my_feature_layer = tf.keras.layers.DenseFeatures(feature_columns)"
      ]
    },
    {
      "cell_type": "markdown",
      "metadata": {
        "id": "Ak_TMAzGOIFq"
      },
      "source": [
        "## Build a linear regression model as a baseline\n",
        "\n",
        "Before creating a deep neural net, find a [baseline](https://developers.google.com/machine-learning/glossary/#baseline) loss by running a simple linear regression model that uses the feature layer you just created. \n"
      ]
    },
    {
      "cell_type": "code",
      "execution_count": 114,
      "metadata": {
        "id": "QF0BFRXTOeR3",
        "colab": {
          "base_uri": "https://localhost:8080/"
        },
        "outputId": "5b504b1c-06af-4fb0-a791-a57a244c19c0"
      },
      "outputs": [
        {
          "output_type": "stream",
          "name": "stdout",
          "text": [
            "Defined the plot_the_loss_curve function.\n"
          ]
        }
      ],
      "source": [
        "#@title Define the plotting function.\n",
        "\n",
        "def plot_the_loss_curve(epochs, mse):\n",
        "  \"\"\"Plot a curve of loss vs. epoch.\"\"\"\n",
        "\n",
        "  plt.figure()\n",
        "  plt.xlabel(\"Epoch\")\n",
        "  plt.ylabel(\"Mean Squared Error\")\n",
        "\n",
        "  plt.plot(epochs, mse, label=\"Loss\")\n",
        "  plt.legend()\n",
        "  plt.ylim([mse.min()*0.95, mse.max() * 1.03])\n",
        "  plt.show()  \n",
        "\n",
        "print(\"Defined the plot_the_loss_curve function.\")"
      ]
    },
    {
      "cell_type": "code",
      "execution_count": 115,
      "metadata": {
        "id": "RW4Qe710LgnG",
        "colab": {
          "base_uri": "https://localhost:8080/"
        },
        "outputId": "1c7c5495-a46b-48d6-ea5f-9f6797dc396a"
      },
      "outputs": [
        {
          "output_type": "stream",
          "name": "stdout",
          "text": [
            "Defined the create_model and train_model functions.\n"
          ]
        }
      ],
      "source": [
        "#@title Define functions to create and train a linear regression model\n",
        "def create_model(my_learning_rate, feature_layer):\n",
        "  \"\"\"Create and compile a simple linear regression model.\"\"\"\n",
        "  # Most simple tf.keras models are sequential.\n",
        "  model = tf.keras.models.Sequential()\n",
        "\n",
        "  # Add the layer containing the feature columns to the model.\n",
        "  model.add(feature_layer)\n",
        "\n",
        "  # Add one linear layer to the model to yield a simple linear regressor.\n",
        "  model.add(tf.keras.layers.Dense(units=1))\n",
        "\n",
        "  # Construct the layers into a model that TensorFlow can execute.\n",
        "  model.compile(optimizer=tf.keras.optimizers.RMSprop(lr=my_learning_rate),\n",
        "                loss=\"mean_squared_error\",\n",
        "                metrics=[tf.keras.metrics.MeanSquaredError()])\n",
        "\n",
        "  return model           \n",
        "\n",
        "\n",
        "def train_model(model, dataset, epochs, batch_size, label_name):\n",
        "  \"\"\"Feed a dataset into the model in order to train it.\"\"\"\n",
        "\n",
        "  # Split the dataset into features and label.\n",
        "  features = {name:np.array(value) for name, value in dataset.items()}\n",
        "  label = np.array(features.pop(label_name))\n",
        "  history = model.fit(x=features, y=label, batch_size=batch_size,\n",
        "                      epochs=epochs, shuffle=True)\n",
        "\n",
        "  # Get details that will be useful for plotting the loss curve.\n",
        "  epochs = history.epoch\n",
        "  hist = pd.DataFrame(history.history)\n",
        "  rmse = hist[\"mean_squared_error\"]\n",
        "\n",
        "  return epochs, rmse   \n",
        "\n",
        "print(\"Defined the create_model and train_model functions.\")"
      ]
    },
    {
      "cell_type": "markdown",
      "metadata": {
        "id": "f47LmxF5X_pu"
      },
      "source": [
        "Run the following code cell to invoke the functions defined in the preceding two code cells. (Ignore the warning messages.)\n",
        "\n",
        "**Note:** Because we've scaled all the input data, **including the label**, the resulting loss values will be *much less* than previous models. \n",
        "\n",
        "**Note:** Depending on the version of TensorFlow, running this cell might generate WARNING messages. Please ignore these warnings. "
      ]
    },
    {
      "cell_type": "code",
      "execution_count": 116,
      "metadata": {
        "id": "tsfE4ujDL4ju",
        "colab": {
          "base_uri": "https://localhost:8080/",
          "height": 0
        },
        "outputId": "c64e2f3e-11a6-440f-d992-bc9f9b785c2b"
      },
      "outputs": [
        {
          "output_type": "stream",
          "name": "stderr",
          "text": [
            "WARNING:absl:`lr` is deprecated, please use `learning_rate` instead, or use the legacy optimizer, e.g.,tf.keras.optimizers.legacy.RMSprop.\n"
          ]
        },
        {
          "output_type": "stream",
          "name": "stdout",
          "text": [
            "Epoch 1/40\n"
          ]
        },
        {
          "output_type": "stream",
          "name": "stderr",
          "text": [
            "WARNING:tensorflow:Layers in a Sequential model should only have a single input tensor. Received: inputs={'longitude': <tf.Tensor 'IteratorGetNext:3' shape=(1000,) dtype=float32>, 'latitude': <tf.Tensor 'IteratorGetNext:2' shape=(1000,) dtype=float32>, 'housing_median_age': <tf.Tensor 'IteratorGetNext:1' shape=(1000,) dtype=float32>, 'total_rooms': <tf.Tensor 'IteratorGetNext:7' shape=(1000,) dtype=float32>, 'total_bedrooms': <tf.Tensor 'IteratorGetNext:6' shape=(1000,) dtype=float32>, 'population': <tf.Tensor 'IteratorGetNext:5' shape=(1000,) dtype=float32>, 'households': <tf.Tensor 'IteratorGetNext:0' shape=(1000,) dtype=float32>, 'median_income': <tf.Tensor 'IteratorGetNext:4' shape=(1000,) dtype=float32>}. Consider rewriting this model with the Functional API.\n",
            "WARNING:tensorflow:Layers in a Sequential model should only have a single input tensor. Received: inputs={'longitude': <tf.Tensor 'IteratorGetNext:3' shape=(1000,) dtype=float32>, 'latitude': <tf.Tensor 'IteratorGetNext:2' shape=(1000,) dtype=float32>, 'housing_median_age': <tf.Tensor 'IteratorGetNext:1' shape=(1000,) dtype=float32>, 'total_rooms': <tf.Tensor 'IteratorGetNext:7' shape=(1000,) dtype=float32>, 'total_bedrooms': <tf.Tensor 'IteratorGetNext:6' shape=(1000,) dtype=float32>, 'population': <tf.Tensor 'IteratorGetNext:5' shape=(1000,) dtype=float32>, 'households': <tf.Tensor 'IteratorGetNext:0' shape=(1000,) dtype=float32>, 'median_income': <tf.Tensor 'IteratorGetNext:4' shape=(1000,) dtype=float32>}. Consider rewriting this model with the Functional API.\n"
          ]
        },
        {
          "output_type": "stream",
          "name": "stdout",
          "text": [
            "17/17 [==============================] - 1s 3ms/step - loss: 1.0448 - mean_squared_error: 1.0448\n",
            "Epoch 2/40\n",
            "17/17 [==============================] - 0s 2ms/step - loss: 0.9974 - mean_squared_error: 0.9974\n",
            "Epoch 3/40\n",
            "17/17 [==============================] - 0s 3ms/step - loss: 0.9579 - mean_squared_error: 0.9579\n",
            "Epoch 4/40\n",
            "17/17 [==============================] - 0s 3ms/step - loss: 0.9211 - mean_squared_error: 0.9211\n",
            "Epoch 5/40\n",
            "17/17 [==============================] - 0s 3ms/step - loss: 0.8863 - mean_squared_error: 0.8863\n",
            "Epoch 6/40\n",
            "17/17 [==============================] - 0s 3ms/step - loss: 0.8532 - mean_squared_error: 0.8532\n",
            "Epoch 7/40\n",
            "17/17 [==============================] - 0s 3ms/step - loss: 0.8215 - mean_squared_error: 0.8215\n",
            "Epoch 8/40\n",
            "17/17 [==============================] - 0s 2ms/step - loss: 0.7916 - mean_squared_error: 0.7916\n",
            "Epoch 9/40\n",
            "17/17 [==============================] - 0s 4ms/step - loss: 0.7632 - mean_squared_error: 0.7632\n",
            "Epoch 10/40\n",
            "17/17 [==============================] - 0s 3ms/step - loss: 0.7357 - mean_squared_error: 0.7357\n",
            "Epoch 11/40\n",
            "17/17 [==============================] - 0s 3ms/step - loss: 0.7095 - mean_squared_error: 0.7095\n",
            "Epoch 12/40\n",
            "17/17 [==============================] - 0s 3ms/step - loss: 0.6845 - mean_squared_error: 0.6845\n",
            "Epoch 13/40\n",
            "17/17 [==============================] - 0s 3ms/step - loss: 0.6607 - mean_squared_error: 0.6607\n",
            "Epoch 14/40\n",
            "17/17 [==============================] - 0s 3ms/step - loss: 0.6378 - mean_squared_error: 0.6378\n",
            "Epoch 15/40\n",
            "17/17 [==============================] - 0s 4ms/step - loss: 0.6159 - mean_squared_error: 0.6159\n",
            "Epoch 16/40\n",
            "17/17 [==============================] - 0s 3ms/step - loss: 0.5953 - mean_squared_error: 0.5953\n",
            "Epoch 17/40\n",
            "17/17 [==============================] - 0s 3ms/step - loss: 0.5756 - mean_squared_error: 0.5756\n",
            "Epoch 18/40\n",
            "17/17 [==============================] - 0s 3ms/step - loss: 0.5570 - mean_squared_error: 0.5570\n",
            "Epoch 19/40\n",
            "17/17 [==============================] - 0s 3ms/step - loss: 0.5392 - mean_squared_error: 0.5392\n",
            "Epoch 20/40\n",
            "17/17 [==============================] - 0s 3ms/step - loss: 0.5225 - mean_squared_error: 0.5225\n",
            "Epoch 21/40\n",
            "17/17 [==============================] - 0s 2ms/step - loss: 0.5067 - mean_squared_error: 0.5067\n",
            "Epoch 22/40\n",
            "17/17 [==============================] - 0s 3ms/step - loss: 0.4918 - mean_squared_error: 0.4918\n",
            "Epoch 23/40\n",
            "17/17 [==============================] - 0s 3ms/step - loss: 0.4779 - mean_squared_error: 0.4779\n",
            "Epoch 24/40\n",
            "17/17 [==============================] - 0s 3ms/step - loss: 0.4650 - mean_squared_error: 0.4650\n",
            "Epoch 25/40\n",
            "17/17 [==============================] - 0s 3ms/step - loss: 0.4529 - mean_squared_error: 0.4529\n",
            "Epoch 26/40\n",
            "17/17 [==============================] - 0s 3ms/step - loss: 0.4417 - mean_squared_error: 0.4417\n",
            "Epoch 27/40\n",
            "17/17 [==============================] - 0s 3ms/step - loss: 0.4313 - mean_squared_error: 0.4313\n",
            "Epoch 28/40\n",
            "17/17 [==============================] - 0s 4ms/step - loss: 0.4219 - mean_squared_error: 0.4219\n",
            "Epoch 29/40\n",
            "17/17 [==============================] - 0s 3ms/step - loss: 0.4134 - mean_squared_error: 0.4134\n",
            "Epoch 30/40\n",
            "17/17 [==============================] - 0s 3ms/step - loss: 0.4057 - mean_squared_error: 0.4057\n",
            "Epoch 31/40\n",
            "17/17 [==============================] - 0s 3ms/step - loss: 0.3988 - mean_squared_error: 0.3988\n",
            "Epoch 32/40\n",
            "17/17 [==============================] - 0s 3ms/step - loss: 0.3928 - mean_squared_error: 0.3928\n",
            "Epoch 33/40\n",
            "17/17 [==============================] - 0s 3ms/step - loss: 0.3875 - mean_squared_error: 0.3875\n",
            "Epoch 34/40\n",
            "17/17 [==============================] - 0s 3ms/step - loss: 0.3829 - mean_squared_error: 0.3829\n",
            "Epoch 35/40\n",
            "17/17 [==============================] - 0s 3ms/step - loss: 0.3790 - mean_squared_error: 0.3790\n",
            "Epoch 36/40\n",
            "17/17 [==============================] - 0s 4ms/step - loss: 0.3757 - mean_squared_error: 0.3757\n",
            "Epoch 37/40\n",
            "17/17 [==============================] - 0s 3ms/step - loss: 0.3730 - mean_squared_error: 0.3730\n",
            "Epoch 38/40\n",
            "17/17 [==============================] - 0s 3ms/step - loss: 0.3709 - mean_squared_error: 0.3709\n",
            "Epoch 39/40\n",
            "17/17 [==============================] - 0s 3ms/step - loss: 0.3693 - mean_squared_error: 0.3693\n",
            "Epoch 40/40\n",
            "17/17 [==============================] - 0s 3ms/step - loss: 0.3681 - mean_squared_error: 0.3681\n"
          ]
        },
        {
          "output_type": "display_data",
          "data": {
            "text/plain": [
              "<Figure size 432x288 with 1 Axes>"
            ],
            "image/png": "[encoded data removed]"
          },
          "metadata": {
            "needs_background": "light"
          }
        },
        {
          "output_type": "stream",
          "name": "stderr",
          "text": [
            "WARNING:tensorflow:Layers in a Sequential model should only have a single input tensor. Received: inputs={'longitude': <tf.Tensor 'IteratorGetNext:3' shape=(1000,) dtype=float32>, 'latitude': <tf.Tensor 'IteratorGetNext:2' shape=(1000,) dtype=float32>, 'housing_median_age': <tf.Tensor 'IteratorGetNext:1' shape=(1000,) dtype=float32>, 'total_rooms': <tf.Tensor 'IteratorGetNext:7' shape=(1000,) dtype=float32>, 'total_bedrooms': <tf.Tensor 'IteratorGetNext:6' shape=(1000,) dtype=float32>, 'population': <tf.Tensor 'IteratorGetNext:5' shape=(1000,) dtype=float32>, 'households': <tf.Tensor 'IteratorGetNext:0' shape=(1000,) dtype=float32>, 'median_income': <tf.Tensor 'IteratorGetNext:4' shape=(1000,) dtype=float32>}. Consider rewriting this model with the Functional API.\n"
          ]
        },
        {
          "output_type": "stream",
          "name": "stdout",
          "text": [
            "\n",
            " Evaluate the linear regression model against the test set:\n",
            "3/3 [==============================] - 0s 5ms/step - loss: 0.4004 - mean_squared_error: 0.4004\n"
          ]
        },
        {
          "output_type": "execute_result",
          "data": {
            "text/plain": [
              "[0.4004487693309784, 0.4004487693309784]"
            ]
          },
          "metadata": {},
          "execution_count": 116
        }
      ],
      "source": [
        "# The following variables are the hyperparameters.\n",
        "learning_rate = 0.01\n",
        "epochs = 40\n",
        "batch_size = 1000\n",
        "label_name = \"median_house_value\"\n",
        "\n",
        "# Establish the model's topography.\n",
        "my_model = create_model(learning_rate, my_feature_layer)\n",
        "\n",
        "# Train the model on the normalized training set.\n",
        "epochs, mse = train_model(my_model, train_df_norm, epochs, batch_size, label_name)\n",
        "plot_the_loss_curve(epochs, mse)\n",
        "\n",
        "test_features = {name:np.array(value) for name, value in test_df_norm.items()}\n",
        "test_label = np.array(test_features.pop(label_name)) # isolate the label\n",
        "print(\"\\n Evaluate the linear regression model against the test set:\")\n",
        "my_model.evaluate(x = test_features, y = test_label, batch_size=batch_size)"
      ]
    },
    {
      "cell_type": "markdown",
      "metadata": {
        "id": "3014ezH3C7jT"
      },
      "source": [
        "## Define a deep neural net model\n",
        "\n",
        "The `create_model` function defines the topography of the deep neural net, specifying the following:\n",
        "\n",
        "* The number of [layers](https://developers.google.com/machine-learning/glossary/#layer) in the deep neural net.\n",
        "* The number of [nodes](https://developers.google.com/machine-learning/glossary/#node) in each layer.\n",
        "\n",
        "The `create_model` function also defines the [activation function](https://developers.google.com/machine-learning/glossary/#activation_function) of each layer."
      ]
    },
    {
      "cell_type": "code",
      "execution_count": 117,
      "metadata": {
        "cellView": "both",
        "id": "pedD5GhlDC-y"
      },
      "outputs": [],
      "source": [
        "def create_model(my_learning_rate, my_feature_layer,l2):\n",
        "  \"\"\"Create and compile a simple linear regression model.\"\"\"\n",
        "  # Most simple tf.keras models are sequential.\n",
        "  model = tf.keras.models.Sequential()\n",
        "\n",
        "  # Add the layer containing the feature columns to the model.\n",
        "  model.add(my_feature_layer)\n",
        "\n",
        "  # Describe the topography of the model by calling the tf.keras.layers.Dense\n",
        "  # method once for each layer. We've specified the following arguments:\n",
        "  #   * units specifies the number of nodes in this layer.\n",
        "  #   * activation specifies the activation function (Rectified Linear Unit).\n",
        "  #   * name is just a string that can be useful when debugging.\n",
        "\n",
        "  # Define the first hidden layer with 20 nodes.   \n",
        "\n",
        "  model.add(tf.keras.layers.Dense(units=20, \n",
        "                                activation='relu',\n",
        "                                kernel_regularizer=tf.keras.regularizers.l2(l=l2),\n",
        "                                name='Hidden1'))\n",
        "\n",
        "  \n",
        "  # Define the second hidden layer with 12 nodes. \n",
        "  model.add(tf.keras.layers.Dense(units=12, \n",
        "                                  activation='relu', \n",
        "                                  kernel_regularizer=tf.keras.regularizers.l2(l=l2),\n",
        "                                  name='Hidden2'))\n",
        "\n",
        "\n",
        "\n",
        "  # Define the output layer.\n",
        "  model.add(tf.keras.layers.Dense(units=1,  \n",
        "                                  name='Output'))                              \n",
        "  \n",
        "  model.compile(optimizer=tf.keras.optimizers.Adam(lr=my_learning_rate),\n",
        "                loss=\"mean_squared_error\",\n",
        "                metrics=[tf.keras.metrics.MeanSquaredError()])\n",
        "\n",
        "  return model"
      ]
    },
    {
      "cell_type": "markdown",
      "metadata": {
        "id": "YAVeJ3r_iK9r"
      },
      "source": [
        "## Task 3: Regularize the deep neural network\n",
        "\n",
        "Notice that the model's loss against the test set may be *much higher* than the loss against the training set.  In other words, the deep neural network may be [overfitting](https://developers.google.com/machine-learning/glossary/#overfitting) to the data in the training set.  To reduce overfitting, regularize the model. Several different ways to regularize a model, including:\n",
        "\n",
        "  * [L1 regularization](https://developers.google.com/machine-learning/glossary/#L1_regularization)\n",
        "  * [L2 regularization](https://developers.google.com/machine-learning/glossary/#L2_regularization)\n",
        "  * [Dropout regularization](https://developers.google.com/machine-learning/glossary/#dropout_regularization)\n",
        "\n",
        "Your task is to experiment with one or more regularization mechanisms to bring the test loss closer to the training loss (while still keeping test loss relatively low).  \n",
        "\n",
        "**Note:** When you add a regularization function to a model, you might need to tweak other hyperparameters. \n",
        "\n",
        "### Implementing L1 or L2 regularization\n",
        "\n",
        "To use L1 or L2 regularization on a hidden layer, specify the `kernel_regularizer` argument to [tf.keras.layers.Dense](https://www.tensorflow.org/api_docs/python/tf/keras/layers/Dense). Assign one of the following methods to this argument:\n",
        "\n",
        "* `tf.keras.regularizers.l1` for L1 regularization\n",
        "* `tf.keras.regularizers.l2` for L2 regularization\n",
        "\n",
        "Each of the preceding methods takes an `l` parameter, which adjusts the [regularization rate](https://developers.google.com/machine-learning/glossary/#regularization_rate). Assign a decimal value between 0 and 1.0 to `l`; the higher the decimal, the greater the regularization. For example, the following applies L2 regularization at a strength of 0.01. \n",
        "\n",
        "```\n",
        "model.add(tf.keras.layers.Dense(units=20, \n",
        "                                activation='relu',\n",
        "                                kernel_regularizer=tf.keras.regularizers.l2(l=0.01),\n",
        "                                name='Hidden1'))\n",
        "```\n",
        "\n",
        "### Implementing Dropout regularization\n",
        "\n",
        "You implement dropout regularization as a separate layer in the topography. For example, the following code demonstrates how to add a dropout regularization layer between the first hidden layer and the second hidden layer:\n",
        "\n",
        "```\n",
        "model.add(tf.keras.layers.Dense( *define first hidden layer*)\n",
        " \n",
        "model.add(tf.keras.layers.Dropout(rate=0.25))\n",
        "\n",
        "model.add(tf.keras.layers.Dense( *define second hidden layer*)\n",
        "```\n",
        "\n",
        "The `rate` parameter to [tf.keras.layers.Dropout](https://www.tensorflow.org/api_docs/python/tf/keras/layers/Dropout) specifies the fraction of nodes that the model should drop out during training. \n"
      ]
    },
    {
      "cell_type": "markdown",
      "metadata": {
        "id": "anH4A_yCcZx2"
      },
      "source": [
        "## Define a training function\n",
        "\n",
        "The `train_model` function trains the model from the input features and labels. The [tf.keras.Model.fit](https://www.tensorflow.org/api_docs/python/tf/keras/Sequential#fit) method performs the actual training. The `x` parameter of the `fit` method is very flexible, enabling you to pass feature data in a variety of ways. The following implementation passes a Python dictionary in which:\n",
        "\n",
        "* The *keys* are the names of each feature (for example, `longitude`, `latitude`, and so on).\n",
        "* The *value* of each key is a NumPy array containing the values of that feature. \n",
        "\n",
        "**Note:** Although you are passing *every* feature to `model.fit`, most of those values will be ignored. Only the features accessed by `my_feature_layer` will actually be used to train the model."
      ]
    },
    {
      "cell_type": "code",
      "execution_count": 118,
      "metadata": {
        "id": "4jv_lJYTcrEF"
      },
      "outputs": [],
      "source": [
        "def train_model(model, dataset, epochs, label_name,\n",
        "                batch_size=None):\n",
        "  \"\"\"Train the model by feeding it data.\"\"\"\n",
        "\n",
        "  # Split the dataset into features and label.\n",
        "  features = {name:np.array(value) for name, value in dataset.items()}\n",
        "  label = np.array(features.pop(label_name))\n",
        "  history = model.fit(x=features, y=label, batch_size=batch_size,\n",
        "                      epochs=epochs, shuffle=True) \n",
        "\n",
        "  # The list of epochs is stored separately from the rest of history.\n",
        "  epochs = history.epoch\n",
        "  \n",
        "  # To track the progression of training, gather a snapshot\n",
        "  # of the model's mean squared error at each epoch. \n",
        "  hist = pd.DataFrame(history.history)\n",
        "  mse = hist[\"mean_squared_error\"]\n",
        "\n",
        "  return epochs, mse"
      ]
    },
    {
      "cell_type": "markdown",
      "metadata": {
        "id": "D-IXYVfvM4gD"
      },
      "source": [
        "## Call the functions to build and train a deep neural net\n",
        "\n",
        "Okay, it is time to actually train the deep neural net.  If time permits, experiment with the three hyperparameters to see if you can reduce the loss\n",
        "against the test set.\n"
      ]
    },
    {
      "cell_type": "code",
      "execution_count": 119,
      "metadata": {
        "cellView": "both",
        "id": "nj3v5EKQFY8s",
        "colab": {
          "base_uri": "https://localhost:8080/"
        },
        "outputId": "0bf37770-15a3-42dc-ff54-3362bcdf217f"
      },
      "outputs": [
        {
          "output_type": "stream",
          "name": "stderr",
          "text": [
            "WARNING:absl:`lr` is deprecated, please use `learning_rate` instead, or use the legacy optimizer, e.g.,tf.keras.optimizers.legacy.Adam.\n"
          ]
        },
        {
          "output_type": "stream",
          "name": "stdout",
          "text": [
            "Epoch 1/20\n"
          ]
        },
        {
          "output_type": "stream",
          "name": "stderr",
          "text": [
            "WARNING:tensorflow:Layers in a Sequential model should only have a single input tensor. Received: inputs={'longitude': <tf.Tensor 'IteratorGetNext:3' shape=(1000,) dtype=float32>, 'latitude': <tf.Tensor 'IteratorGetNext:2' shape=(1000,) dtype=float32>, 'housing_median_age': <tf.Tensor 'IteratorGetNext:1' shape=(1000,) dtype=float32>, 'total_rooms': <tf.Tensor 'IteratorGetNext:7' shape=(1000,) dtype=float32>, 'total_bedrooms': <tf.Tensor 'IteratorGetNext:6' shape=(1000,) dtype=float32>, 'population': <tf.Tensor 'IteratorGetNext:5' shape=(1000,) dtype=float32>, 'households': <tf.Tensor 'IteratorGetNext:0' shape=(1000,) dtype=float32>, 'median_income': <tf.Tensor 'IteratorGetNext:4' shape=(1000,) dtype=float32>}. Consider rewriting this model with the Functional API.\n",
            "WARNING:tensorflow:Layers in a Sequential model should only have a single input tensor. Received: inputs={'longitude': <tf.Tensor 'IteratorGetNext:3' shape=(1000,) dtype=float32>, 'latitude': <tf.Tensor 'IteratorGetNext:2' shape=(1000,) dtype=float32>, 'housing_median_age': <tf.Tensor 'IteratorGetNext:1' shape=(1000,) dtype=float32>, 'total_rooms': <tf.Tensor 'IteratorGetNext:7' shape=(1000,) dtype=float32>, 'total_bedrooms': <tf.Tensor 'IteratorGetNext:6' shape=(1000,) dtype=float32>, 'population': <tf.Tensor 'IteratorGetNext:5' shape=(1000,) dtype=float32>, 'households': <tf.Tensor 'IteratorGetNext:0' shape=(1000,) dtype=float32>, 'median_income': <tf.Tensor 'IteratorGetNext:4' shape=(1000,) dtype=float32>}. Consider rewriting this model with the Functional API.\n"
          ]
        },
        {
          "output_type": "stream",
          "name": "stdout",
          "text": [
            "17/17 [==============================] - 1s 4ms/step - loss: 0.9597 - mean_squared_error: 0.9597\n",
            "Epoch 2/20\n",
            "17/17 [==============================] - 0s 4ms/step - loss: 0.8331 - mean_squared_error: 0.8331\n",
            "Epoch 3/20\n",
            "17/17 [==============================] - 0s 4ms/step - loss: 0.7013 - mean_squared_error: 0.7013\n",
            "Epoch 4/20\n",
            "17/17 [==============================] - 0s 4ms/step - loss: 0.5704 - mean_squared_error: 0.5704\n",
            "Epoch 5/20\n",
            "17/17 [==============================] - 0s 4ms/step - loss: 0.4639 - mean_squared_error: 0.4639\n",
            "Epoch 6/20\n",
            "17/17 [==============================] - 0s 4ms/step - loss: 0.4045 - mean_squared_error: 0.4045\n",
            "Epoch 7/20\n",
            "17/17 [==============================] - 0s 4ms/step - loss: 0.3782 - mean_squared_error: 0.3782\n",
            "Epoch 8/20\n",
            "17/17 [==============================] - 0s 4ms/step - loss: 0.3635 - mean_squared_error: 0.3635\n",
            "Epoch 9/20\n",
            "17/17 [==============================] - 0s 4ms/step - loss: 0.3541 - mean_squared_error: 0.3541\n",
            "Epoch 10/20\n",
            "17/17 [==============================] - 0s 4ms/step - loss: 0.3483 - mean_squared_error: 0.3483\n",
            "Epoch 11/20\n",
            "17/17 [==============================] - 0s 4ms/step - loss: 0.3446 - mean_squared_error: 0.3446\n",
            "Epoch 12/20\n",
            "17/17 [==============================] - 0s 4ms/step - loss: 0.3418 - mean_squared_error: 0.3418\n",
            "Epoch 13/20\n",
            "17/17 [==============================] - 0s 4ms/step - loss: 0.3400 - mean_squared_error: 0.3400\n",
            "Epoch 14/20\n",
            "17/17 [==============================] - 0s 4ms/step - loss: 0.3386 - mean_squared_error: 0.3386\n",
            "Epoch 15/20\n",
            "17/17 [==============================] - 0s 4ms/step - loss: 0.3373 - mean_squared_error: 0.3373\n",
            "Epoch 16/20\n",
            "17/17 [==============================] - 0s 6ms/step - loss: 0.3365 - mean_squared_error: 0.3365\n",
            "Epoch 17/20\n",
            "17/17 [==============================] - 0s 6ms/step - loss: 0.3359 - mean_squared_error: 0.3359\n",
            "Epoch 18/20\n",
            "17/17 [==============================] - 0s 5ms/step - loss: 0.3352 - mean_squared_error: 0.3352\n",
            "Epoch 19/20\n",
            "17/17 [==============================] - 0s 6ms/step - loss: 0.3345 - mean_squared_error: 0.3345\n",
            "Epoch 20/20\n",
            "17/17 [==============================] - 0s 5ms/step - loss: 0.3340 - mean_squared_error: 0.3340\n"
          ]
        },
        {
          "output_type": "stream",
          "name": "stderr",
          "text": [
            "WARNING:tensorflow:Layers in a Sequential model should only have a single input tensor. Received: inputs={'longitude': <tf.Tensor 'IteratorGetNext:3' shape=(1000,) dtype=float32>, 'latitude': <tf.Tensor 'IteratorGetNext:2' shape=(1000,) dtype=float32>, 'housing_median_age': <tf.Tensor 'IteratorGetNext:1' shape=(1000,) dtype=float32>, 'total_rooms': <tf.Tensor 'IteratorGetNext:7' shape=(1000,) dtype=float32>, 'total_bedrooms': <tf.Tensor 'IteratorGetNext:6' shape=(1000,) dtype=float32>, 'population': <tf.Tensor 'IteratorGetNext:5' shape=(1000,) dtype=float32>, 'households': <tf.Tensor 'IteratorGetNext:0' shape=(1000,) dtype=float32>, 'median_income': <tf.Tensor 'IteratorGetNext:4' shape=(1000,) dtype=float32>}. Consider rewriting this model with the Functional API.\n"
          ]
        },
        {
          "output_type": "stream",
          "name": "stdout",
          "text": [
            "\n",
            " Evaluate the new model against the test set:\n",
            "3/3 [==============================] - 0s 6ms/step - loss: 0.3710 - mean_squared_error: 0.3710\n"
          ]
        },
        {
          "output_type": "stream",
          "name": "stderr",
          "text": [
            "<ipython-input-119-0f4b77c217b6>:39: FutureWarning: The frame.append method is deprecated and will be removed from pandas in a future version. Use pandas.concat instead.\n",
            "  data = data.append(row, ignore_index=True)\n",
            "WARNING:absl:`lr` is deprecated, please use `learning_rate` instead, or use the legacy optimizer, e.g.,tf.keras.optimizers.legacy.Adam.\n"
          ]
        },
        {
          "output_type": "stream",
          "name": "stdout",
          "text": [
            "Epoch 1/20\n"
          ]
        },
        {
          "output_type": "stream",
          "name": "stderr",
          "text": [
            "WARNING:tensorflow:Layers in a Sequential model should only have a single input tensor. Received: inputs={'longitude': <tf.Tensor 'IteratorGetNext:3' shape=(1000,) dtype=float32>, 'latitude': <tf.Tensor 'IteratorGetNext:2' shape=(1000,) dtype=float32>, 'housing_median_age': <tf.Tensor 'IteratorGetNext:1' shape=(1000,) dtype=float32>, 'total_rooms': <tf.Tensor 'IteratorGetNext:7' shape=(1000,) dtype=float32>, 'total_bedrooms': <tf.Tensor 'IteratorGetNext:6' shape=(1000,) dtype=float32>, 'population': <tf.Tensor 'IteratorGetNext:5' shape=(1000,) dtype=float32>, 'households': <tf.Tensor 'IteratorGetNext:0' shape=(1000,) dtype=float32>, 'median_income': <tf.Tensor 'IteratorGetNext:4' shape=(1000,) dtype=float32>}. Consider rewriting this model with the Functional API.\n",
            "WARNING:tensorflow:Layers in a Sequential model should only have a single input tensor. Received: inputs={'longitude': <tf.Tensor 'IteratorGetNext:3' shape=(1000,) dtype=float32>, 'latitude': <tf.Tensor 'IteratorGetNext:2' shape=(1000,) dtype=float32>, 'housing_median_age': <tf.Tensor 'IteratorGetNext:1' shape=(1000,) dtype=float32>, 'total_rooms': <tf.Tensor 'IteratorGetNext:7' shape=(1000,) dtype=float32>, 'total_bedrooms': <tf.Tensor 'IteratorGetNext:6' shape=(1000,) dtype=float32>, 'population': <tf.Tensor 'IteratorGetNext:5' shape=(1000,) dtype=float32>, 'households': <tf.Tensor 'IteratorGetNext:0' shape=(1000,) dtype=float32>, 'median_income': <tf.Tensor 'IteratorGetNext:4' shape=(1000,) dtype=float32>}. Consider rewriting this model with the Functional API.\n"
          ]
        },
        {
          "output_type": "stream",
          "name": "stdout",
          "text": [
            "17/17 [==============================] - 1s 4ms/step - loss: 1.5331 - mean_squared_error: 1.0771\n",
            "Epoch 2/20\n",
            "17/17 [==============================] - 0s 4ms/step - loss: 1.2594 - mean_squared_error: 0.8653\n",
            "Epoch 3/20\n",
            "17/17 [==============================] - 0s 4ms/step - loss: 1.0426 - mean_squared_error: 0.6976\n",
            "Epoch 4/20\n",
            "17/17 [==============================] - 0s 4ms/step - loss: 0.8652 - mean_squared_error: 0.5588\n",
            "Epoch 5/20\n",
            "17/17 [==============================] - 0s 4ms/step - loss: 0.7401 - mean_squared_error: 0.4652\n",
            "Epoch 6/20\n",
            "17/17 [==============================] - 0s 4ms/step - loss: 0.6678 - mean_squared_error: 0.4199\n",
            "Epoch 7/20\n",
            "17/17 [==============================] - 0s 4ms/step - loss: 0.6212 - mean_squared_error: 0.3970\n",
            "Epoch 8/20\n",
            "17/17 [==============================] - 0s 4ms/step - loss: 0.5863 - mean_squared_error: 0.3828\n",
            "Epoch 9/20\n",
            "17/17 [==============================] - 0s 4ms/step - loss: 0.5595 - mean_squared_error: 0.3737\n",
            "Epoch 10/20\n",
            "17/17 [==============================] - 0s 4ms/step - loss: 0.5382 - mean_squared_error: 0.3671\n",
            "Epoch 11/20\n",
            "17/17 [==============================] - 0s 4ms/step - loss: 0.5205 - mean_squared_error: 0.3621\n",
            "Epoch 12/20\n",
            "17/17 [==============================] - 0s 6ms/step - loss: 0.5064 - mean_squared_error: 0.3587\n",
            "Epoch 13/20\n",
            "17/17 [==============================] - 0s 4ms/step - loss: 0.4945 - mean_squared_error: 0.3560\n",
            "Epoch 14/20\n",
            "17/17 [==============================] - 0s 5ms/step - loss: 0.4842 - mean_squared_error: 0.3538\n",
            "Epoch 15/20\n",
            "17/17 [==============================] - 0s 4ms/step - loss: 0.4754 - mean_squared_error: 0.3520\n",
            "Epoch 16/20\n",
            "17/17 [==============================] - 0s 4ms/step - loss: 0.4677 - mean_squared_error: 0.3504\n",
            "Epoch 17/20\n",
            "17/17 [==============================] - 0s 4ms/step - loss: 0.4613 - mean_squared_error: 0.3496\n",
            "Epoch 18/20\n",
            "17/17 [==============================] - 0s 4ms/step - loss: 0.4553 - mean_squared_error: 0.3486\n",
            "Epoch 19/20\n",
            "17/17 [==============================] - 0s 4ms/step - loss: 0.4498 - mean_squared_error: 0.3475\n",
            "Epoch 20/20\n",
            "17/17 [==============================] - 0s 4ms/step - loss: 0.4450 - mean_squared_error: 0.3469\n",
            "\n",
            " Evaluate the new model against the test set:\n"
          ]
        },
        {
          "output_type": "stream",
          "name": "stderr",
          "text": [
            "WARNING:tensorflow:Layers in a Sequential model should only have a single input tensor. Received: inputs={'longitude': <tf.Tensor 'IteratorGetNext:3' shape=(1000,) dtype=float32>, 'latitude': <tf.Tensor 'IteratorGetNext:2' shape=(1000,) dtype=float32>, 'housing_median_age': <tf.Tensor 'IteratorGetNext:1' shape=(1000,) dtype=float32>, 'total_rooms': <tf.Tensor 'IteratorGetNext:7' shape=(1000,) dtype=float32>, 'total_bedrooms': <tf.Tensor 'IteratorGetNext:6' shape=(1000,) dtype=float32>, 'population': <tf.Tensor 'IteratorGetNext:5' shape=(1000,) dtype=float32>, 'households': <tf.Tensor 'IteratorGetNext:0' shape=(1000,) dtype=float32>, 'median_income': <tf.Tensor 'IteratorGetNext:4' shape=(1000,) dtype=float32>}. Consider rewriting this model with the Functional API.\n"
          ]
        },
        {
          "output_type": "stream",
          "name": "stdout",
          "text": [
            "3/3 [==============================] - 0s 10ms/step - loss: 0.4769 - mean_squared_error: 0.3808\n"
          ]
        },
        {
          "output_type": "stream",
          "name": "stderr",
          "text": [
            "<ipython-input-119-0f4b77c217b6>:39: FutureWarning: The frame.append method is deprecated and will be removed from pandas in a future version. Use pandas.concat instead.\n",
            "  data = data.append(row, ignore_index=True)\n",
            "WARNING:absl:`lr` is deprecated, please use `learning_rate` instead, or use the legacy optimizer, e.g.,tf.keras.optimizers.legacy.Adam.\n"
          ]
        },
        {
          "output_type": "stream",
          "name": "stdout",
          "text": [
            "Epoch 1/20\n"
          ]
        },
        {
          "output_type": "stream",
          "name": "stderr",
          "text": [
            "WARNING:tensorflow:Layers in a Sequential model should only have a single input tensor. Received: inputs={'longitude': <tf.Tensor 'IteratorGetNext:3' shape=(1000,) dtype=float32>, 'latitude': <tf.Tensor 'IteratorGetNext:2' shape=(1000,) dtype=float32>, 'housing_median_age': <tf.Tensor 'IteratorGetNext:1' shape=(1000,) dtype=float32>, 'total_rooms': <tf.Tensor 'IteratorGetNext:7' shape=(1000,) dtype=float32>, 'total_bedrooms': <tf.Tensor 'IteratorGetNext:6' shape=(1000,) dtype=float32>, 'population': <tf.Tensor 'IteratorGetNext:5' shape=(1000,) dtype=float32>, 'households': <tf.Tensor 'IteratorGetNext:0' shape=(1000,) dtype=float32>, 'median_income': <tf.Tensor 'IteratorGetNext:4' shape=(1000,) dtype=float32>}. Consider rewriting this model with the Functional API.\n",
            "WARNING:tensorflow:Layers in a Sequential model should only have a single input tensor. Received: inputs={'longitude': <tf.Tensor 'IteratorGetNext:3' shape=(1000,) dtype=float32>, 'latitude': <tf.Tensor 'IteratorGetNext:2' shape=(1000,) dtype=float32>, 'housing_median_age': <tf.Tensor 'IteratorGetNext:1' shape=(1000,) dtype=float32>, 'total_rooms': <tf.Tensor 'IteratorGetNext:7' shape=(1000,) dtype=float32>, 'total_bedrooms': <tf.Tensor 'IteratorGetNext:6' shape=(1000,) dtype=float32>, 'population': <tf.Tensor 'IteratorGetNext:5' shape=(1000,) dtype=float32>, 'households': <tf.Tensor 'IteratorGetNext:0' shape=(1000,) dtype=float32>, 'median_income': <tf.Tensor 'IteratorGetNext:4' shape=(1000,) dtype=float32>}. Consider rewriting this model with the Functional API.\n"
          ]
        },
        {
          "output_type": "stream",
          "name": "stdout",
          "text": [
            "17/17 [==============================] - 1s 4ms/step - loss: 1.9586 - mean_squared_error: 1.0597\n",
            "Epoch 2/20\n",
            "17/17 [==============================] - 0s 4ms/step - loss: 1.6401 - mean_squared_error: 0.8833\n",
            "Epoch 3/20\n",
            "17/17 [==============================] - 0s 4ms/step - loss: 1.3787 - mean_squared_error: 0.7366\n",
            "Epoch 4/20\n",
            "17/17 [==============================] - 0s 4ms/step - loss: 1.1571 - mean_squared_error: 0.6059\n",
            "Epoch 5/20\n",
            "17/17 [==============================] - 0s 4ms/step - loss: 0.9855 - mean_squared_error: 0.5068\n",
            "Epoch 6/20\n",
            "17/17 [==============================] - 0s 4ms/step - loss: 0.8678 - mean_squared_error: 0.4488\n",
            "Epoch 7/20\n",
            "17/17 [==============================] - 0s 3ms/step - loss: 0.7876 - mean_squared_error: 0.4205\n",
            "Epoch 8/20\n",
            "17/17 [==============================] - 0s 4ms/step - loss: 0.7277 - mean_squared_error: 0.4059\n",
            "Epoch 9/20\n",
            "17/17 [==============================] - 0s 4ms/step - loss: 0.6796 - mean_squared_error: 0.3960\n",
            "Epoch 10/20\n",
            "17/17 [==============================] - 0s 4ms/step - loss: 0.6400 - mean_squared_error: 0.3881\n",
            "Epoch 11/20\n",
            "17/17 [==============================] - 0s 4ms/step - loss: 0.6075 - mean_squared_error: 0.3818\n",
            "Epoch 12/20\n",
            "17/17 [==============================] - 0s 4ms/step - loss: 0.5805 - mean_squared_error: 0.3765\n",
            "Epoch 13/20\n",
            "17/17 [==============================] - 0s 4ms/step - loss: 0.5577 - mean_squared_error: 0.3721\n",
            "Epoch 14/20\n",
            "17/17 [==============================] - 0s 4ms/step - loss: 0.5389 - mean_squared_error: 0.3687\n",
            "Epoch 15/20\n",
            "17/17 [==============================] - 0s 4ms/step - loss: 0.5230 - mean_squared_error: 0.3655\n",
            "Epoch 16/20\n",
            "17/17 [==============================] - 0s 5ms/step - loss: 0.5096 - mean_squared_error: 0.3637\n",
            "Epoch 17/20\n",
            "17/17 [==============================] - 0s 4ms/step - loss: 0.4982 - mean_squared_error: 0.3620\n",
            "Epoch 18/20\n",
            "17/17 [==============================] - 0s 4ms/step - loss: 0.4885 - mean_squared_error: 0.3607\n",
            "Epoch 19/20\n",
            "17/17 [==============================] - 0s 4ms/step - loss: 0.4798 - mean_squared_error: 0.3597\n",
            "Epoch 20/20\n",
            "17/17 [==============================] - 0s 4ms/step - loss: 0.4724 - mean_squared_error: 0.3587\n"
          ]
        },
        {
          "output_type": "stream",
          "name": "stderr",
          "text": [
            "WARNING:tensorflow:Layers in a Sequential model should only have a single input tensor. Received: inputs={'longitude': <tf.Tensor 'IteratorGetNext:3' shape=(1000,) dtype=float32>, 'latitude': <tf.Tensor 'IteratorGetNext:2' shape=(1000,) dtype=float32>, 'housing_median_age': <tf.Tensor 'IteratorGetNext:1' shape=(1000,) dtype=float32>, 'total_rooms': <tf.Tensor 'IteratorGetNext:7' shape=(1000,) dtype=float32>, 'total_bedrooms': <tf.Tensor 'IteratorGetNext:6' shape=(1000,) dtype=float32>, 'population': <tf.Tensor 'IteratorGetNext:5' shape=(1000,) dtype=float32>, 'households': <tf.Tensor 'IteratorGetNext:0' shape=(1000,) dtype=float32>, 'median_income': <tf.Tensor 'IteratorGetNext:4' shape=(1000,) dtype=float32>}. Consider rewriting this model with the Functional API.\n"
          ]
        },
        {
          "output_type": "stream",
          "name": "stdout",
          "text": [
            "\n",
            " Evaluate the new model against the test set:\n",
            "3/3 [==============================] - 0s 6ms/step - loss: 0.5005 - mean_squared_error: 0.3900\n"
          ]
        },
        {
          "output_type": "stream",
          "name": "stderr",
          "text": [
            "<ipython-input-119-0f4b77c217b6>:39: FutureWarning: The frame.append method is deprecated and will be removed from pandas in a future version. Use pandas.concat instead.\n",
            "  data = data.append(row, ignore_index=True)\n",
            "WARNING:absl:`lr` is deprecated, please use `learning_rate` instead, or use the legacy optimizer, e.g.,tf.keras.optimizers.legacy.Adam.\n"
          ]
        },
        {
          "output_type": "stream",
          "name": "stdout",
          "text": [
            "Epoch 1/20\n"
          ]
        },
        {
          "output_type": "stream",
          "name": "stderr",
          "text": [
            "WARNING:tensorflow:Layers in a Sequential model should only have a single input tensor. Received: inputs={'longitude': <tf.Tensor 'IteratorGetNext:3' shape=(1000,) dtype=float32>, 'latitude': <tf.Tensor 'IteratorGetNext:2' shape=(1000,) dtype=float32>, 'housing_median_age': <tf.Tensor 'IteratorGetNext:1' shape=(1000,) dtype=float32>, 'total_rooms': <tf.Tensor 'IteratorGetNext:7' shape=(1000,) dtype=float32>, 'total_bedrooms': <tf.Tensor 'IteratorGetNext:6' shape=(1000,) dtype=float32>, 'population': <tf.Tensor 'IteratorGetNext:5' shape=(1000,) dtype=float32>, 'households': <tf.Tensor 'IteratorGetNext:0' shape=(1000,) dtype=float32>, 'median_income': <tf.Tensor 'IteratorGetNext:4' shape=(1000,) dtype=float32>}. Consider rewriting this model with the Functional API.\n",
            "WARNING:tensorflow:Layers in a Sequential model should only have a single input tensor. Received: inputs={'longitude': <tf.Tensor 'IteratorGetNext:3' shape=(1000,) dtype=float32>, 'latitude': <tf.Tensor 'IteratorGetNext:2' shape=(1000,) dtype=float32>, 'housing_median_age': <tf.Tensor 'IteratorGetNext:1' shape=(1000,) dtype=float32>, 'total_rooms': <tf.Tensor 'IteratorGetNext:7' shape=(1000,) dtype=float32>, 'total_bedrooms': <tf.Tensor 'IteratorGetNext:6' shape=(1000,) dtype=float32>, 'population': <tf.Tensor 'IteratorGetNext:5' shape=(1000,) dtype=float32>, 'households': <tf.Tensor 'IteratorGetNext:0' shape=(1000,) dtype=float32>, 'median_income': <tf.Tensor 'IteratorGetNext:4' shape=(1000,) dtype=float32>}. Consider rewriting this model with the Functional API.\n"
          ]
        },
        {
          "output_type": "stream",
          "name": "stdout",
          "text": [
            "17/17 [==============================] - 1s 4ms/step - loss: 2.2367 - mean_squared_error: 0.8915\n",
            "Epoch 2/20\n",
            "17/17 [==============================] - 0s 4ms/step - loss: 1.8796 - mean_squared_error: 0.7558\n",
            "Epoch 3/20\n",
            "17/17 [==============================] - 0s 4ms/step - loss: 1.5694 - mean_squared_error: 0.6269\n",
            "Epoch 4/20\n",
            "17/17 [==============================] - 0s 4ms/step - loss: 1.3183 - mean_squared_error: 0.5221\n",
            "Epoch 5/20\n",
            "17/17 [==============================] - 0s 4ms/step - loss: 1.1315 - mean_squared_error: 0.4544\n",
            "Epoch 6/20\n",
            "17/17 [==============================] - 0s 5ms/step - loss: 0.9974 - mean_squared_error: 0.4207\n",
            "Epoch 7/20\n",
            "17/17 [==============================] - 0s 4ms/step - loss: 0.8946 - mean_squared_error: 0.4040\n",
            "Epoch 8/20\n",
            "17/17 [==============================] - 0s 4ms/step - loss: 0.8131 - mean_squared_error: 0.3946\n",
            "Epoch 9/20\n",
            "17/17 [==============================] - 0s 4ms/step - loss: 0.7476 - mean_squared_error: 0.3878\n",
            "Epoch 10/20\n",
            "17/17 [==============================] - 0s 4ms/step - loss: 0.6939 - mean_squared_error: 0.3826\n",
            "Epoch 11/20\n",
            "17/17 [==============================] - 0s 4ms/step - loss: 0.6501 - mean_squared_error: 0.3786\n",
            "Epoch 12/20\n",
            "17/17 [==============================] - 0s 4ms/step - loss: 0.6145 - mean_squared_error: 0.3757\n",
            "Epoch 13/20\n",
            "17/17 [==============================] - 0s 4ms/step - loss: 0.5853 - mean_squared_error: 0.3737\n",
            "Epoch 14/20\n",
            "17/17 [==============================] - 0s 4ms/step - loss: 0.5611 - mean_squared_error: 0.3720\n",
            "Epoch 15/20\n",
            "17/17 [==============================] - 0s 4ms/step - loss: 0.5408 - mean_squared_error: 0.3703\n",
            "Epoch 16/20\n",
            "17/17 [==============================] - 0s 4ms/step - loss: 0.5238 - mean_squared_error: 0.3687\n",
            "Epoch 17/20\n",
            "17/17 [==============================] - 0s 4ms/step - loss: 0.5095 - mean_squared_error: 0.3679\n",
            "Epoch 18/20\n",
            "17/17 [==============================] - 0s 3ms/step - loss: 0.4972 - mean_squared_error: 0.3666\n",
            "Epoch 19/20\n",
            "17/17 [==============================] - 0s 4ms/step - loss: 0.4865 - mean_squared_error: 0.3655\n",
            "Epoch 20/20\n",
            "17/17 [==============================] - 0s 5ms/step - loss: 0.4775 - mean_squared_error: 0.3646\n"
          ]
        },
        {
          "output_type": "stream",
          "name": "stderr",
          "text": [
            "WARNING:tensorflow:Layers in a Sequential model should only have a single input tensor. Received: inputs={'longitude': <tf.Tensor 'IteratorGetNext:3' shape=(1000,) dtype=float32>, 'latitude': <tf.Tensor 'IteratorGetNext:2' shape=(1000,) dtype=float32>, 'housing_median_age': <tf.Tensor 'IteratorGetNext:1' shape=(1000,) dtype=float32>, 'total_rooms': <tf.Tensor 'IteratorGetNext:7' shape=(1000,) dtype=float32>, 'total_bedrooms': <tf.Tensor 'IteratorGetNext:6' shape=(1000,) dtype=float32>, 'population': <tf.Tensor 'IteratorGetNext:5' shape=(1000,) dtype=float32>, 'households': <tf.Tensor 'IteratorGetNext:0' shape=(1000,) dtype=float32>, 'median_income': <tf.Tensor 'IteratorGetNext:4' shape=(1000,) dtype=float32>}. Consider rewriting this model with the Functional API.\n"
          ]
        },
        {
          "output_type": "stream",
          "name": "stdout",
          "text": [
            "\n",
            " Evaluate the new model against the test set:\n",
            "3/3 [==============================] - 0s 8ms/step - loss: 0.5044 - mean_squared_error: 0.3953\n"
          ]
        },
        {
          "output_type": "stream",
          "name": "stderr",
          "text": [
            "<ipython-input-119-0f4b77c217b6>:39: FutureWarning: The frame.append method is deprecated and will be removed from pandas in a future version. Use pandas.concat instead.\n",
            "  data = data.append(row, ignore_index=True)\n",
            "WARNING:absl:`lr` is deprecated, please use `learning_rate` instead, or use the legacy optimizer, e.g.,tf.keras.optimizers.legacy.Adam.\n"
          ]
        },
        {
          "output_type": "stream",
          "name": "stdout",
          "text": [
            "Epoch 1/20\n"
          ]
        },
        {
          "output_type": "stream",
          "name": "stderr",
          "text": [
            "WARNING:tensorflow:Layers in a Sequential model should only have a single input tensor. Received: inputs={'longitude': <tf.Tensor 'IteratorGetNext:3' shape=(1000,) dtype=float32>, 'latitude': <tf.Tensor 'IteratorGetNext:2' shape=(1000,) dtype=float32>, 'housing_median_age': <tf.Tensor 'IteratorGetNext:1' shape=(1000,) dtype=float32>, 'total_rooms': <tf.Tensor 'IteratorGetNext:7' shape=(1000,) dtype=float32>, 'total_bedrooms': <tf.Tensor 'IteratorGetNext:6' shape=(1000,) dtype=float32>, 'population': <tf.Tensor 'IteratorGetNext:5' shape=(1000,) dtype=float32>, 'households': <tf.Tensor 'IteratorGetNext:0' shape=(1000,) dtype=float32>, 'median_income': <tf.Tensor 'IteratorGetNext:4' shape=(1000,) dtype=float32>}. Consider rewriting this model with the Functional API.\n",
            "WARNING:tensorflow:Layers in a Sequential model should only have a single input tensor. Received: inputs={'longitude': <tf.Tensor 'IteratorGetNext:3' shape=(1000,) dtype=float32>, 'latitude': <tf.Tensor 'IteratorGetNext:2' shape=(1000,) dtype=float32>, 'housing_median_age': <tf.Tensor 'IteratorGetNext:1' shape=(1000,) dtype=float32>, 'total_rooms': <tf.Tensor 'IteratorGetNext:7' shape=(1000,) dtype=float32>, 'total_bedrooms': <tf.Tensor 'IteratorGetNext:6' shape=(1000,) dtype=float32>, 'population': <tf.Tensor 'IteratorGetNext:5' shape=(1000,) dtype=float32>, 'households': <tf.Tensor 'IteratorGetNext:0' shape=(1000,) dtype=float32>, 'median_income': <tf.Tensor 'IteratorGetNext:4' shape=(1000,) dtype=float32>}. Consider rewriting this model with the Functional API.\n"
          ]
        },
        {
          "output_type": "stream",
          "name": "stdout",
          "text": [
            "17/17 [==============================] - 3s 4ms/step - loss: 2.9433 - mean_squared_error: 1.1863\n",
            "Epoch 2/20\n",
            "17/17 [==============================] - 0s 4ms/step - loss: 2.5023 - mean_squared_error: 1.0452\n",
            "Epoch 3/20\n",
            "17/17 [==============================] - 0s 4ms/step - loss: 2.1425 - mean_squared_error: 0.9325\n",
            "Epoch 4/20\n",
            "17/17 [==============================] - 0s 4ms/step - loss: 1.8287 - mean_squared_error: 0.8172\n",
            "Epoch 5/20\n",
            "17/17 [==============================] - 0s 4ms/step - loss: 1.5630 - mean_squared_error: 0.7102\n",
            "Epoch 6/20\n",
            "17/17 [==============================] - 0s 5ms/step - loss: 1.3458 - mean_squared_error: 0.6207\n",
            "Epoch 7/20\n",
            "17/17 [==============================] - 0s 4ms/step - loss: 1.1730 - mean_squared_error: 0.5517\n",
            "Epoch 8/20\n",
            "17/17 [==============================] - 0s 4ms/step - loss: 1.0382 - mean_squared_error: 0.5015\n",
            "Epoch 9/20\n",
            "17/17 [==============================] - 0s 4ms/step - loss: 0.9341 - mean_squared_error: 0.4681\n",
            "Epoch 10/20\n",
            "17/17 [==============================] - 0s 4ms/step - loss: 0.8531 - mean_squared_error: 0.4457\n",
            "Epoch 11/20\n",
            "17/17 [==============================] - 0s 4ms/step - loss: 0.7885 - mean_squared_error: 0.4300\n",
            "Epoch 12/20\n",
            "17/17 [==============================] - 0s 5ms/step - loss: 0.7367 - mean_squared_error: 0.4186\n",
            "Epoch 13/20\n",
            "17/17 [==============================] - 0s 4ms/step - loss: 0.6948 - mean_squared_error: 0.4100\n",
            "Epoch 14/20\n",
            "17/17 [==============================] - 0s 4ms/step - loss: 0.6604 - mean_squared_error: 0.4033\n",
            "Epoch 15/20\n",
            "17/17 [==============================] - 0s 4ms/step - loss: 0.6321 - mean_squared_error: 0.3979\n",
            "Epoch 16/20\n",
            "17/17 [==============================] - 0s 4ms/step - loss: 0.6084 - mean_squared_error: 0.3940\n",
            "Epoch 17/20\n",
            "17/17 [==============================] - 0s 4ms/step - loss: 0.5886 - mean_squared_error: 0.3904\n",
            "Epoch 18/20\n",
            "17/17 [==============================] - 0s 4ms/step - loss: 0.5714 - mean_squared_error: 0.3870\n",
            "Epoch 19/20\n",
            "17/17 [==============================] - 0s 4ms/step - loss: 0.5570 - mean_squared_error: 0.3852\n",
            "Epoch 20/20\n",
            "17/17 [==============================] - 0s 4ms/step - loss: 0.5445 - mean_squared_error: 0.3833\n",
            "\n",
            " Evaluate the new model against the test set:\n"
          ]
        },
        {
          "output_type": "stream",
          "name": "stderr",
          "text": [
            "WARNING:tensorflow:Layers in a Sequential model should only have a single input tensor. Received: inputs={'longitude': <tf.Tensor 'IteratorGetNext:3' shape=(1000,) dtype=float32>, 'latitude': <tf.Tensor 'IteratorGetNext:2' shape=(1000,) dtype=float32>, 'housing_median_age': <tf.Tensor 'IteratorGetNext:1' shape=(1000,) dtype=float32>, 'total_rooms': <tf.Tensor 'IteratorGetNext:7' shape=(1000,) dtype=float32>, 'total_bedrooms': <tf.Tensor 'IteratorGetNext:6' shape=(1000,) dtype=float32>, 'population': <tf.Tensor 'IteratorGetNext:5' shape=(1000,) dtype=float32>, 'households': <tf.Tensor 'IteratorGetNext:0' shape=(1000,) dtype=float32>, 'median_income': <tf.Tensor 'IteratorGetNext:4' shape=(1000,) dtype=float32>}. Consider rewriting this model with the Functional API.\n"
          ]
        },
        {
          "output_type": "stream",
          "name": "stdout",
          "text": [
            "3/3 [==============================] - 0s 5ms/step - loss: 0.5685 - mean_squared_error: 0.4122\n"
          ]
        },
        {
          "output_type": "stream",
          "name": "stderr",
          "text": [
            "<ipython-input-119-0f4b77c217b6>:39: FutureWarning: The frame.append method is deprecated and will be removed from pandas in a future version. Use pandas.concat instead.\n",
            "  data = data.append(row, ignore_index=True)\n",
            "WARNING:absl:`lr` is deprecated, please use `learning_rate` instead, or use the legacy optimizer, e.g.,tf.keras.optimizers.legacy.Adam.\n"
          ]
        },
        {
          "output_type": "stream",
          "name": "stdout",
          "text": [
            "Epoch 1/20\n"
          ]
        },
        {
          "output_type": "stream",
          "name": "stderr",
          "text": [
            "WARNING:tensorflow:Layers in a Sequential model should only have a single input tensor. Received: inputs={'longitude': <tf.Tensor 'IteratorGetNext:3' shape=(1000,) dtype=float32>, 'latitude': <tf.Tensor 'IteratorGetNext:2' shape=(1000,) dtype=float32>, 'housing_median_age': <tf.Tensor 'IteratorGetNext:1' shape=(1000,) dtype=float32>, 'total_rooms': <tf.Tensor 'IteratorGetNext:7' shape=(1000,) dtype=float32>, 'total_bedrooms': <tf.Tensor 'IteratorGetNext:6' shape=(1000,) dtype=float32>, 'population': <tf.Tensor 'IteratorGetNext:5' shape=(1000,) dtype=float32>, 'households': <tf.Tensor 'IteratorGetNext:0' shape=(1000,) dtype=float32>, 'median_income': <tf.Tensor 'IteratorGetNext:4' shape=(1000,) dtype=float32>}. Consider rewriting this model with the Functional API.\n",
            "WARNING:tensorflow:Layers in a Sequential model should only have a single input tensor. Received: inputs={'longitude': <tf.Tensor 'IteratorGetNext:3' shape=(1000,) dtype=float32>, 'latitude': <tf.Tensor 'IteratorGetNext:2' shape=(1000,) dtype=float32>, 'housing_median_age': <tf.Tensor 'IteratorGetNext:1' shape=(1000,) dtype=float32>, 'total_rooms': <tf.Tensor 'IteratorGetNext:7' shape=(1000,) dtype=float32>, 'total_bedrooms': <tf.Tensor 'IteratorGetNext:6' shape=(1000,) dtype=float32>, 'population': <tf.Tensor 'IteratorGetNext:5' shape=(1000,) dtype=float32>, 'households': <tf.Tensor 'IteratorGetNext:0' shape=(1000,) dtype=float32>, 'median_income': <tf.Tensor 'IteratorGetNext:4' shape=(1000,) dtype=float32>}. Consider rewriting this model with the Functional API.\n"
          ]
        },
        {
          "output_type": "stream",
          "name": "stdout",
          "text": [
            "17/17 [==============================] - 1s 4ms/step - loss: 3.1897 - mean_squared_error: 0.9894\n",
            "Epoch 2/20\n",
            "17/17 [==============================] - 0s 5ms/step - loss: 2.6907 - mean_squared_error: 0.8540\n",
            "Epoch 3/20\n",
            "17/17 [==============================] - 0s 4ms/step - loss: 2.2681 - mean_squared_error: 0.7335\n",
            "Epoch 4/20\n",
            "17/17 [==============================] - 0s 4ms/step - loss: 1.9167 - mean_squared_error: 0.6290\n",
            "Epoch 5/20\n",
            "17/17 [==============================] - 0s 5ms/step - loss: 1.6388 - mean_squared_error: 0.5538\n",
            "Epoch 6/20\n",
            "17/17 [==============================] - 0s 4ms/step - loss: 1.4249 - mean_squared_error: 0.5093\n",
            "Epoch 7/20\n",
            "17/17 [==============================] - 0s 4ms/step - loss: 1.2574 - mean_squared_error: 0.4843\n",
            "Epoch 8/20\n",
            "17/17 [==============================] - 0s 4ms/step - loss: 1.1230 - mean_squared_error: 0.4689\n",
            "Epoch 9/20\n",
            "17/17 [==============================] - 0s 4ms/step - loss: 1.0138 - mean_squared_error: 0.4569\n",
            "Epoch 10/20\n",
            "17/17 [==============================] - 0s 4ms/step - loss: 0.9241 - mean_squared_error: 0.4463\n",
            "Epoch 11/20\n",
            "17/17 [==============================] - 0s 4ms/step - loss: 0.8500 - mean_squared_error: 0.4370\n",
            "Epoch 12/20\n",
            "17/17 [==============================] - 0s 4ms/step - loss: 0.7884 - mean_squared_error: 0.4282\n",
            "Epoch 13/20\n",
            "17/17 [==============================] - 0s 4ms/step - loss: 0.7369 - mean_squared_error: 0.4203\n",
            "Epoch 14/20\n",
            "17/17 [==============================] - 0s 4ms/step - loss: 0.6936 - mean_squared_error: 0.4140\n",
            "Epoch 15/20\n",
            "17/17 [==============================] - 0s 5ms/step - loss: 0.6574 - mean_squared_error: 0.4078\n",
            "Epoch 16/20\n",
            "17/17 [==============================] - 0s 6ms/step - loss: 0.6268 - mean_squared_error: 0.4016\n",
            "Epoch 17/20\n",
            "17/17 [==============================] - 0s 4ms/step - loss: 0.6009 - mean_squared_error: 0.3967\n",
            "Epoch 18/20\n",
            "17/17 [==============================] - 0s 4ms/step - loss: 0.5790 - mean_squared_error: 0.3927\n",
            "Epoch 19/20\n",
            "17/17 [==============================] - 0s 4ms/step - loss: 0.5603 - mean_squared_error: 0.3885\n",
            "Epoch 20/20\n",
            "17/17 [==============================] - 0s 4ms/step - loss: 0.5443 - mean_squared_error: 0.3856\n",
            "\n",
            " Evaluate the new model against the test set:\n"
          ]
        },
        {
          "output_type": "stream",
          "name": "stderr",
          "text": [
            "WARNING:tensorflow:Layers in a Sequential model should only have a single input tensor. Received: inputs={'longitude': <tf.Tensor 'IteratorGetNext:3' shape=(1000,) dtype=float32>, 'latitude': <tf.Tensor 'IteratorGetNext:2' shape=(1000,) dtype=float32>, 'housing_median_age': <tf.Tensor 'IteratorGetNext:1' shape=(1000,) dtype=float32>, 'total_rooms': <tf.Tensor 'IteratorGetNext:7' shape=(1000,) dtype=float32>, 'total_bedrooms': <tf.Tensor 'IteratorGetNext:6' shape=(1000,) dtype=float32>, 'population': <tf.Tensor 'IteratorGetNext:5' shape=(1000,) dtype=float32>, 'households': <tf.Tensor 'IteratorGetNext:0' shape=(1000,) dtype=float32>, 'median_income': <tf.Tensor 'IteratorGetNext:4' shape=(1000,) dtype=float32>}. Consider rewriting this model with the Functional API.\n"
          ]
        },
        {
          "output_type": "stream",
          "name": "stdout",
          "text": [
            "3/3 [==============================] - 0s 5ms/step - loss: 0.5654 - mean_squared_error: 0.4130\n",
            "      L2  train_mse  test_mse  diff_in_%\n",
            "0 0.0000     0.3340    0.3710    11.0756\n",
            "1 0.0100     0.3469    0.4769    37.4762\n",
            "2 0.0200     0.3587    0.5005    39.5443\n",
            "3 0.0300     0.3646    0.5044    38.3654\n",
            "4 0.0400     0.3833    0.5685    48.3146\n",
            "5 0.0500     0.3856    0.5654    46.6353\n"
          ]
        },
        {
          "output_type": "stream",
          "name": "stderr",
          "text": [
            "<ipython-input-119-0f4b77c217b6>:39: FutureWarning: The frame.append method is deprecated and will be removed from pandas in a future version. Use pandas.concat instead.\n",
            "  data = data.append(row, ignore_index=True)\n"
          ]
        }
      ],
      "source": [
        "l2 = 0.00\n",
        "\n",
        "data = pd.DataFrame()\n",
        "pd.options.display.float_format = \"{:.4f}\".format\n",
        "data[\"L2\"] = pd.Series(dtype='object')\n",
        "data[\"train_mse\"] = pd.Series(dtype='object')\n",
        "data[\"test_mse\"] = pd.Series(dtype='object')\n",
        "data[\"diff_in_%\"] = pd.Series(dtype='object')\n",
        "\n",
        "while(l2<=.05):\n",
        "\n",
        "  # The following variables are the hyperparameters.\n",
        "  learning_rate = 0.01\n",
        "  epochs = 20\n",
        "  batch_size = 1000\n",
        "\n",
        "  # Specify the label\n",
        "  label_name = \"median_house_value\"\n",
        "\n",
        "  # Establish the model's topography.\n",
        "  my_model = create_model(learning_rate, my_feature_layer,l2)\n",
        "\n",
        "  # Train the model on the normalized training set. We're passing the entire\n",
        "  # normalized training set, but the model will only use the features\n",
        "  # defined by the feature_layer.\n",
        "  epochs, train_mse = train_model(my_model, train_df_norm, epochs, \n",
        "                            label_name, batch_size)\n",
        "  #plot_the_loss_curve(epochs, mse)\n",
        "  \n",
        "  # After building a model against the training set, test that model\n",
        "  # against the test set.\n",
        "  test_features = {name:np.array(value) for name, value in test_df_norm.items()}\n",
        "  test_label = np.array(test_features.pop(label_name)) # isolate the label\n",
        "  print(\"\\n Evaluate the new model against the test set:\")\n",
        "  test_mse=my_model.evaluate(x = test_features, y = test_label, batch_size=batch_size)\n",
        "  diff = abs((test_mse[0]-train_mse[19])/train_mse[19]*100)\n",
        "  # Add rows to the DataFrame\n",
        "  row = {'L2': l2, 'train_mse': round(train_mse[19],4), 'test_mse': round(test_mse[0],4), 'diff_in_%' :  diff}\n",
        "  data = data.append(row, ignore_index=True)\n",
        "  l2= l2 + 0.01\n",
        "\n",
        "print(data)"
      ]
    },
    {
      "cell_type": "code",
      "source": [
        "print(data)\n"
      ],
      "metadata": {
        "colab": {
          "base_uri": "https://localhost:8080/"
        },
        "id": "KGWvsPSqnejB",
        "outputId": "5fb73c9d-9ec3-4c15-fd56-d2b3591d7879"
      },
      "execution_count": 121,
      "outputs": [
        {
          "output_type": "stream",
          "name": "stdout",
          "text": [
            "      L2  train_mse  test_mse  diff_in_%\n",
            "0 0.0000     0.3340    0.3710    11.0756\n",
            "1 0.0100     0.3469    0.4769    37.4762\n",
            "2 0.0200     0.3587    0.5005    39.5443\n",
            "3 0.0300     0.3646    0.5044    38.3654\n",
            "4 0.0400     0.3833    0.5685    48.3146\n",
            "5 0.0500     0.3856    0.5654    46.6353\n"
          ]
        }
      ]
    },
    {
      "cell_type": "markdown",
      "metadata": {
        "id": "wlPXK-SmmjQ2"
      },
      "source": [
        "## Task 1: Compare the two models\n",
        "\n",
        "How did the deep neural net perform against the baseline linear regression model?"
      ]
    },
    {
      "cell_type": "markdown",
      "metadata": {
        "id": "Y5IKmk7D49_n"
      },
      "source": [
        "## Task 2: Optimize the deep neural network's topography\n",
        "\n",
        "Experiment with the number of layers of the deep neural network and the number of nodes in each layer.  Aim to achieve both of the following goals:\n",
        "\n",
        "*  Lower the loss against the test set.\n",
        "*  Minimize the overall number of nodes in the deep neural net. \n",
        "\n",
        "The two goals may be in conflict."
      ]
    },
    {
      "cell_type": "markdown",
      "metadata": {
        "id": "Pu7R_ZpDopIj"
      },
      "source": [
        "## Task 3: Regularize the deep neural network\n",
        "\n",
        "Notice that the model's loss against the test set may be *much higher* than the loss against the training set.  In other words, the deep neural network may be [overfitting](https://developers.google.com/machine-learning/glossary/#overfitting) to the data in the training set.  To reduce overfitting, regularize the model. Several different ways to regularize a model, including:\n",
        "\n",
        "  * [L1 regularization](https://developers.google.com/machine-learning/glossary/#L1_regularization)\n",
        "  * [L2 regularization](https://developers.google.com/machine-learning/glossary/#L2_regularization)\n",
        "\n",
        "# I have tried to use different values of L2 for both the hidden layers to reduce the gap between the training and test MSE. However, I didn't have any luck with it. Turns out that the best result is obtained when L2 is zero. However, I was able to reduce the gap by increasing the number of Epochs and Batch size keeping L2 to zero but that's not what I was supposed to do here. Here is the data:\n",
        "\n",
        "![image.png](data:image/png;base64,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)\n",
        "\n",
        "\n",
        "  * [Dropout regularization](https://developers.google.com/machine-learning/glossary/#dropout_regularization)\n",
        "\n",
        "Your task is to experiment with one or more regularization mechanisms to bring the test loss closer to the training loss (while still keeping test loss relatively low).  \n",
        "\n",
        "**Note:** When you add a regularization function to a model, you might need to tweak other hyperparameters. \n",
        "\n",
        "### Implementing L1 or L2 regularization\n",
        "\n",
        "To use L1 or L2 regularization on a hidden layer, specify the `kernel_regularizer` argument to [tf.keras.layers.Dense](https://www.tensorflow.org/api_docs/python/tf/keras/layers/Dense). Assign one of the following methods to this argument:\n",
        "\n",
        "* `tf.keras.regularizers.l1` for L1 regularization\n",
        "* `tf.keras.regularizers.l2` for L2 regularization\n",
        "\n",
        "Each of the preceding methods takes an `l` parameter, which adjusts the [regularization rate](https://developers.google.com/machine-learning/glossary/#regularization_rate). Assign a decimal value between 0 and 1.0 to `l`; the higher the decimal, the greater the regularization. For example, the following applies L2 regularization at a strength of 0.01. \n",
        "\n",
        "```\n",
        "model.add(tf.keras.layers.Dense(units=20, \n",
        "                                activation='relu',\n",
        "                                kernel_regularizer=tf.keras.regularizers.l2(l=0.01),\n",
        "                                name='Hidden1'))\n",
        "```\n",
        "\n",
        "### Implementing Dropout regularization\n",
        "\n",
        "You implement dropout regularization as a separate layer in the topography. For example, the following code demonstrates how to add a dropout regularization layer between the first hidden layer and the second hidden layer:\n",
        "\n",
        "```\n",
        "model.add(tf.keras.layers.Dense( *define first hidden layer*)\n",
        " \n",
        "model.add(tf.keras.layers.Dropout(rate=0.25))\n",
        "\n",
        "model.add(tf.keras.layers.Dense( *define second hidden layer*)\n",
        "```\n",
        "\n",
        "The `rate` parameter to [tf.keras.layers.Dropout](https://www.tensorflow.org/api_docs/python/tf/keras/layers/Dropout) specifies the fraction of nodes that the model should drop out during training. \n"
      ]
    }
  ],
  "metadata": {
    "colab": {
      "collapsed_sections": [
        "X_TaJhU4KcuY",
        "b9ehCgIRjTxy",
        "Ak_TMAzGOIFq"
      ],
      "provenance": [],
      "include_colab_link": true
    },
    "kernelspec": {
      "display_name": "Python 3",
      "name": "python3"
    }
  },
  "nbformat": 4,
  "nbformat_minor": 0
}