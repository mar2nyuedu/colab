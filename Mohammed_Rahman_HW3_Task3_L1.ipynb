{
  "cells": [
    {
      "cell_type": "markdown",
      "metadata": {
        "id": "view-in-github",
        "colab_type": "text"
      },
      "source": [
        "<a href=\"https://colab.research.google.com/github/mar2nyuedu/colab/blob/main/Mohammed_Rahman_HW3_Task3_L1.ipynb\" target=\"_parent\"><img src=\"https://colab.research.google.com/assets/colab-badge.svg\" alt=\"Open In Colab\"/></a>"
      ]
    },
    {
      "cell_type": "code",
      "execution_count": null,
      "metadata": {
        "cellView": "form",
        "id": "wDlWLbfkJtvu"
      },
      "outputs": [],
      "source": [
        "#@title Copyright 2020 Google LLC. Double-click here for license information.\n",
        "# Licensed under the Apache License, Version 2.0 (the \"License\");\n",
        "# you may not use this file except in compliance with the License.\n",
        "# You may obtain a copy of the License at\n",
        "#\n",
        "# https://www.apache.org/licenses/LICENSE-2.0\n",
        "#\n",
        "# Unless required by applicable law or agreed to in writing, software\n",
        "# distributed under the License is distributed on an \"AS IS\" BASIS,\n",
        "# WITHOUT WARRANTIES OR CONDITIONS OF ANY KIND, either express or implied.\n",
        "# See the License for the specific language governing permissions and\n",
        "# limitations under the License."
      ]
    },
    {
      "cell_type": "markdown",
      "metadata": {
        "id": "TL5y5fY9Jy_x"
      },
      "source": [
        "# Introduction to Neural Nets\n",
        "\n",
        "This Colab builds a deep neural network to perform more sophisticated regression than the earlier Colabs."
      ]
    },
    {
      "cell_type": "markdown",
      "metadata": {
        "id": "7RDY3EeAluPd"
      },
      "source": [
        "## Learning Objectives:\n",
        "\n",
        "After doing this Colab, you'll know how to do the following:\n",
        "\n",
        "  * Create a simple deep neural network.\n",
        "  * Tune the hyperparameters for a simple deep neural network."
      ]
    },
    {
      "cell_type": "markdown",
      "metadata": {
        "id": "XGj0PNaJlubZ"
      },
      "source": [
        "## The Dataset\n",
        "  \n",
        "Like several of the previous Colabs, this Colab uses the [California Housing Dataset](https://developers.google.com/machine-learning/crash-course/california-housing-data-description)."
      ]
    },
    {
      "cell_type": "markdown",
      "metadata": {
        "id": "xchnxAsaKKqO"
      },
      "source": [
        "## Import relevant modules\n",
        "\n",
        "The following hidden code cell imports the necessary code to run the code in the rest of this Colaboratory."
      ]
    },
    {
      "cell_type": "code",
      "execution_count": null,
      "metadata": {
        "id": "9n9_cTveKmse",
        "colab": {
          "base_uri": "https://localhost:8080/"
        },
        "outputId": "d5029fa7-fb71-4904-ca54-83bfc2e53413"
      },
      "outputs": [
        {
          "output_type": "stream",
          "name": "stdout",
          "text": [
            "Imported modules.\n"
          ]
        }
      ],
      "source": [
        "#@title Import relevant modules\n",
        "import numpy as np\n",
        "import pandas as pd\n",
        "import tensorflow as tf\n",
        "from tensorflow.keras import layers\n",
        "from matplotlib import pyplot as plt\n",
        "# import seaborn as sns\n",
        "\n",
        "# The following lines adjust the granularity of reporting. \n",
        "pd.options.display.max_rows = 10\n",
        "pd.options.display.float_format = \"{:.1f}\".format\n",
        "\n",
        "print(\"Imported modules.\")"
      ]
    },
    {
      "cell_type": "markdown",
      "metadata": {
        "id": "X_TaJhU4KcuY"
      },
      "source": [
        "## Load the dataset\n",
        "\n",
        "Like most of the previous Colab exercises, this exercise uses the California Housing Dataset.  The following code cell loads the separate .csv files and creates the following two pandas DataFrames:\n",
        "\n",
        "* `train_df`, which contains the training set\n",
        "* `test_df`, which contains the test set\n",
        "   "
      ]
    },
    {
      "cell_type": "code",
      "execution_count": null,
      "metadata": {
        "id": "JZlvdpyYKx7V"
      },
      "outputs": [],
      "source": [
        "train_df = pd.read_csv(\"https://download.mlcc.google.com/mledu-datasets/california_housing_train.csv\")\n",
        "train_df = train_df.reindex(np.random.permutation(train_df.index)) # shuffle the examples helps ensuring that batches are more representative of the entire dataset \n",
        "test_df = pd.read_csv(\"https://download.mlcc.google.com/mledu-datasets/california_housing_test.csv\")"
      ]
    },
    {
      "cell_type": "code",
      "source": [
        "train_df"
      ],
      "metadata": {
        "id": "cxASbGEOs2XP",
        "colab": {
          "base_uri": "https://localhost:8080/"
        },
        "outputId": "abd42a17-9aa7-47ff-c725-6530fbf1515a"
      },
      "execution_count": null,
      "outputs": [
        {
          "output_type": "execute_result",
          "data": {
            "text/plain": [
              "       longitude  latitude  housing_median_age  total_rooms  total_bedrooms  \\\n",
              "13854     -122.0      37.4                25.0       2074.0           387.0   \n",
              "11909     -121.4      38.0                 4.0       2477.0           359.0   \n",
              "9012      -119.0      34.8                18.0       3278.0           762.0   \n",
              "15340     -122.3      38.0                20.0       3426.0           632.0   \n",
              "1000      -117.1      33.4                19.0       3518.0           658.0   \n",
              "...          ...       ...                 ...          ...             ...   \n",
              "933       -117.1      33.1                13.0       3958.0           865.0   \n",
              "5091      -118.1      33.9                35.0        620.0           122.0   \n",
              "8174      -118.4      33.9                41.0        847.0           173.0   \n",
              "6321      -118.2      33.9                44.0       1137.0           235.0   \n",
              "14659     -122.2      38.1                10.0       4976.0           849.0   \n",
              "\n",
              "       population  households  median_income  median_house_value  \n",
              "13854      1273.0       383.0            4.8            378000.0  \n",
              "11909      1234.0       377.0            5.5            162100.0  \n",
              "9012       1338.0       550.0            3.0            116500.0  \n",
              "15340      1512.0       580.0            4.5            227400.0  \n",
              "1000       2091.0       610.0            3.3            168800.0  \n",
              "...           ...         ...            ...                 ...  \n",
              "933        1981.0       840.0            3.5            137500.0  \n",
              "5091        381.0       124.0            3.8            183900.0  \n",
              "8174        344.0       170.0            6.8            500001.0  \n",
              "6321        747.0       225.0            2.0             92600.0  \n",
              "14659      2089.0       803.0            5.3            201800.0  \n",
              "\n",
              "[17000 rows x 9 columns]"
            ],
            "text/html": [
              "\n",
              "  <div id=\"df-efe60964-9575-41c0-b2c1-ff95d4d62235\">\n",
              "    <div class=\"colab-df-container\">\n",
              "      <div>\n",
              "<style scoped>\n",
              "    .dataframe tbody tr th:only-of-type {\n",
              "        vertical-align: middle;\n",
              "    }\n",
              "\n",
              "    .dataframe tbody tr th {\n",
              "        vertical-align: top;\n",
              "    }\n",
              "\n",
              "    .dataframe thead th {\n",
              "        text-align: right;\n",
              "    }\n",
              "</style>\n",
              "<table border=\"1\" class=\"dataframe\">\n",
              "  <thead>\n",
              "    <tr style=\"text-align: right;\">\n",
              "      <th></th>\n",
              "      <th>longitude</th>\n",
              "      <th>latitude</th>\n",
              "      <th>housing_median_age</th>\n",
              "      <th>total_rooms</th>\n",
              "      <th>total_bedrooms</th>\n",
              "      <th>population</th>\n",
              "      <th>households</th>\n",
              "      <th>median_income</th>\n",
              "      <th>median_house_value</th>\n",
              "    </tr>\n",
              "  </thead>\n",
              "  <tbody>\n",
              "    <tr>\n",
              "      <th>13854</th>\n",
              "      <td>-122.0</td>\n",
              "      <td>37.4</td>\n",
              "      <td>25.0</td>\n",
              "      <td>2074.0</td>\n",
              "      <td>387.0</td>\n",
              "      <td>1273.0</td>\n",
              "      <td>383.0</td>\n",
              "      <td>4.8</td>\n",
              "      <td>378000.0</td>\n",
              "    </tr>\n",
              "    <tr>\n",
              "      <th>11909</th>\n",
              "      <td>-121.4</td>\n",
              "      <td>38.0</td>\n",
              "      <td>4.0</td>\n",
              "      <td>2477.0</td>\n",
              "      <td>359.0</td>\n",
              "      <td>1234.0</td>\n",
              "      <td>377.0</td>\n",
              "      <td>5.5</td>\n",
              "      <td>162100.0</td>\n",
              "    </tr>\n",
              "    <tr>\n",
              "      <th>9012</th>\n",
              "      <td>-119.0</td>\n",
              "      <td>34.8</td>\n",
              "      <td>18.0</td>\n",
              "      <td>3278.0</td>\n",
              "      <td>762.0</td>\n",
              "      <td>1338.0</td>\n",
              "      <td>550.0</td>\n",
              "      <td>3.0</td>\n",
              "      <td>116500.0</td>\n",
              "    </tr>\n",
              "    <tr>\n",
              "      <th>15340</th>\n",
              "      <td>-122.3</td>\n",
              "      <td>38.0</td>\n",
              "      <td>20.0</td>\n",
              "      <td>3426.0</td>\n",
              "      <td>632.0</td>\n",
              "      <td>1512.0</td>\n",
              "      <td>580.0</td>\n",
              "      <td>4.5</td>\n",
              "      <td>227400.0</td>\n",
              "    </tr>\n",
              "    <tr>\n",
              "      <th>1000</th>\n",
              "      <td>-117.1</td>\n",
              "      <td>33.4</td>\n",
              "      <td>19.0</td>\n",
              "      <td>3518.0</td>\n",
              "      <td>658.0</td>\n",
              "      <td>2091.0</td>\n",
              "      <td>610.0</td>\n",
              "      <td>3.3</td>\n",
              "      <td>168800.0</td>\n",
              "    </tr>\n",
              "    <tr>\n",
              "      <th>...</th>\n",
              "      <td>...</td>\n",
              "      <td>...</td>\n",
              "      <td>...</td>\n",
              "      <td>...</td>\n",
              "      <td>...</td>\n",
              "      <td>...</td>\n",
              "      <td>...</td>\n",
              "      <td>...</td>\n",
              "      <td>...</td>\n",
              "    </tr>\n",
              "    <tr>\n",
              "      <th>933</th>\n",
              "      <td>-117.1</td>\n",
              "      <td>33.1</td>\n",
              "      <td>13.0</td>\n",
              "      <td>3958.0</td>\n",
              "      <td>865.0</td>\n",
              "      <td>1981.0</td>\n",
              "      <td>840.0</td>\n",
              "      <td>3.5</td>\n",
              "      <td>137500.0</td>\n",
              "    </tr>\n",
              "    <tr>\n",
              "      <th>5091</th>\n",
              "      <td>-118.1</td>\n",
              "      <td>33.9</td>\n",
              "      <td>35.0</td>\n",
              "      <td>620.0</td>\n",
              "      <td>122.0</td>\n",
              "      <td>381.0</td>\n",
              "      <td>124.0</td>\n",
              "      <td>3.8</td>\n",
              "      <td>183900.0</td>\n",
              "    </tr>\n",
              "    <tr>\n",
              "      <th>8174</th>\n",
              "      <td>-118.4</td>\n",
              "      <td>33.9</td>\n",
              "      <td>41.0</td>\n",
              "      <td>847.0</td>\n",
              "      <td>173.0</td>\n",
              "      <td>344.0</td>\n",
              "      <td>170.0</td>\n",
              "      <td>6.8</td>\n",
              "      <td>500001.0</td>\n",
              "    </tr>\n",
              "    <tr>\n",
              "      <th>6321</th>\n",
              "      <td>-118.2</td>\n",
              "      <td>33.9</td>\n",
              "      <td>44.0</td>\n",
              "      <td>1137.0</td>\n",
              "      <td>235.0</td>\n",
              "      <td>747.0</td>\n",
              "      <td>225.0</td>\n",
              "      <td>2.0</td>\n",
              "      <td>92600.0</td>\n",
              "    </tr>\n",
              "    <tr>\n",
              "      <th>14659</th>\n",
              "      <td>-122.2</td>\n",
              "      <td>38.1</td>\n",
              "      <td>10.0</td>\n",
              "      <td>4976.0</td>\n",
              "      <td>849.0</td>\n",
              "      <td>2089.0</td>\n",
              "      <td>803.0</td>\n",
              "      <td>5.3</td>\n",
              "      <td>201800.0</td>\n",
              "    </tr>\n",
              "  </tbody>\n",
              "</table>\n",
              "<p>17000 rows × 9 columns</p>\n",
              "</div>\n",
              "      <button class=\"colab-df-convert\" onclick=\"convertToInteractive('df-efe60964-9575-41c0-b2c1-ff95d4d62235')\"\n",
              "              title=\"Convert this dataframe to an interactive table.\"\n",
              "              style=\"display:none;\">\n",
              "        \n",
              "  <svg xmlns=\"http://www.w3.org/2000/svg\" height=\"24px\"viewBox=\"0 0 24 24\"\n",
              "       width=\"24px\">\n",
              "    <path d=\"M0 0h24v24H0V0z\" fill=\"none\"/>\n",
              "    <path d=\"M18.56 5.44l.94 2.06.94-2.06 2.06-.94-2.06-.94-.94-2.06-.94 2.06-2.06.94zm-11 1L8.5 8.5l.94-2.06 2.06-.94-2.06-.94L8.5 2.5l-.94 2.06-2.06.94zm10 10l.94 2.06.94-2.06 2.06-.94-2.06-.94-.94-2.06-.94 2.06-2.06.94z\"/><path d=\"M17.41 7.96l-1.37-1.37c-.4-.4-.92-.59-1.43-.59-.52 0-1.04.2-1.43.59L10.3 9.45l-7.72 7.72c-.78.78-.78 2.05 0 2.83L4 21.41c.39.39.9.59 1.41.59.51 0 1.02-.2 1.41-.59l7.78-7.78 2.81-2.81c.8-.78.8-2.07 0-2.86zM5.41 20L4 18.59l7.72-7.72 1.47 1.35L5.41 20z\"/>\n",
              "  </svg>\n",
              "      </button>\n",
              "      \n",
              "  <style>\n",
              "    .colab-df-container {\n",
              "      display:flex;\n",
              "      flex-wrap:wrap;\n",
              "      gap: 12px;\n",
              "    }\n",
              "\n",
              "    .colab-df-convert {\n",
              "      background-color: #E8F0FE;\n",
              "      border: none;\n",
              "      border-radius: 50%;\n",
              "      cursor: pointer;\n",
              "      display: none;\n",
              "      fill: #1967D2;\n",
              "      height: 32px;\n",
              "      padding: 0 0 0 0;\n",
              "      width: 32px;\n",
              "    }\n",
              "\n",
              "    .colab-df-convert:hover {\n",
              "      background-color: #E2EBFA;\n",
              "      box-shadow: 0px 1px 2px rgba(60, 64, 67, 0.3), 0px 1px 3px 1px rgba(60, 64, 67, 0.15);\n",
              "      fill: #174EA6;\n",
              "    }\n",
              "\n",
              "    [theme=dark] .colab-df-convert {\n",
              "      background-color: #3B4455;\n",
              "      fill: #D2E3FC;\n",
              "    }\n",
              "\n",
              "    [theme=dark] .colab-df-convert:hover {\n",
              "      background-color: #434B5C;\n",
              "      box-shadow: 0px 1px 3px 1px rgba(0, 0, 0, 0.15);\n",
              "      filter: drop-shadow(0px 1px 2px rgba(0, 0, 0, 0.3));\n",
              "      fill: #FFFFFF;\n",
              "    }\n",
              "  </style>\n",
              "\n",
              "      <script>\n",
              "        const buttonEl =\n",
              "          document.querySelector('#df-efe60964-9575-41c0-b2c1-ff95d4d62235 button.colab-df-convert');\n",
              "        buttonEl.style.display =\n",
              "          google.colab.kernel.accessAllowed ? 'block' : 'none';\n",
              "\n",
              "        async function convertToInteractive(key) {\n",
              "          const element = document.querySelector('#df-efe60964-9575-41c0-b2c1-ff95d4d62235');\n",
              "          const dataTable =\n",
              "            await google.colab.kernel.invokeFunction('convertToInteractive',\n",
              "                                                     [key], {});\n",
              "          if (!dataTable) return;\n",
              "\n",
              "          const docLinkHtml = 'Like what you see? Visit the ' +\n",
              "            '<a target=\"_blank\" href=https://colab.research.google.com/notebooks/data_table.ipynb>data table notebook</a>'\n",
              "            + ' to learn more about interactive tables.';\n",
              "          element.innerHTML = '';\n",
              "          dataTable['output_type'] = 'display_data';\n",
              "          await google.colab.output.renderOutput(dataTable, element);\n",
              "          const docLink = document.createElement('div');\n",
              "          docLink.innerHTML = docLinkHtml;\n",
              "          element.appendChild(docLink);\n",
              "        }\n",
              "      </script>\n",
              "    </div>\n",
              "  </div>\n",
              "  "
            ]
          },
          "metadata": {},
          "execution_count": 4
        }
      ]
    },
    {
      "cell_type": "code",
      "source": [
        "train_df.describe()"
      ],
      "metadata": {
        "colab": {
          "base_uri": "https://localhost:8080/"
        },
        "id": "nVgTsGACt6E5",
        "outputId": "ccce84ca-1d3c-4269-c1a3-a679d5147e0a"
      },
      "execution_count": null,
      "outputs": [
        {
          "output_type": "execute_result",
          "data": {
            "text/plain": [
              "       longitude  latitude  housing_median_age  total_rooms  total_bedrooms  \\\n",
              "count    17000.0   17000.0             17000.0      17000.0         17000.0   \n",
              "mean      -119.6      35.6                28.6       2643.7           539.4   \n",
              "std          2.0       2.1                12.6       2179.9           421.5   \n",
              "min       -124.3      32.5                 1.0          2.0             1.0   \n",
              "25%       -121.8      33.9                18.0       1462.0           297.0   \n",
              "50%       -118.5      34.2                29.0       2127.0           434.0   \n",
              "75%       -118.0      37.7                37.0       3151.2           648.2   \n",
              "max       -114.3      42.0                52.0      37937.0          6445.0   \n",
              "\n",
              "       population  households  median_income  median_house_value  \n",
              "count     17000.0     17000.0        17000.0             17000.0  \n",
              "mean       1429.6       501.2            3.9            207300.9  \n",
              "std        1147.9       384.5            1.9            115983.8  \n",
              "min           3.0         1.0            0.5             14999.0  \n",
              "25%         790.0       282.0            2.6            119400.0  \n",
              "50%        1167.0       409.0            3.5            180400.0  \n",
              "75%        1721.0       605.2            4.8            265000.0  \n",
              "max       35682.0      6082.0           15.0            500001.0  "
            ],
            "text/html": [
              "\n",
              "  <div id=\"df-2f73f3c3-162d-4127-9ae3-cb0a741a6db2\">\n",
              "    <div class=\"colab-df-container\">\n",
              "      <div>\n",
              "<style scoped>\n",
              "    .dataframe tbody tr th:only-of-type {\n",
              "        vertical-align: middle;\n",
              "    }\n",
              "\n",
              "    .dataframe tbody tr th {\n",
              "        vertical-align: top;\n",
              "    }\n",
              "\n",
              "    .dataframe thead th {\n",
              "        text-align: right;\n",
              "    }\n",
              "</style>\n",
              "<table border=\"1\" class=\"dataframe\">\n",
              "  <thead>\n",
              "    <tr style=\"text-align: right;\">\n",
              "      <th></th>\n",
              "      <th>longitude</th>\n",
              "      <th>latitude</th>\n",
              "      <th>housing_median_age</th>\n",
              "      <th>total_rooms</th>\n",
              "      <th>total_bedrooms</th>\n",
              "      <th>population</th>\n",
              "      <th>households</th>\n",
              "      <th>median_income</th>\n",
              "      <th>median_house_value</th>\n",
              "    </tr>\n",
              "  </thead>\n",
              "  <tbody>\n",
              "    <tr>\n",
              "      <th>count</th>\n",
              "      <td>17000.0</td>\n",
              "      <td>17000.0</td>\n",
              "      <td>17000.0</td>\n",
              "      <td>17000.0</td>\n",
              "      <td>17000.0</td>\n",
              "      <td>17000.0</td>\n",
              "      <td>17000.0</td>\n",
              "      <td>17000.0</td>\n",
              "      <td>17000.0</td>\n",
              "    </tr>\n",
              "    <tr>\n",
              "      <th>mean</th>\n",
              "      <td>-119.6</td>\n",
              "      <td>35.6</td>\n",
              "      <td>28.6</td>\n",
              "      <td>2643.7</td>\n",
              "      <td>539.4</td>\n",
              "      <td>1429.6</td>\n",
              "      <td>501.2</td>\n",
              "      <td>3.9</td>\n",
              "      <td>207300.9</td>\n",
              "    </tr>\n",
              "    <tr>\n",
              "      <th>std</th>\n",
              "      <td>2.0</td>\n",
              "      <td>2.1</td>\n",
              "      <td>12.6</td>\n",
              "      <td>2179.9</td>\n",
              "      <td>421.5</td>\n",
              "      <td>1147.9</td>\n",
              "      <td>384.5</td>\n",
              "      <td>1.9</td>\n",
              "      <td>115983.8</td>\n",
              "    </tr>\n",
              "    <tr>\n",
              "      <th>min</th>\n",
              "      <td>-124.3</td>\n",
              "      <td>32.5</td>\n",
              "      <td>1.0</td>\n",
              "      <td>2.0</td>\n",
              "      <td>1.0</td>\n",
              "      <td>3.0</td>\n",
              "      <td>1.0</td>\n",
              "      <td>0.5</td>\n",
              "      <td>14999.0</td>\n",
              "    </tr>\n",
              "    <tr>\n",
              "      <th>25%</th>\n",
              "      <td>-121.8</td>\n",
              "      <td>33.9</td>\n",
              "      <td>18.0</td>\n",
              "      <td>1462.0</td>\n",
              "      <td>297.0</td>\n",
              "      <td>790.0</td>\n",
              "      <td>282.0</td>\n",
              "      <td>2.6</td>\n",
              "      <td>119400.0</td>\n",
              "    </tr>\n",
              "    <tr>\n",
              "      <th>50%</th>\n",
              "      <td>-118.5</td>\n",
              "      <td>34.2</td>\n",
              "      <td>29.0</td>\n",
              "      <td>2127.0</td>\n",
              "      <td>434.0</td>\n",
              "      <td>1167.0</td>\n",
              "      <td>409.0</td>\n",
              "      <td>3.5</td>\n",
              "      <td>180400.0</td>\n",
              "    </tr>\n",
              "    <tr>\n",
              "      <th>75%</th>\n",
              "      <td>-118.0</td>\n",
              "      <td>37.7</td>\n",
              "      <td>37.0</td>\n",
              "      <td>3151.2</td>\n",
              "      <td>648.2</td>\n",
              "      <td>1721.0</td>\n",
              "      <td>605.2</td>\n",
              "      <td>4.8</td>\n",
              "      <td>265000.0</td>\n",
              "    </tr>\n",
              "    <tr>\n",
              "      <th>max</th>\n",
              "      <td>-114.3</td>\n",
              "      <td>42.0</td>\n",
              "      <td>52.0</td>\n",
              "      <td>37937.0</td>\n",
              "      <td>6445.0</td>\n",
              "      <td>35682.0</td>\n",
              "      <td>6082.0</td>\n",
              "      <td>15.0</td>\n",
              "      <td>500001.0</td>\n",
              "    </tr>\n",
              "  </tbody>\n",
              "</table>\n",
              "</div>\n",
              "      <button class=\"colab-df-convert\" onclick=\"convertToInteractive('df-2f73f3c3-162d-4127-9ae3-cb0a741a6db2')\"\n",
              "              title=\"Convert this dataframe to an interactive table.\"\n",
              "              style=\"display:none;\">\n",
              "        \n",
              "  <svg xmlns=\"http://www.w3.org/2000/svg\" height=\"24px\"viewBox=\"0 0 24 24\"\n",
              "       width=\"24px\">\n",
              "    <path d=\"M0 0h24v24H0V0z\" fill=\"none\"/>\n",
              "    <path d=\"M18.56 5.44l.94 2.06.94-2.06 2.06-.94-2.06-.94-.94-2.06-.94 2.06-2.06.94zm-11 1L8.5 8.5l.94-2.06 2.06-.94-2.06-.94L8.5 2.5l-.94 2.06-2.06.94zm10 10l.94 2.06.94-2.06 2.06-.94-2.06-.94-.94-2.06-.94 2.06-2.06.94z\"/><path d=\"M17.41 7.96l-1.37-1.37c-.4-.4-.92-.59-1.43-.59-.52 0-1.04.2-1.43.59L10.3 9.45l-7.72 7.72c-.78.78-.78 2.05 0 2.83L4 21.41c.39.39.9.59 1.41.59.51 0 1.02-.2 1.41-.59l7.78-7.78 2.81-2.81c.8-.78.8-2.07 0-2.86zM5.41 20L4 18.59l7.72-7.72 1.47 1.35L5.41 20z\"/>\n",
              "  </svg>\n",
              "      </button>\n",
              "      \n",
              "  <style>\n",
              "    .colab-df-container {\n",
              "      display:flex;\n",
              "      flex-wrap:wrap;\n",
              "      gap: 12px;\n",
              "    }\n",
              "\n",
              "    .colab-df-convert {\n",
              "      background-color: #E8F0FE;\n",
              "      border: none;\n",
              "      border-radius: 50%;\n",
              "      cursor: pointer;\n",
              "      display: none;\n",
              "      fill: #1967D2;\n",
              "      height: 32px;\n",
              "      padding: 0 0 0 0;\n",
              "      width: 32px;\n",
              "    }\n",
              "\n",
              "    .colab-df-convert:hover {\n",
              "      background-color: #E2EBFA;\n",
              "      box-shadow: 0px 1px 2px rgba(60, 64, 67, 0.3), 0px 1px 3px 1px rgba(60, 64, 67, 0.15);\n",
              "      fill: #174EA6;\n",
              "    }\n",
              "\n",
              "    [theme=dark] .colab-df-convert {\n",
              "      background-color: #3B4455;\n",
              "      fill: #D2E3FC;\n",
              "    }\n",
              "\n",
              "    [theme=dark] .colab-df-convert:hover {\n",
              "      background-color: #434B5C;\n",
              "      box-shadow: 0px 1px 3px 1px rgba(0, 0, 0, 0.15);\n",
              "      filter: drop-shadow(0px 1px 2px rgba(0, 0, 0, 0.3));\n",
              "      fill: #FFFFFF;\n",
              "    }\n",
              "  </style>\n",
              "\n",
              "      <script>\n",
              "        const buttonEl =\n",
              "          document.querySelector('#df-2f73f3c3-162d-4127-9ae3-cb0a741a6db2 button.colab-df-convert');\n",
              "        buttonEl.style.display =\n",
              "          google.colab.kernel.accessAllowed ? 'block' : 'none';\n",
              "\n",
              "        async function convertToInteractive(key) {\n",
              "          const element = document.querySelector('#df-2f73f3c3-162d-4127-9ae3-cb0a741a6db2');\n",
              "          const dataTable =\n",
              "            await google.colab.kernel.invokeFunction('convertToInteractive',\n",
              "                                                     [key], {});\n",
              "          if (!dataTable) return;\n",
              "\n",
              "          const docLinkHtml = 'Like what you see? Visit the ' +\n",
              "            '<a target=\"_blank\" href=https://colab.research.google.com/notebooks/data_table.ipynb>data table notebook</a>'\n",
              "            + ' to learn more about interactive tables.';\n",
              "          element.innerHTML = '';\n",
              "          dataTable['output_type'] = 'display_data';\n",
              "          await google.colab.output.renderOutput(dataTable, element);\n",
              "          const docLink = document.createElement('div');\n",
              "          docLink.innerHTML = docLinkHtml;\n",
              "          element.appendChild(docLink);\n",
              "        }\n",
              "      </script>\n",
              "    </div>\n",
              "  </div>\n",
              "  "
            ]
          },
          "metadata": {},
          "execution_count": 5
        }
      ]
    },
    {
      "cell_type": "markdown",
      "metadata": {
        "id": "8ldP-5z1B2vL"
      },
      "source": [
        "## Normalize values\n",
        "\n",
        "When building a model with multiple features, the values of each feature should cover roughly the same range.  The following code cell normalizes datasets by converting each raw value to its Z-score. "
      ]
    },
    {
      "cell_type": "code",
      "execution_count": null,
      "metadata": {
        "id": "g8HC-TDgB1D1",
        "colab": {
          "base_uri": "https://localhost:8080/"
        },
        "outputId": "3b519acf-3601-46bf-d3e4-5e0109f95ce8"
      },
      "outputs": [
        {
          "output_type": "stream",
          "name": "stdout",
          "text": [
            "Normalized the values.\n"
          ]
        }
      ],
      "source": [
        "#@title Convert raw values to their Z-scores \n",
        "\n",
        "# Calculate the Z-scores of each column in the training set:\n",
        "train_df_mean = train_df.mean()\n",
        "train_df_std = train_df.std()\n",
        "train_df_norm = (train_df - train_df_mean)/train_df_std\n",
        "\n",
        "# Calculate the Z-scores of each column in the test set.\n",
        "test_df_mean = test_df.mean()\n",
        "test_df_std = test_df.std()\n",
        "test_df_norm = (test_df - test_df_mean)/test_df_std\n",
        "\n",
        "print(\"Normalized the values.\")"
      ]
    },
    {
      "cell_type": "code",
      "source": [
        "train_df_norm"
      ],
      "metadata": {
        "id": "pyIVGqp4H-nk",
        "colab": {
          "base_uri": "https://localhost:8080/",
          "height": 424
        },
        "outputId": "c3897b12-b9a8-414a-ec0e-de3c357b5f1a"
      },
      "execution_count": null,
      "outputs": [
        {
          "output_type": "execute_result",
          "data": {
            "text/plain": [
              "       longitude  latitude  housing_median_age  total_rooms  total_bedrooms  \\\n",
              "13854       -1.2       0.8                -0.3         -0.3            -0.4   \n",
              "11909       -0.9       1.1                -2.0         -0.1            -0.4   \n",
              "9012         0.3      -0.4                -0.8          0.3             0.5   \n",
              "15340       -1.4       1.1                -0.7          0.4             0.2   \n",
              "1000         1.2      -1.1                -0.8          0.4             0.3   \n",
              "...          ...       ...                 ...          ...             ...   \n",
              "933          1.2      -1.2                -1.2          0.6             0.8   \n",
              "5091         0.7      -0.8                 0.5         -0.9            -1.0   \n",
              "8174         0.6      -0.8                 1.0         -0.8            -0.9   \n",
              "6321         0.7      -0.8                 1.2         -0.7            -0.7   \n",
              "14659       -1.3       1.1                -1.5          1.1             0.7   \n",
              "\n",
              "       population  households  median_income  median_house_value  \n",
              "13854        -0.1        -0.3            0.5                 1.5  \n",
              "11909        -0.2        -0.3            0.9                -0.4  \n",
              "9012         -0.1         0.1           -0.5                -0.8  \n",
              "15340         0.1         0.2            0.3                 0.2  \n",
              "1000          0.6         0.3           -0.3                -0.3  \n",
              "...           ...         ...            ...                 ...  \n",
              "933           0.5         0.9           -0.2                -0.6  \n",
              "5091         -0.9        -1.0           -0.0                -0.2  \n",
              "8174         -0.9        -0.9            1.5                 2.5  \n",
              "6321         -0.6        -0.7           -1.0                -1.0  \n",
              "14659         0.6         0.8            0.8                -0.0  \n",
              "\n",
              "[17000 rows x 9 columns]"
            ],
            "text/html": [
              "\n",
              "  <div id=\"df-34515bd9-0f5f-4fc3-8a1f-b743af90dc84\">\n",
              "    <div class=\"colab-df-container\">\n",
              "      <div>\n",
              "<style scoped>\n",
              "    .dataframe tbody tr th:only-of-type {\n",
              "        vertical-align: middle;\n",
              "    }\n",
              "\n",
              "    .dataframe tbody tr th {\n",
              "        vertical-align: top;\n",
              "    }\n",
              "\n",
              "    .dataframe thead th {\n",
              "        text-align: right;\n",
              "    }\n",
              "</style>\n",
              "<table border=\"1\" class=\"dataframe\">\n",
              "  <thead>\n",
              "    <tr style=\"text-align: right;\">\n",
              "      <th></th>\n",
              "      <th>longitude</th>\n",
              "      <th>latitude</th>\n",
              "      <th>housing_median_age</th>\n",
              "      <th>total_rooms</th>\n",
              "      <th>total_bedrooms</th>\n",
              "      <th>population</th>\n",
              "      <th>households</th>\n",
              "      <th>median_income</th>\n",
              "      <th>median_house_value</th>\n",
              "    </tr>\n",
              "  </thead>\n",
              "  <tbody>\n",
              "    <tr>\n",
              "      <th>13854</th>\n",
              "      <td>-1.2</td>\n",
              "      <td>0.8</td>\n",
              "      <td>-0.3</td>\n",
              "      <td>-0.3</td>\n",
              "      <td>-0.4</td>\n",
              "      <td>-0.1</td>\n",
              "      <td>-0.3</td>\n",
              "      <td>0.5</td>\n",
              "      <td>1.5</td>\n",
              "    </tr>\n",
              "    <tr>\n",
              "      <th>11909</th>\n",
              "      <td>-0.9</td>\n",
              "      <td>1.1</td>\n",
              "      <td>-2.0</td>\n",
              "      <td>-0.1</td>\n",
              "      <td>-0.4</td>\n",
              "      <td>-0.2</td>\n",
              "      <td>-0.3</td>\n",
              "      <td>0.9</td>\n",
              "      <td>-0.4</td>\n",
              "    </tr>\n",
              "    <tr>\n",
              "      <th>9012</th>\n",
              "      <td>0.3</td>\n",
              "      <td>-0.4</td>\n",
              "      <td>-0.8</td>\n",
              "      <td>0.3</td>\n",
              "      <td>0.5</td>\n",
              "      <td>-0.1</td>\n",
              "      <td>0.1</td>\n",
              "      <td>-0.5</td>\n",
              "      <td>-0.8</td>\n",
              "    </tr>\n",
              "    <tr>\n",
              "      <th>15340</th>\n",
              "      <td>-1.4</td>\n",
              "      <td>1.1</td>\n",
              "      <td>-0.7</td>\n",
              "      <td>0.4</td>\n",
              "      <td>0.2</td>\n",
              "      <td>0.1</td>\n",
              "      <td>0.2</td>\n",
              "      <td>0.3</td>\n",
              "      <td>0.2</td>\n",
              "    </tr>\n",
              "    <tr>\n",
              "      <th>1000</th>\n",
              "      <td>1.2</td>\n",
              "      <td>-1.1</td>\n",
              "      <td>-0.8</td>\n",
              "      <td>0.4</td>\n",
              "      <td>0.3</td>\n",
              "      <td>0.6</td>\n",
              "      <td>0.3</td>\n",
              "      <td>-0.3</td>\n",
              "      <td>-0.3</td>\n",
              "    </tr>\n",
              "    <tr>\n",
              "      <th>...</th>\n",
              "      <td>...</td>\n",
              "      <td>...</td>\n",
              "      <td>...</td>\n",
              "      <td>...</td>\n",
              "      <td>...</td>\n",
              "      <td>...</td>\n",
              "      <td>...</td>\n",
              "      <td>...</td>\n",
              "      <td>...</td>\n",
              "    </tr>\n",
              "    <tr>\n",
              "      <th>933</th>\n",
              "      <td>1.2</td>\n",
              "      <td>-1.2</td>\n",
              "      <td>-1.2</td>\n",
              "      <td>0.6</td>\n",
              "      <td>0.8</td>\n",
              "      <td>0.5</td>\n",
              "      <td>0.9</td>\n",
              "      <td>-0.2</td>\n",
              "      <td>-0.6</td>\n",
              "    </tr>\n",
              "    <tr>\n",
              "      <th>5091</th>\n",
              "      <td>0.7</td>\n",
              "      <td>-0.8</td>\n",
              "      <td>0.5</td>\n",
              "      <td>-0.9</td>\n",
              "      <td>-1.0</td>\n",
              "      <td>-0.9</td>\n",
              "      <td>-1.0</td>\n",
              "      <td>-0.0</td>\n",
              "      <td>-0.2</td>\n",
              "    </tr>\n",
              "    <tr>\n",
              "      <th>8174</th>\n",
              "      <td>0.6</td>\n",
              "      <td>-0.8</td>\n",
              "      <td>1.0</td>\n",
              "      <td>-0.8</td>\n",
              "      <td>-0.9</td>\n",
              "      <td>-0.9</td>\n",
              "      <td>-0.9</td>\n",
              "      <td>1.5</td>\n",
              "      <td>2.5</td>\n",
              "    </tr>\n",
              "    <tr>\n",
              "      <th>6321</th>\n",
              "      <td>0.7</td>\n",
              "      <td>-0.8</td>\n",
              "      <td>1.2</td>\n",
              "      <td>-0.7</td>\n",
              "      <td>-0.7</td>\n",
              "      <td>-0.6</td>\n",
              "      <td>-0.7</td>\n",
              "      <td>-1.0</td>\n",
              "      <td>-1.0</td>\n",
              "    </tr>\n",
              "    <tr>\n",
              "      <th>14659</th>\n",
              "      <td>-1.3</td>\n",
              "      <td>1.1</td>\n",
              "      <td>-1.5</td>\n",
              "      <td>1.1</td>\n",
              "      <td>0.7</td>\n",
              "      <td>0.6</td>\n",
              "      <td>0.8</td>\n",
              "      <td>0.8</td>\n",
              "      <td>-0.0</td>\n",
              "    </tr>\n",
              "  </tbody>\n",
              "</table>\n",
              "<p>17000 rows × 9 columns</p>\n",
              "</div>\n",
              "      <button class=\"colab-df-convert\" onclick=\"convertToInteractive('df-34515bd9-0f5f-4fc3-8a1f-b743af90dc84')\"\n",
              "              title=\"Convert this dataframe to an interactive table.\"\n",
              "              style=\"display:none;\">\n",
              "        \n",
              "  <svg xmlns=\"http://www.w3.org/2000/svg\" height=\"24px\"viewBox=\"0 0 24 24\"\n",
              "       width=\"24px\">\n",
              "    <path d=\"M0 0h24v24H0V0z\" fill=\"none\"/>\n",
              "    <path d=\"M18.56 5.44l.94 2.06.94-2.06 2.06-.94-2.06-.94-.94-2.06-.94 2.06-2.06.94zm-11 1L8.5 8.5l.94-2.06 2.06-.94-2.06-.94L8.5 2.5l-.94 2.06-2.06.94zm10 10l.94 2.06.94-2.06 2.06-.94-2.06-.94-.94-2.06-.94 2.06-2.06.94z\"/><path d=\"M17.41 7.96l-1.37-1.37c-.4-.4-.92-.59-1.43-.59-.52 0-1.04.2-1.43.59L10.3 9.45l-7.72 7.72c-.78.78-.78 2.05 0 2.83L4 21.41c.39.39.9.59 1.41.59.51 0 1.02-.2 1.41-.59l7.78-7.78 2.81-2.81c.8-.78.8-2.07 0-2.86zM5.41 20L4 18.59l7.72-7.72 1.47 1.35L5.41 20z\"/>\n",
              "  </svg>\n",
              "      </button>\n",
              "      \n",
              "  <style>\n",
              "    .colab-df-container {\n",
              "      display:flex;\n",
              "      flex-wrap:wrap;\n",
              "      gap: 12px;\n",
              "    }\n",
              "\n",
              "    .colab-df-convert {\n",
              "      background-color: #E8F0FE;\n",
              "      border: none;\n",
              "      border-radius: 50%;\n",
              "      cursor: pointer;\n",
              "      display: none;\n",
              "      fill: #1967D2;\n",
              "      height: 32px;\n",
              "      padding: 0 0 0 0;\n",
              "      width: 32px;\n",
              "    }\n",
              "\n",
              "    .colab-df-convert:hover {\n",
              "      background-color: #E2EBFA;\n",
              "      box-shadow: 0px 1px 2px rgba(60, 64, 67, 0.3), 0px 1px 3px 1px rgba(60, 64, 67, 0.15);\n",
              "      fill: #174EA6;\n",
              "    }\n",
              "\n",
              "    [theme=dark] .colab-df-convert {\n",
              "      background-color: #3B4455;\n",
              "      fill: #D2E3FC;\n",
              "    }\n",
              "\n",
              "    [theme=dark] .colab-df-convert:hover {\n",
              "      background-color: #434B5C;\n",
              "      box-shadow: 0px 1px 3px 1px rgba(0, 0, 0, 0.15);\n",
              "      filter: drop-shadow(0px 1px 2px rgba(0, 0, 0, 0.3));\n",
              "      fill: #FFFFFF;\n",
              "    }\n",
              "  </style>\n",
              "\n",
              "      <script>\n",
              "        const buttonEl =\n",
              "          document.querySelector('#df-34515bd9-0f5f-4fc3-8a1f-b743af90dc84 button.colab-df-convert');\n",
              "        buttonEl.style.display =\n",
              "          google.colab.kernel.accessAllowed ? 'block' : 'none';\n",
              "\n",
              "        async function convertToInteractive(key) {\n",
              "          const element = document.querySelector('#df-34515bd9-0f5f-4fc3-8a1f-b743af90dc84');\n",
              "          const dataTable =\n",
              "            await google.colab.kernel.invokeFunction('convertToInteractive',\n",
              "                                                     [key], {});\n",
              "          if (!dataTable) return;\n",
              "\n",
              "          const docLinkHtml = 'Like what you see? Visit the ' +\n",
              "            '<a target=\"_blank\" href=https://colab.research.google.com/notebooks/data_table.ipynb>data table notebook</a>'\n",
              "            + ' to learn more about interactive tables.';\n",
              "          element.innerHTML = '';\n",
              "          dataTable['output_type'] = 'display_data';\n",
              "          await google.colab.output.renderOutput(dataTable, element);\n",
              "          const docLink = document.createElement('div');\n",
              "          docLink.innerHTML = docLinkHtml;\n",
              "          element.appendChild(docLink);\n",
              "        }\n",
              "      </script>\n",
              "    </div>\n",
              "  </div>\n",
              "  "
            ]
          },
          "metadata": {},
          "execution_count": 7
        }
      ]
    },
    {
      "cell_type": "code",
      "source": [
        "train_df_norm.describe()"
      ],
      "metadata": {
        "id": "xUvYWPcB7C7l",
        "colab": {
          "base_uri": "https://localhost:8080/",
          "height": 300
        },
        "outputId": "5a63b831-9420-4ef6-a8df-0fa93471d59d"
      },
      "execution_count": null,
      "outputs": [
        {
          "output_type": "execute_result",
          "data": {
            "text/plain": [
              "       longitude  latitude  housing_median_age  total_rooms  total_bedrooms  \\\n",
              "count    17000.0   17000.0             17000.0      17000.0         17000.0   \n",
              "mean         0.0      -0.0                -0.0         -0.0            -0.0   \n",
              "std          1.0       1.0                 1.0          1.0             1.0   \n",
              "min         -2.4      -1.4                -2.2         -1.2            -1.3   \n",
              "25%         -1.1      -0.8                -0.8         -0.5            -0.6   \n",
              "50%          0.5      -0.6                 0.0         -0.2            -0.3   \n",
              "75%          0.8       1.0                 0.7          0.2             0.3   \n",
              "max          2.6       3.0                 1.9         16.2            14.0   \n",
              "\n",
              "       population  households  median_income  median_house_value  \n",
              "count     17000.0     17000.0        17000.0             17000.0  \n",
              "mean          0.0         0.0            0.0                 0.0  \n",
              "std           1.0         1.0            1.0                 1.0  \n",
              "min          -1.2        -1.3           -1.8                -1.7  \n",
              "25%          -0.6        -0.6           -0.7                -0.8  \n",
              "50%          -0.2        -0.2           -0.2                -0.2  \n",
              "75%           0.3         0.3            0.5                 0.5  \n",
              "max          29.8        14.5            5.8                 2.5  "
            ],
            "text/html": [
              "\n",
              "  <div id=\"df-c0efd480-5feb-4ebd-922a-95cb229eee5b\">\n",
              "    <div class=\"colab-df-container\">\n",
              "      <div>\n",
              "<style scoped>\n",
              "    .dataframe tbody tr th:only-of-type {\n",
              "        vertical-align: middle;\n",
              "    }\n",
              "\n",
              "    .dataframe tbody tr th {\n",
              "        vertical-align: top;\n",
              "    }\n",
              "\n",
              "    .dataframe thead th {\n",
              "        text-align: right;\n",
              "    }\n",
              "</style>\n",
              "<table border=\"1\" class=\"dataframe\">\n",
              "  <thead>\n",
              "    <tr style=\"text-align: right;\">\n",
              "      <th></th>\n",
              "      <th>longitude</th>\n",
              "      <th>latitude</th>\n",
              "      <th>housing_median_age</th>\n",
              "      <th>total_rooms</th>\n",
              "      <th>total_bedrooms</th>\n",
              "      <th>population</th>\n",
              "      <th>households</th>\n",
              "      <th>median_income</th>\n",
              "      <th>median_house_value</th>\n",
              "    </tr>\n",
              "  </thead>\n",
              "  <tbody>\n",
              "    <tr>\n",
              "      <th>count</th>\n",
              "      <td>17000.0</td>\n",
              "      <td>17000.0</td>\n",
              "      <td>17000.0</td>\n",
              "      <td>17000.0</td>\n",
              "      <td>17000.0</td>\n",
              "      <td>17000.0</td>\n",
              "      <td>17000.0</td>\n",
              "      <td>17000.0</td>\n",
              "      <td>17000.0</td>\n",
              "    </tr>\n",
              "    <tr>\n",
              "      <th>mean</th>\n",
              "      <td>0.0</td>\n",
              "      <td>-0.0</td>\n",
              "      <td>-0.0</td>\n",
              "      <td>-0.0</td>\n",
              "      <td>-0.0</td>\n",
              "      <td>0.0</td>\n",
              "      <td>0.0</td>\n",
              "      <td>0.0</td>\n",
              "      <td>0.0</td>\n",
              "    </tr>\n",
              "    <tr>\n",
              "      <th>std</th>\n",
              "      <td>1.0</td>\n",
              "      <td>1.0</td>\n",
              "      <td>1.0</td>\n",
              "      <td>1.0</td>\n",
              "      <td>1.0</td>\n",
              "      <td>1.0</td>\n",
              "      <td>1.0</td>\n",
              "      <td>1.0</td>\n",
              "      <td>1.0</td>\n",
              "    </tr>\n",
              "    <tr>\n",
              "      <th>min</th>\n",
              "      <td>-2.4</td>\n",
              "      <td>-1.4</td>\n",
              "      <td>-2.2</td>\n",
              "      <td>-1.2</td>\n",
              "      <td>-1.3</td>\n",
              "      <td>-1.2</td>\n",
              "      <td>-1.3</td>\n",
              "      <td>-1.8</td>\n",
              "      <td>-1.7</td>\n",
              "    </tr>\n",
              "    <tr>\n",
              "      <th>25%</th>\n",
              "      <td>-1.1</td>\n",
              "      <td>-0.8</td>\n",
              "      <td>-0.8</td>\n",
              "      <td>-0.5</td>\n",
              "      <td>-0.6</td>\n",
              "      <td>-0.6</td>\n",
              "      <td>-0.6</td>\n",
              "      <td>-0.7</td>\n",
              "      <td>-0.8</td>\n",
              "    </tr>\n",
              "    <tr>\n",
              "      <th>50%</th>\n",
              "      <td>0.5</td>\n",
              "      <td>-0.6</td>\n",
              "      <td>0.0</td>\n",
              "      <td>-0.2</td>\n",
              "      <td>-0.3</td>\n",
              "      <td>-0.2</td>\n",
              "      <td>-0.2</td>\n",
              "      <td>-0.2</td>\n",
              "      <td>-0.2</td>\n",
              "    </tr>\n",
              "    <tr>\n",
              "      <th>75%</th>\n",
              "      <td>0.8</td>\n",
              "      <td>1.0</td>\n",
              "      <td>0.7</td>\n",
              "      <td>0.2</td>\n",
              "      <td>0.3</td>\n",
              "      <td>0.3</td>\n",
              "      <td>0.3</td>\n",
              "      <td>0.5</td>\n",
              "      <td>0.5</td>\n",
              "    </tr>\n",
              "    <tr>\n",
              "      <th>max</th>\n",
              "      <td>2.6</td>\n",
              "      <td>3.0</td>\n",
              "      <td>1.9</td>\n",
              "      <td>16.2</td>\n",
              "      <td>14.0</td>\n",
              "      <td>29.8</td>\n",
              "      <td>14.5</td>\n",
              "      <td>5.8</td>\n",
              "      <td>2.5</td>\n",
              "    </tr>\n",
              "  </tbody>\n",
              "</table>\n",
              "</div>\n",
              "      <button class=\"colab-df-convert\" onclick=\"convertToInteractive('df-c0efd480-5feb-4ebd-922a-95cb229eee5b')\"\n",
              "              title=\"Convert this dataframe to an interactive table.\"\n",
              "              style=\"display:none;\">\n",
              "        \n",
              "  <svg xmlns=\"http://www.w3.org/2000/svg\" height=\"24px\"viewBox=\"0 0 24 24\"\n",
              "       width=\"24px\">\n",
              "    <path d=\"M0 0h24v24H0V0z\" fill=\"none\"/>\n",
              "    <path d=\"M18.56 5.44l.94 2.06.94-2.06 2.06-.94-2.06-.94-.94-2.06-.94 2.06-2.06.94zm-11 1L8.5 8.5l.94-2.06 2.06-.94-2.06-.94L8.5 2.5l-.94 2.06-2.06.94zm10 10l.94 2.06.94-2.06 2.06-.94-2.06-.94-.94-2.06-.94 2.06-2.06.94z\"/><path d=\"M17.41 7.96l-1.37-1.37c-.4-.4-.92-.59-1.43-.59-.52 0-1.04.2-1.43.59L10.3 9.45l-7.72 7.72c-.78.78-.78 2.05 0 2.83L4 21.41c.39.39.9.59 1.41.59.51 0 1.02-.2 1.41-.59l7.78-7.78 2.81-2.81c.8-.78.8-2.07 0-2.86zM5.41 20L4 18.59l7.72-7.72 1.47 1.35L5.41 20z\"/>\n",
              "  </svg>\n",
              "      </button>\n",
              "      \n",
              "  <style>\n",
              "    .colab-df-container {\n",
              "      display:flex;\n",
              "      flex-wrap:wrap;\n",
              "      gap: 12px;\n",
              "    }\n",
              "\n",
              "    .colab-df-convert {\n",
              "      background-color: #E8F0FE;\n",
              "      border: none;\n",
              "      border-radius: 50%;\n",
              "      cursor: pointer;\n",
              "      display: none;\n",
              "      fill: #1967D2;\n",
              "      height: 32px;\n",
              "      padding: 0 0 0 0;\n",
              "      width: 32px;\n",
              "    }\n",
              "\n",
              "    .colab-df-convert:hover {\n",
              "      background-color: #E2EBFA;\n",
              "      box-shadow: 0px 1px 2px rgba(60, 64, 67, 0.3), 0px 1px 3px 1px rgba(60, 64, 67, 0.15);\n",
              "      fill: #174EA6;\n",
              "    }\n",
              "\n",
              "    [theme=dark] .colab-df-convert {\n",
              "      background-color: #3B4455;\n",
              "      fill: #D2E3FC;\n",
              "    }\n",
              "\n",
              "    [theme=dark] .colab-df-convert:hover {\n",
              "      background-color: #434B5C;\n",
              "      box-shadow: 0px 1px 3px 1px rgba(0, 0, 0, 0.15);\n",
              "      filter: drop-shadow(0px 1px 2px rgba(0, 0, 0, 0.3));\n",
              "      fill: #FFFFFF;\n",
              "    }\n",
              "  </style>\n",
              "\n",
              "      <script>\n",
              "        const buttonEl =\n",
              "          document.querySelector('#df-c0efd480-5feb-4ebd-922a-95cb229eee5b button.colab-df-convert');\n",
              "        buttonEl.style.display =\n",
              "          google.colab.kernel.accessAllowed ? 'block' : 'none';\n",
              "\n",
              "        async function convertToInteractive(key) {\n",
              "          const element = document.querySelector('#df-c0efd480-5feb-4ebd-922a-95cb229eee5b');\n",
              "          const dataTable =\n",
              "            await google.colab.kernel.invokeFunction('convertToInteractive',\n",
              "                                                     [key], {});\n",
              "          if (!dataTable) return;\n",
              "\n",
              "          const docLinkHtml = 'Like what you see? Visit the ' +\n",
              "            '<a target=\"_blank\" href=https://colab.research.google.com/notebooks/data_table.ipynb>data table notebook</a>'\n",
              "            + ' to learn more about interactive tables.';\n",
              "          element.innerHTML = '';\n",
              "          dataTable['output_type'] = 'display_data';\n",
              "          await google.colab.output.renderOutput(dataTable, element);\n",
              "          const docLink = document.createElement('div');\n",
              "          docLink.innerHTML = docLinkHtml;\n",
              "          element.appendChild(docLink);\n",
              "        }\n",
              "      </script>\n",
              "    </div>\n",
              "  </div>\n",
              "  "
            ]
          },
          "metadata": {},
          "execution_count": 8
        }
      ]
    },
    {
      "cell_type": "markdown",
      "metadata": {
        "id": "b9ehCgIRjTxy"
      },
      "source": [
        "## Represent data\n",
        "\n",
        "The following code cell creates a feature layer containing three features:\n",
        "\n",
        "* `latitude` X `longitude` (a feature cross)\n",
        "* `median_income`\n",
        "* `population`\n",
        "\n",
        "This code cell specifies the features that you'll ultimately train the model on and how each of those features will be represented. The transformations (collected in `my_feature_layer`) don't actually get applied until you pass a DataFrame to it, which will happen when we train the model. "
      ]
    },
    {
      "cell_type": "code",
      "source": [
        "plt.scatter(train_df[\"latitude\"], train_df[\"median_house_value\"])"
      ],
      "metadata": {
        "id": "URWif05OvqTp",
        "colab": {
          "base_uri": "https://localhost:8080/"
        },
        "outputId": "fba36100-3e1f-4af9-b8c1-4bb09be5e307"
      },
      "execution_count": null,
      "outputs": [
        {
          "output_type": "execute_result",
          "data": {
            "text/plain": [
              "<matplotlib.collections.PathCollection at 0x7faa1f05a370>"
            ]
          },
          "metadata": {},
          "execution_count": 9
        },
        {
          "output_type": "display_data",
          "data": {
            "text/plain": [
              "<Figure size 432x288 with 1 Axes>"
            ],
            "image/png": "[encoded data removed]"
          },
          "metadata": {
            "needs_background": "light"
          }
        }
      ]
    },
    {
      "cell_type": "code",
      "execution_count": null,
      "metadata": {
        "id": "8EkNAQhnjSu-"
      },
      "outputs": [],
      "source": [
        "# Create an empty list that will eventually hold all created feature columns.\n",
        "feature_columns = []\n",
        "\n",
        "# We scaled all the columns, including latitude and longitude, into their\n",
        "# Z scores. So, instead of picking a resolution in degrees, we're going\n",
        "# to use resolution_in_Zs.  A resolution_in_Zs of 1 corresponds to \n",
        "# a full standard deviation. \n",
        "resolution_in_Zs = 0.3  # 3/10 of a standard deviation.\n",
        "\n",
        "# Create a bucket feature column for latitude.\n",
        "latitude_as_a_numeric_column = tf.feature_column.numeric_column(\"latitude\")\n",
        "latitude_boundaries = list(np.arange(int(min(train_df_norm['latitude'])), \n",
        "                                     int(max(train_df_norm['latitude'])), \n",
        "                                     resolution_in_Zs))\n",
        "latitude = tf.feature_column.bucketized_column(latitude_as_a_numeric_column, latitude_boundaries)\n",
        "\n",
        "# Create a bucket feature column for longitude.\n",
        "longitude_as_a_numeric_column = tf.feature_column.numeric_column(\"longitude\")\n",
        "longitude_boundaries = list(np.arange(int(min(train_df_norm['longitude'])), \n",
        "                                      int(max(train_df_norm['longitude'])), \n",
        "                                      resolution_in_Zs))\n",
        "longitude = tf.feature_column.bucketized_column(longitude_as_a_numeric_column, \n",
        "                                                longitude_boundaries)\n",
        "\n",
        "# Create a feature cross of latitude and longitude.\n",
        "latitude_x_longitude = tf.feature_column.crossed_column([latitude, longitude], hash_bucket_size=100)\n",
        "crossed_feature = tf.feature_column.indicator_column(latitude_x_longitude)\n",
        "feature_columns.append(crossed_feature)  \n",
        "\n",
        "# Represent median_income as a floating-point value.\n",
        "median_income = tf.feature_column.numeric_column(\"median_income\")\n",
        "feature_columns.append(median_income)\n",
        "\n",
        "# Represent population as a floating-point value.\n",
        "population = tf.feature_column.numeric_column(\"population\")\n",
        "feature_columns.append(population)\n",
        "\n",
        "# Convert the list of feature columns into a layer that will later be fed into\n",
        "# the model. \n",
        "my_feature_layer = tf.keras.layers.DenseFeatures(feature_columns)"
      ]
    },
    {
      "cell_type": "markdown",
      "metadata": {
        "id": "Ak_TMAzGOIFq"
      },
      "source": [
        "## Build a linear regression model as a baseline\n",
        "\n",
        "Before creating a deep neural net, find a [baseline](https://developers.google.com/machine-learning/glossary/#baseline) loss by running a simple linear regression model that uses the feature layer you just created. \n"
      ]
    },
    {
      "cell_type": "code",
      "execution_count": null,
      "metadata": {
        "id": "QF0BFRXTOeR3",
        "colab": {
          "base_uri": "https://localhost:8080/"
        },
        "outputId": "b94aad09-292a-4ee2-ec71-fc069b600f73"
      },
      "outputs": [
        {
          "output_type": "stream",
          "name": "stdout",
          "text": [
            "Defined the plot_the_loss_curve function.\n"
          ]
        }
      ],
      "source": [
        "#@title Define the plotting function.\n",
        "\n",
        "def plot_the_loss_curve(epochs, mse):\n",
        "  \"\"\"Plot a curve of loss vs. epoch.\"\"\"\n",
        "\n",
        "  plt.figure()\n",
        "  plt.xlabel(\"Epoch\")\n",
        "  plt.ylabel(\"Mean Squared Error\")\n",
        "\n",
        "  plt.plot(epochs, mse, label=\"Loss\")\n",
        "  plt.legend()\n",
        "  plt.ylim([mse.min()*0.95, mse.max() * 1.03])\n",
        "  plt.show()  \n",
        "\n",
        "print(\"Defined the plot_the_loss_curve function.\")"
      ]
    },
    {
      "cell_type": "code",
      "execution_count": null,
      "metadata": {
        "id": "RW4Qe710LgnG",
        "colab": {
          "base_uri": "https://localhost:8080/"
        },
        "outputId": "8f9fd33f-450d-4ac2-9f93-59e83a2df119"
      },
      "outputs": [
        {
          "output_type": "stream",
          "name": "stdout",
          "text": [
            "Defined the create_model and train_model functions.\n"
          ]
        }
      ],
      "source": [
        "#@title Define functions to create and train a linear regression model\n",
        "def create_model(my_learning_rate, feature_layer):\n",
        "  \"\"\"Create and compile a simple linear regression model.\"\"\"\n",
        "  # Most simple tf.keras models are sequential.\n",
        "  model = tf.keras.models.Sequential()\n",
        "\n",
        "  # Add the layer containing the feature columns to the model.\n",
        "  model.add(feature_layer)\n",
        "\n",
        "  # Add one linear layer to the model to yield a simple linear regressor.\n",
        "  model.add(tf.keras.layers.Dense(units=1))\n",
        "\n",
        "  # Construct the layers into a model that TensorFlow can execute.\n",
        "  model.compile(optimizer=tf.keras.optimizers.RMSprop(lr=my_learning_rate),\n",
        "                loss=\"mean_squared_error\",\n",
        "                metrics=[tf.keras.metrics.MeanSquaredError()])\n",
        "\n",
        "  return model           \n",
        "\n",
        "\n",
        "def train_model(model, dataset, epochs, batch_size, label_name):\n",
        "  \"\"\"Feed a dataset into the model in order to train it.\"\"\"\n",
        "\n",
        "  # Split the dataset into features and label.\n",
        "  features = {name:np.array(value) for name, value in dataset.items()}\n",
        "  label = np.array(features.pop(label_name))\n",
        "  history = model.fit(x=features, y=label, batch_size=batch_size,\n",
        "                      epochs=epochs, shuffle=True)\n",
        "\n",
        "  # Get details that will be useful for plotting the loss curve.\n",
        "  epochs = history.epoch\n",
        "  hist = pd.DataFrame(history.history)\n",
        "  rmse = hist[\"mean_squared_error\"]\n",
        "\n",
        "  return epochs, rmse   \n",
        "\n",
        "print(\"Defined the create_model and train_model functions.\")"
      ]
    },
    {
      "cell_type": "markdown",
      "metadata": {
        "id": "f47LmxF5X_pu"
      },
      "source": [
        "Run the following code cell to invoke the functions defined in the preceding two code cells. (Ignore the warning messages.)\n",
        "\n",
        "**Note:** Because we've scaled all the input data, **including the label**, the resulting loss values will be *much less* than previous models. \n",
        "\n",
        "**Note:** Depending on the version of TensorFlow, running this cell might generate WARNING messages. Please ignore these warnings. "
      ]
    },
    {
      "cell_type": "code",
      "execution_count": null,
      "metadata": {
        "id": "tsfE4ujDL4ju",
        "colab": {
          "base_uri": "https://localhost:8080/"
        },
        "outputId": "302bc97d-74da-4f21-c91c-3b0ca98945a1"
      },
      "outputs": [
        {
          "output_type": "stream",
          "name": "stderr",
          "text": [
            "WARNING:absl:`lr` is deprecated, please use `learning_rate` instead, or use the legacy optimizer, e.g.,tf.keras.optimizers.legacy.RMSprop.\n"
          ]
        },
        {
          "output_type": "stream",
          "name": "stdout",
          "text": [
            "Epoch 1/40\n"
          ]
        },
        {
          "output_type": "stream",
          "name": "stderr",
          "text": [
            "WARNING:tensorflow:Layers in a Sequential model should only have a single input tensor. Received: inputs={'longitude': <tf.Tensor 'IteratorGetNext:3' shape=(1000,) dtype=float32>, 'latitude': <tf.Tensor 'IteratorGetNext:2' shape=(1000,) dtype=float32>, 'housing_median_age': <tf.Tensor 'IteratorGetNext:1' shape=(1000,) dtype=float32>, 'total_rooms': <tf.Tensor 'IteratorGetNext:7' shape=(1000,) dtype=float32>, 'total_bedrooms': <tf.Tensor 'IteratorGetNext:6' shape=(1000,) dtype=float32>, 'population': <tf.Tensor 'IteratorGetNext:5' shape=(1000,) dtype=float32>, 'households': <tf.Tensor 'IteratorGetNext:0' shape=(1000,) dtype=float32>, 'median_income': <tf.Tensor 'IteratorGetNext:4' shape=(1000,) dtype=float32>}. Consider rewriting this model with the Functional API.\n",
            "WARNING:tensorflow:Layers in a Sequential model should only have a single input tensor. Received: inputs={'longitude': <tf.Tensor 'IteratorGetNext:3' shape=(1000,) dtype=float32>, 'latitude': <tf.Tensor 'IteratorGetNext:2' shape=(1000,) dtype=float32>, 'housing_median_age': <tf.Tensor 'IteratorGetNext:1' shape=(1000,) dtype=float32>, 'total_rooms': <tf.Tensor 'IteratorGetNext:7' shape=(1000,) dtype=float32>, 'total_bedrooms': <tf.Tensor 'IteratorGetNext:6' shape=(1000,) dtype=float32>, 'population': <tf.Tensor 'IteratorGetNext:5' shape=(1000,) dtype=float32>, 'households': <tf.Tensor 'IteratorGetNext:0' shape=(1000,) dtype=float32>, 'median_income': <tf.Tensor 'IteratorGetNext:4' shape=(1000,) dtype=float32>}. Consider rewriting this model with the Functional API.\n"
          ]
        },
        {
          "output_type": "stream",
          "name": "stdout",
          "text": [
            "17/17 [==============================] - 2s 11ms/step - loss: 1.1386 - mean_squared_error: 1.1386\n",
            "Epoch 2/40\n",
            "17/17 [==============================] - 0s 17ms/step - loss: 1.0881 - mean_squared_error: 1.0881\n",
            "Epoch 3/40\n",
            "17/17 [==============================] - 0s 14ms/step - loss: 1.0465 - mean_squared_error: 1.0465\n",
            "Epoch 4/40\n",
            "17/17 [==============================] - 0s 24ms/step - loss: 1.0079 - mean_squared_error: 1.0079\n",
            "Epoch 5/40\n",
            "17/17 [==============================] - 0s 18ms/step - loss: 0.9709 - mean_squared_error: 0.9709\n",
            "Epoch 6/40\n",
            "17/17 [==============================] - 0s 15ms/step - loss: 0.9353 - mean_squared_error: 0.9353\n",
            "Epoch 7/40\n",
            "17/17 [==============================] - 0s 10ms/step - loss: 0.9012 - mean_squared_error: 0.9012\n",
            "Epoch 8/40\n",
            "17/17 [==============================] - 0s 13ms/step - loss: 0.8682 - mean_squared_error: 0.8682\n",
            "Epoch 9/40\n",
            "17/17 [==============================] - 0s 7ms/step - loss: 0.8366 - mean_squared_error: 0.8366\n",
            "Epoch 10/40\n",
            "17/17 [==============================] - 0s 8ms/step - loss: 0.8060 - mean_squared_error: 0.8060\n",
            "Epoch 11/40\n",
            "17/17 [==============================] - 0s 7ms/step - loss: 0.7766 - mean_squared_error: 0.7766\n",
            "Epoch 12/40\n",
            "17/17 [==============================] - 0s 12ms/step - loss: 0.7484 - mean_squared_error: 0.7484\n",
            "Epoch 13/40\n",
            "17/17 [==============================] - 0s 7ms/step - loss: 0.7214 - mean_squared_error: 0.7214\n",
            "Epoch 14/40\n",
            "17/17 [==============================] - 0s 14ms/step - loss: 0.6956 - mean_squared_error: 0.6956\n",
            "Epoch 15/40\n",
            "17/17 [==============================] - 0s 12ms/step - loss: 0.6709 - mean_squared_error: 0.6709\n",
            "Epoch 16/40\n",
            "17/17 [==============================] - 0s 11ms/step - loss: 0.6475 - mean_squared_error: 0.6475\n",
            "Epoch 17/40\n",
            "17/17 [==============================] - 0s 15ms/step - loss: 0.6250 - mean_squared_error: 0.6250\n",
            "Epoch 18/40\n",
            "17/17 [==============================] - 0s 25ms/step - loss: 0.6038 - mean_squared_error: 0.6038\n",
            "Epoch 19/40\n",
            "17/17 [==============================] - 0s 13ms/step - loss: 0.5834 - mean_squared_error: 0.5834\n",
            "Epoch 20/40\n",
            "17/17 [==============================] - 0s 19ms/step - loss: 0.5642 - mean_squared_error: 0.5642\n",
            "Epoch 21/40\n",
            "17/17 [==============================] - 0s 10ms/step - loss: 0.5460 - mean_squared_error: 0.5460\n",
            "Epoch 22/40\n",
            "17/17 [==============================] - 0s 7ms/step - loss: 0.5288 - mean_squared_error: 0.5288\n",
            "Epoch 23/40\n",
            "17/17 [==============================] - 0s 9ms/step - loss: 0.5126 - mean_squared_error: 0.5126\n",
            "Epoch 24/40\n",
            "17/17 [==============================] - 0s 9ms/step - loss: 0.4974 - mean_squared_error: 0.4974\n",
            "Epoch 25/40\n",
            "17/17 [==============================] - 0s 12ms/step - loss: 0.4833 - mean_squared_error: 0.4833\n",
            "Epoch 26/40\n",
            "17/17 [==============================] - 0s 18ms/step - loss: 0.4702 - mean_squared_error: 0.4702\n",
            "Epoch 27/40\n",
            "17/17 [==============================] - 0s 11ms/step - loss: 0.4578 - mean_squared_error: 0.4578\n",
            "Epoch 28/40\n",
            "17/17 [==============================] - 0s 14ms/step - loss: 0.4464 - mean_squared_error: 0.4464\n",
            "Epoch 29/40\n",
            "17/17 [==============================] - 0s 11ms/step - loss: 0.4359 - mean_squared_error: 0.4359\n",
            "Epoch 30/40\n",
            "17/17 [==============================] - 0s 15ms/step - loss: 0.4263 - mean_squared_error: 0.4263\n",
            "Epoch 31/40\n",
            "17/17 [==============================] - 0s 16ms/step - loss: 0.4175 - mean_squared_error: 0.4175\n",
            "Epoch 32/40\n",
            "17/17 [==============================] - 0s 13ms/step - loss: 0.4095 - mean_squared_error: 0.4095\n",
            "Epoch 33/40\n",
            "17/17 [==============================] - 0s 13ms/step - loss: 0.4023 - mean_squared_error: 0.4023\n",
            "Epoch 34/40\n",
            "17/17 [==============================] - 0s 10ms/step - loss: 0.3959 - mean_squared_error: 0.3959\n",
            "Epoch 35/40\n",
            "17/17 [==============================] - 0s 12ms/step - loss: 0.3901 - mean_squared_error: 0.3901\n",
            "Epoch 36/40\n",
            "17/17 [==============================] - 0s 9ms/step - loss: 0.3851 - mean_squared_error: 0.3851\n",
            "Epoch 37/40\n",
            "17/17 [==============================] - 0s 5ms/step - loss: 0.3808 - mean_squared_error: 0.3808\n",
            "Epoch 38/40\n",
            "17/17 [==============================] - 0s 14ms/step - loss: 0.3771 - mean_squared_error: 0.3771\n",
            "Epoch 39/40\n",
            "17/17 [==============================] - 0s 12ms/step - loss: 0.3741 - mean_squared_error: 0.3741\n",
            "Epoch 40/40\n",
            "17/17 [==============================] - 0s 9ms/step - loss: 0.3716 - mean_squared_error: 0.3716\n"
          ]
        },
        {
          "output_type": "display_data",
          "data": {
            "text/plain": [
              "<Figure size 432x288 with 1 Axes>"
            ],
            "image/png": "[encoded data removed]"
          },
          "metadata": {
            "needs_background": "light"
          }
        },
        {
          "output_type": "stream",
          "name": "stdout",
          "text": [
            "\n",
            " Evaluate the linear regression model against the test set:\n"
          ]
        },
        {
          "output_type": "stream",
          "name": "stderr",
          "text": [
            "WARNING:tensorflow:Layers in a Sequential model should only have a single input tensor. Received: inputs={'longitude': <tf.Tensor 'IteratorGetNext:3' shape=(1000,) dtype=float32>, 'latitude': <tf.Tensor 'IteratorGetNext:2' shape=(1000,) dtype=float32>, 'housing_median_age': <tf.Tensor 'IteratorGetNext:1' shape=(1000,) dtype=float32>, 'total_rooms': <tf.Tensor 'IteratorGetNext:7' shape=(1000,) dtype=float32>, 'total_bedrooms': <tf.Tensor 'IteratorGetNext:6' shape=(1000,) dtype=float32>, 'population': <tf.Tensor 'IteratorGetNext:5' shape=(1000,) dtype=float32>, 'households': <tf.Tensor 'IteratorGetNext:0' shape=(1000,) dtype=float32>, 'median_income': <tf.Tensor 'IteratorGetNext:4' shape=(1000,) dtype=float32>}. Consider rewriting this model with the Functional API.\n"
          ]
        },
        {
          "output_type": "stream",
          "name": "stdout",
          "text": [
            "3/3 [==============================] - 0s 18ms/step - loss: 0.4016 - mean_squared_error: 0.4016\n"
          ]
        },
        {
          "output_type": "execute_result",
          "data": {
            "text/plain": [
              "[0.40163615345954895, 0.40163615345954895]"
            ]
          },
          "metadata": {},
          "execution_count": 13
        }
      ],
      "source": [
        "# The following variables are the hyperparameters.\n",
        "learning_rate = 0.01\n",
        "epochs = 40\n",
        "batch_size = 1000\n",
        "label_name = \"median_house_value\"\n",
        "\n",
        "# Establish the model's topography.\n",
        "my_model = create_model(learning_rate, my_feature_layer)\n",
        "\n",
        "# Train the model on the normalized training set.\n",
        "epochs, mse = train_model(my_model, train_df_norm, epochs, batch_size, label_name)\n",
        "plot_the_loss_curve(epochs, mse)\n",
        "\n",
        "test_features = {name:np.array(value) for name, value in test_df_norm.items()}\n",
        "test_label = np.array(test_features.pop(label_name)) # isolate the label\n",
        "print(\"\\n Evaluate the linear regression model against the test set:\")\n",
        "my_model.evaluate(x = test_features, y = test_label, batch_size=batch_size)"
      ]
    },
    {
      "cell_type": "markdown",
      "metadata": {
        "id": "3014ezH3C7jT"
      },
      "source": [
        "## Define a deep neural net model\n",
        "\n",
        "The `create_model` function defines the topography of the deep neural net, specifying the following:\n",
        "\n",
        "* The number of [layers](https://developers.google.com/machine-learning/glossary/#layer) in the deep neural net.\n",
        "* The number of [nodes](https://developers.google.com/machine-learning/glossary/#node) in each layer.\n",
        "\n",
        "The `create_model` function also defines the [activation function](https://developers.google.com/machine-learning/glossary/#activation_function) of each layer."
      ]
    },
    {
      "cell_type": "code",
      "execution_count": null,
      "metadata": {
        "cellView": "both",
        "id": "pedD5GhlDC-y"
      },
      "outputs": [],
      "source": [
        "def create_model(my_learning_rate, my_feature_layer,l1):\n",
        "  \"\"\"Create and compile a simple linear regression model.\"\"\"\n",
        "  # Most simple tf.keras models are sequential.\n",
        "  model = tf.keras.models.Sequential()\n",
        "\n",
        "  # Add the layer containing the feature columns to the model.\n",
        "  model.add(my_feature_layer)\n",
        "\n",
        "  # Describe the topography of the model by calling the tf.keras.layers.Dense\n",
        "  # method once for each layer. We've specified the following arguments:\n",
        "  #   * units specifies the number of nodes in this layer.\n",
        "  #   * activation specifies the activation function (Rectified Linear Unit).\n",
        "  #   * name is just a string that can be useful when debugging.\n",
        "\n",
        "  # Define the first hidden layer with 20 nodes.   \n",
        "\n",
        "  model.add(tf.keras.layers.Dense(units=20, \n",
        "                                activation='relu',\n",
        "                                kernel_regularizer=tf.keras.regularizers.l1(l=l1),\n",
        "                                name='Hidden1'))\n",
        "\n",
        "  \n",
        "  # Define the second hidden layer with 12 nodes. \n",
        "  model.add(tf.keras.layers.Dense(units=12, \n",
        "                                  activation='relu', \n",
        "                                  kernel_regularizer=tf.keras.regularizers.l1(l=l1),\n",
        "                                  name='Hidden2'))\n",
        "\n",
        "\n",
        "\n",
        "  # Define the output layer.\n",
        "  model.add(tf.keras.layers.Dense(units=1,  \n",
        "                                  name='Output'))                              \n",
        "  \n",
        "  model.compile(optimizer=tf.keras.optimizers.Adam(lr=my_learning_rate),\n",
        "                loss=\"mean_squared_error\",\n",
        "                metrics=[tf.keras.metrics.MeanSquaredError()])\n",
        "\n",
        "  return model"
      ]
    },
    {
      "cell_type": "markdown",
      "metadata": {
        "id": "YAVeJ3r_iK9r"
      },
      "source": [
        "## Task 3: Regularize the deep neural network\n",
        "\n",
        "Notice that the model's loss against the test set may be *much higher* than the loss against the training set.  In other words, the deep neural network may be [overfitting](https://developers.google.com/machine-learning/glossary/#overfitting) to the data in the training set.  To reduce overfitting, regularize the model. Several different ways to regularize a model, including:\n",
        "\n",
        "  * [L1 regularization](https://developers.google.com/machine-learning/glossary/#L1_regularization)\n",
        "  * [L2 regularization](https://developers.google.com/machine-learning/glossary/#L2_regularization)\n",
        "  * [Dropout regularization](https://developers.google.com/machine-learning/glossary/#dropout_regularization)\n",
        "\n",
        "Your task is to experiment with one or more regularization mechanisms to bring the test loss closer to the training loss (while still keeping test loss relatively low).  \n",
        "\n",
        "**Note:** When you add a regularization function to a model, you might need to tweak other hyperparameters. \n",
        "\n",
        "### Implementing L1 or L2 regularization\n",
        "\n",
        "To use L1 or L2 regularization on a hidden layer, specify the `kernel_regularizer` argument to [tf.keras.layers.Dense](https://www.tensorflow.org/api_docs/python/tf/keras/layers/Dense). Assign one of the following methods to this argument:\n",
        "\n",
        "* `tf.keras.regularizers.l1` for L1 regularization\n",
        "* `tf.keras.regularizers.l2` for L2 regularization\n",
        "\n",
        "Each of the preceding methods takes an `l` parameter, which adjusts the [regularization rate](https://developers.google.com/machine-learning/glossary/#regularization_rate). Assign a decimal value between 0 and 1.0 to `l`; the higher the decimal, the greater the regularization. For example, the following applies L2 regularization at a strength of 0.01. \n",
        "\n",
        "```\n",
        "model.add(tf.keras.layers.Dense(units=20, \n",
        "                                activation='relu',\n",
        "                                kernel_regularizer=tf.keras.regularizers.l2(l=0.01),\n",
        "                                name='Hidden1'))\n",
        "```\n",
        "\n",
        "### Implementing Dropout regularization\n",
        "\n",
        "You implement dropout regularization as a separate layer in the topography. For example, the following code demonstrates how to add a dropout regularization layer between the first hidden layer and the second hidden layer:\n",
        "\n",
        "```\n",
        "model.add(tf.keras.layers.Dense( *define first hidden layer*)\n",
        " \n",
        "model.add(tf.keras.layers.Dropout(rate=0.25))\n",
        "\n",
        "model.add(tf.keras.layers.Dense( *define second hidden layer*)\n",
        "```\n",
        "\n",
        "The `rate` parameter to [tf.keras.layers.Dropout](https://www.tensorflow.org/api_docs/python/tf/keras/layers/Dropout) specifies the fraction of nodes that the model should drop out during training. \n"
      ]
    },
    {
      "cell_type": "markdown",
      "metadata": {
        "id": "anH4A_yCcZx2"
      },
      "source": [
        "## Define a training function\n",
        "\n",
        "The `train_model` function trains the model from the input features and labels. The [tf.keras.Model.fit](https://www.tensorflow.org/api_docs/python/tf/keras/Sequential#fit) method performs the actual training. The `x` parameter of the `fit` method is very flexible, enabling you to pass feature data in a variety of ways. The following implementation passes a Python dictionary in which:\n",
        "\n",
        "* The *keys* are the names of each feature (for example, `longitude`, `latitude`, and so on).\n",
        "* The *value* of each key is a NumPy array containing the values of that feature. \n",
        "\n",
        "**Note:** Although you are passing *every* feature to `model.fit`, most of those values will be ignored. Only the features accessed by `my_feature_layer` will actually be used to train the model."
      ]
    },
    {
      "cell_type": "code",
      "execution_count": null,
      "metadata": {
        "id": "4jv_lJYTcrEF"
      },
      "outputs": [],
      "source": [
        "def train_model(model, dataset, epochs, label_name,\n",
        "                batch_size=None):\n",
        "  \"\"\"Train the model by feeding it data.\"\"\"\n",
        "\n",
        "  # Split the dataset into features and label.\n",
        "  features = {name:np.array(value) for name, value in dataset.items()}\n",
        "  label = np.array(features.pop(label_name))\n",
        "  history = model.fit(x=features, y=label, batch_size=batch_size,\n",
        "                      epochs=epochs, shuffle=True) \n",
        "\n",
        "  # The list of epochs is stored separately from the rest of history.\n",
        "  epochs = history.epoch\n",
        "  \n",
        "  # To track the progression of training, gather a snapshot\n",
        "  # of the model's mean squared error at each epoch. \n",
        "  hist = pd.DataFrame(history.history)\n",
        "  mse = hist[\"mean_squared_error\"]\n",
        "\n",
        "  return epochs, mse"
      ]
    },
    {
      "cell_type": "markdown",
      "metadata": {
        "id": "D-IXYVfvM4gD"
      },
      "source": [
        "## Call the functions to build and train a deep neural net\n",
        "\n",
        "Okay, it is time to actually train the deep neural net.  If time permits, experiment with the three hyperparameters to see if you can reduce the loss\n",
        "against the test set.\n"
      ]
    },
    {
      "cell_type": "code",
      "execution_count": null,
      "metadata": {
        "cellView": "both",
        "id": "nj3v5EKQFY8s",
        "colab": {
          "base_uri": "https://localhost:8080/"
        },
        "outputId": "b6d91af9-5b18-4f74-d00b-39977ebb5938"
      },
      "outputs": [
        {
          "output_type": "stream",
          "name": "stderr",
          "text": [
            "WARNING:absl:`lr` is deprecated, please use `learning_rate` instead, or use the legacy optimizer, e.g.,tf.keras.optimizers.legacy.Adam.\n"
          ]
        },
        {
          "output_type": "stream",
          "name": "stdout",
          "text": [
            "Epoch 1/20\n"
          ]
        },
        {
          "output_type": "stream",
          "name": "stderr",
          "text": [
            "WARNING:tensorflow:Layers in a Sequential model should only have a single input tensor. Received: inputs={'longitude': <tf.Tensor 'IteratorGetNext:3' shape=(1000,) dtype=float32>, 'latitude': <tf.Tensor 'IteratorGetNext:2' shape=(1000,) dtype=float32>, 'housing_median_age': <tf.Tensor 'IteratorGetNext:1' shape=(1000,) dtype=float32>, 'total_rooms': <tf.Tensor 'IteratorGetNext:7' shape=(1000,) dtype=float32>, 'total_bedrooms': <tf.Tensor 'IteratorGetNext:6' shape=(1000,) dtype=float32>, 'population': <tf.Tensor 'IteratorGetNext:5' shape=(1000,) dtype=float32>, 'households': <tf.Tensor 'IteratorGetNext:0' shape=(1000,) dtype=float32>, 'median_income': <tf.Tensor 'IteratorGetNext:4' shape=(1000,) dtype=float32>}. Consider rewriting this model with the Functional API.\n",
            "WARNING:tensorflow:Layers in a Sequential model should only have a single input tensor. Received: inputs={'longitude': <tf.Tensor 'IteratorGetNext:3' shape=(1000,) dtype=float32>, 'latitude': <tf.Tensor 'IteratorGetNext:2' shape=(1000,) dtype=float32>, 'housing_median_age': <tf.Tensor 'IteratorGetNext:1' shape=(1000,) dtype=float32>, 'total_rooms': <tf.Tensor 'IteratorGetNext:7' shape=(1000,) dtype=float32>, 'total_bedrooms': <tf.Tensor 'IteratorGetNext:6' shape=(1000,) dtype=float32>, 'population': <tf.Tensor 'IteratorGetNext:5' shape=(1000,) dtype=float32>, 'households': <tf.Tensor 'IteratorGetNext:0' shape=(1000,) dtype=float32>, 'median_income': <tf.Tensor 'IteratorGetNext:4' shape=(1000,) dtype=float32>}. Consider rewriting this model with the Functional API.\n"
          ]
        },
        {
          "output_type": "stream",
          "name": "stdout",
          "text": [
            "17/17 [==============================] - 1s 4ms/step - loss: 0.9803 - mean_squared_error: 0.9803\n",
            "Epoch 2/20\n",
            "17/17 [==============================] - 0s 4ms/step - loss: 0.7852 - mean_squared_error: 0.7852\n",
            "Epoch 3/20\n",
            "17/17 [==============================] - 0s 4ms/step - loss: 0.6145 - mean_squared_error: 0.6145\n",
            "Epoch 4/20\n",
            "17/17 [==============================] - 0s 4ms/step - loss: 0.4877 - mean_squared_error: 0.4877\n",
            "Epoch 5/20\n",
            "17/17 [==============================] - 0s 6ms/step - loss: 0.4171 - mean_squared_error: 0.4171\n",
            "Epoch 6/20\n",
            "17/17 [==============================] - 0s 7ms/step - loss: 0.3880 - mean_squared_error: 0.3880\n",
            "Epoch 7/20\n",
            "17/17 [==============================] - 0s 6ms/step - loss: 0.3712 - mean_squared_error: 0.3712\n",
            "Epoch 8/20\n",
            "17/17 [==============================] - 0s 7ms/step - loss: 0.3606 - mean_squared_error: 0.3606\n",
            "Epoch 9/20\n",
            "17/17 [==============================] - 0s 6ms/step - loss: 0.3536 - mean_squared_error: 0.3536\n",
            "Epoch 10/20\n",
            "17/17 [==============================] - 0s 6ms/step - loss: 0.3486 - mean_squared_error: 0.3486\n",
            "Epoch 11/20\n",
            "17/17 [==============================] - 0s 6ms/step - loss: 0.3450 - mean_squared_error: 0.3450\n",
            "Epoch 12/20\n",
            "17/17 [==============================] - 0s 6ms/step - loss: 0.3422 - mean_squared_error: 0.3422\n",
            "Epoch 13/20\n",
            "17/17 [==============================] - 0s 6ms/step - loss: 0.3402 - mean_squared_error: 0.3402\n",
            "Epoch 14/20\n",
            "17/17 [==============================] - 0s 6ms/step - loss: 0.3385 - mean_squared_error: 0.3385\n",
            "Epoch 15/20\n",
            "17/17 [==============================] - 0s 6ms/step - loss: 0.3375 - mean_squared_error: 0.3375\n",
            "Epoch 16/20\n",
            "17/17 [==============================] - 0s 6ms/step - loss: 0.3364 - mean_squared_error: 0.3364\n",
            "Epoch 17/20\n",
            "17/17 [==============================] - 0s 6ms/step - loss: 0.3356 - mean_squared_error: 0.3356\n",
            "Epoch 18/20\n",
            "17/17 [==============================] - 0s 6ms/step - loss: 0.3349 - mean_squared_error: 0.3349\n",
            "Epoch 19/20\n",
            "17/17 [==============================] - 0s 5ms/step - loss: 0.3341 - mean_squared_error: 0.3341\n",
            "Epoch 20/20\n",
            "17/17 [==============================] - 0s 6ms/step - loss: 0.3337 - mean_squared_error: 0.3337\n"
          ]
        },
        {
          "output_type": "stream",
          "name": "stderr",
          "text": [
            "WARNING:tensorflow:Layers in a Sequential model should only have a single input tensor. Received: inputs={'longitude': <tf.Tensor 'IteratorGetNext:3' shape=(1000,) dtype=float32>, 'latitude': <tf.Tensor 'IteratorGetNext:2' shape=(1000,) dtype=float32>, 'housing_median_age': <tf.Tensor 'IteratorGetNext:1' shape=(1000,) dtype=float32>, 'total_rooms': <tf.Tensor 'IteratorGetNext:7' shape=(1000,) dtype=float32>, 'total_bedrooms': <tf.Tensor 'IteratorGetNext:6' shape=(1000,) dtype=float32>, 'population': <tf.Tensor 'IteratorGetNext:5' shape=(1000,) dtype=float32>, 'households': <tf.Tensor 'IteratorGetNext:0' shape=(1000,) dtype=float32>, 'median_income': <tf.Tensor 'IteratorGetNext:4' shape=(1000,) dtype=float32>}. Consider rewriting this model with the Functional API.\n"
          ]
        },
        {
          "output_type": "stream",
          "name": "stdout",
          "text": [
            "\n",
            " Evaluate the new model against the test set:\n",
            "3/3 [==============================] - 0s 5ms/step - loss: 0.3715 - mean_squared_error: 0.3715\n"
          ]
        },
        {
          "output_type": "stream",
          "name": "stderr",
          "text": [
            "<ipython-input-18-c5767c3ae74f>:39: FutureWarning: The frame.append method is deprecated and will be removed from pandas in a future version. Use pandas.concat instead.\n",
            "  data = data.append(row, ignore_index=True)\n",
            "WARNING:absl:`lr` is deprecated, please use `learning_rate` instead, or use the legacy optimizer, e.g.,tf.keras.optimizers.legacy.Adam.\n"
          ]
        },
        {
          "output_type": "stream",
          "name": "stdout",
          "text": [
            "Epoch 1/20\n"
          ]
        },
        {
          "output_type": "stream",
          "name": "stderr",
          "text": [
            "WARNING:tensorflow:Layers in a Sequential model should only have a single input tensor. Received: inputs={'longitude': <tf.Tensor 'IteratorGetNext:3' shape=(1000,) dtype=float32>, 'latitude': <tf.Tensor 'IteratorGetNext:2' shape=(1000,) dtype=float32>, 'housing_median_age': <tf.Tensor 'IteratorGetNext:1' shape=(1000,) dtype=float32>, 'total_rooms': <tf.Tensor 'IteratorGetNext:7' shape=(1000,) dtype=float32>, 'total_bedrooms': <tf.Tensor 'IteratorGetNext:6' shape=(1000,) dtype=float32>, 'population': <tf.Tensor 'IteratorGetNext:5' shape=(1000,) dtype=float32>, 'households': <tf.Tensor 'IteratorGetNext:0' shape=(1000,) dtype=float32>, 'median_income': <tf.Tensor 'IteratorGetNext:4' shape=(1000,) dtype=float32>}. Consider rewriting this model with the Functional API.\n",
            "WARNING:tensorflow:Layers in a Sequential model should only have a single input tensor. Received: inputs={'longitude': <tf.Tensor 'IteratorGetNext:3' shape=(1000,) dtype=float32>, 'latitude': <tf.Tensor 'IteratorGetNext:2' shape=(1000,) dtype=float32>, 'housing_median_age': <tf.Tensor 'IteratorGetNext:1' shape=(1000,) dtype=float32>, 'total_rooms': <tf.Tensor 'IteratorGetNext:7' shape=(1000,) dtype=float32>, 'total_bedrooms': <tf.Tensor 'IteratorGetNext:6' shape=(1000,) dtype=float32>, 'population': <tf.Tensor 'IteratorGetNext:5' shape=(1000,) dtype=float32>, 'households': <tf.Tensor 'IteratorGetNext:0' shape=(1000,) dtype=float32>, 'median_income': <tf.Tensor 'IteratorGetNext:4' shape=(1000,) dtype=float32>}. Consider rewriting this model with the Functional API.\n"
          ]
        },
        {
          "output_type": "stream",
          "name": "stdout",
          "text": [
            "17/17 [==============================] - 1s 4ms/step - loss: 3.6352 - mean_squared_error: 1.0541\n",
            "Epoch 2/20\n",
            "17/17 [==============================] - 0s 4ms/step - loss: 3.1864 - mean_squared_error: 0.9426\n",
            "Epoch 3/20\n",
            "17/17 [==============================] - 0s 4ms/step - loss: 2.7801 - mean_squared_error: 0.8459\n",
            "Epoch 4/20\n",
            "17/17 [==============================] - 0s 5ms/step - loss: 2.4091 - mean_squared_error: 0.7566\n",
            "Epoch 5/20\n",
            "17/17 [==============================] - 0s 5ms/step - loss: 2.0764 - mean_squared_error: 0.6739\n",
            "Epoch 6/20\n",
            "17/17 [==============================] - 0s 4ms/step - loss: 1.7808 - mean_squared_error: 0.5992\n",
            "Epoch 7/20\n",
            "17/17 [==============================] - 0s 4ms/step - loss: 1.5291 - mean_squared_error: 0.5407\n",
            "Epoch 8/20\n",
            "17/17 [==============================] - 0s 4ms/step - loss: 1.3215 - mean_squared_error: 0.5025\n",
            "Epoch 9/20\n",
            "17/17 [==============================] - 0s 4ms/step - loss: 1.1535 - mean_squared_error: 0.4805\n",
            "Epoch 10/20\n",
            "17/17 [==============================] - 0s 4ms/step - loss: 1.0186 - mean_squared_error: 0.4676\n",
            "Epoch 11/20\n",
            "17/17 [==============================] - 0s 4ms/step - loss: 0.9114 - mean_squared_error: 0.4585\n",
            "Epoch 12/20\n",
            "17/17 [==============================] - 0s 4ms/step - loss: 0.8332 - mean_squared_error: 0.4518\n",
            "Epoch 13/20\n",
            "17/17 [==============================] - 0s 5ms/step - loss: 0.7819 - mean_squared_error: 0.4462\n",
            "Epoch 14/20\n",
            "17/17 [==============================] - 0s 5ms/step - loss: 0.7500 - mean_squared_error: 0.4409\n",
            "Epoch 15/20\n",
            "17/17 [==============================] - 0s 4ms/step - loss: 0.7237 - mean_squared_error: 0.4358\n",
            "Epoch 16/20\n",
            "17/17 [==============================] - 0s 4ms/step - loss: 0.7007 - mean_squared_error: 0.4311\n",
            "Epoch 17/20\n",
            "17/17 [==============================] - 0s 4ms/step - loss: 0.6805 - mean_squared_error: 0.4271\n",
            "Epoch 18/20\n",
            "17/17 [==============================] - 0s 4ms/step - loss: 0.6620 - mean_squared_error: 0.4237\n",
            "Epoch 19/20\n",
            "17/17 [==============================] - 0s 4ms/step - loss: 0.6448 - mean_squared_error: 0.4203\n",
            "Epoch 20/20\n",
            "17/17 [==============================] - 0s 4ms/step - loss: 0.6294 - mean_squared_error: 0.4168\n"
          ]
        },
        {
          "output_type": "stream",
          "name": "stderr",
          "text": [
            "WARNING:tensorflow:Layers in a Sequential model should only have a single input tensor. Received: inputs={'longitude': <tf.Tensor 'IteratorGetNext:3' shape=(1000,) dtype=float32>, 'latitude': <tf.Tensor 'IteratorGetNext:2' shape=(1000,) dtype=float32>, 'housing_median_age': <tf.Tensor 'IteratorGetNext:1' shape=(1000,) dtype=float32>, 'total_rooms': <tf.Tensor 'IteratorGetNext:7' shape=(1000,) dtype=float32>, 'total_bedrooms': <tf.Tensor 'IteratorGetNext:6' shape=(1000,) dtype=float32>, 'population': <tf.Tensor 'IteratorGetNext:5' shape=(1000,) dtype=float32>, 'households': <tf.Tensor 'IteratorGetNext:0' shape=(1000,) dtype=float32>, 'median_income': <tf.Tensor 'IteratorGetNext:4' shape=(1000,) dtype=float32>}. Consider rewriting this model with the Functional API.\n"
          ]
        },
        {
          "output_type": "stream",
          "name": "stdout",
          "text": [
            "\n",
            " Evaluate the new model against the test set:\n",
            "3/3 [==============================] - 0s 6ms/step - loss: 0.6501 - mean_squared_error: 0.4435\n"
          ]
        },
        {
          "output_type": "stream",
          "name": "stderr",
          "text": [
            "<ipython-input-18-c5767c3ae74f>:39: FutureWarning: The frame.append method is deprecated and will be removed from pandas in a future version. Use pandas.concat instead.\n",
            "  data = data.append(row, ignore_index=True)\n",
            "WARNING:absl:`lr` is deprecated, please use `learning_rate` instead, or use the legacy optimizer, e.g.,tf.keras.optimizers.legacy.Adam.\n"
          ]
        },
        {
          "output_type": "stream",
          "name": "stdout",
          "text": [
            "Epoch 1/20\n"
          ]
        },
        {
          "output_type": "stream",
          "name": "stderr",
          "text": [
            "WARNING:tensorflow:Layers in a Sequential model should only have a single input tensor. Received: inputs={'longitude': <tf.Tensor 'IteratorGetNext:3' shape=(1000,) dtype=float32>, 'latitude': <tf.Tensor 'IteratorGetNext:2' shape=(1000,) dtype=float32>, 'housing_median_age': <tf.Tensor 'IteratorGetNext:1' shape=(1000,) dtype=float32>, 'total_rooms': <tf.Tensor 'IteratorGetNext:7' shape=(1000,) dtype=float32>, 'total_bedrooms': <tf.Tensor 'IteratorGetNext:6' shape=(1000,) dtype=float32>, 'population': <tf.Tensor 'IteratorGetNext:5' shape=(1000,) dtype=float32>, 'households': <tf.Tensor 'IteratorGetNext:0' shape=(1000,) dtype=float32>, 'median_income': <tf.Tensor 'IteratorGetNext:4' shape=(1000,) dtype=float32>}. Consider rewriting this model with the Functional API.\n",
            "WARNING:tensorflow:Layers in a Sequential model should only have a single input tensor. Received: inputs={'longitude': <tf.Tensor 'IteratorGetNext:3' shape=(1000,) dtype=float32>, 'latitude': <tf.Tensor 'IteratorGetNext:2' shape=(1000,) dtype=float32>, 'housing_median_age': <tf.Tensor 'IteratorGetNext:1' shape=(1000,) dtype=float32>, 'total_rooms': <tf.Tensor 'IteratorGetNext:7' shape=(1000,) dtype=float32>, 'total_bedrooms': <tf.Tensor 'IteratorGetNext:6' shape=(1000,) dtype=float32>, 'population': <tf.Tensor 'IteratorGetNext:5' shape=(1000,) dtype=float32>, 'households': <tf.Tensor 'IteratorGetNext:0' shape=(1000,) dtype=float32>, 'median_income': <tf.Tensor 'IteratorGetNext:4' shape=(1000,) dtype=float32>}. Consider rewriting this model with the Functional API.\n"
          ]
        },
        {
          "output_type": "stream",
          "name": "stdout",
          "text": [
            "17/17 [==============================] - 1s 4ms/step - loss: 6.2128 - mean_squared_error: 0.9364\n",
            "Epoch 2/20\n",
            "17/17 [==============================] - 0s 4ms/step - loss: 5.4238 - mean_squared_error: 0.8417\n",
            "Epoch 3/20\n",
            "17/17 [==============================] - 0s 4ms/step - loss: 4.6854 - mean_squared_error: 0.7468\n",
            "Epoch 4/20\n",
            "17/17 [==============================] - 0s 4ms/step - loss: 4.0012 - mean_squared_error: 0.6543\n",
            "Epoch 5/20\n",
            "17/17 [==============================] - 0s 4ms/step - loss: 3.3837 - mean_squared_error: 0.5753\n",
            "Epoch 6/20\n",
            "17/17 [==============================] - 0s 4ms/step - loss: 2.8450 - mean_squared_error: 0.5201\n",
            "Epoch 7/20\n",
            "17/17 [==============================] - 0s 4ms/step - loss: 2.3831 - mean_squared_error: 0.4882\n",
            "Epoch 8/20\n",
            "17/17 [==============================] - 0s 4ms/step - loss: 1.9875 - mean_squared_error: 0.4718\n",
            "Epoch 9/20\n",
            "17/17 [==============================] - 0s 5ms/step - loss: 1.6529 - mean_squared_error: 0.4632\n",
            "Epoch 10/20\n",
            "17/17 [==============================] - 0s 4ms/step - loss: 1.3742 - mean_squared_error: 0.4567\n",
            "Epoch 11/20\n",
            "17/17 [==============================] - 0s 4ms/step - loss: 1.1601 - mean_squared_error: 0.4522\n",
            "Epoch 12/20\n",
            "17/17 [==============================] - 0s 4ms/step - loss: 1.0023 - mean_squared_error: 0.4485\n",
            "Epoch 13/20\n",
            "17/17 [==============================] - 0s 4ms/step - loss: 0.8995 - mean_squared_error: 0.4445\n",
            "Epoch 14/20\n",
            "17/17 [==============================] - 0s 4ms/step - loss: 0.8416 - mean_squared_error: 0.4408\n",
            "Epoch 15/20\n",
            "17/17 [==============================] - 0s 4ms/step - loss: 0.7984 - mean_squared_error: 0.4368\n",
            "Epoch 16/20\n",
            "17/17 [==============================] - 0s 4ms/step - loss: 0.7615 - mean_squared_error: 0.4330\n",
            "Epoch 17/20\n",
            "17/17 [==============================] - 0s 4ms/step - loss: 0.7287 - mean_squared_error: 0.4289\n",
            "Epoch 18/20\n",
            "17/17 [==============================] - 0s 4ms/step - loss: 0.6995 - mean_squared_error: 0.4247\n",
            "Epoch 19/20\n",
            "17/17 [==============================] - 0s 4ms/step - loss: 0.6737 - mean_squared_error: 0.4209\n",
            "Epoch 20/20\n",
            "17/17 [==============================] - 0s 4ms/step - loss: 0.6512 - mean_squared_error: 0.4171\n"
          ]
        },
        {
          "output_type": "stream",
          "name": "stderr",
          "text": [
            "WARNING:tensorflow:Layers in a Sequential model should only have a single input tensor. Received: inputs={'longitude': <tf.Tensor 'IteratorGetNext:3' shape=(1000,) dtype=float32>, 'latitude': <tf.Tensor 'IteratorGetNext:2' shape=(1000,) dtype=float32>, 'housing_median_age': <tf.Tensor 'IteratorGetNext:1' shape=(1000,) dtype=float32>, 'total_rooms': <tf.Tensor 'IteratorGetNext:7' shape=(1000,) dtype=float32>, 'total_bedrooms': <tf.Tensor 'IteratorGetNext:6' shape=(1000,) dtype=float32>, 'population': <tf.Tensor 'IteratorGetNext:5' shape=(1000,) dtype=float32>, 'households': <tf.Tensor 'IteratorGetNext:0' shape=(1000,) dtype=float32>, 'median_income': <tf.Tensor 'IteratorGetNext:4' shape=(1000,) dtype=float32>}. Consider rewriting this model with the Functional API.\n"
          ]
        },
        {
          "output_type": "stream",
          "name": "stdout",
          "text": [
            "\n",
            " Evaluate the new model against the test set:\n",
            "3/3 [==============================] - 0s 5ms/step - loss: 0.6733 - mean_squared_error: 0.4482\n"
          ]
        },
        {
          "output_type": "stream",
          "name": "stderr",
          "text": [
            "<ipython-input-18-c5767c3ae74f>:39: FutureWarning: The frame.append method is deprecated and will be removed from pandas in a future version. Use pandas.concat instead.\n",
            "  data = data.append(row, ignore_index=True)\n",
            "WARNING:absl:`lr` is deprecated, please use `learning_rate` instead, or use the legacy optimizer, e.g.,tf.keras.optimizers.legacy.Adam.\n"
          ]
        },
        {
          "output_type": "stream",
          "name": "stdout",
          "text": [
            "Epoch 1/20\n"
          ]
        },
        {
          "output_type": "stream",
          "name": "stderr",
          "text": [
            "WARNING:tensorflow:Layers in a Sequential model should only have a single input tensor. Received: inputs={'longitude': <tf.Tensor 'IteratorGetNext:3' shape=(1000,) dtype=float32>, 'latitude': <tf.Tensor 'IteratorGetNext:2' shape=(1000,) dtype=float32>, 'housing_median_age': <tf.Tensor 'IteratorGetNext:1' shape=(1000,) dtype=float32>, 'total_rooms': <tf.Tensor 'IteratorGetNext:7' shape=(1000,) dtype=float32>, 'total_bedrooms': <tf.Tensor 'IteratorGetNext:6' shape=(1000,) dtype=float32>, 'population': <tf.Tensor 'IteratorGetNext:5' shape=(1000,) dtype=float32>, 'households': <tf.Tensor 'IteratorGetNext:0' shape=(1000,) dtype=float32>, 'median_income': <tf.Tensor 'IteratorGetNext:4' shape=(1000,) dtype=float32>}. Consider rewriting this model with the Functional API.\n",
            "WARNING:tensorflow:Layers in a Sequential model should only have a single input tensor. Received: inputs={'longitude': <tf.Tensor 'IteratorGetNext:3' shape=(1000,) dtype=float32>, 'latitude': <tf.Tensor 'IteratorGetNext:2' shape=(1000,) dtype=float32>, 'housing_median_age': <tf.Tensor 'IteratorGetNext:1' shape=(1000,) dtype=float32>, 'total_rooms': <tf.Tensor 'IteratorGetNext:7' shape=(1000,) dtype=float32>, 'total_bedrooms': <tf.Tensor 'IteratorGetNext:6' shape=(1000,) dtype=float32>, 'population': <tf.Tensor 'IteratorGetNext:5' shape=(1000,) dtype=float32>, 'households': <tf.Tensor 'IteratorGetNext:0' shape=(1000,) dtype=float32>, 'median_income': <tf.Tensor 'IteratorGetNext:4' shape=(1000,) dtype=float32>}. Consider rewriting this model with the Functional API.\n"
          ]
        },
        {
          "output_type": "stream",
          "name": "stdout",
          "text": [
            "17/17 [==============================] - 1s 4ms/step - loss: 8.6685 - mean_squared_error: 0.9554\n",
            "Epoch 2/20\n",
            "17/17 [==============================] - 0s 4ms/step - loss: 7.5312 - mean_squared_error: 0.8586\n",
            "Epoch 3/20\n",
            "17/17 [==============================] - 0s 4ms/step - loss: 6.4990 - mean_squared_error: 0.7819\n",
            "Epoch 4/20\n",
            "17/17 [==============================] - 0s 4ms/step - loss: 5.5581 - mean_squared_error: 0.7165\n",
            "Epoch 5/20\n",
            "17/17 [==============================] - 0s 4ms/step - loss: 4.7053 - mean_squared_error: 0.6617\n",
            "Epoch 6/20\n",
            "17/17 [==============================] - 0s 5ms/step - loss: 3.9404 - mean_squared_error: 0.6192\n",
            "Epoch 7/20\n",
            "17/17 [==============================] - 0s 4ms/step - loss: 3.2701 - mean_squared_error: 0.5908\n",
            "Epoch 8/20\n",
            "17/17 [==============================] - 0s 4ms/step - loss: 2.6924 - mean_squared_error: 0.5703\n",
            "Epoch 9/20\n",
            "17/17 [==============================] - 0s 4ms/step - loss: 2.2024 - mean_squared_error: 0.5563\n",
            "Epoch 10/20\n",
            "17/17 [==============================] - 0s 5ms/step - loss: 1.8026 - mean_squared_error: 0.5441\n",
            "Epoch 11/20\n",
            "17/17 [==============================] - 0s 4ms/step - loss: 1.4909 - mean_squared_error: 0.5346\n",
            "Epoch 12/20\n",
            "17/17 [==============================] - 0s 5ms/step - loss: 1.2620 - mean_squared_error: 0.5274\n",
            "Epoch 13/20\n",
            "17/17 [==============================] - 0s 4ms/step - loss: 1.1175 - mean_squared_error: 0.5206\n",
            "Epoch 14/20\n",
            "17/17 [==============================] - 0s 4ms/step - loss: 1.0374 - mean_squared_error: 0.5133\n",
            "Epoch 15/20\n",
            "17/17 [==============================] - 0s 4ms/step - loss: 0.9772 - mean_squared_error: 0.5061\n",
            "Epoch 16/20\n",
            "17/17 [==============================] - 0s 4ms/step - loss: 0.9250 - mean_squared_error: 0.5004\n",
            "Epoch 17/20\n",
            "17/17 [==============================] - 0s 4ms/step - loss: 0.8786 - mean_squared_error: 0.4947\n",
            "Epoch 18/20\n",
            "17/17 [==============================] - 0s 7ms/step - loss: 0.8363 - mean_squared_error: 0.4894\n",
            "Epoch 19/20\n",
            "17/17 [==============================] - 0s 6ms/step - loss: 0.7975 - mean_squared_error: 0.4844\n",
            "Epoch 20/20\n",
            "17/17 [==============================] - 0s 6ms/step - loss: 0.7632 - mean_squared_error: 0.4799\n"
          ]
        },
        {
          "output_type": "stream",
          "name": "stderr",
          "text": [
            "WARNING:tensorflow:Layers in a Sequential model should only have a single input tensor. Received: inputs={'longitude': <tf.Tensor 'IteratorGetNext:3' shape=(1000,) dtype=float32>, 'latitude': <tf.Tensor 'IteratorGetNext:2' shape=(1000,) dtype=float32>, 'housing_median_age': <tf.Tensor 'IteratorGetNext:1' shape=(1000,) dtype=float32>, 'total_rooms': <tf.Tensor 'IteratorGetNext:7' shape=(1000,) dtype=float32>, 'total_bedrooms': <tf.Tensor 'IteratorGetNext:6' shape=(1000,) dtype=float32>, 'population': <tf.Tensor 'IteratorGetNext:5' shape=(1000,) dtype=float32>, 'households': <tf.Tensor 'IteratorGetNext:0' shape=(1000,) dtype=float32>, 'median_income': <tf.Tensor 'IteratorGetNext:4' shape=(1000,) dtype=float32>}. Consider rewriting this model with the Functional API.\n"
          ]
        },
        {
          "output_type": "stream",
          "name": "stdout",
          "text": [
            "\n",
            " Evaluate the new model against the test set:\n",
            "3/3 [==============================] - 0s 8ms/step - loss: 0.7689 - mean_squared_error: 0.5002\n"
          ]
        },
        {
          "output_type": "stream",
          "name": "stderr",
          "text": [
            "<ipython-input-18-c5767c3ae74f>:39: FutureWarning: The frame.append method is deprecated and will be removed from pandas in a future version. Use pandas.concat instead.\n",
            "  data = data.append(row, ignore_index=True)\n",
            "WARNING:absl:`lr` is deprecated, please use `learning_rate` instead, or use the legacy optimizer, e.g.,tf.keras.optimizers.legacy.Adam.\n"
          ]
        },
        {
          "output_type": "stream",
          "name": "stdout",
          "text": [
            "Epoch 1/20\n"
          ]
        },
        {
          "output_type": "stream",
          "name": "stderr",
          "text": [
            "WARNING:tensorflow:Layers in a Sequential model should only have a single input tensor. Received: inputs={'longitude': <tf.Tensor 'IteratorGetNext:3' shape=(1000,) dtype=float32>, 'latitude': <tf.Tensor 'IteratorGetNext:2' shape=(1000,) dtype=float32>, 'housing_median_age': <tf.Tensor 'IteratorGetNext:1' shape=(1000,) dtype=float32>, 'total_rooms': <tf.Tensor 'IteratorGetNext:7' shape=(1000,) dtype=float32>, 'total_bedrooms': <tf.Tensor 'IteratorGetNext:6' shape=(1000,) dtype=float32>, 'population': <tf.Tensor 'IteratorGetNext:5' shape=(1000,) dtype=float32>, 'households': <tf.Tensor 'IteratorGetNext:0' shape=(1000,) dtype=float32>, 'median_income': <tf.Tensor 'IteratorGetNext:4' shape=(1000,) dtype=float32>}. Consider rewriting this model with the Functional API.\n",
            "WARNING:tensorflow:Layers in a Sequential model should only have a single input tensor. Received: inputs={'longitude': <tf.Tensor 'IteratorGetNext:3' shape=(1000,) dtype=float32>, 'latitude': <tf.Tensor 'IteratorGetNext:2' shape=(1000,) dtype=float32>, 'housing_median_age': <tf.Tensor 'IteratorGetNext:1' shape=(1000,) dtype=float32>, 'total_rooms': <tf.Tensor 'IteratorGetNext:7' shape=(1000,) dtype=float32>, 'total_bedrooms': <tf.Tensor 'IteratorGetNext:6' shape=(1000,) dtype=float32>, 'population': <tf.Tensor 'IteratorGetNext:5' shape=(1000,) dtype=float32>, 'households': <tf.Tensor 'IteratorGetNext:0' shape=(1000,) dtype=float32>, 'median_income': <tf.Tensor 'IteratorGetNext:4' shape=(1000,) dtype=float32>}. Consider rewriting this model with the Functional API.\n"
          ]
        },
        {
          "output_type": "stream",
          "name": "stdout",
          "text": [
            "17/17 [==============================] - 1s 4ms/step - loss: 11.5917 - mean_squared_error: 0.9775\n",
            "Epoch 2/20\n",
            "17/17 [==============================] - 0s 4ms/step - loss: 10.0915 - mean_squared_error: 0.9019\n",
            "Epoch 3/20\n",
            "17/17 [==============================] - 0s 5ms/step - loss: 8.7095 - mean_squared_error: 0.8338\n",
            "Epoch 4/20\n",
            "17/17 [==============================] - 0s 4ms/step - loss: 7.4409 - mean_squared_error: 0.7701\n",
            "Epoch 5/20\n",
            "17/17 [==============================] - 0s 4ms/step - loss: 6.2827 - mean_squared_error: 0.7113\n",
            "Epoch 6/20\n",
            "17/17 [==============================] - 0s 4ms/step - loss: 5.2429 - mean_squared_error: 0.6616\n",
            "Epoch 7/20\n",
            "17/17 [==============================] - 0s 4ms/step - loss: 4.3266 - mean_squared_error: 0.6231\n",
            "Epoch 8/20\n",
            "17/17 [==============================] - 0s 4ms/step - loss: 3.5302 - mean_squared_error: 0.5944\n",
            "Epoch 9/20\n",
            "17/17 [==============================] - 0s 5ms/step - loss: 2.8591 - mean_squared_error: 0.5732\n",
            "Epoch 10/20\n",
            "17/17 [==============================] - 0s 4ms/step - loss: 2.3099 - mean_squared_error: 0.5577\n",
            "Epoch 11/20\n",
            "17/17 [==============================] - 0s 5ms/step - loss: 1.8752 - mean_squared_error: 0.5458\n",
            "Epoch 12/20\n",
            "17/17 [==============================] - 0s 5ms/step - loss: 1.5517 - mean_squared_error: 0.5372\n",
            "Epoch 13/20\n",
            "17/17 [==============================] - 0s 4ms/step - loss: 1.3391 - mean_squared_error: 0.5307\n",
            "Epoch 14/20\n",
            "17/17 [==============================] - 0s 4ms/step - loss: 1.2200 - mean_squared_error: 0.5256\n",
            "Epoch 15/20\n",
            "17/17 [==============================] - 0s 4ms/step - loss: 1.1279 - mean_squared_error: 0.5204\n",
            "Epoch 16/20\n",
            "17/17 [==============================] - 0s 4ms/step - loss: 1.0492 - mean_squared_error: 0.5150\n",
            "Epoch 17/20\n",
            "17/17 [==============================] - 0s 4ms/step - loss: 0.9792 - mean_squared_error: 0.5105\n",
            "Epoch 18/20\n",
            "17/17 [==============================] - 0s 4ms/step - loss: 0.9170 - mean_squared_error: 0.5050\n",
            "Epoch 19/20\n",
            "17/17 [==============================] - 0s 4ms/step - loss: 0.8626 - mean_squared_error: 0.5003\n",
            "Epoch 20/20\n",
            "17/17 [==============================] - 0s 4ms/step - loss: 0.8144 - mean_squared_error: 0.4957\n"
          ]
        },
        {
          "output_type": "stream",
          "name": "stderr",
          "text": [
            "WARNING:tensorflow:Layers in a Sequential model should only have a single input tensor. Received: inputs={'longitude': <tf.Tensor 'IteratorGetNext:3' shape=(1000,) dtype=float32>, 'latitude': <tf.Tensor 'IteratorGetNext:2' shape=(1000,) dtype=float32>, 'housing_median_age': <tf.Tensor 'IteratorGetNext:1' shape=(1000,) dtype=float32>, 'total_rooms': <tf.Tensor 'IteratorGetNext:7' shape=(1000,) dtype=float32>, 'total_bedrooms': <tf.Tensor 'IteratorGetNext:6' shape=(1000,) dtype=float32>, 'population': <tf.Tensor 'IteratorGetNext:5' shape=(1000,) dtype=float32>, 'households': <tf.Tensor 'IteratorGetNext:0' shape=(1000,) dtype=float32>, 'median_income': <tf.Tensor 'IteratorGetNext:4' shape=(1000,) dtype=float32>}. Consider rewriting this model with the Functional API.\n"
          ]
        },
        {
          "output_type": "stream",
          "name": "stdout",
          "text": [
            "\n",
            " Evaluate the new model against the test set:\n",
            "3/3 [==============================] - 0s 6ms/step - loss: 0.8108 - mean_squared_error: 0.5134\n"
          ]
        },
        {
          "output_type": "stream",
          "name": "stderr",
          "text": [
            "<ipython-input-18-c5767c3ae74f>:39: FutureWarning: The frame.append method is deprecated and will be removed from pandas in a future version. Use pandas.concat instead.\n",
            "  data = data.append(row, ignore_index=True)\n",
            "WARNING:absl:`lr` is deprecated, please use `learning_rate` instead, or use the legacy optimizer, e.g.,tf.keras.optimizers.legacy.Adam.\n"
          ]
        },
        {
          "output_type": "stream",
          "name": "stdout",
          "text": [
            "Epoch 1/20\n"
          ]
        },
        {
          "output_type": "stream",
          "name": "stderr",
          "text": [
            "WARNING:tensorflow:Layers in a Sequential model should only have a single input tensor. Received: inputs={'longitude': <tf.Tensor 'IteratorGetNext:3' shape=(1000,) dtype=float32>, 'latitude': <tf.Tensor 'IteratorGetNext:2' shape=(1000,) dtype=float32>, 'housing_median_age': <tf.Tensor 'IteratorGetNext:1' shape=(1000,) dtype=float32>, 'total_rooms': <tf.Tensor 'IteratorGetNext:7' shape=(1000,) dtype=float32>, 'total_bedrooms': <tf.Tensor 'IteratorGetNext:6' shape=(1000,) dtype=float32>, 'population': <tf.Tensor 'IteratorGetNext:5' shape=(1000,) dtype=float32>, 'households': <tf.Tensor 'IteratorGetNext:0' shape=(1000,) dtype=float32>, 'median_income': <tf.Tensor 'IteratorGetNext:4' shape=(1000,) dtype=float32>}. Consider rewriting this model with the Functional API.\n",
            "WARNING:tensorflow:Layers in a Sequential model should only have a single input tensor. Received: inputs={'longitude': <tf.Tensor 'IteratorGetNext:3' shape=(1000,) dtype=float32>, 'latitude': <tf.Tensor 'IteratorGetNext:2' shape=(1000,) dtype=float32>, 'housing_median_age': <tf.Tensor 'IteratorGetNext:1' shape=(1000,) dtype=float32>, 'total_rooms': <tf.Tensor 'IteratorGetNext:7' shape=(1000,) dtype=float32>, 'total_bedrooms': <tf.Tensor 'IteratorGetNext:6' shape=(1000,) dtype=float32>, 'population': <tf.Tensor 'IteratorGetNext:5' shape=(1000,) dtype=float32>, 'households': <tf.Tensor 'IteratorGetNext:0' shape=(1000,) dtype=float32>, 'median_income': <tf.Tensor 'IteratorGetNext:4' shape=(1000,) dtype=float32>}. Consider rewriting this model with the Functional API.\n"
          ]
        },
        {
          "output_type": "stream",
          "name": "stdout",
          "text": [
            "17/17 [==============================] - 1s 4ms/step - loss: 14.1281 - mean_squared_error: 0.9768\n",
            "Epoch 2/20\n",
            "17/17 [==============================] - 0s 5ms/step - loss: 12.2688 - mean_squared_error: 0.8903\n",
            "Epoch 3/20\n",
            "17/17 [==============================] - 0s 4ms/step - loss: 10.5543 - mean_squared_error: 0.8082\n",
            "Epoch 4/20\n",
            "17/17 [==============================] - 0s 5ms/step - loss: 8.9826 - mean_squared_error: 0.7336\n",
            "Epoch 5/20\n",
            "17/17 [==============================] - 0s 4ms/step - loss: 7.5566 - mean_squared_error: 0.6699\n",
            "Epoch 6/20\n",
            "17/17 [==============================] - 0s 5ms/step - loss: 6.2881 - mean_squared_error: 0.6218\n",
            "Epoch 7/20\n",
            "17/17 [==============================] - 0s 5ms/step - loss: 5.1653 - mean_squared_error: 0.5887\n",
            "Epoch 8/20\n",
            "17/17 [==============================] - 0s 4ms/step - loss: 4.1919 - mean_squared_error: 0.5666\n",
            "Epoch 9/20\n",
            "17/17 [==============================] - 0s 5ms/step - loss: 3.3670 - mean_squared_error: 0.5526\n",
            "Epoch 10/20\n",
            "17/17 [==============================] - 0s 4ms/step - loss: 2.6874 - mean_squared_error: 0.5440\n",
            "Epoch 11/20\n",
            "17/17 [==============================] - 0s 5ms/step - loss: 2.1436 - mean_squared_error: 0.5376\n",
            "Epoch 12/20\n",
            "17/17 [==============================] - 0s 4ms/step - loss: 1.7414 - mean_squared_error: 0.5332\n",
            "Epoch 13/20\n",
            "17/17 [==============================] - 0s 5ms/step - loss: 1.4916 - mean_squared_error: 0.5305\n",
            "Epoch 14/20\n",
            "17/17 [==============================] - 0s 5ms/step - loss: 1.3570 - mean_squared_error: 0.5287\n",
            "Epoch 15/20\n",
            "17/17 [==============================] - 0s 4ms/step - loss: 1.2566 - mean_squared_error: 0.5276\n",
            "Epoch 16/20\n",
            "17/17 [==============================] - 0s 4ms/step - loss: 1.1696 - mean_squared_error: 0.5264\n",
            "Epoch 17/20\n",
            "17/17 [==============================] - 0s 5ms/step - loss: 1.0933 - mean_squared_error: 0.5245\n",
            "Epoch 18/20\n",
            "17/17 [==============================] - 0s 4ms/step - loss: 1.0238 - mean_squared_error: 0.5234\n",
            "Epoch 19/20\n",
            "17/17 [==============================] - 0s 4ms/step - loss: 0.9601 - mean_squared_error: 0.5224\n",
            "Epoch 20/20\n",
            "17/17 [==============================] - 0s 5ms/step - loss: 0.8997 - mean_squared_error: 0.5209\n",
            "\n",
            " Evaluate the new model against the test set:\n"
          ]
        },
        {
          "output_type": "stream",
          "name": "stderr",
          "text": [
            "WARNING:tensorflow:Layers in a Sequential model should only have a single input tensor. Received: inputs={'longitude': <tf.Tensor 'IteratorGetNext:3' shape=(1000,) dtype=float32>, 'latitude': <tf.Tensor 'IteratorGetNext:2' shape=(1000,) dtype=float32>, 'housing_median_age': <tf.Tensor 'IteratorGetNext:1' shape=(1000,) dtype=float32>, 'total_rooms': <tf.Tensor 'IteratorGetNext:7' shape=(1000,) dtype=float32>, 'total_bedrooms': <tf.Tensor 'IteratorGetNext:6' shape=(1000,) dtype=float32>, 'population': <tf.Tensor 'IteratorGetNext:5' shape=(1000,) dtype=float32>, 'households': <tf.Tensor 'IteratorGetNext:0' shape=(1000,) dtype=float32>, 'median_income': <tf.Tensor 'IteratorGetNext:4' shape=(1000,) dtype=float32>}. Consider rewriting this model with the Functional API.\n"
          ]
        },
        {
          "output_type": "stream",
          "name": "stdout",
          "text": [
            "3/3 [==============================] - 0s 6ms/step - loss: 0.8886 - mean_squared_error: 0.5386\n",
            "      L1  train_mse  test_mse  diff_in_%\n",
            "0 0.0000     0.3337    0.3715    11.3468\n",
            "1 0.0100     0.4168    0.6501    55.9676\n",
            "2 0.0200     0.4171    0.6733    61.4367\n",
            "3 0.0300     0.4799    0.7689    60.2066\n",
            "4 0.0400     0.4957    0.8108    63.5477\n",
            "5 0.0500     0.5209    0.8886    70.5946\n"
          ]
        },
        {
          "output_type": "stream",
          "name": "stderr",
          "text": [
            "<ipython-input-18-c5767c3ae74f>:39: FutureWarning: The frame.append method is deprecated and will be removed from pandas in a future version. Use pandas.concat instead.\n",
            "  data = data.append(row, ignore_index=True)\n"
          ]
        }
      ],
      "source": [
        "l1 = 0.00\n",
        "\n",
        "data = pd.DataFrame()\n",
        "pd.options.display.float_format = \"{:.4f}\".format\n",
        "data[\"L1\"] = pd.Series(dtype='object')\n",
        "data[\"train_mse\"] = pd.Series(dtype='object')\n",
        "data[\"test_mse\"] = pd.Series(dtype='object')\n",
        "data[\"diff_in_%\"] = pd.Series(dtype='object')\n",
        "\n",
        "while(l1<=.05):\n",
        "\n",
        "  # The following variables are the hyperparameters.\n",
        "  learning_rate = 0.01\n",
        "  epochs = 20\n",
        "  batch_size = 1000\n",
        "\n",
        "  # Specify the label\n",
        "  label_name = \"median_house_value\"\n",
        "\n",
        "  # Establish the model's topography.\n",
        "  my_model = create_model(learning_rate, my_feature_layer,l1)\n",
        "\n",
        "  # Train the model on the normalized training set. We're passing the entire\n",
        "  # normalized training set, but the model will only use the features\n",
        "  # defined by the feature_layer.\n",
        "  epochs, train_mse = train_model(my_model, train_df_norm, epochs, \n",
        "                            label_name, batch_size)\n",
        "  #plot_the_loss_curve(epochs, mse)\n",
        "  \n",
        "  # After building a model against the training set, test that model\n",
        "  # against the test set.\n",
        "  test_features = {name:np.array(value) for name, value in test_df_norm.items()}\n",
        "  test_label = np.array(test_features.pop(label_name)) # isolate the label\n",
        "  print(\"\\n Evaluate the new model against the test set:\")\n",
        "  test_mse=my_model.evaluate(x = test_features, y = test_label, batch_size=batch_size)\n",
        "  diff = abs((test_mse[0]-train_mse[19])/train_mse[19]*100)\n",
        "  # Add rows to the DataFrame\n",
        "  row = {'L1': l1, 'train_mse': round(train_mse[19],4), 'test_mse': round(test_mse[0],4), 'diff_in_%' :  diff}\n",
        "  data = data.append(row, ignore_index=True)\n",
        "  l1= l1 + 0.01\n",
        "\n",
        "print(data)"
      ]
    },
    {
      "cell_type": "code",
      "source": [
        "print(data)\n"
      ],
      "metadata": {
        "colab": {
          "base_uri": "https://localhost:8080/"
        },
        "id": "KGWvsPSqnejB",
        "outputId": "2db0736d-413d-495b-9389-618af90e2dcd"
      },
      "execution_count": null,
      "outputs": [
        {
          "output_type": "stream",
          "name": "stdout",
          "text": [
            "      L1  train_mse  test_mse  diff_in_%\n",
            "0 0.0000     0.3337    0.3715    11.3468\n",
            "1 0.0100     0.4168    0.6501    55.9676\n",
            "2 0.0200     0.4171    0.6733    61.4367\n",
            "3 0.0300     0.4799    0.7689    60.2066\n",
            "4 0.0400     0.4957    0.8108    63.5477\n",
            "5 0.0500     0.5209    0.8886    70.5946\n"
          ]
        }
      ]
    },
    {
      "cell_type": "markdown",
      "metadata": {
        "id": "wlPXK-SmmjQ2"
      },
      "source": [
        "## Task 1: Compare the two models\n",
        "\n",
        "How did the deep neural net perform against the baseline linear regression model?"
      ]
    },
    {
      "cell_type": "markdown",
      "metadata": {
        "id": "Y5IKmk7D49_n"
      },
      "source": [
        "## Task 2: Optimize the deep neural network's topography\n",
        "\n",
        "Experiment with the number of layers of the deep neural network and the number of nodes in each layer.  Aim to achieve both of the following goals:\n",
        "\n",
        "*  Lower the loss against the test set.\n",
        "*  Minimize the overall number of nodes in the deep neural net. \n",
        "\n",
        "The two goals may be in conflict."
      ]
    },
    {
      "cell_type": "markdown",
      "metadata": {
        "id": "Pu7R_ZpDopIj"
      },
      "source": [
        "## Task 3: Regularize the deep neural network\n",
        "\n",
        "Notice that the model's loss against the test set may be *much higher* than the loss against the training set.  In other words, the deep neural network may be [overfitting](https://developers.google.com/machine-learning/glossary/#overfitting) to the data in the training set.  To reduce overfitting, regularize the model. Several different ways to regularize a model, including:\n",
        "\n",
        "  * [L1 regularization](https://developers.google.com/machine-learning/glossary/#L1_regularization)\n",
        "\n",
        "# I have tried to modify L1 for both hidden layers from 0.00 to 0.05 incremented by 0.01 each time. However, it turned out that the best result is obtained when L1 is set to zero. Here is the result:\n",
        "\n",
        "![image.png](data:image/png;base64,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)\n",
        "\n",
        "\n",
        "  * [L2 regularization](https://developers.google.com/machine-learning/glossary/#L2_regularization)\n",
        "  * [Dropout regularization](https://developers.google.com/machine-learning/glossary/#dropout_regularization)\n",
        "\n",
        "Your task is to experiment with one or more regularization mechanisms to bring the test loss closer to the training loss (while still keeping test loss relatively low).  \n",
        "\n",
        "**Note:** When you add a regularization function to a model, you might need to tweak other hyperparameters. \n",
        "\n",
        "### Implementing L1 or L2 regularization\n",
        "\n",
        "To use L1 or L2 regularization on a hidden layer, specify the `kernel_regularizer` argument to [tf.keras.layers.Dense](https://www.tensorflow.org/api_docs/python/tf/keras/layers/Dense). Assign one of the following methods to this argument:\n",
        "\n",
        "* `tf.keras.regularizers.l1` for L1 regularization\n",
        "* `tf.keras.regularizers.l2` for L2 regularization\n",
        "\n",
        "Each of the preceding methods takes an `l` parameter, which adjusts the [regularization rate](https://developers.google.com/machine-learning/glossary/#regularization_rate). Assign a decimal value between 0 and 1.0 to `l`; the higher the decimal, the greater the regularization. For example, the following applies L2 regularization at a strength of 0.01. \n",
        "\n",
        "```\n",
        "model.add(tf.keras.layers.Dense(units=20, \n",
        "                                activation='relu',\n",
        "                                kernel_regularizer=tf.keras.regularizers.l2(l=0.01),\n",
        "                                name='Hidden1'))\n",
        "```\n",
        "\n",
        "### Implementing Dropout regularization\n",
        "\n",
        "You implement dropout regularization as a separate layer in the topography. For example, the following code demonstrates how to add a dropout regularization layer between the first hidden layer and the second hidden layer:\n",
        "\n",
        "```\n",
        "model.add(tf.keras.layers.Dense( *define first hidden layer*)\n",
        " \n",
        "model.add(tf.keras.layers.Dropout(rate=0.25))\n",
        "\n",
        "model.add(tf.keras.layers.Dense( *define second hidden layer*)\n",
        "```\n",
        "\n",
        "The `rate` parameter to [tf.keras.layers.Dropout](https://www.tensorflow.org/api_docs/python/tf/keras/layers/Dropout) specifies the fraction of nodes that the model should drop out during training. \n"
      ]
    },
    {
      "cell_type": "code",
      "source": [],
      "metadata": {
        "id": "eGJEkwc-M5fv"
      },
      "execution_count": null,
      "outputs": []
    }
  ],
  "metadata": {
    "colab": {
      "collapsed_sections": [
        "X_TaJhU4KcuY",
        "b9ehCgIRjTxy",
        "Ak_TMAzGOIFq"
      ],
      "provenance": [],
      "include_colab_link": true
    },
    "kernelspec": {
      "display_name": "Python 3",
      "name": "python3"
    }
  },
  "nbformat": 4,
  "nbformat_minor": 0
}