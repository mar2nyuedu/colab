{
  "cells": [
    {
      "cell_type": "markdown",
      "metadata": {
        "id": "view-in-github",
        "colab_type": "text"
      },
      "source": [
        "<a href=\"https://colab.research.google.com/github/mar2nyuedu/colab/blob/main/Copy_of_Mohammed_Rahman_Project.ipynb\" target=\"_parent\"><img src=\"https://colab.research.google.com/assets/colab-badge.svg\" alt=\"Open In Colab\"/></a>"
      ]
    },
    {
      "cell_type": "markdown",
      "metadata": {
        "id": "vNKbs7BYd51d"
      },
      "source": [
        "# This is a Network Intrusion Detection problem. Given a set of network connection records, we need to classify these records as network attacks or regular traffic.\n",
        "\n",
        "# NSL-KDD is a dataset for evaluating network intrusion detection systems. The dataset is divided into two sets: the training set and the testing set. The dataset contains 43 features for each connection record, such as protocol type, service, flag, and various other statistics. Additionally, it includes a label for each record indicating whether it represents normal traffic or one of the 22 different attack types. There are 125973 records in the training dataset and 22544 records in the test dataset. There are 23 types of attack in the training dataset but 38 types of attack in the test dataset.\n",
        "\n",
        "# Researchers and developers use the NSL-KDD dataset to train and evaluate intrusion detection models, enabling them to identify and classify network traffic patterns and develop algorithms that can detect and prevent cyber-attacks."
      ]
    },
    {
      "cell_type": "markdown",
      "metadata": {
        "id": "AimfDPktvnJD"
      },
      "source": [
        "Load and Configure Python Libraries"
      ]
    },
    {
      "cell_type": "code",
      "execution_count": 5,
      "metadata": {
        "id": "NdqKU_X9RhZu"
      },
      "outputs": [],
      "source": [
        "# Step 1: import the required modules\n",
        "import pandas as pd\n",
        "import numpy as np\n",
        "import warnings\n",
        "from sklearn import preprocessing\n",
        "from sklearn.metrics import accuracy_score, precision_score, recall_score,f1_score,confusion_matrix\n",
        "from sklearn.preprocessing import MinMaxScaler\n",
        "from sklearn.linear_model import LogisticRegression\n",
        "from sklearn.tree import DecisionTreeClassifier\n",
        "from sklearn.ensemble import RandomForestClassifier\n",
        "from sklearn.neighbors import KNeighborsClassifier\n",
        "from sklearn.svm import LinearSVC, SVC\n",
        "from sklearn.naive_bayes import GaussianNB\n",
        "from sklearn.model_selection import GridSearchCV\n",
        "import seaborn as sns\n",
        "import matplotlib.pyplot as plt\n",
        "import matplotlib.gridspec as gridspec \n",
        "\n",
        "\n",
        "# Ignore all warnings\n",
        "warnings.simplefilter(action='ignore', category=Warning)\n",
        "\n",
        "# set pandas columns\n",
        "pd.set_option('display.max_columns', 50)\n",
        "\n"
      ]
    },
    {
      "cell_type": "markdown",
      "metadata": {
        "id": "0QW8lqQ0b79z"
      },
      "source": [
        "Mount Drive"
      ]
    },
    {
      "cell_type": "code",
      "execution_count": 6,
      "metadata": {
        "colab": {
          "base_uri": "https://localhost:8080/"
        },
        "id": "p3A_6ieWacnB",
        "outputId": "0c47a253-f1f7-470d-d2c9-323a8224bc4b"
      },
      "outputs": [
        {
          "output_type": "stream",
          "name": "stdout",
          "text": [
            "Drive already mounted at /content/drive; to attempt to forcibly remount, call drive.mount(\"/content/drive\", force_remount=True).\n"
          ]
        }
      ],
      "source": [
        "from google.colab import drive\n",
        "drive.mount('/content/drive')"
      ]
    },
    {
      "cell_type": "markdown",
      "metadata": {
        "id": "P_GZb_HxpKR0"
      },
      "source": [
        "Load Training and Test Data"
      ]
    },
    {
      "cell_type": "code",
      "execution_count": 7,
      "metadata": {
        "colab": {
          "base_uri": "https://localhost:8080/"
        },
        "id": "xPcWAFWebstj",
        "outputId": "8ad9d025-3517-4973-da63-8d129a4e80a9"
      },
      "outputs": [
        {
          "output_type": "stream",
          "name": "stdout",
          "text": [
            "Training rows: 125973\n",
            "Testing rows: 22544\n",
            "combined rows: 148517\n",
            "Training rows: 125973\n",
            "Testing rows: 22544\n"
          ]
        }
      ],
      "source": [
        "#Read the data from the CSV file\n",
        "\n",
        "df_train = pd.read_csv('/content/drive/MyDrive/Project/KDDTrainLabeled.csv')\n",
        "df_test = pd.read_csv('/content/drive/MyDrive/Project/KDDTestLabeled.csv')\n",
        "\n",
        "print(\"Training rows:\", len(df_train))\n",
        "print(\"Testing rows:\", len(df_test))\n",
        "\n",
        "#combine them together in one dataset\n",
        "df_combined = pd.concat([df_train, df_test]) \n",
        "\n",
        "print(\"combined rows:\", len(df_combined))\n",
        "\n",
        "random_state = 42\n",
        "# Shuffle the combined dataset\n",
        "df_combined = df_combined.sample(frac=1, random_state=random_state)\n",
        "\n",
        "# Split the dataset into training and test sets\n",
        "train_rows = 125973\n",
        "df_train = df_combined[:train_rows]\n",
        "df_test = df_combined[train_rows:]\n",
        "\n",
        "# Print the number of rows in each DataFrame\n",
        "print(\"Training rows:\", len(df_train))\n",
        "print(\"Testing rows:\", len(df_test))\n",
        "\n"
      ]
    },
    {
      "cell_type": "markdown",
      "metadata": {
        "id": "nxSS_qcgr7f-"
      },
      "source": [
        "Let's view some of the training and test data"
      ]
    },
    {
      "cell_type": "code",
      "execution_count": 8,
      "metadata": {
        "colab": {
          "base_uri": "https://localhost:8080/",
          "height": 270
        },
        "id": "mjUSmIgmrGT0",
        "outputId": "4b8059c5-4563-405d-b29d-e15390b18254"
      },
      "outputs": [
        {
          "output_type": "execute_result",
          "data": {
            "text/plain": [
              "        duration protocol_type   service flag  src_bytes  dst_bytes  land  \\\n",
              "38166          0           udp  domain_u   SF         44        115     0   \n",
              "122124         0           tcp      http   SF        248       1273     0   \n",
              "11263          0           tcp      http   SF        310       1957     0   \n",
              "59637          0           tcp      http   SF        240       4664     0   \n",
              "117914         0           tcp  ftp_data   S0          0          0     0   \n",
              "\n",
              "        wrong_fragment  urgent  hot  num_failed_logins  logged_in  \\\n",
              "38166                0       0    0                  0          0   \n",
              "122124               0       0    0                  0          1   \n",
              "11263                0       0    0                  0          1   \n",
              "59637                0       0    0                  0          1   \n",
              "117914               0       0    0                  0          0   \n",
              "\n",
              "        num_compromised  root_shell  su_attempted  num_root  \\\n",
              "38166                 0           0             0         0   \n",
              "122124                0           0             0         0   \n",
              "11263                 0           0             0         0   \n",
              "59637                 0           0             0         0   \n",
              "117914                0           0             0         0   \n",
              "\n",
              "        num_file_creations  num_shells  num_access_files  num_outbound_cmds  \\\n",
              "38166                    0           0                 0                  0   \n",
              "122124                   0           0                 0                  0   \n",
              "11263                    0           0                 0                  0   \n",
              "59637                    0           0                 0                  0   \n",
              "117914                   0           0                 0                  0   \n",
              "\n",
              "        is_host_login  is_guest_login  count  srv_count  serror_rate  \\\n",
              "38166               0               0      2          5          0.0   \n",
              "122124              0               0      4          4          0.0   \n",
              "11263               0               0      4          4          0.0   \n",
              "59637               0               0      1          4          0.0   \n",
              "117914              0               0     21          5          1.0   \n",
              "\n",
              "        srv_serror_rate  rerror_rate  srv_rerror_rate  same_srv_rate  \\\n",
              "38166               0.0          0.0              0.0           1.00   \n",
              "122124              0.0          0.0              0.0           1.00   \n",
              "11263               0.0          0.0              0.0           1.00   \n",
              "59637               0.0          0.0              0.0           1.00   \n",
              "117914              1.0          0.0              0.0           0.24   \n",
              "\n",
              "        diff_srv_rate  srv_diff_host_rate  dst_host_count  dst_host_srv_count  \\\n",
              "38166            0.00                0.40             255                 248   \n",
              "122124           0.00                0.00              29                 255   \n",
              "11263            0.00                0.00              11                 241   \n",
              "59637            0.00                0.75              18                 255   \n",
              "117914           0.19                0.00             255                  64   \n",
              "\n",
              "        dst_host_same_srv_rate  dst_host_diff_srv_rate  \\\n",
              "38166                     0.97                    0.01   \n",
              "122124                    1.00                    0.00   \n",
              "11263                     1.00                    0.00   \n",
              "59637                     1.00                    0.00   \n",
              "117914                    0.25                    0.02   \n",
              "\n",
              "        dst_host_same_src_port_rate  dst_host_srv_diff_host_rate  \\\n",
              "38166                          0.00                         0.00   \n",
              "122124                         0.03                         0.03   \n",
              "11263                          0.09                         0.08   \n",
              "59637                          0.06                         0.01   \n",
              "117914                         0.01                         0.00   \n",
              "\n",
              "        dst_host_serror_rate  dst_host_srv_serror_rate  dst_host_rerror_rate  \\\n",
              "38166                    0.0                       0.0                   0.0   \n",
              "122124                   0.0                       0.0                   0.0   \n",
              "11263                    0.0                       0.0                   0.0   \n",
              "59637                    0.0                       0.0                   0.0   \n",
              "117914                   1.0                       1.0                   0.0   \n",
              "\n",
              "        dst_host_srv_rerror_rate   attack  level  \n",
              "38166                        0.0   normal     21  \n",
              "122124                       0.0   normal     21  \n",
              "11263                        0.0   normal     21  \n",
              "59637                        0.0   normal     21  \n",
              "117914                       0.0  neptune     20  "
            ],
            "text/html": [
              "\n",
              "  <div id=\"df-38c864a0-4587-4b9d-9503-7753d6eeea10\">\n",
              "    <div class=\"colab-df-container\">\n",
              "      <div>\n",
              "<style scoped>\n",
              "    .dataframe tbody tr th:only-of-type {\n",
              "        vertical-align: middle;\n",
              "    }\n",
              "\n",
              "    .dataframe tbody tr th {\n",
              "        vertical-align: top;\n",
              "    }\n",
              "\n",
              "    .dataframe thead th {\n",
              "        text-align: right;\n",
              "    }\n",
              "</style>\n",
              "<table border=\"1\" class=\"dataframe\">\n",
              "  <thead>\n",
              "    <tr style=\"text-align: right;\">\n",
              "      <th></th>\n",
              "      <th>duration</th>\n",
              "      <th>protocol_type</th>\n",
              "      <th>service</th>\n",
              "      <th>flag</th>\n",
              "      <th>src_bytes</th>\n",
              "      <th>dst_bytes</th>\n",
              "      <th>land</th>\n",
              "      <th>wrong_fragment</th>\n",
              "      <th>urgent</th>\n",
              "      <th>hot</th>\n",
              "      <th>num_failed_logins</th>\n",
              "      <th>logged_in</th>\n",
              "      <th>num_compromised</th>\n",
              "      <th>root_shell</th>\n",
              "      <th>su_attempted</th>\n",
              "      <th>num_root</th>\n",
              "      <th>num_file_creations</th>\n",
              "      <th>num_shells</th>\n",
              "      <th>num_access_files</th>\n",
              "      <th>num_outbound_cmds</th>\n",
              "      <th>is_host_login</th>\n",
              "      <th>is_guest_login</th>\n",
              "      <th>count</th>\n",
              "      <th>srv_count</th>\n",
              "      <th>serror_rate</th>\n",
              "      <th>srv_serror_rate</th>\n",
              "      <th>rerror_rate</th>\n",
              "      <th>srv_rerror_rate</th>\n",
              "      <th>same_srv_rate</th>\n",
              "      <th>diff_srv_rate</th>\n",
              "      <th>srv_diff_host_rate</th>\n",
              "      <th>dst_host_count</th>\n",
              "      <th>dst_host_srv_count</th>\n",
              "      <th>dst_host_same_srv_rate</th>\n",
              "      <th>dst_host_diff_srv_rate</th>\n",
              "      <th>dst_host_same_src_port_rate</th>\n",
              "      <th>dst_host_srv_diff_host_rate</th>\n",
              "      <th>dst_host_serror_rate</th>\n",
              "      <th>dst_host_srv_serror_rate</th>\n",
              "      <th>dst_host_rerror_rate</th>\n",
              "      <th>dst_host_srv_rerror_rate</th>\n",
              "      <th>attack</th>\n",
              "      <th>level</th>\n",
              "    </tr>\n",
              "  </thead>\n",
              "  <tbody>\n",
              "    <tr>\n",
              "      <th>38166</th>\n",
              "      <td>0</td>\n",
              "      <td>udp</td>\n",
              "      <td>domain_u</td>\n",
              "      <td>SF</td>\n",
              "      <td>44</td>\n",
              "      <td>115</td>\n",
              "      <td>0</td>\n",
              "      <td>0</td>\n",
              "      <td>0</td>\n",
              "      <td>0</td>\n",
              "      <td>0</td>\n",
              "      <td>0</td>\n",
              "      <td>0</td>\n",
              "      <td>0</td>\n",
              "      <td>0</td>\n",
              "      <td>0</td>\n",
              "      <td>0</td>\n",
              "      <td>0</td>\n",
              "      <td>0</td>\n",
              "      <td>0</td>\n",
              "      <td>0</td>\n",
              "      <td>0</td>\n",
              "      <td>2</td>\n",
              "      <td>5</td>\n",
              "      <td>0.0</td>\n",
              "      <td>0.0</td>\n",
              "      <td>0.0</td>\n",
              "      <td>0.0</td>\n",
              "      <td>1.00</td>\n",
              "      <td>0.00</td>\n",
              "      <td>0.40</td>\n",
              "      <td>255</td>\n",
              "      <td>248</td>\n",
              "      <td>0.97</td>\n",
              "      <td>0.01</td>\n",
              "      <td>0.00</td>\n",
              "      <td>0.00</td>\n",
              "      <td>0.0</td>\n",
              "      <td>0.0</td>\n",
              "      <td>0.0</td>\n",
              "      <td>0.0</td>\n",
              "      <td>normal</td>\n",
              "      <td>21</td>\n",
              "    </tr>\n",
              "    <tr>\n",
              "      <th>122124</th>\n",
              "      <td>0</td>\n",
              "      <td>tcp</td>\n",
              "      <td>http</td>\n",
              "      <td>SF</td>\n",
              "      <td>248</td>\n",
              "      <td>1273</td>\n",
              "      <td>0</td>\n",
              "      <td>0</td>\n",
              "      <td>0</td>\n",
              "      <td>0</td>\n",
              "      <td>0</td>\n",
              "      <td>1</td>\n",
              "      <td>0</td>\n",
              "      <td>0</td>\n",
              "      <td>0</td>\n",
              "      <td>0</td>\n",
              "      <td>0</td>\n",
              "      <td>0</td>\n",
              "      <td>0</td>\n",
              "      <td>0</td>\n",
              "      <td>0</td>\n",
              "      <td>0</td>\n",
              "      <td>4</td>\n",
              "      <td>4</td>\n",
              "      <td>0.0</td>\n",
              "      <td>0.0</td>\n",
              "      <td>0.0</td>\n",
              "      <td>0.0</td>\n",
              "      <td>1.00</td>\n",
              "      <td>0.00</td>\n",
              "      <td>0.00</td>\n",
              "      <td>29</td>\n",
              "      <td>255</td>\n",
              "      <td>1.00</td>\n",
              "      <td>0.00</td>\n",
              "      <td>0.03</td>\n",
              "      <td>0.03</td>\n",
              "      <td>0.0</td>\n",
              "      <td>0.0</td>\n",
              "      <td>0.0</td>\n",
              "      <td>0.0</td>\n",
              "      <td>normal</td>\n",
              "      <td>21</td>\n",
              "    </tr>\n",
              "    <tr>\n",
              "      <th>11263</th>\n",
              "      <td>0</td>\n",
              "      <td>tcp</td>\n",
              "      <td>http</td>\n",
              "      <td>SF</td>\n",
              "      <td>310</td>\n",
              "      <td>1957</td>\n",
              "      <td>0</td>\n",
              "      <td>0</td>\n",
              "      <td>0</td>\n",
              "      <td>0</td>\n",
              "      <td>0</td>\n",
              "      <td>1</td>\n",
              "      <td>0</td>\n",
              "      <td>0</td>\n",
              "      <td>0</td>\n",
              "      <td>0</td>\n",
              "      <td>0</td>\n",
              "      <td>0</td>\n",
              "      <td>0</td>\n",
              "      <td>0</td>\n",
              "      <td>0</td>\n",
              "      <td>0</td>\n",
              "      <td>4</td>\n",
              "      <td>4</td>\n",
              "      <td>0.0</td>\n",
              "      <td>0.0</td>\n",
              "      <td>0.0</td>\n",
              "      <td>0.0</td>\n",
              "      <td>1.00</td>\n",
              "      <td>0.00</td>\n",
              "      <td>0.00</td>\n",
              "      <td>11</td>\n",
              "      <td>241</td>\n",
              "      <td>1.00</td>\n",
              "      <td>0.00</td>\n",
              "      <td>0.09</td>\n",
              "      <td>0.08</td>\n",
              "      <td>0.0</td>\n",
              "      <td>0.0</td>\n",
              "      <td>0.0</td>\n",
              "      <td>0.0</td>\n",
              "      <td>normal</td>\n",
              "      <td>21</td>\n",
              "    </tr>\n",
              "    <tr>\n",
              "      <th>59637</th>\n",
              "      <td>0</td>\n",
              "      <td>tcp</td>\n",
              "      <td>http</td>\n",
              "      <td>SF</td>\n",
              "      <td>240</td>\n",
              "      <td>4664</td>\n",
              "      <td>0</td>\n",
              "      <td>0</td>\n",
              "      <td>0</td>\n",
              "      <td>0</td>\n",
              "      <td>0</td>\n",
              "      <td>1</td>\n",
              "      <td>0</td>\n",
              "      <td>0</td>\n",
              "      <td>0</td>\n",
              "      <td>0</td>\n",
              "      <td>0</td>\n",
              "      <td>0</td>\n",
              "      <td>0</td>\n",
              "      <td>0</td>\n",
              "      <td>0</td>\n",
              "      <td>0</td>\n",
              "      <td>1</td>\n",
              "      <td>4</td>\n",
              "      <td>0.0</td>\n",
              "      <td>0.0</td>\n",
              "      <td>0.0</td>\n",
              "      <td>0.0</td>\n",
              "      <td>1.00</td>\n",
              "      <td>0.00</td>\n",
              "      <td>0.75</td>\n",
              "      <td>18</td>\n",
              "      <td>255</td>\n",
              "      <td>1.00</td>\n",
              "      <td>0.00</td>\n",
              "      <td>0.06</td>\n",
              "      <td>0.01</td>\n",
              "      <td>0.0</td>\n",
              "      <td>0.0</td>\n",
              "      <td>0.0</td>\n",
              "      <td>0.0</td>\n",
              "      <td>normal</td>\n",
              "      <td>21</td>\n",
              "    </tr>\n",
              "    <tr>\n",
              "      <th>117914</th>\n",
              "      <td>0</td>\n",
              "      <td>tcp</td>\n",
              "      <td>ftp_data</td>\n",
              "      <td>S0</td>\n",
              "      <td>0</td>\n",
              "      <td>0</td>\n",
              "      <td>0</td>\n",
              "      <td>0</td>\n",
              "      <td>0</td>\n",
              "      <td>0</td>\n",
              "      <td>0</td>\n",
              "      <td>0</td>\n",
              "      <td>0</td>\n",
              "      <td>0</td>\n",
              "      <td>0</td>\n",
              "      <td>0</td>\n",
              "      <td>0</td>\n",
              "      <td>0</td>\n",
              "      <td>0</td>\n",
              "      <td>0</td>\n",
              "      <td>0</td>\n",
              "      <td>0</td>\n",
              "      <td>21</td>\n",
              "      <td>5</td>\n",
              "      <td>1.0</td>\n",
              "      <td>1.0</td>\n",
              "      <td>0.0</td>\n",
              "      <td>0.0</td>\n",
              "      <td>0.24</td>\n",
              "      <td>0.19</td>\n",
              "      <td>0.00</td>\n",
              "      <td>255</td>\n",
              "      <td>64</td>\n",
              "      <td>0.25</td>\n",
              "      <td>0.02</td>\n",
              "      <td>0.01</td>\n",
              "      <td>0.00</td>\n",
              "      <td>1.0</td>\n",
              "      <td>1.0</td>\n",
              "      <td>0.0</td>\n",
              "      <td>0.0</td>\n",
              "      <td>neptune</td>\n",
              "      <td>20</td>\n",
              "    </tr>\n",
              "  </tbody>\n",
              "</table>\n",
              "</div>\n",
              "      <button class=\"colab-df-convert\" onclick=\"convertToInteractive('df-38c864a0-4587-4b9d-9503-7753d6eeea10')\"\n",
              "              title=\"Convert this dataframe to an interactive table.\"\n",
              "              style=\"display:none;\">\n",
              "        \n",
              "  <svg xmlns=\"http://www.w3.org/2000/svg\" height=\"24px\"viewBox=\"0 0 24 24\"\n",
              "       width=\"24px\">\n",
              "    <path d=\"M0 0h24v24H0V0z\" fill=\"none\"/>\n",
              "    <path d=\"M18.56 5.44l.94 2.06.94-2.06 2.06-.94-2.06-.94-.94-2.06-.94 2.06-2.06.94zm-11 1L8.5 8.5l.94-2.06 2.06-.94-2.06-.94L8.5 2.5l-.94 2.06-2.06.94zm10 10l.94 2.06.94-2.06 2.06-.94-2.06-.94-.94-2.06-.94 2.06-2.06.94z\"/><path d=\"M17.41 7.96l-1.37-1.37c-.4-.4-.92-.59-1.43-.59-.52 0-1.04.2-1.43.59L10.3 9.45l-7.72 7.72c-.78.78-.78 2.05 0 2.83L4 21.41c.39.39.9.59 1.41.59.51 0 1.02-.2 1.41-.59l7.78-7.78 2.81-2.81c.8-.78.8-2.07 0-2.86zM5.41 20L4 18.59l7.72-7.72 1.47 1.35L5.41 20z\"/>\n",
              "  </svg>\n",
              "      </button>\n",
              "      \n",
              "  <style>\n",
              "    .colab-df-container {\n",
              "      display:flex;\n",
              "      flex-wrap:wrap;\n",
              "      gap: 12px;\n",
              "    }\n",
              "\n",
              "    .colab-df-convert {\n",
              "      background-color: #E8F0FE;\n",
              "      border: none;\n",
              "      border-radius: 50%;\n",
              "      cursor: pointer;\n",
              "      display: none;\n",
              "      fill: #1967D2;\n",
              "      height: 32px;\n",
              "      padding: 0 0 0 0;\n",
              "      width: 32px;\n",
              "    }\n",
              "\n",
              "    .colab-df-convert:hover {\n",
              "      background-color: #E2EBFA;\n",
              "      box-shadow: 0px 1px 2px rgba(60, 64, 67, 0.3), 0px 1px 3px 1px rgba(60, 64, 67, 0.15);\n",
              "      fill: #174EA6;\n",
              "    }\n",
              "\n",
              "    [theme=dark] .colab-df-convert {\n",
              "      background-color: #3B4455;\n",
              "      fill: #D2E3FC;\n",
              "    }\n",
              "\n",
              "    [theme=dark] .colab-df-convert:hover {\n",
              "      background-color: #434B5C;\n",
              "      box-shadow: 0px 1px 3px 1px rgba(0, 0, 0, 0.15);\n",
              "      filter: drop-shadow(0px 1px 2px rgba(0, 0, 0, 0.3));\n",
              "      fill: #FFFFFF;\n",
              "    }\n",
              "  </style>\n",
              "\n",
              "      <script>\n",
              "        const buttonEl =\n",
              "          document.querySelector('#df-38c864a0-4587-4b9d-9503-7753d6eeea10 button.colab-df-convert');\n",
              "        buttonEl.style.display =\n",
              "          google.colab.kernel.accessAllowed ? 'block' : 'none';\n",
              "\n",
              "        async function convertToInteractive(key) {\n",
              "          const element = document.querySelector('#df-38c864a0-4587-4b9d-9503-7753d6eeea10');\n",
              "          const dataTable =\n",
              "            await google.colab.kernel.invokeFunction('convertToInteractive',\n",
              "                                                     [key], {});\n",
              "          if (!dataTable) return;\n",
              "\n",
              "          const docLinkHtml = 'Like what you see? Visit the ' +\n",
              "            '<a target=\"_blank\" href=https://colab.research.google.com/notebooks/data_table.ipynb>data table notebook</a>'\n",
              "            + ' to learn more about interactive tables.';\n",
              "          element.innerHTML = '';\n",
              "          dataTable['output_type'] = 'display_data';\n",
              "          await google.colab.output.renderOutput(dataTable, element);\n",
              "          const docLink = document.createElement('div');\n",
              "          docLink.innerHTML = docLinkHtml;\n",
              "          element.appendChild(docLink);\n",
              "        }\n",
              "      </script>\n",
              "    </div>\n",
              "  </div>\n",
              "  "
            ]
          },
          "metadata": {},
          "execution_count": 8
        }
      ],
      "source": [
        "df_train.head(5)\n"
      ]
    },
    {
      "cell_type": "code",
      "execution_count": 9,
      "metadata": {
        "colab": {
          "base_uri": "https://localhost:8080/"
        },
        "id": "_GD6WK7HrzxV",
        "outputId": "f22fd326-9833-4251-a78a-487510f3d9e4"
      },
      "outputs": [
        {
          "output_type": "stream",
          "name": "stdout",
          "text": [
            "<class 'pandas.core.frame.DataFrame'>\n",
            "Int64Index: 125973 entries, 38166 to 123668\n",
            "Data columns (total 43 columns):\n",
            " #   Column                       Non-Null Count   Dtype  \n",
            "---  ------                       --------------   -----  \n",
            " 0   duration                     125973 non-null  int64  \n",
            " 1   protocol_type                125973 non-null  object \n",
            " 2   service                      125973 non-null  object \n",
            " 3   flag                         125973 non-null  object \n",
            " 4   src_bytes                    125973 non-null  int64  \n",
            " 5   dst_bytes                    125973 non-null  int64  \n",
            " 6   land                         125973 non-null  int64  \n",
            " 7   wrong_fragment               125973 non-null  int64  \n",
            " 8   urgent                       125973 non-null  int64  \n",
            " 9   hot                          125973 non-null  int64  \n",
            " 10  num_failed_logins            125973 non-null  int64  \n",
            " 11  logged_in                    125973 non-null  int64  \n",
            " 12  num_compromised              125973 non-null  int64  \n",
            " 13  root_shell                   125973 non-null  int64  \n",
            " 14  su_attempted                 125973 non-null  int64  \n",
            " 15  num_root                     125973 non-null  int64  \n",
            " 16  num_file_creations           125973 non-null  int64  \n",
            " 17  num_shells                   125973 non-null  int64  \n",
            " 18  num_access_files             125973 non-null  int64  \n",
            " 19  num_outbound_cmds            125973 non-null  int64  \n",
            " 20  is_host_login                125973 non-null  int64  \n",
            " 21  is_guest_login               125973 non-null  int64  \n",
            " 22  count                        125973 non-null  int64  \n",
            " 23  srv_count                    125973 non-null  int64  \n",
            " 24  serror_rate                  125973 non-null  float64\n",
            " 25  srv_serror_rate              125973 non-null  float64\n",
            " 26  rerror_rate                  125973 non-null  float64\n",
            " 27  srv_rerror_rate              125973 non-null  float64\n",
            " 28  same_srv_rate                125973 non-null  float64\n",
            " 29  diff_srv_rate                125973 non-null  float64\n",
            " 30  srv_diff_host_rate           125973 non-null  float64\n",
            " 31  dst_host_count               125973 non-null  int64  \n",
            " 32  dst_host_srv_count           125973 non-null  int64  \n",
            " 33  dst_host_same_srv_rate       125973 non-null  float64\n",
            " 34  dst_host_diff_srv_rate       125973 non-null  float64\n",
            " 35  dst_host_same_src_port_rate  125973 non-null  float64\n",
            " 36  dst_host_srv_diff_host_rate  125973 non-null  float64\n",
            " 37  dst_host_serror_rate         125973 non-null  float64\n",
            " 38  dst_host_srv_serror_rate     125973 non-null  float64\n",
            " 39  dst_host_rerror_rate         125973 non-null  float64\n",
            " 40  dst_host_srv_rerror_rate     125973 non-null  float64\n",
            " 41  attack                       125973 non-null  object \n",
            " 42  level                        125973 non-null  int64  \n",
            "dtypes: float64(15), int64(24), object(4)\n",
            "memory usage: 42.3+ MB\n"
          ]
        }
      ],
      "source": [
        "df_train.info()"
      ]
    },
    {
      "cell_type": "code",
      "execution_count": 10,
      "metadata": {
        "colab": {
          "base_uri": "https://localhost:8080/",
          "height": 270
        },
        "id": "waUTVXqUsCB5",
        "outputId": "3f42504e-f193-4c13-f48d-45d31db45db9"
      },
      "outputs": [
        {
          "output_type": "execute_result",
          "data": {
            "text/plain": [
              "        duration protocol_type   service flag  src_bytes  dst_bytes  land  \\\n",
              "21310          0           tcp   private   S0          0          0     0   \n",
              "114791         0           tcp  ftp_data   SF         59          0     0   \n",
              "106954         0           udp   private   SF          1          0     0   \n",
              "60503          0           tcp      http   SF        171      13014     0   \n",
              "8250           0           tcp    Z39_50   S0          0          0     0   \n",
              "\n",
              "        wrong_fragment  urgent  hot  num_failed_logins  logged_in  \\\n",
              "21310                0       0    0                  0          0   \n",
              "114791               0       0    0                  0          1   \n",
              "106954               0       0    0                  0          0   \n",
              "60503                0       0    0                  0          1   \n",
              "8250                 0       0    0                  0          0   \n",
              "\n",
              "        num_compromised  root_shell  su_attempted  num_root  \\\n",
              "21310                 0           0             0         0   \n",
              "114791                0           0             0         0   \n",
              "106954                0           0             0         0   \n",
              "60503                 0           0             0         0   \n",
              "8250                  0           0             0         0   \n",
              "\n",
              "        num_file_creations  num_shells  num_access_files  num_outbound_cmds  \\\n",
              "21310                    0           0                 0                  0   \n",
              "114791                   0           0                 0                  0   \n",
              "106954                   0           0                 0                  0   \n",
              "60503                    0           0                 0                  0   \n",
              "8250                     0           0                 0                  0   \n",
              "\n",
              "        is_host_login  is_guest_login  count  srv_count  serror_rate  \\\n",
              "21310               0               0    236         12          1.0   \n",
              "114791              0               0      8          8          0.0   \n",
              "106954              0               0      7          7          0.0   \n",
              "60503               0               0      1         14          0.0   \n",
              "8250                0               0    118         13          1.0   \n",
              "\n",
              "        srv_serror_rate  rerror_rate  srv_rerror_rate  same_srv_rate  \\\n",
              "21310               1.0          0.0              0.0           0.05   \n",
              "114791              0.0          0.0              0.0           1.00   \n",
              "106954              0.0          0.0              0.0           1.00   \n",
              "60503               0.0          0.0              0.0           1.00   \n",
              "8250                1.0          0.0              0.0           0.11   \n",
              "\n",
              "        diff_srv_rate  srv_diff_host_rate  dst_host_count  dst_host_srv_count  \\\n",
              "21310            0.06                0.00             255                   9   \n",
              "114791           0.00                0.00             244                  94   \n",
              "106954           0.00                0.00             255                   7   \n",
              "60503            0.00                0.14              36                 255   \n",
              "8250             0.07                0.00             255                  13   \n",
              "\n",
              "        dst_host_same_srv_rate  dst_host_diff_srv_rate  \\\n",
              "21310                     0.04                    0.07   \n",
              "114791                    0.39                    0.02   \n",
              "106954                    0.03                    0.21   \n",
              "60503                     1.00                    0.00   \n",
              "8250                      0.05                    0.07   \n",
              "\n",
              "        dst_host_same_src_port_rate  dst_host_srv_diff_host_rate  \\\n",
              "21310                          0.00                         0.00   \n",
              "114791                         0.39                         0.00   \n",
              "106954                         1.00                         0.00   \n",
              "60503                          0.03                         0.04   \n",
              "8250                           0.00                         0.00   \n",
              "\n",
              "        dst_host_serror_rate  dst_host_srv_serror_rate  dst_host_rerror_rate  \\\n",
              "21310                    1.0                       1.0                   0.0   \n",
              "114791                   0.0                       0.0                   0.0   \n",
              "106954                   0.0                       0.0                   0.0   \n",
              "60503                    0.0                       0.0                   0.0   \n",
              "8250                     1.0                       1.0                   0.0   \n",
              "\n",
              "        dst_host_srv_rerror_rate   attack  level  \n",
              "21310                        0.0  neptune     21  \n",
              "114791                       0.0   normal     21  \n",
              "106954                       0.0    satan     17  \n",
              "60503                        0.0   normal     21  \n",
              "8250                         0.0  neptune     19  "
            ],
            "text/html": [
              "\n",
              "  <div id=\"df-d674608d-c31c-4ad8-be31-f71032efda0b\">\n",
              "    <div class=\"colab-df-container\">\n",
              "      <div>\n",
              "<style scoped>\n",
              "    .dataframe tbody tr th:only-of-type {\n",
              "        vertical-align: middle;\n",
              "    }\n",
              "\n",
              "    .dataframe tbody tr th {\n",
              "        vertical-align: top;\n",
              "    }\n",
              "\n",
              "    .dataframe thead th {\n",
              "        text-align: right;\n",
              "    }\n",
              "</style>\n",
              "<table border=\"1\" class=\"dataframe\">\n",
              "  <thead>\n",
              "    <tr style=\"text-align: right;\">\n",
              "      <th></th>\n",
              "      <th>duration</th>\n",
              "      <th>protocol_type</th>\n",
              "      <th>service</th>\n",
              "      <th>flag</th>\n",
              "      <th>src_bytes</th>\n",
              "      <th>dst_bytes</th>\n",
              "      <th>land</th>\n",
              "      <th>wrong_fragment</th>\n",
              "      <th>urgent</th>\n",
              "      <th>hot</th>\n",
              "      <th>num_failed_logins</th>\n",
              "      <th>logged_in</th>\n",
              "      <th>num_compromised</th>\n",
              "      <th>root_shell</th>\n",
              "      <th>su_attempted</th>\n",
              "      <th>num_root</th>\n",
              "      <th>num_file_creations</th>\n",
              "      <th>num_shells</th>\n",
              "      <th>num_access_files</th>\n",
              "      <th>num_outbound_cmds</th>\n",
              "      <th>is_host_login</th>\n",
              "      <th>is_guest_login</th>\n",
              "      <th>count</th>\n",
              "      <th>srv_count</th>\n",
              "      <th>serror_rate</th>\n",
              "      <th>srv_serror_rate</th>\n",
              "      <th>rerror_rate</th>\n",
              "      <th>srv_rerror_rate</th>\n",
              "      <th>same_srv_rate</th>\n",
              "      <th>diff_srv_rate</th>\n",
              "      <th>srv_diff_host_rate</th>\n",
              "      <th>dst_host_count</th>\n",
              "      <th>dst_host_srv_count</th>\n",
              "      <th>dst_host_same_srv_rate</th>\n",
              "      <th>dst_host_diff_srv_rate</th>\n",
              "      <th>dst_host_same_src_port_rate</th>\n",
              "      <th>dst_host_srv_diff_host_rate</th>\n",
              "      <th>dst_host_serror_rate</th>\n",
              "      <th>dst_host_srv_serror_rate</th>\n",
              "      <th>dst_host_rerror_rate</th>\n",
              "      <th>dst_host_srv_rerror_rate</th>\n",
              "      <th>attack</th>\n",
              "      <th>level</th>\n",
              "    </tr>\n",
              "  </thead>\n",
              "  <tbody>\n",
              "    <tr>\n",
              "      <th>21310</th>\n",
              "      <td>0</td>\n",
              "      <td>tcp</td>\n",
              "      <td>private</td>\n",
              "      <td>S0</td>\n",
              "      <td>0</td>\n",
              "      <td>0</td>\n",
              "      <td>0</td>\n",
              "      <td>0</td>\n",
              "      <td>0</td>\n",
              "      <td>0</td>\n",
              "      <td>0</td>\n",
              "      <td>0</td>\n",
              "      <td>0</td>\n",
              "      <td>0</td>\n",
              "      <td>0</td>\n",
              "      <td>0</td>\n",
              "      <td>0</td>\n",
              "      <td>0</td>\n",
              "      <td>0</td>\n",
              "      <td>0</td>\n",
              "      <td>0</td>\n",
              "      <td>0</td>\n",
              "      <td>236</td>\n",
              "      <td>12</td>\n",
              "      <td>1.0</td>\n",
              "      <td>1.0</td>\n",
              "      <td>0.0</td>\n",
              "      <td>0.0</td>\n",
              "      <td>0.05</td>\n",
              "      <td>0.06</td>\n",
              "      <td>0.00</td>\n",
              "      <td>255</td>\n",
              "      <td>9</td>\n",
              "      <td>0.04</td>\n",
              "      <td>0.07</td>\n",
              "      <td>0.00</td>\n",
              "      <td>0.00</td>\n",
              "      <td>1.0</td>\n",
              "      <td>1.0</td>\n",
              "      <td>0.0</td>\n",
              "      <td>0.0</td>\n",
              "      <td>neptune</td>\n",
              "      <td>21</td>\n",
              "    </tr>\n",
              "    <tr>\n",
              "      <th>114791</th>\n",
              "      <td>0</td>\n",
              "      <td>tcp</td>\n",
              "      <td>ftp_data</td>\n",
              "      <td>SF</td>\n",
              "      <td>59</td>\n",
              "      <td>0</td>\n",
              "      <td>0</td>\n",
              "      <td>0</td>\n",
              "      <td>0</td>\n",
              "      <td>0</td>\n",
              "      <td>0</td>\n",
              "      <td>1</td>\n",
              "      <td>0</td>\n",
              "      <td>0</td>\n",
              "      <td>0</td>\n",
              "      <td>0</td>\n",
              "      <td>0</td>\n",
              "      <td>0</td>\n",
              "      <td>0</td>\n",
              "      <td>0</td>\n",
              "      <td>0</td>\n",
              "      <td>0</td>\n",
              "      <td>8</td>\n",
              "      <td>8</td>\n",
              "      <td>0.0</td>\n",
              "      <td>0.0</td>\n",
              "      <td>0.0</td>\n",
              "      <td>0.0</td>\n",
              "      <td>1.00</td>\n",
              "      <td>0.00</td>\n",
              "      <td>0.00</td>\n",
              "      <td>244</td>\n",
              "      <td>94</td>\n",
              "      <td>0.39</td>\n",
              "      <td>0.02</td>\n",
              "      <td>0.39</td>\n",
              "      <td>0.00</td>\n",
              "      <td>0.0</td>\n",
              "      <td>0.0</td>\n",
              "      <td>0.0</td>\n",
              "      <td>0.0</td>\n",
              "      <td>normal</td>\n",
              "      <td>21</td>\n",
              "    </tr>\n",
              "    <tr>\n",
              "      <th>106954</th>\n",
              "      <td>0</td>\n",
              "      <td>udp</td>\n",
              "      <td>private</td>\n",
              "      <td>SF</td>\n",
              "      <td>1</td>\n",
              "      <td>0</td>\n",
              "      <td>0</td>\n",
              "      <td>0</td>\n",
              "      <td>0</td>\n",
              "      <td>0</td>\n",
              "      <td>0</td>\n",
              "      <td>0</td>\n",
              "      <td>0</td>\n",
              "      <td>0</td>\n",
              "      <td>0</td>\n",
              "      <td>0</td>\n",
              "      <td>0</td>\n",
              "      <td>0</td>\n",
              "      <td>0</td>\n",
              "      <td>0</td>\n",
              "      <td>0</td>\n",
              "      <td>0</td>\n",
              "      <td>7</td>\n",
              "      <td>7</td>\n",
              "      <td>0.0</td>\n",
              "      <td>0.0</td>\n",
              "      <td>0.0</td>\n",
              "      <td>0.0</td>\n",
              "      <td>1.00</td>\n",
              "      <td>0.00</td>\n",
              "      <td>0.00</td>\n",
              "      <td>255</td>\n",
              "      <td>7</td>\n",
              "      <td>0.03</td>\n",
              "      <td>0.21</td>\n",
              "      <td>1.00</td>\n",
              "      <td>0.00</td>\n",
              "      <td>0.0</td>\n",
              "      <td>0.0</td>\n",
              "      <td>0.0</td>\n",
              "      <td>0.0</td>\n",
              "      <td>satan</td>\n",
              "      <td>17</td>\n",
              "    </tr>\n",
              "    <tr>\n",
              "      <th>60503</th>\n",
              "      <td>0</td>\n",
              "      <td>tcp</td>\n",
              "      <td>http</td>\n",
              "      <td>SF</td>\n",
              "      <td>171</td>\n",
              "      <td>13014</td>\n",
              "      <td>0</td>\n",
              "      <td>0</td>\n",
              "      <td>0</td>\n",
              "      <td>0</td>\n",
              "      <td>0</td>\n",
              "      <td>1</td>\n",
              "      <td>0</td>\n",
              "      <td>0</td>\n",
              "      <td>0</td>\n",
              "      <td>0</td>\n",
              "      <td>0</td>\n",
              "      <td>0</td>\n",
              "      <td>0</td>\n",
              "      <td>0</td>\n",
              "      <td>0</td>\n",
              "      <td>0</td>\n",
              "      <td>1</td>\n",
              "      <td>14</td>\n",
              "      <td>0.0</td>\n",
              "      <td>0.0</td>\n",
              "      <td>0.0</td>\n",
              "      <td>0.0</td>\n",
              "      <td>1.00</td>\n",
              "      <td>0.00</td>\n",
              "      <td>0.14</td>\n",
              "      <td>36</td>\n",
              "      <td>255</td>\n",
              "      <td>1.00</td>\n",
              "      <td>0.00</td>\n",
              "      <td>0.03</td>\n",
              "      <td>0.04</td>\n",
              "      <td>0.0</td>\n",
              "      <td>0.0</td>\n",
              "      <td>0.0</td>\n",
              "      <td>0.0</td>\n",
              "      <td>normal</td>\n",
              "      <td>21</td>\n",
              "    </tr>\n",
              "    <tr>\n",
              "      <th>8250</th>\n",
              "      <td>0</td>\n",
              "      <td>tcp</td>\n",
              "      <td>Z39_50</td>\n",
              "      <td>S0</td>\n",
              "      <td>0</td>\n",
              "      <td>0</td>\n",
              "      <td>0</td>\n",
              "      <td>0</td>\n",
              "      <td>0</td>\n",
              "      <td>0</td>\n",
              "      <td>0</td>\n",
              "      <td>0</td>\n",
              "      <td>0</td>\n",
              "      <td>0</td>\n",
              "      <td>0</td>\n",
              "      <td>0</td>\n",
              "      <td>0</td>\n",
              "      <td>0</td>\n",
              "      <td>0</td>\n",
              "      <td>0</td>\n",
              "      <td>0</td>\n",
              "      <td>0</td>\n",
              "      <td>118</td>\n",
              "      <td>13</td>\n",
              "      <td>1.0</td>\n",
              "      <td>1.0</td>\n",
              "      <td>0.0</td>\n",
              "      <td>0.0</td>\n",
              "      <td>0.11</td>\n",
              "      <td>0.07</td>\n",
              "      <td>0.00</td>\n",
              "      <td>255</td>\n",
              "      <td>13</td>\n",
              "      <td>0.05</td>\n",
              "      <td>0.07</td>\n",
              "      <td>0.00</td>\n",
              "      <td>0.00</td>\n",
              "      <td>1.0</td>\n",
              "      <td>1.0</td>\n",
              "      <td>0.0</td>\n",
              "      <td>0.0</td>\n",
              "      <td>neptune</td>\n",
              "      <td>19</td>\n",
              "    </tr>\n",
              "  </tbody>\n",
              "</table>\n",
              "</div>\n",
              "      <button class=\"colab-df-convert\" onclick=\"convertToInteractive('df-d674608d-c31c-4ad8-be31-f71032efda0b')\"\n",
              "              title=\"Convert this dataframe to an interactive table.\"\n",
              "              style=\"display:none;\">\n",
              "        \n",
              "  <svg xmlns=\"http://www.w3.org/2000/svg\" height=\"24px\"viewBox=\"0 0 24 24\"\n",
              "       width=\"24px\">\n",
              "    <path d=\"M0 0h24v24H0V0z\" fill=\"none\"/>\n",
              "    <path d=\"M18.56 5.44l.94 2.06.94-2.06 2.06-.94-2.06-.94-.94-2.06-.94 2.06-2.06.94zm-11 1L8.5 8.5l.94-2.06 2.06-.94-2.06-.94L8.5 2.5l-.94 2.06-2.06.94zm10 10l.94 2.06.94-2.06 2.06-.94-2.06-.94-.94-2.06-.94 2.06-2.06.94z\"/><path d=\"M17.41 7.96l-1.37-1.37c-.4-.4-.92-.59-1.43-.59-.52 0-1.04.2-1.43.59L10.3 9.45l-7.72 7.72c-.78.78-.78 2.05 0 2.83L4 21.41c.39.39.9.59 1.41.59.51 0 1.02-.2 1.41-.59l7.78-7.78 2.81-2.81c.8-.78.8-2.07 0-2.86zM5.41 20L4 18.59l7.72-7.72 1.47 1.35L5.41 20z\"/>\n",
              "  </svg>\n",
              "      </button>\n",
              "      \n",
              "  <style>\n",
              "    .colab-df-container {\n",
              "      display:flex;\n",
              "      flex-wrap:wrap;\n",
              "      gap: 12px;\n",
              "    }\n",
              "\n",
              "    .colab-df-convert {\n",
              "      background-color: #E8F0FE;\n",
              "      border: none;\n",
              "      border-radius: 50%;\n",
              "      cursor: pointer;\n",
              "      display: none;\n",
              "      fill: #1967D2;\n",
              "      height: 32px;\n",
              "      padding: 0 0 0 0;\n",
              "      width: 32px;\n",
              "    }\n",
              "\n",
              "    .colab-df-convert:hover {\n",
              "      background-color: #E2EBFA;\n",
              "      box-shadow: 0px 1px 2px rgba(60, 64, 67, 0.3), 0px 1px 3px 1px rgba(60, 64, 67, 0.15);\n",
              "      fill: #174EA6;\n",
              "    }\n",
              "\n",
              "    [theme=dark] .colab-df-convert {\n",
              "      background-color: #3B4455;\n",
              "      fill: #D2E3FC;\n",
              "    }\n",
              "\n",
              "    [theme=dark] .colab-df-convert:hover {\n",
              "      background-color: #434B5C;\n",
              "      box-shadow: 0px 1px 3px 1px rgba(0, 0, 0, 0.15);\n",
              "      filter: drop-shadow(0px 1px 2px rgba(0, 0, 0, 0.3));\n",
              "      fill: #FFFFFF;\n",
              "    }\n",
              "  </style>\n",
              "\n",
              "      <script>\n",
              "        const buttonEl =\n",
              "          document.querySelector('#df-d674608d-c31c-4ad8-be31-f71032efda0b button.colab-df-convert');\n",
              "        buttonEl.style.display =\n",
              "          google.colab.kernel.accessAllowed ? 'block' : 'none';\n",
              "\n",
              "        async function convertToInteractive(key) {\n",
              "          const element = document.querySelector('#df-d674608d-c31c-4ad8-be31-f71032efda0b');\n",
              "          const dataTable =\n",
              "            await google.colab.kernel.invokeFunction('convertToInteractive',\n",
              "                                                     [key], {});\n",
              "          if (!dataTable) return;\n",
              "\n",
              "          const docLinkHtml = 'Like what you see? Visit the ' +\n",
              "            '<a target=\"_blank\" href=https://colab.research.google.com/notebooks/data_table.ipynb>data table notebook</a>'\n",
              "            + ' to learn more about interactive tables.';\n",
              "          element.innerHTML = '';\n",
              "          dataTable['output_type'] = 'display_data';\n",
              "          await google.colab.output.renderOutput(dataTable, element);\n",
              "          const docLink = document.createElement('div');\n",
              "          docLink.innerHTML = docLinkHtml;\n",
              "          element.appendChild(docLink);\n",
              "        }\n",
              "      </script>\n",
              "    </div>\n",
              "  </div>\n",
              "  "
            ]
          },
          "metadata": {},
          "execution_count": 10
        }
      ],
      "source": [
        "df_test.head(5)"
      ]
    },
    {
      "cell_type": "code",
      "execution_count": 11,
      "metadata": {
        "colab": {
          "base_uri": "https://localhost:8080/"
        },
        "id": "RCHYGP2IvWwZ",
        "outputId": "165fc0fb-be0e-49fc-f8b3-31ea34053236"
      },
      "outputs": [
        {
          "output_type": "stream",
          "name": "stdout",
          "text": [
            "<class 'pandas.core.frame.DataFrame'>\n",
            "Int64Index: 22544 entries, 21310 to 121958\n",
            "Data columns (total 43 columns):\n",
            " #   Column                       Non-Null Count  Dtype  \n",
            "---  ------                       --------------  -----  \n",
            " 0   duration                     22544 non-null  int64  \n",
            " 1   protocol_type                22544 non-null  object \n",
            " 2   service                      22544 non-null  object \n",
            " 3   flag                         22544 non-null  object \n",
            " 4   src_bytes                    22544 non-null  int64  \n",
            " 5   dst_bytes                    22544 non-null  int64  \n",
            " 6   land                         22544 non-null  int64  \n",
            " 7   wrong_fragment               22544 non-null  int64  \n",
            " 8   urgent                       22544 non-null  int64  \n",
            " 9   hot                          22544 non-null  int64  \n",
            " 10  num_failed_logins            22544 non-null  int64  \n",
            " 11  logged_in                    22544 non-null  int64  \n",
            " 12  num_compromised              22544 non-null  int64  \n",
            " 13  root_shell                   22544 non-null  int64  \n",
            " 14  su_attempted                 22544 non-null  int64  \n",
            " 15  num_root                     22544 non-null  int64  \n",
            " 16  num_file_creations           22544 non-null  int64  \n",
            " 17  num_shells                   22544 non-null  int64  \n",
            " 18  num_access_files             22544 non-null  int64  \n",
            " 19  num_outbound_cmds            22544 non-null  int64  \n",
            " 20  is_host_login                22544 non-null  int64  \n",
            " 21  is_guest_login               22544 non-null  int64  \n",
            " 22  count                        22544 non-null  int64  \n",
            " 23  srv_count                    22544 non-null  int64  \n",
            " 24  serror_rate                  22544 non-null  float64\n",
            " 25  srv_serror_rate              22544 non-null  float64\n",
            " 26  rerror_rate                  22544 non-null  float64\n",
            " 27  srv_rerror_rate              22544 non-null  float64\n",
            " 28  same_srv_rate                22544 non-null  float64\n",
            " 29  diff_srv_rate                22544 non-null  float64\n",
            " 30  srv_diff_host_rate           22544 non-null  float64\n",
            " 31  dst_host_count               22544 non-null  int64  \n",
            " 32  dst_host_srv_count           22544 non-null  int64  \n",
            " 33  dst_host_same_srv_rate       22544 non-null  float64\n",
            " 34  dst_host_diff_srv_rate       22544 non-null  float64\n",
            " 35  dst_host_same_src_port_rate  22544 non-null  float64\n",
            " 36  dst_host_srv_diff_host_rate  22544 non-null  float64\n",
            " 37  dst_host_serror_rate         22544 non-null  float64\n",
            " 38  dst_host_srv_serror_rate     22544 non-null  float64\n",
            " 39  dst_host_rerror_rate         22544 non-null  float64\n",
            " 40  dst_host_srv_rerror_rate     22544 non-null  float64\n",
            " 41  attack                       22544 non-null  object \n",
            " 42  level                        22544 non-null  int64  \n",
            "dtypes: float64(15), int64(24), object(4)\n",
            "memory usage: 7.6+ MB\n"
          ]
        }
      ],
      "source": [
        "df_test.info()"
      ]
    },
    {
      "cell_type": "markdown",
      "metadata": {
        "id": "DLuQkcSq08rH"
      },
      "source": [
        "Let's check if there is any missing data in both training and test dataset"
      ]
    },
    {
      "cell_type": "code",
      "execution_count": 12,
      "metadata": {
        "colab": {
          "base_uri": "https://localhost:8080/"
        },
        "id": "J3tqBOxh1FbR",
        "outputId": "c88b6a39-67ec-4c2d-adc7-efac64da84a3"
      },
      "outputs": [
        {
          "output_type": "execute_result",
          "data": {
            "text/plain": [
              "duration                       0\n",
              "protocol_type                  0\n",
              "service                        0\n",
              "flag                           0\n",
              "src_bytes                      0\n",
              "dst_bytes                      0\n",
              "land                           0\n",
              "wrong_fragment                 0\n",
              "urgent                         0\n",
              "hot                            0\n",
              "num_failed_logins              0\n",
              "logged_in                      0\n",
              "num_compromised                0\n",
              "root_shell                     0\n",
              "su_attempted                   0\n",
              "num_root                       0\n",
              "num_file_creations             0\n",
              "num_shells                     0\n",
              "num_access_files               0\n",
              "num_outbound_cmds              0\n",
              "is_host_login                  0\n",
              "is_guest_login                 0\n",
              "count                          0\n",
              "srv_count                      0\n",
              "serror_rate                    0\n",
              "srv_serror_rate                0\n",
              "rerror_rate                    0\n",
              "srv_rerror_rate                0\n",
              "same_srv_rate                  0\n",
              "diff_srv_rate                  0\n",
              "srv_diff_host_rate             0\n",
              "dst_host_count                 0\n",
              "dst_host_srv_count             0\n",
              "dst_host_same_srv_rate         0\n",
              "dst_host_diff_srv_rate         0\n",
              "dst_host_same_src_port_rate    0\n",
              "dst_host_srv_diff_host_rate    0\n",
              "dst_host_serror_rate           0\n",
              "dst_host_srv_serror_rate       0\n",
              "dst_host_rerror_rate           0\n",
              "dst_host_srv_rerror_rate       0\n",
              "attack                         0\n",
              "level                          0\n",
              "dtype: int64"
            ]
          },
          "metadata": {},
          "execution_count": 12
        }
      ],
      "source": [
        "df_train.isnull().sum()"
      ]
    },
    {
      "cell_type": "code",
      "execution_count": 13,
      "metadata": {
        "colab": {
          "base_uri": "https://localhost:8080/"
        },
        "id": "olGSJIOD1POn",
        "outputId": "964212a6-fed8-46ab-d696-390c6f33a175"
      },
      "outputs": [
        {
          "output_type": "execute_result",
          "data": {
            "text/plain": [
              "duration                       0\n",
              "protocol_type                  0\n",
              "service                        0\n",
              "flag                           0\n",
              "src_bytes                      0\n",
              "dst_bytes                      0\n",
              "land                           0\n",
              "wrong_fragment                 0\n",
              "urgent                         0\n",
              "hot                            0\n",
              "num_failed_logins              0\n",
              "logged_in                      0\n",
              "num_compromised                0\n",
              "root_shell                     0\n",
              "su_attempted                   0\n",
              "num_root                       0\n",
              "num_file_creations             0\n",
              "num_shells                     0\n",
              "num_access_files               0\n",
              "num_outbound_cmds              0\n",
              "is_host_login                  0\n",
              "is_guest_login                 0\n",
              "count                          0\n",
              "srv_count                      0\n",
              "serror_rate                    0\n",
              "srv_serror_rate                0\n",
              "rerror_rate                    0\n",
              "srv_rerror_rate                0\n",
              "same_srv_rate                  0\n",
              "diff_srv_rate                  0\n",
              "srv_diff_host_rate             0\n",
              "dst_host_count                 0\n",
              "dst_host_srv_count             0\n",
              "dst_host_same_srv_rate         0\n",
              "dst_host_diff_srv_rate         0\n",
              "dst_host_same_src_port_rate    0\n",
              "dst_host_srv_diff_host_rate    0\n",
              "dst_host_serror_rate           0\n",
              "dst_host_srv_serror_rate       0\n",
              "dst_host_rerror_rate           0\n",
              "dst_host_srv_rerror_rate       0\n",
              "attack                         0\n",
              "level                          0\n",
              "dtype: int64"
            ]
          },
          "metadata": {},
          "execution_count": 13
        }
      ],
      "source": [
        "df_test.isnull().sum()"
      ]
    },
    {
      "cell_type": "markdown",
      "metadata": {
        "id": "744jkAgh1Vq7"
      },
      "source": [
        "Wow! Both the training and test data is free from any null values"
      ]
    },
    {
      "cell_type": "markdown",
      "metadata": {
        "id": "oscmKES022YF"
      },
      "source": [
        "Let's Visualize the data"
      ]
    },
    {
      "cell_type": "code",
      "execution_count": 14,
      "metadata": {
        "id": "tM3Ahrt34zuO"
      },
      "outputs": [],
      "source": [
        "def visualize(df_train, df_test,attribute):\n",
        "  fig,(ax1,ax2)= plt.subplots(ncols=2, figsize=(25, 7.5), dpi=100)\n",
        "\n",
        "  fig.suptitle(f'Counts of Observation Labels', fontsize=25)\n",
        "\n",
        "  sns.countplot(x=attribute, \n",
        "              palette=\"OrRd_r\", \n",
        "              data=df_train, \n",
        "              order=df_train[attribute].value_counts().index,\n",
        "              ax=ax1)\n",
        "\n",
        "  ax1.set_title('Train Set', fontsize=20)\n",
        "  ax1.set_xlabel(attribute, fontsize=15)\n",
        "  ax1.set_ylabel('count', fontsize=15)\n",
        "  ax1.tick_params(labelrotation=90)\n",
        "\n",
        "  sns.countplot(x=attribute, \n",
        "              palette=\"GnBu_r\", \n",
        "              data=df_test, \n",
        "              order=df_test[attribute].value_counts().index,\n",
        "              ax=ax2)\n",
        "\n",
        "  ax2.set_title('Test Set', fontsize=20)\n",
        "  ax2.set_xlabel(attribute, fontsize=15)\n",
        "  ax2.set_ylabel('count', fontsize=15)\n",
        "  ax2.tick_params(labelrotation=90)\n",
        "\n",
        "  plt.show()"
      ]
    },
    {
      "cell_type": "code",
      "execution_count": 15,
      "metadata": {
        "colab": {
          "base_uri": "https://localhost:8080/",
          "height": 822
        },
        "id": "T9JWCCCK3L5Q",
        "outputId": "c9188c03-2aba-41b4-c2a8-81cbbb0fd0e6"
      },
      "outputs": [
        {
          "output_type": "display_data",
          "data": {
            "text/plain": [
              "<Figure size 2500x750 with 2 Axes>"
            ],
            "image/png": "[encoded data removed]"
          },
          "metadata": {
            "needs_background": "light"
          }
        }
      ],
      "source": [
        "visualize(df_train,df_test,'attack')"
      ]
    },
    {
      "cell_type": "markdown",
      "metadata": {
        "id": "QrQnaWIMqudX"
      },
      "source": [
        "Uh-oh! The data is imbalanced in a major way. Most of the connections are either 'normal' or 'neptune' attack both in training and test dataset. That's a training problem for the other categories of attack. The second problem is there are attack categories in the testset (like saint, mailbomb) that do not exist in the training set. How can we train our model without any example? We have to do something to resolve these issues.\n"
      ]
    },
    {
      "cell_type": "code",
      "execution_count": 16,
      "metadata": {
        "colab": {
          "base_uri": "https://localhost:8080/"
        },
        "id": "uJA6IT5vvCs3",
        "outputId": "4272583b-3edf-4edf-9a58-aef9e0dcdc97"
      },
      "outputs": [
        {
          "output_type": "stream",
          "name": "stdout",
          "text": [
            "['normal' 'neptune' 'satan' 'apache2' 'warezmaster' 'teardrop' 'ipsweep'\n",
            " 'mscan' 'back' 'warezclient' 'portsweep' 'nmap' 'smurf' 'processtable'\n",
            " 'guess_passwd' 'httptunnel' 'mailbomb' 'saint' 'snmpguess' 'pod'\n",
            " 'snmpgetattack' 'xterm' 'land' 'loadmodule' 'worm' 'buffer_overflow'\n",
            " 'named' 'imap' 'multihop' 'sendmail' 'ps' 'spy' 'xlock' 'perl' 'rootkit'\n",
            " 'sqlattack' 'xsnoop' 'ftp_write' 'phf' 'udpstorm']\n",
            "40\n"
          ]
        }
      ],
      "source": [
        "#Display the name of attack types in the training dataset\n",
        "print(df_train['attack'].unique())\n",
        "#Display the count\n",
        "print(df_train['attack'].nunique())\n",
        "\n",
        "\n",
        "\n"
      ]
    },
    {
      "cell_type": "code",
      "execution_count": 17,
      "metadata": {
        "colab": {
          "base_uri": "https://localhost:8080/"
        },
        "id": "7T2BHqzFyIgd",
        "outputId": "b6d9fa8c-4583-4914-9550-1490a33bcb2e"
      },
      "outputs": [
        {
          "output_type": "stream",
          "name": "stdout",
          "text": [
            "['neptune' 'normal' 'satan' 'warezmaster' 'ipsweep' 'guess_passwd' 'back'\n",
            " 'portsweep' 'smurf' 'nmap' 'teardrop' 'apache2' 'pod' 'buffer_overflow'\n",
            " 'mscan' 'httptunnel' 'warezclient' 'processtable' 'mailbomb'\n",
            " 'snmpgetattack' 'saint' 'snmpguess' 'sendmail' 'ps' 'multihop'\n",
            " 'loadmodule' 'ftp_write' 'xterm' 'land' 'named' 'rootkit' 'xsnoop'\n",
            " 'xlock' 'phf']\n",
            "34\n"
          ]
        }
      ],
      "source": [
        "#Display the names in test dataset\n",
        "print(df_test['attack'].unique())\n",
        "#Display the count\n",
        "print(df_test['attack'].nunique())"
      ]
    },
    {
      "cell_type": "markdown",
      "metadata": {
        "id": "T1578Xzl1FcO"
      },
      "source": [
        "It appears that the attack types in the training and test datasets do not match. To address this, one solution could be to transform the problem into a binary classification task. Specifically, we can create a new column called 'label' and assign the value 'intrusion' to all non-'normal' entries as shown below."
      ]
    },
    {
      "cell_type": "code",
      "execution_count": 18,
      "metadata": {
        "id": "qne8ywClyFsN"
      },
      "outputs": [],
      "source": [
        "# convert the training data\n",
        "df_train[\"label\"]=df_train.attack.map(lambda a: \"normal\" if a == 'normal' else \"intrusion\")\n",
        "# drop the original column\n",
        "df_train.drop('attack',axis=1,inplace=True)\n",
        "# repeat the same steps on the test data\n",
        "df_test[\"label\"]=df_test.attack.map(lambda a: \"normal\" if a == 'normal' else \"intrusion\")\n",
        "df_test.drop('attack',axis=1,inplace=True)\n"
      ]
    },
    {
      "cell_type": "markdown",
      "metadata": {
        "id": "WvG1Bn9h13Hn"
      },
      "source": [
        "Let's Visualize again"
      ]
    },
    {
      "cell_type": "code",
      "execution_count": 19,
      "metadata": {
        "colab": {
          "base_uri": "https://localhost:8080/",
          "height": 774
        },
        "id": "UyFQhiKh3_hu",
        "outputId": "3ab83d50-6e6b-432c-fb26-cbab23ae7f21"
      },
      "outputs": [
        {
          "output_type": "display_data",
          "data": {
            "text/plain": [
              "<Figure size 2500x750 with 2 Axes>"
            ],
            "image/png": "[encoded data removed]"
          },
          "metadata": {
            "needs_background": "light"
          }
        }
      ],
      "source": [
        "visualize(df_train,df_test,'label')"
      ]
    },
    {
      "cell_type": "markdown",
      "metadata": {
        "id": "w-6Ms2SAtCUr"
      },
      "source": [
        "Let's Identify which other columns has categorical data in them"
      ]
    },
    {
      "cell_type": "code",
      "execution_count": 20,
      "metadata": {
        "colab": {
          "base_uri": "https://localhost:8080/"
        },
        "id": "OyWAyU_LtLbb",
        "outputId": "2efaa238-1844-4d9e-aa61-c1e87370b6de"
      },
      "outputs": [
        {
          "output_type": "stream",
          "name": "stdout",
          "text": [
            "['protocol_type', 'service', 'flag', 'label']\n",
            "['protocol_type', 'service', 'flag', 'label']\n"
          ]
        }
      ],
      "source": [
        "cat_features_train=[i for i in df_train.columns if df_train.dtypes[i]=='object']\n",
        "print(cat_features_train)\n",
        "cat_features_test=[i for i in df_test.columns if df_test.dtypes[i]=='object']\n",
        "print(cat_features_test)\n"
      ]
    },
    {
      "cell_type": "markdown",
      "metadata": {
        "id": "6t_n599K2J0t"
      },
      "source": [
        "Keeping the 'label' column aside, we ahve 3 other columns that has categorical data\n"
      ]
    },
    {
      "cell_type": "markdown",
      "metadata": {
        "id": "qdg6ZmIw2sll"
      },
      "source": [
        "Let's check the 'protocol_type' column"
      ]
    },
    {
      "cell_type": "code",
      "execution_count": 21,
      "metadata": {
        "colab": {
          "base_uri": "https://localhost:8080/"
        },
        "id": "CQWNqCCPzdyv",
        "outputId": "0089bac4-89f4-4458-8d94-96acec542e9f"
      },
      "outputs": [
        {
          "output_type": "stream",
          "name": "stdout",
          "text": [
            "['udp' 'tcp' 'icmp']\n",
            "3\n",
            "['tcp' 'udp' 'icmp']\n",
            "3\n"
          ]
        }
      ],
      "source": [
        "print(df_train['protocol_type'].unique())\n",
        "print(df_train['protocol_type'].nunique())\n",
        "print(df_test['protocol_type'].unique())\n",
        "print(df_test['protocol_type'].nunique())\n"
      ]
    },
    {
      "cell_type": "markdown",
      "metadata": {
        "id": "EJVlRzuV3HIN"
      },
      "source": [
        "So, there are the same 3 'protocol_type' values in each set. This is good."
      ]
    },
    {
      "cell_type": "markdown",
      "metadata": {
        "id": "JZ8VBWtL3Ukz"
      },
      "source": [
        "Let's check the 'service' column"
      ]
    },
    {
      "cell_type": "code",
      "execution_count": 22,
      "metadata": {
        "colab": {
          "base_uri": "https://localhost:8080/"
        },
        "id": "YvsQb8TAznY5",
        "outputId": "fa15ff35-3ad4-4fe7-d1dd-fabfeb93126b"
      },
      "outputs": [
        {
          "output_type": "stream",
          "name": "stdout",
          "text": [
            "['IRC', 'X11', 'Z39_50', 'aol', 'auth', 'bgp', 'courier', 'csnet_ns', 'ctf', 'daytime', 'discard', 'domain', 'domain_u', 'echo', 'eco_i', 'ecr_i', 'efs', 'exec', 'finger', 'ftp', 'ftp_data', 'gopher', 'harvest', 'hostnames', 'http', 'http_2784', 'http_443', 'http_8001', 'imap4', 'iso_tsap', 'klogin', 'kshell', 'ldap', 'link', 'login', 'mtp', 'name', 'netbios_dgm', 'netbios_ns', 'netbios_ssn', 'netstat', 'nnsp', 'nntp', 'ntp_u', 'other', 'pm_dump', 'pop_2', 'pop_3', 'printer', 'private', 'red_i', 'remote_job', 'rje', 'shell', 'smtp', 'sql_net', 'ssh', 'sunrpc', 'supdup', 'systat', 'telnet', 'tftp_u', 'tim_i', 'time', 'urh_i', 'urp_i', 'uucp', 'uucp_path', 'vmnet', 'whois']\n",
            "70\n",
            "['IRC', 'X11', 'Z39_50', 'auth', 'bgp', 'courier', 'csnet_ns', 'ctf', 'daytime', 'discard', 'domain', 'domain_u', 'echo', 'eco_i', 'ecr_i', 'efs', 'exec', 'finger', 'ftp', 'ftp_data', 'gopher', 'hostnames', 'http', 'http_443', 'imap4', 'iso_tsap', 'klogin', 'kshell', 'ldap', 'link', 'login', 'mtp', 'name', 'netbios_dgm', 'netbios_ns', 'netbios_ssn', 'netstat', 'nnsp', 'nntp', 'ntp_u', 'other', 'pm_dump', 'pop_2', 'pop_3', 'printer', 'private', 'red_i', 'remote_job', 'rje', 'shell', 'smtp', 'sql_net', 'ssh', 'sunrpc', 'supdup', 'systat', 'telnet', 'tim_i', 'time', 'urp_i', 'uucp', 'uucp_path', 'vmnet', 'whois']\n",
            "64\n"
          ]
        }
      ],
      "source": [
        "print(sorted(df_train['service'].unique()))\n",
        "print(df_train['service'].nunique())\n",
        "print(sorted(df_test['service'].unique()))\n",
        "print(df_test['service'].nunique())"
      ]
    },
    {
      "cell_type": "markdown",
      "metadata": {
        "id": "PTYVdNHe3l6j"
      },
      "source": [
        "There are 70 and 64 unique 'service' values in training and test dataset. This is a problem for both One-hot encoding and label encoding. We will do label encoding here, so we have to address this problem."
      ]
    },
    {
      "cell_type": "markdown",
      "metadata": {
        "id": "oRWcfVlk404a"
      },
      "source": [
        "Let's check the 'flag' category"
      ]
    },
    {
      "cell_type": "code",
      "execution_count": 23,
      "metadata": {
        "colab": {
          "base_uri": "https://localhost:8080/"
        },
        "id": "TdWnCVDSz4ks",
        "outputId": "5c2071b2-a5b6-45be-de11-735b30ae8889"
      },
      "outputs": [
        {
          "output_type": "stream",
          "name": "stdout",
          "text": [
            "['OTH', 'REJ', 'RSTO', 'RSTOS0', 'RSTR', 'S0', 'S1', 'S2', 'S3', 'SF', 'SH']\n",
            "11\n",
            "['OTH', 'REJ', 'RSTO', 'RSTOS0', 'RSTR', 'S0', 'S1', 'S2', 'S3', 'SF', 'SH']\n",
            "11\n"
          ]
        }
      ],
      "source": [
        "print(sorted(df_train['flag'].unique()))\n",
        "print(df_train['flag'].nunique())\n",
        "\n",
        "print(sorted(df_test['flag'].unique()))\n",
        "print(df_test['flag'].nunique())"
      ]
    },
    {
      "cell_type": "markdown",
      "metadata": {
        "id": "f6rwRnrCuYMt"
      },
      "source": [
        "The 'flag' values match between the two sets"
      ]
    },
    {
      "cell_type": "markdown",
      "metadata": {
        "id": "FdX21xLL-BqD"
      },
      "source": [
        "To ensure consistent and accurate replacement of categorical values with numerical codes, we will merge the training and test datasets, perform the string-to-number transformation, and then split them back into their original partitions."
      ]
    },
    {
      "cell_type": "code",
      "execution_count": 24,
      "metadata": {
        "id": "U1DV9nGf6kpE"
      },
      "outputs": [],
      "source": [
        "df_train_copy = df_train.copy()\n",
        "df_test_copy = df_test.copy()\n",
        "df_train_copy['train']=1                                                                       \n",
        "df_test_copy['train']=0                                                                        \n",
        "\n",
        "joined_df = pd.concat([df_train_copy, df_test_copy])  \n",
        "\n",
        "le=preprocessing.LabelEncoder()\n",
        "clm=['protocol_type', 'service', 'flag','label']\n",
        "for x in clm:\n",
        "    joined_df[x]=le.fit_transform(joined_df[x])\n",
        "\n",
        "df_train_copy = joined_df[joined_df['train']==1]                                               \n",
        "df_test_copy = joined_df[joined_df['train']==0]\n",
        "\n",
        "drop_cols = ['train']                                      \n",
        "\n",
        "df_train_copy.drop(drop_cols, axis=1, inplace=True)                                            \n",
        "df_test_copy.drop(drop_cols, axis=1, inplace=True)\n",
        "\n",
        "df_train=df_train_copy\n",
        "df_test=df_test_copy\n"
      ]
    },
    {
      "cell_type": "markdown",
      "metadata": {
        "id": "7xBwEMid-zrb"
      },
      "source": [
        "Let's spot check the 'service' category"
      ]
    },
    {
      "cell_type": "code",
      "execution_count": 25,
      "metadata": {
        "colab": {
          "base_uri": "https://localhost:8080/"
        },
        "id": "0PjTOYOt8AfR",
        "outputId": "832648ea-86c6-457e-a140-e46ee78b2b40"
      },
      "outputs": [
        {
          "output_type": "stream",
          "name": "stdout",
          "text": [
            "[0, 1, 2, 3, 4, 5, 6, 7, 8, 9, 10, 11, 12, 13, 14, 15, 16, 17, 18, 19, 20, 21, 22, 23, 24, 25, 26, 27, 28, 29, 30, 31, 32, 33, 34, 35, 36, 37, 38, 39, 40, 41, 42, 43, 44, 45, 46, 47, 48, 49, 50, 51, 52, 53, 54, 55, 56, 57, 58, 59, 60, 61, 62, 63, 64, 65, 66, 67, 68, 69]\n",
            "70\n",
            "[0, 1, 2, 4, 5, 6, 7, 8, 9, 10, 11, 12, 13, 14, 15, 16, 17, 18, 19, 20, 21, 23, 24, 26, 28, 29, 30, 31, 32, 33, 34, 35, 36, 37, 38, 39, 40, 41, 42, 43, 44, 45, 46, 47, 48, 49, 50, 51, 52, 53, 54, 55, 56, 57, 58, 59, 60, 62, 63, 65, 66, 67, 68, 69]\n",
            "64\n"
          ]
        }
      ],
      "source": [
        "print(sorted(df_train['service'].unique()))\n",
        "print(df_train['service'].nunique())\n",
        "print(sorted(df_test['service'].unique()))\n",
        "print(df_test['service'].nunique())"
      ]
    },
    {
      "cell_type": "markdown",
      "metadata": {
        "id": "z8tPsPFm8Gmp"
      },
      "source": [
        "Let's prepare and x and y of both training and test data. We will apply the fit() and tranform() on the x to transform the data between 0 and 1."
      ]
    },
    {
      "cell_type": "code",
      "execution_count": 26,
      "metadata": {
        "id": "yzEprQLf8M6Y"
      },
      "outputs": [],
      "source": [
        "x_train=df_train.drop('label',axis=1)\n",
        "y_train=df_train[\"label\"]\n",
        "\n",
        "x_test=df_test.drop('label',axis=1)\n",
        "y_test=df_test[\"label\"]\n",
        "\n",
        "scaler = MinMaxScaler()\n",
        "x_train= scaler.fit_transform(x_train)\n",
        "x_test= scaler.fit_transform(x_test)"
      ]
    },
    {
      "cell_type": "code",
      "execution_count": 27,
      "metadata": {
        "colab": {
          "base_uri": "https://localhost:8080/"
        },
        "id": "Y5JjKdFbtBcB",
        "outputId": "aa87ff0e-745a-40c2-aa49-b462de01fb92"
      },
      "outputs": [
        {
          "output_type": "stream",
          "name": "stdout",
          "text": [
            "[[0.         1.         0.17391304 ... 0.         0.         1.        ]\n",
            " [0.         0.5        0.34782609 ... 0.         0.         1.        ]\n",
            " [0.         0.5        0.34782609 ... 0.         0.         1.        ]\n",
            " ...\n",
            " [0.         0.5        0.34782609 ... 0.67       0.97       0.95238095]\n",
            " [0.         0.5        0.7826087  ... 0.         0.04       1.        ]\n",
            " [0.         0.5        0.08695652 ... 0.         0.         0.9047619 ]]\n"
          ]
        }
      ],
      "source": [
        "print(x_train)"
      ]
    },
    {
      "cell_type": "code",
      "execution_count": 28,
      "metadata": {
        "colab": {
          "base_uri": "https://localhost:8080/"
        },
        "id": "25e69ScjtEMY",
        "outputId": "72ec5b14-317b-4a3a-c22c-b4e1b73081d1"
      },
      "outputs": [
        {
          "output_type": "stream",
          "name": "stdout",
          "text": [
            "[[0.         0.5        0.71014493 ... 0.         0.         1.        ]\n",
            " [0.         0.5        0.28985507 ... 0.         0.         1.        ]\n",
            " [0.         1.         0.71014493 ... 0.         0.         0.80952381]\n",
            " ...\n",
            " [0.         0.5        0.7826087  ... 0.         0.         1.        ]\n",
            " [0.00106126 0.5        0.86956522 ... 0.         0.         0.04761905]\n",
            " [0.         1.         0.17391304 ... 0.         0.         0.85714286]]\n"
          ]
        }
      ],
      "source": [
        "print(x_test)"
      ]
    },
    {
      "cell_type": "markdown",
      "metadata": {
        "id": "3x00zkTc9C3S"
      },
      "source": [
        "Let's run only Logistic Regression Model and see the performance"
      ]
    },
    {
      "cell_type": "code",
      "execution_count": 29,
      "metadata": {
        "colab": {
          "base_uri": "https://localhost:8080/"
        },
        "id": "jb692mFq9GrV",
        "outputId": "19db3f87-e226-469d-b279-2fbef5c7c270"
      },
      "outputs": [
        {
          "output_type": "stream",
          "name": "stdout",
          "text": [
            "[[10526   380]\n",
            " [  408 11230]]\n",
            "0.9650461320085166\n",
            "0.9649424299707854\n",
            "0.967269595176572\n",
            "0.9661046111493462\n"
          ]
        }
      ],
      "source": [
        "model = LogisticRegression(multi_class='multinomial')\n",
        "model.fit(x_train, y_train)\n",
        "   \n",
        "# Make predictions\n",
        "predictions = model.predict(x_test)\n",
        "    \n",
        "# Calculate metrics\n",
        "accuracy = accuracy_score(predictions, y_test)\n",
        "precision = precision_score(predictions, y_test)\n",
        "recall = recall_score(predictions, y_test)\n",
        "f1 = f1_score(predictions, y_test)\n",
        "print(confusion_matrix(y_test, predictions))\n",
        "\n",
        "print(accuracy)\n",
        "print(precision)\n",
        "print(recall)\n",
        "print(f1)"
      ]
    },
    {
      "cell_type": "markdown",
      "metadata": {
        "id": "uP5L6YIlBtAp"
      },
      "source": [
        "Let's create various models"
      ]
    },
    {
      "cell_type": "code",
      "execution_count": 30,
      "metadata": {
        "colab": {
          "base_uri": "https://localhost:8080/"
        },
        "id": "_qL0uYJtEwd1",
        "outputId": "11f1dfd9-29cc-4af9-fda5-cd10cb20a17a"
      },
      "outputs": [
        {
          "output_type": "stream",
          "name": "stdout",
          "text": [
            "Best var_smoothing: 1e-07\n"
          ]
        }
      ],
      "source": [
        "models = {}\n",
        "# Logistic Regression\n",
        "models['Logistic Regression'] = LogisticRegression(multi_class='multinomial')\n",
        "# Decision Trees\n",
        "models['Decision Tree'] = DecisionTreeClassifier(max_depth=20)\n",
        "# Random Forest\n",
        "models['Random Forest'] = RandomForestClassifier()\n",
        "# K-Nearest Neighbors\n",
        "models['K-Nearest Neighbor'] = KNeighborsClassifier(n_neighbors=20)\n",
        "# Support Vector Machines\n",
        "models['Support Vector Machine Linear'] = LinearSVC()\n",
        "models['Support Vector Machine Plonomial'] = SVC(kernel='poly')\n",
        "models['Support Vector Machine RBF'] =  SVC(kernel='rbf', gamma='scale')\n",
        "# Naive Bayes\n",
        "models['Naive Bayes'] = GaussianNB()\n",
        "# Define the parameter grid for var_smoothing\n",
        "param_grid = {'var_smoothing': np.logspace(-10, -1, num=10)}\n",
        "\n",
        "# Create a GridSearchCV instance with the GaussianNB model and the parameter grid\n",
        "grid_search = GridSearchCV(models['Naive Bayes'], param_grid, scoring='accuracy', cv=5)\n",
        "# Fit the GridSearchCV instance to the training data\n",
        "grid_search.fit(x_train, y_train)\n",
        "\n",
        "# Get the best var_smoothing value\n",
        "best_var_smoothing = grid_search.best_params_['var_smoothing']\n",
        "print(f\"Best var_smoothing: {best_var_smoothing}\")\n",
        "\n",
        "# Train a GaussianNB model with the best var_smoothing value\n",
        "models['Naive Bayes']  = GaussianNB(var_smoothing=best_var_smoothing)\n",
        "\n"
      ]
    },
    {
      "cell_type": "markdown",
      "metadata": {
        "id": "FT9rlt-ECKM6"
      },
      "source": [
        "Let's apply them"
      ]
    },
    {
      "cell_type": "code",
      "execution_count": 31,
      "metadata": {
        "id": "MGdRdPs5GLR5"
      },
      "outputs": [],
      "source": [
        "accuracy, precision, recall, specificity, f1, confusion = {}, {}, {}, {}, {}, {}\n",
        "\n",
        "for key in models.keys():\n",
        "    \n",
        "    # Fit the classifier\n",
        "    models[key].fit(x_train, y_train)\n",
        "    \n",
        "    # Make predictions\n",
        "    predictions = models[key].predict(x_test)\n",
        "    \n",
        "    # Calculate metrics\n",
        "    accuracy[key] = accuracy_score(predictions, y_test)\n",
        "    precision[key] = precision_score(predictions, y_test)\n",
        "    recall[key] = recall_score(predictions, y_test)\n",
        "    f1[key] = f1_score(predictions, y_test)\n",
        "    confusion[key] = confusion_matrix(y_test,predictions)\n",
        "    tn, fp, fn, tp = confusion[key].ravel()\n",
        "    specificity[key] = tn / (tn + fp)\n",
        "\n",
        "    "
      ]
    },
    {
      "cell_type": "markdown",
      "metadata": {
        "id": "Z82SstSABx5p"
      },
      "source": [
        "Here are the results side by side"
      ]
    },
    {
      "cell_type": "code",
      "execution_count": 32,
      "metadata": {
        "colab": {
          "base_uri": "https://localhost:8080/",
          "height": 300
        },
        "id": "Drwmx09YGu48",
        "outputId": "03863c4d-b7f9-4cab-a1a1-4e42d5977c5a"
      },
      "outputs": [
        {
          "output_type": "execute_result",
          "data": {
            "text/plain": [
              "                                  Accuracy  Precision    Recall  Specificity  \\\n",
              "Logistic Regression               0.965046   0.964942  0.967270     0.965157   \n",
              "Decision Trees                    0.987713   0.978347  0.997809     0.997708   \n",
              "Random Forest                     0.998403   0.997508  0.999397     0.999358   \n",
              "K-Nearest Neighbor                0.995342   0.993470  0.997498     0.997341   \n",
              "Support Vector Machine Linear     0.963316   0.963825  0.965069     0.962773   \n",
              "Support Vector Machine Plonomial  0.994721   0.990806  0.998960     0.998900   \n",
              "Support Vector Machine RBF        0.994455   0.989947  0.999306     0.999266   \n",
              "Naive Bayes                       0.889505   0.888984  0.896146     0.890061   \n",
              "\n",
              "                                        F1                      Confusion  \n",
              "Logistic Regression               0.966105   [[10526, 380], [408, 11230]]  \n",
              "Decision Trees                    0.987982    [[10881, 25], [252, 11386]]  \n",
              "Random Forest                     0.998452      [[10899, 7], [29, 11609]]  \n",
              "K-Nearest Neighbor                0.995480     [[10877, 29], [76, 11562]]  \n",
              "Support Vector Machine Linear     0.964447   [[10500, 406], [421, 11217]]  \n",
              "Support Vector Machine Plonomial  0.994866    [[10894, 12], [107, 11531]]  \n",
              "Support Vector Machine RBF        0.994604     [[10898, 8], [117, 11521]]  \n",
              "Naive Bayes                       0.892551  [[9707, 1199], [1292, 10346]]  "
            ],
            "text/html": [
              "\n",
              "  <div id=\"df-98397d7d-9be4-481b-ab41-4dd6af3da129\">\n",
              "    <div class=\"colab-df-container\">\n",
              "      <div>\n",
              "<style scoped>\n",
              "    .dataframe tbody tr th:only-of-type {\n",
              "        vertical-align: middle;\n",
              "    }\n",
              "\n",
              "    .dataframe tbody tr th {\n",
              "        vertical-align: top;\n",
              "    }\n",
              "\n",
              "    .dataframe thead th {\n",
              "        text-align: right;\n",
              "    }\n",
              "</style>\n",
              "<table border=\"1\" class=\"dataframe\">\n",
              "  <thead>\n",
              "    <tr style=\"text-align: right;\">\n",
              "      <th></th>\n",
              "      <th>Accuracy</th>\n",
              "      <th>Precision</th>\n",
              "      <th>Recall</th>\n",
              "      <th>Specificity</th>\n",
              "      <th>F1</th>\n",
              "      <th>Confusion</th>\n",
              "    </tr>\n",
              "  </thead>\n",
              "  <tbody>\n",
              "    <tr>\n",
              "      <th>Logistic Regression</th>\n",
              "      <td>0.965046</td>\n",
              "      <td>0.964942</td>\n",
              "      <td>0.967270</td>\n",
              "      <td>0.965157</td>\n",
              "      <td>0.966105</td>\n",
              "      <td>[[10526, 380], [408, 11230]]</td>\n",
              "    </tr>\n",
              "    <tr>\n",
              "      <th>Decision Trees</th>\n",
              "      <td>0.987713</td>\n",
              "      <td>0.978347</td>\n",
              "      <td>0.997809</td>\n",
              "      <td>0.997708</td>\n",
              "      <td>0.987982</td>\n",
              "      <td>[[10881, 25], [252, 11386]]</td>\n",
              "    </tr>\n",
              "    <tr>\n",
              "      <th>Random Forest</th>\n",
              "      <td>0.998403</td>\n",
              "      <td>0.997508</td>\n",
              "      <td>0.999397</td>\n",
              "      <td>0.999358</td>\n",
              "      <td>0.998452</td>\n",
              "      <td>[[10899, 7], [29, 11609]]</td>\n",
              "    </tr>\n",
              "    <tr>\n",
              "      <th>K-Nearest Neighbor</th>\n",
              "      <td>0.995342</td>\n",
              "      <td>0.993470</td>\n",
              "      <td>0.997498</td>\n",
              "      <td>0.997341</td>\n",
              "      <td>0.995480</td>\n",
              "      <td>[[10877, 29], [76, 11562]]</td>\n",
              "    </tr>\n",
              "    <tr>\n",
              "      <th>Support Vector Machine Linear</th>\n",
              "      <td>0.963316</td>\n",
              "      <td>0.963825</td>\n",
              "      <td>0.965069</td>\n",
              "      <td>0.962773</td>\n",
              "      <td>0.964447</td>\n",
              "      <td>[[10500, 406], [421, 11217]]</td>\n",
              "    </tr>\n",
              "    <tr>\n",
              "      <th>Support Vector Machine Plonomial</th>\n",
              "      <td>0.994721</td>\n",
              "      <td>0.990806</td>\n",
              "      <td>0.998960</td>\n",
              "      <td>0.998900</td>\n",
              "      <td>0.994866</td>\n",
              "      <td>[[10894, 12], [107, 11531]]</td>\n",
              "    </tr>\n",
              "    <tr>\n",
              "      <th>Support Vector Machine RBF</th>\n",
              "      <td>0.994455</td>\n",
              "      <td>0.989947</td>\n",
              "      <td>0.999306</td>\n",
              "      <td>0.999266</td>\n",
              "      <td>0.994604</td>\n",
              "      <td>[[10898, 8], [117, 11521]]</td>\n",
              "    </tr>\n",
              "    <tr>\n",
              "      <th>Naive Bayes</th>\n",
              "      <td>0.889505</td>\n",
              "      <td>0.888984</td>\n",
              "      <td>0.896146</td>\n",
              "      <td>0.890061</td>\n",
              "      <td>0.892551</td>\n",
              "      <td>[[9707, 1199], [1292, 10346]]</td>\n",
              "    </tr>\n",
              "  </tbody>\n",
              "</table>\n",
              "</div>\n",
              "      <button class=\"colab-df-convert\" onclick=\"convertToInteractive('df-98397d7d-9be4-481b-ab41-4dd6af3da129')\"\n",
              "              title=\"Convert this dataframe to an interactive table.\"\n",
              "              style=\"display:none;\">\n",
              "        \n",
              "  <svg xmlns=\"http://www.w3.org/2000/svg\" height=\"24px\"viewBox=\"0 0 24 24\"\n",
              "       width=\"24px\">\n",
              "    <path d=\"M0 0h24v24H0V0z\" fill=\"none\"/>\n",
              "    <path d=\"M18.56 5.44l.94 2.06.94-2.06 2.06-.94-2.06-.94-.94-2.06-.94 2.06-2.06.94zm-11 1L8.5 8.5l.94-2.06 2.06-.94-2.06-.94L8.5 2.5l-.94 2.06-2.06.94zm10 10l.94 2.06.94-2.06 2.06-.94-2.06-.94-.94-2.06-.94 2.06-2.06.94z\"/><path d=\"M17.41 7.96l-1.37-1.37c-.4-.4-.92-.59-1.43-.59-.52 0-1.04.2-1.43.59L10.3 9.45l-7.72 7.72c-.78.78-.78 2.05 0 2.83L4 21.41c.39.39.9.59 1.41.59.51 0 1.02-.2 1.41-.59l7.78-7.78 2.81-2.81c.8-.78.8-2.07 0-2.86zM5.41 20L4 18.59l7.72-7.72 1.47 1.35L5.41 20z\"/>\n",
              "  </svg>\n",
              "      </button>\n",
              "      \n",
              "  <style>\n",
              "    .colab-df-container {\n",
              "      display:flex;\n",
              "      flex-wrap:wrap;\n",
              "      gap: 12px;\n",
              "    }\n",
              "\n",
              "    .colab-df-convert {\n",
              "      background-color: #E8F0FE;\n",
              "      border: none;\n",
              "      border-radius: 50%;\n",
              "      cursor: pointer;\n",
              "      display: none;\n",
              "      fill: #1967D2;\n",
              "      height: 32px;\n",
              "      padding: 0 0 0 0;\n",
              "      width: 32px;\n",
              "    }\n",
              "\n",
              "    .colab-df-convert:hover {\n",
              "      background-color: #E2EBFA;\n",
              "      box-shadow: 0px 1px 2px rgba(60, 64, 67, 0.3), 0px 1px 3px 1px rgba(60, 64, 67, 0.15);\n",
              "      fill: #174EA6;\n",
              "    }\n",
              "\n",
              "    [theme=dark] .colab-df-convert {\n",
              "      background-color: #3B4455;\n",
              "      fill: #D2E3FC;\n",
              "    }\n",
              "\n",
              "    [theme=dark] .colab-df-convert:hover {\n",
              "      background-color: #434B5C;\n",
              "      box-shadow: 0px 1px 3px 1px rgba(0, 0, 0, 0.15);\n",
              "      filter: drop-shadow(0px 1px 2px rgba(0, 0, 0, 0.3));\n",
              "      fill: #FFFFFF;\n",
              "    }\n",
              "  </style>\n",
              "\n",
              "      <script>\n",
              "        const buttonEl =\n",
              "          document.querySelector('#df-98397d7d-9be4-481b-ab41-4dd6af3da129 button.colab-df-convert');\n",
              "        buttonEl.style.display =\n",
              "          google.colab.kernel.accessAllowed ? 'block' : 'none';\n",
              "\n",
              "        async function convertToInteractive(key) {\n",
              "          const element = document.querySelector('#df-98397d7d-9be4-481b-ab41-4dd6af3da129');\n",
              "          const dataTable =\n",
              "            await google.colab.kernel.invokeFunction('convertToInteractive',\n",
              "                                                     [key], {});\n",
              "          if (!dataTable) return;\n",
              "\n",
              "          const docLinkHtml = 'Like what you see? Visit the ' +\n",
              "            '<a target=\"_blank\" href=https://colab.research.google.com/notebooks/data_table.ipynb>data table notebook</a>'\n",
              "            + ' to learn more about interactive tables.';\n",
              "          element.innerHTML = '';\n",
              "          dataTable['output_type'] = 'display_data';\n",
              "          await google.colab.output.renderOutput(dataTable, element);\n",
              "          const docLink = document.createElement('div');\n",
              "          docLink.innerHTML = docLinkHtml;\n",
              "          element.appendChild(docLink);\n",
              "        }\n",
              "      </script>\n",
              "    </div>\n",
              "  </div>\n",
              "  "
            ]
          },
          "metadata": {},
          "execution_count": 32
        }
      ],
      "source": [
        "df_comp = pd.DataFrame(index=models.keys(), columns=['Accuracy', 'Precision', 'Recall', 'Specificity','F1', 'Confusion'])\n",
        "df_comp['Accuracy'] = accuracy.values()\n",
        "df_comp['Precision'] = precision.values()\n",
        "df_comp['Recall'] = recall.values()\n",
        "df_comp['Specificity'] = specificity.values()\n",
        "df_comp['F1'] = f1.values()\n",
        "df_comp['Confusion']=confusion.values()\n",
        "\n",
        "df_comp"
      ]
    },
    {
      "cell_type": "markdown",
      "metadata": {
        "id": "Br09WPilCRuR"
      },
      "source": [
        "# ***Now, the overall accuracy is excellent, it appears that all of them  performed really well, although Logistic Regression and Naive Bayes did slightly worse than others.***"
      ]
    }
  ],
  "metadata": {
    "colab": {
      "provenance": [],
      "include_colab_link": true
    },
    "kernelspec": {
      "display_name": "Python 3",
      "name": "python3"
    },
    "language_info": {
      "name": "python"
    }
  },
  "nbformat": 4,
  "nbformat_minor": 0
}