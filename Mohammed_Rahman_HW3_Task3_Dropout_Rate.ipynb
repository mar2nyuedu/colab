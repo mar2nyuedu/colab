{
  "cells": [
    {
      "cell_type": "markdown",
      "metadata": {
        "id": "view-in-github",
        "colab_type": "text"
      },
      "source": [
        "<a href=\"https://colab.research.google.com/github/mar2nyuedu/colab/blob/main/Mohammed_Rahman_HW3_Task3_Dropout_Rate.ipynb\" target=\"_parent\"><img src=\"https://colab.research.google.com/assets/colab-badge.svg\" alt=\"Open In Colab\"/></a>"
      ]
    },
    {
      "cell_type": "code",
      "execution_count": null,
      "metadata": {
        "cellView": "form",
        "id": "wDlWLbfkJtvu"
      },
      "outputs": [],
      "source": [
        "#@title Copyright 2020 Google LLC. Double-click here for license information.\n",
        "# Licensed under the Apache License, Version 2.0 (the \"License\");\n",
        "# you may not use this file except in compliance with the License.\n",
        "# You may obtain a copy of the License at\n",
        "#\n",
        "# https://www.apache.org/licenses/LICENSE-2.0\n",
        "#\n",
        "# Unless required by applicable law or agreed to in writing, software\n",
        "# distributed under the License is distributed on an \"AS IS\" BASIS,\n",
        "# WITHOUT WARRANTIES OR CONDITIONS OF ANY KIND, either express or implied.\n",
        "# See the License for the specific language governing permissions and\n",
        "# limitations under the License."
      ]
    },
    {
      "cell_type": "markdown",
      "metadata": {
        "id": "TL5y5fY9Jy_x"
      },
      "source": [
        "# Introduction to Neural Nets\n",
        "\n",
        "This Colab builds a deep neural network to perform more sophisticated regression than the earlier Colabs."
      ]
    },
    {
      "cell_type": "markdown",
      "metadata": {
        "id": "7RDY3EeAluPd"
      },
      "source": [
        "## Learning Objectives:\n",
        "\n",
        "After doing this Colab, you'll know how to do the following:\n",
        "\n",
        "  * Create a simple deep neural network.\n",
        "  * Tune the hyperparameters for a simple deep neural network."
      ]
    },
    {
      "cell_type": "markdown",
      "metadata": {
        "id": "XGj0PNaJlubZ"
      },
      "source": [
        "## The Dataset\n",
        "  \n",
        "Like several of the previous Colabs, this Colab uses the [California Housing Dataset](https://developers.google.com/machine-learning/crash-course/california-housing-data-description)."
      ]
    },
    {
      "cell_type": "markdown",
      "metadata": {
        "id": "xchnxAsaKKqO"
      },
      "source": [
        "## Import relevant modules\n",
        "\n",
        "The following hidden code cell imports the necessary code to run the code in the rest of this Colaboratory."
      ]
    },
    {
      "cell_type": "code",
      "execution_count": null,
      "metadata": {
        "id": "9n9_cTveKmse",
        "colab": {
          "base_uri": "https://localhost:8080/"
        },
        "outputId": "758f8052-1efb-4353-b04c-0459b640b33b"
      },
      "outputs": [
        {
          "output_type": "stream",
          "name": "stdout",
          "text": [
            "Imported modules.\n"
          ]
        }
      ],
      "source": [
        "#@title Import relevant modules\n",
        "import numpy as np\n",
        "import pandas as pd\n",
        "import tensorflow as tf\n",
        "from tensorflow.keras import layers\n",
        "from matplotlib import pyplot as plt\n",
        "# import seaborn as sns\n",
        "\n",
        "# The following lines adjust the granularity of reporting. \n",
        "pd.options.display.max_rows = 10\n",
        "pd.options.display.float_format = \"{:.1f}\".format\n",
        "\n",
        "print(\"Imported modules.\")"
      ]
    },
    {
      "cell_type": "markdown",
      "metadata": {
        "id": "X_TaJhU4KcuY"
      },
      "source": [
        "## Load the dataset\n",
        "\n",
        "Like most of the previous Colab exercises, this exercise uses the California Housing Dataset.  The following code cell loads the separate .csv files and creates the following two pandas DataFrames:\n",
        "\n",
        "* `train_df`, which contains the training set\n",
        "* `test_df`, which contains the test set\n",
        "   "
      ]
    },
    {
      "cell_type": "code",
      "execution_count": null,
      "metadata": {
        "id": "JZlvdpyYKx7V"
      },
      "outputs": [],
      "source": [
        "train_df = pd.read_csv(\"https://download.mlcc.google.com/mledu-datasets/california_housing_train.csv\")\n",
        "train_df = train_df.reindex(np.random.permutation(train_df.index)) # shuffle the examples helps ensuring that batches are more representative of the entire dataset \n",
        "test_df = pd.read_csv(\"https://download.mlcc.google.com/mledu-datasets/california_housing_test.csv\")"
      ]
    },
    {
      "cell_type": "code",
      "source": [
        "train_df"
      ],
      "metadata": {
        "id": "cxASbGEOs2XP",
        "colab": {
          "base_uri": "https://localhost:8080/"
        },
        "outputId": "899ff4b0-bffe-4926-95c3-e9e5ed9432ae"
      },
      "execution_count": null,
      "outputs": [
        {
          "output_type": "execute_result",
          "data": {
            "text/plain": [
              "       longitude  latitude  housing_median_age  total_rooms  total_bedrooms  \\\n",
              "12700     -121.8      38.7                42.0       2670.0           518.0   \n",
              "8501      -118.5      34.2                23.0       2087.0           571.0   \n",
              "8247      -118.4      34.0                22.0       5822.0          1707.0   \n",
              "2656      -117.7      33.6                23.0       3588.0           577.0   \n",
              "12017     -121.4      38.5                12.0       7290.0          1283.0   \n",
              "...          ...       ...                 ...          ...             ...   \n",
              "12643     -121.7      37.4                34.0        440.0            90.0   \n",
              "5734      -118.2      34.0                40.0       1279.0           316.0   \n",
              "8918      -118.8      34.2                27.0       2287.0           320.0   \n",
              "6255      -118.2      34.1                36.0       2946.0          1025.0   \n",
              "2311      -117.5      33.9                35.0       2552.0           588.0   \n",
              "\n",
              "       population  households  median_income  median_house_value  \n",
              "12700      1548.0       534.0            2.3            108900.0  \n",
              "8501       1809.0       553.0            3.2            202000.0  \n",
              "8247       3335.0      1585.0            3.2            243100.0  \n",
              "2656       1695.0       569.0            6.1            243200.0  \n",
              "12017      3960.0      1248.0            3.6            106300.0  \n",
              "...           ...         ...            ...                 ...  \n",
              "12643       217.0        93.0            5.2            500001.0  \n",
              "5734       1438.0       329.0            2.2            157600.0  \n",
              "8918        967.0       321.0            6.5            349400.0  \n",
              "6255       2542.0       912.0            2.2            255900.0  \n",
              "2311       1840.0       551.0            2.3            113300.0  \n",
              "\n",
              "[17000 rows x 9 columns]"
            ],
            "text/html": [
              "\n",
              "  <div id=\"df-c70bc073-62c8-4506-87af-e53742ce94bd\">\n",
              "    <div class=\"colab-df-container\">\n",
              "      <div>\n",
              "<style scoped>\n",
              "    .dataframe tbody tr th:only-of-type {\n",
              "        vertical-align: middle;\n",
              "    }\n",
              "\n",
              "    .dataframe tbody tr th {\n",
              "        vertical-align: top;\n",
              "    }\n",
              "\n",
              "    .dataframe thead th {\n",
              "        text-align: right;\n",
              "    }\n",
              "</style>\n",
              "<table border=\"1\" class=\"dataframe\">\n",
              "  <thead>\n",
              "    <tr style=\"text-align: right;\">\n",
              "      <th></th>\n",
              "      <th>longitude</th>\n",
              "      <th>latitude</th>\n",
              "      <th>housing_median_age</th>\n",
              "      <th>total_rooms</th>\n",
              "      <th>total_bedrooms</th>\n",
              "      <th>population</th>\n",
              "      <th>households</th>\n",
              "      <th>median_income</th>\n",
              "      <th>median_house_value</th>\n",
              "    </tr>\n",
              "  </thead>\n",
              "  <tbody>\n",
              "    <tr>\n",
              "      <th>12700</th>\n",
              "      <td>-121.8</td>\n",
              "      <td>38.7</td>\n",
              "      <td>42.0</td>\n",
              "      <td>2670.0</td>\n",
              "      <td>518.0</td>\n",
              "      <td>1548.0</td>\n",
              "      <td>534.0</td>\n",
              "      <td>2.3</td>\n",
              "      <td>108900.0</td>\n",
              "    </tr>\n",
              "    <tr>\n",
              "      <th>8501</th>\n",
              "      <td>-118.5</td>\n",
              "      <td>34.2</td>\n",
              "      <td>23.0</td>\n",
              "      <td>2087.0</td>\n",
              "      <td>571.0</td>\n",
              "      <td>1809.0</td>\n",
              "      <td>553.0</td>\n",
              "      <td>3.2</td>\n",
              "      <td>202000.0</td>\n",
              "    </tr>\n",
              "    <tr>\n",
              "      <th>8247</th>\n",
              "      <td>-118.4</td>\n",
              "      <td>34.0</td>\n",
              "      <td>22.0</td>\n",
              "      <td>5822.0</td>\n",
              "      <td>1707.0</td>\n",
              "      <td>3335.0</td>\n",
              "      <td>1585.0</td>\n",
              "      <td>3.2</td>\n",
              "      <td>243100.0</td>\n",
              "    </tr>\n",
              "    <tr>\n",
              "      <th>2656</th>\n",
              "      <td>-117.7</td>\n",
              "      <td>33.6</td>\n",
              "      <td>23.0</td>\n",
              "      <td>3588.0</td>\n",
              "      <td>577.0</td>\n",
              "      <td>1695.0</td>\n",
              "      <td>569.0</td>\n",
              "      <td>6.1</td>\n",
              "      <td>243200.0</td>\n",
              "    </tr>\n",
              "    <tr>\n",
              "      <th>12017</th>\n",
              "      <td>-121.4</td>\n",
              "      <td>38.5</td>\n",
              "      <td>12.0</td>\n",
              "      <td>7290.0</td>\n",
              "      <td>1283.0</td>\n",
              "      <td>3960.0</td>\n",
              "      <td>1248.0</td>\n",
              "      <td>3.6</td>\n",
              "      <td>106300.0</td>\n",
              "    </tr>\n",
              "    <tr>\n",
              "      <th>...</th>\n",
              "      <td>...</td>\n",
              "      <td>...</td>\n",
              "      <td>...</td>\n",
              "      <td>...</td>\n",
              "      <td>...</td>\n",
              "      <td>...</td>\n",
              "      <td>...</td>\n",
              "      <td>...</td>\n",
              "      <td>...</td>\n",
              "    </tr>\n",
              "    <tr>\n",
              "      <th>12643</th>\n",
              "      <td>-121.7</td>\n",
              "      <td>37.4</td>\n",
              "      <td>34.0</td>\n",
              "      <td>440.0</td>\n",
              "      <td>90.0</td>\n",
              "      <td>217.0</td>\n",
              "      <td>93.0</td>\n",
              "      <td>5.2</td>\n",
              "      <td>500001.0</td>\n",
              "    </tr>\n",
              "    <tr>\n",
              "      <th>5734</th>\n",
              "      <td>-118.2</td>\n",
              "      <td>34.0</td>\n",
              "      <td>40.0</td>\n",
              "      <td>1279.0</td>\n",
              "      <td>316.0</td>\n",
              "      <td>1438.0</td>\n",
              "      <td>329.0</td>\n",
              "      <td>2.2</td>\n",
              "      <td>157600.0</td>\n",
              "    </tr>\n",
              "    <tr>\n",
              "      <th>8918</th>\n",
              "      <td>-118.8</td>\n",
              "      <td>34.2</td>\n",
              "      <td>27.0</td>\n",
              "      <td>2287.0</td>\n",
              "      <td>320.0</td>\n",
              "      <td>967.0</td>\n",
              "      <td>321.0</td>\n",
              "      <td>6.5</td>\n",
              "      <td>349400.0</td>\n",
              "    </tr>\n",
              "    <tr>\n",
              "      <th>6255</th>\n",
              "      <td>-118.2</td>\n",
              "      <td>34.1</td>\n",
              "      <td>36.0</td>\n",
              "      <td>2946.0</td>\n",
              "      <td>1025.0</td>\n",
              "      <td>2542.0</td>\n",
              "      <td>912.0</td>\n",
              "      <td>2.2</td>\n",
              "      <td>255900.0</td>\n",
              "    </tr>\n",
              "    <tr>\n",
              "      <th>2311</th>\n",
              "      <td>-117.5</td>\n",
              "      <td>33.9</td>\n",
              "      <td>35.0</td>\n",
              "      <td>2552.0</td>\n",
              "      <td>588.0</td>\n",
              "      <td>1840.0</td>\n",
              "      <td>551.0</td>\n",
              "      <td>2.3</td>\n",
              "      <td>113300.0</td>\n",
              "    </tr>\n",
              "  </tbody>\n",
              "</table>\n",
              "<p>17000 rows × 9 columns</p>\n",
              "</div>\n",
              "      <button class=\"colab-df-convert\" onclick=\"convertToInteractive('df-c70bc073-62c8-4506-87af-e53742ce94bd')\"\n",
              "              title=\"Convert this dataframe to an interactive table.\"\n",
              "              style=\"display:none;\">\n",
              "        \n",
              "  <svg xmlns=\"http://www.w3.org/2000/svg\" height=\"24px\"viewBox=\"0 0 24 24\"\n",
              "       width=\"24px\">\n",
              "    <path d=\"M0 0h24v24H0V0z\" fill=\"none\"/>\n",
              "    <path d=\"M18.56 5.44l.94 2.06.94-2.06 2.06-.94-2.06-.94-.94-2.06-.94 2.06-2.06.94zm-11 1L8.5 8.5l.94-2.06 2.06-.94-2.06-.94L8.5 2.5l-.94 2.06-2.06.94zm10 10l.94 2.06.94-2.06 2.06-.94-2.06-.94-.94-2.06-.94 2.06-2.06.94z\"/><path d=\"M17.41 7.96l-1.37-1.37c-.4-.4-.92-.59-1.43-.59-.52 0-1.04.2-1.43.59L10.3 9.45l-7.72 7.72c-.78.78-.78 2.05 0 2.83L4 21.41c.39.39.9.59 1.41.59.51 0 1.02-.2 1.41-.59l7.78-7.78 2.81-2.81c.8-.78.8-2.07 0-2.86zM5.41 20L4 18.59l7.72-7.72 1.47 1.35L5.41 20z\"/>\n",
              "  </svg>\n",
              "      </button>\n",
              "      \n",
              "  <style>\n",
              "    .colab-df-container {\n",
              "      display:flex;\n",
              "      flex-wrap:wrap;\n",
              "      gap: 12px;\n",
              "    }\n",
              "\n",
              "    .colab-df-convert {\n",
              "      background-color: #E8F0FE;\n",
              "      border: none;\n",
              "      border-radius: 50%;\n",
              "      cursor: pointer;\n",
              "      display: none;\n",
              "      fill: #1967D2;\n",
              "      height: 32px;\n",
              "      padding: 0 0 0 0;\n",
              "      width: 32px;\n",
              "    }\n",
              "\n",
              "    .colab-df-convert:hover {\n",
              "      background-color: #E2EBFA;\n",
              "      box-shadow: 0px 1px 2px rgba(60, 64, 67, 0.3), 0px 1px 3px 1px rgba(60, 64, 67, 0.15);\n",
              "      fill: #174EA6;\n",
              "    }\n",
              "\n",
              "    [theme=dark] .colab-df-convert {\n",
              "      background-color: #3B4455;\n",
              "      fill: #D2E3FC;\n",
              "    }\n",
              "\n",
              "    [theme=dark] .colab-df-convert:hover {\n",
              "      background-color: #434B5C;\n",
              "      box-shadow: 0px 1px 3px 1px rgba(0, 0, 0, 0.15);\n",
              "      filter: drop-shadow(0px 1px 2px rgba(0, 0, 0, 0.3));\n",
              "      fill: #FFFFFF;\n",
              "    }\n",
              "  </style>\n",
              "\n",
              "      <script>\n",
              "        const buttonEl =\n",
              "          document.querySelector('#df-c70bc073-62c8-4506-87af-e53742ce94bd button.colab-df-convert');\n",
              "        buttonEl.style.display =\n",
              "          google.colab.kernel.accessAllowed ? 'block' : 'none';\n",
              "\n",
              "        async function convertToInteractive(key) {\n",
              "          const element = document.querySelector('#df-c70bc073-62c8-4506-87af-e53742ce94bd');\n",
              "          const dataTable =\n",
              "            await google.colab.kernel.invokeFunction('convertToInteractive',\n",
              "                                                     [key], {});\n",
              "          if (!dataTable) return;\n",
              "\n",
              "          const docLinkHtml = 'Like what you see? Visit the ' +\n",
              "            '<a target=\"_blank\" href=https://colab.research.google.com/notebooks/data_table.ipynb>data table notebook</a>'\n",
              "            + ' to learn more about interactive tables.';\n",
              "          element.innerHTML = '';\n",
              "          dataTable['output_type'] = 'display_data';\n",
              "          await google.colab.output.renderOutput(dataTable, element);\n",
              "          const docLink = document.createElement('div');\n",
              "          docLink.innerHTML = docLinkHtml;\n",
              "          element.appendChild(docLink);\n",
              "        }\n",
              "      </script>\n",
              "    </div>\n",
              "  </div>\n",
              "  "
            ]
          },
          "metadata": {},
          "execution_count": 5
        }
      ]
    },
    {
      "cell_type": "code",
      "source": [
        "train_df.describe()"
      ],
      "metadata": {
        "colab": {
          "base_uri": "https://localhost:8080/"
        },
        "id": "nVgTsGACt6E5",
        "outputId": "dcfe057d-bdc0-49ce-9b77-b235c0b6cfb9"
      },
      "execution_count": null,
      "outputs": [
        {
          "output_type": "execute_result",
          "data": {
            "text/plain": [
              "       longitude  latitude  housing_median_age  total_rooms  total_bedrooms  \\\n",
              "count    17000.0   17000.0             17000.0      17000.0         17000.0   \n",
              "mean      -119.6      35.6                28.6       2643.7           539.4   \n",
              "std          2.0       2.1                12.6       2179.9           421.5   \n",
              "min       -124.3      32.5                 1.0          2.0             1.0   \n",
              "25%       -121.8      33.9                18.0       1462.0           297.0   \n",
              "50%       -118.5      34.2                29.0       2127.0           434.0   \n",
              "75%       -118.0      37.7                37.0       3151.2           648.2   \n",
              "max       -114.3      42.0                52.0      37937.0          6445.0   \n",
              "\n",
              "       population  households  median_income  median_house_value  \n",
              "count     17000.0     17000.0        17000.0             17000.0  \n",
              "mean       1429.6       501.2            3.9            207300.9  \n",
              "std        1147.9       384.5            1.9            115983.8  \n",
              "min           3.0         1.0            0.5             14999.0  \n",
              "25%         790.0       282.0            2.6            119400.0  \n",
              "50%        1167.0       409.0            3.5            180400.0  \n",
              "75%        1721.0       605.2            4.8            265000.0  \n",
              "max       35682.0      6082.0           15.0            500001.0  "
            ],
            "text/html": [
              "\n",
              "  <div id=\"df-9977b4ff-a75a-4fa8-b38a-d06c5be734ec\">\n",
              "    <div class=\"colab-df-container\">\n",
              "      <div>\n",
              "<style scoped>\n",
              "    .dataframe tbody tr th:only-of-type {\n",
              "        vertical-align: middle;\n",
              "    }\n",
              "\n",
              "    .dataframe tbody tr th {\n",
              "        vertical-align: top;\n",
              "    }\n",
              "\n",
              "    .dataframe thead th {\n",
              "        text-align: right;\n",
              "    }\n",
              "</style>\n",
              "<table border=\"1\" class=\"dataframe\">\n",
              "  <thead>\n",
              "    <tr style=\"text-align: right;\">\n",
              "      <th></th>\n",
              "      <th>longitude</th>\n",
              "      <th>latitude</th>\n",
              "      <th>housing_median_age</th>\n",
              "      <th>total_rooms</th>\n",
              "      <th>total_bedrooms</th>\n",
              "      <th>population</th>\n",
              "      <th>households</th>\n",
              "      <th>median_income</th>\n",
              "      <th>median_house_value</th>\n",
              "    </tr>\n",
              "  </thead>\n",
              "  <tbody>\n",
              "    <tr>\n",
              "      <th>count</th>\n",
              "      <td>17000.0</td>\n",
              "      <td>17000.0</td>\n",
              "      <td>17000.0</td>\n",
              "      <td>17000.0</td>\n",
              "      <td>17000.0</td>\n",
              "      <td>17000.0</td>\n",
              "      <td>17000.0</td>\n",
              "      <td>17000.0</td>\n",
              "      <td>17000.0</td>\n",
              "    </tr>\n",
              "    <tr>\n",
              "      <th>mean</th>\n",
              "      <td>-119.6</td>\n",
              "      <td>35.6</td>\n",
              "      <td>28.6</td>\n",
              "      <td>2643.7</td>\n",
              "      <td>539.4</td>\n",
              "      <td>1429.6</td>\n",
              "      <td>501.2</td>\n",
              "      <td>3.9</td>\n",
              "      <td>207300.9</td>\n",
              "    </tr>\n",
              "    <tr>\n",
              "      <th>std</th>\n",
              "      <td>2.0</td>\n",
              "      <td>2.1</td>\n",
              "      <td>12.6</td>\n",
              "      <td>2179.9</td>\n",
              "      <td>421.5</td>\n",
              "      <td>1147.9</td>\n",
              "      <td>384.5</td>\n",
              "      <td>1.9</td>\n",
              "      <td>115983.8</td>\n",
              "    </tr>\n",
              "    <tr>\n",
              "      <th>min</th>\n",
              "      <td>-124.3</td>\n",
              "      <td>32.5</td>\n",
              "      <td>1.0</td>\n",
              "      <td>2.0</td>\n",
              "      <td>1.0</td>\n",
              "      <td>3.0</td>\n",
              "      <td>1.0</td>\n",
              "      <td>0.5</td>\n",
              "      <td>14999.0</td>\n",
              "    </tr>\n",
              "    <tr>\n",
              "      <th>25%</th>\n",
              "      <td>-121.8</td>\n",
              "      <td>33.9</td>\n",
              "      <td>18.0</td>\n",
              "      <td>1462.0</td>\n",
              "      <td>297.0</td>\n",
              "      <td>790.0</td>\n",
              "      <td>282.0</td>\n",
              "      <td>2.6</td>\n",
              "      <td>119400.0</td>\n",
              "    </tr>\n",
              "    <tr>\n",
              "      <th>50%</th>\n",
              "      <td>-118.5</td>\n",
              "      <td>34.2</td>\n",
              "      <td>29.0</td>\n",
              "      <td>2127.0</td>\n",
              "      <td>434.0</td>\n",
              "      <td>1167.0</td>\n",
              "      <td>409.0</td>\n",
              "      <td>3.5</td>\n",
              "      <td>180400.0</td>\n",
              "    </tr>\n",
              "    <tr>\n",
              "      <th>75%</th>\n",
              "      <td>-118.0</td>\n",
              "      <td>37.7</td>\n",
              "      <td>37.0</td>\n",
              "      <td>3151.2</td>\n",
              "      <td>648.2</td>\n",
              "      <td>1721.0</td>\n",
              "      <td>605.2</td>\n",
              "      <td>4.8</td>\n",
              "      <td>265000.0</td>\n",
              "    </tr>\n",
              "    <tr>\n",
              "      <th>max</th>\n",
              "      <td>-114.3</td>\n",
              "      <td>42.0</td>\n",
              "      <td>52.0</td>\n",
              "      <td>37937.0</td>\n",
              "      <td>6445.0</td>\n",
              "      <td>35682.0</td>\n",
              "      <td>6082.0</td>\n",
              "      <td>15.0</td>\n",
              "      <td>500001.0</td>\n",
              "    </tr>\n",
              "  </tbody>\n",
              "</table>\n",
              "</div>\n",
              "      <button class=\"colab-df-convert\" onclick=\"convertToInteractive('df-9977b4ff-a75a-4fa8-b38a-d06c5be734ec')\"\n",
              "              title=\"Convert this dataframe to an interactive table.\"\n",
              "              style=\"display:none;\">\n",
              "        \n",
              "  <svg xmlns=\"http://www.w3.org/2000/svg\" height=\"24px\"viewBox=\"0 0 24 24\"\n",
              "       width=\"24px\">\n",
              "    <path d=\"M0 0h24v24H0V0z\" fill=\"none\"/>\n",
              "    <path d=\"M18.56 5.44l.94 2.06.94-2.06 2.06-.94-2.06-.94-.94-2.06-.94 2.06-2.06.94zm-11 1L8.5 8.5l.94-2.06 2.06-.94-2.06-.94L8.5 2.5l-.94 2.06-2.06.94zm10 10l.94 2.06.94-2.06 2.06-.94-2.06-.94-.94-2.06-.94 2.06-2.06.94z\"/><path d=\"M17.41 7.96l-1.37-1.37c-.4-.4-.92-.59-1.43-.59-.52 0-1.04.2-1.43.59L10.3 9.45l-7.72 7.72c-.78.78-.78 2.05 0 2.83L4 21.41c.39.39.9.59 1.41.59.51 0 1.02-.2 1.41-.59l7.78-7.78 2.81-2.81c.8-.78.8-2.07 0-2.86zM5.41 20L4 18.59l7.72-7.72 1.47 1.35L5.41 20z\"/>\n",
              "  </svg>\n",
              "      </button>\n",
              "      \n",
              "  <style>\n",
              "    .colab-df-container {\n",
              "      display:flex;\n",
              "      flex-wrap:wrap;\n",
              "      gap: 12px;\n",
              "    }\n",
              "\n",
              "    .colab-df-convert {\n",
              "      background-color: #E8F0FE;\n",
              "      border: none;\n",
              "      border-radius: 50%;\n",
              "      cursor: pointer;\n",
              "      display: none;\n",
              "      fill: #1967D2;\n",
              "      height: 32px;\n",
              "      padding: 0 0 0 0;\n",
              "      width: 32px;\n",
              "    }\n",
              "\n",
              "    .colab-df-convert:hover {\n",
              "      background-color: #E2EBFA;\n",
              "      box-shadow: 0px 1px 2px rgba(60, 64, 67, 0.3), 0px 1px 3px 1px rgba(60, 64, 67, 0.15);\n",
              "      fill: #174EA6;\n",
              "    }\n",
              "\n",
              "    [theme=dark] .colab-df-convert {\n",
              "      background-color: #3B4455;\n",
              "      fill: #D2E3FC;\n",
              "    }\n",
              "\n",
              "    [theme=dark] .colab-df-convert:hover {\n",
              "      background-color: #434B5C;\n",
              "      box-shadow: 0px 1px 3px 1px rgba(0, 0, 0, 0.15);\n",
              "      filter: drop-shadow(0px 1px 2px rgba(0, 0, 0, 0.3));\n",
              "      fill: #FFFFFF;\n",
              "    }\n",
              "  </style>\n",
              "\n",
              "      <script>\n",
              "        const buttonEl =\n",
              "          document.querySelector('#df-9977b4ff-a75a-4fa8-b38a-d06c5be734ec button.colab-df-convert');\n",
              "        buttonEl.style.display =\n",
              "          google.colab.kernel.accessAllowed ? 'block' : 'none';\n",
              "\n",
              "        async function convertToInteractive(key) {\n",
              "          const element = document.querySelector('#df-9977b4ff-a75a-4fa8-b38a-d06c5be734ec');\n",
              "          const dataTable =\n",
              "            await google.colab.kernel.invokeFunction('convertToInteractive',\n",
              "                                                     [key], {});\n",
              "          if (!dataTable) return;\n",
              "\n",
              "          const docLinkHtml = 'Like what you see? Visit the ' +\n",
              "            '<a target=\"_blank\" href=https://colab.research.google.com/notebooks/data_table.ipynb>data table notebook</a>'\n",
              "            + ' to learn more about interactive tables.';\n",
              "          element.innerHTML = '';\n",
              "          dataTable['output_type'] = 'display_data';\n",
              "          await google.colab.output.renderOutput(dataTable, element);\n",
              "          const docLink = document.createElement('div');\n",
              "          docLink.innerHTML = docLinkHtml;\n",
              "          element.appendChild(docLink);\n",
              "        }\n",
              "      </script>\n",
              "    </div>\n",
              "  </div>\n",
              "  "
            ]
          },
          "metadata": {},
          "execution_count": 6
        }
      ]
    },
    {
      "cell_type": "markdown",
      "metadata": {
        "id": "8ldP-5z1B2vL"
      },
      "source": [
        "## Normalize values\n",
        "\n",
        "When building a model with multiple features, the values of each feature should cover roughly the same range.  The following code cell normalizes datasets by converting each raw value to its Z-score. "
      ]
    },
    {
      "cell_type": "code",
      "execution_count": null,
      "metadata": {
        "id": "g8HC-TDgB1D1",
        "colab": {
          "base_uri": "https://localhost:8080/"
        },
        "outputId": "e828a414-605a-4d7a-96f0-b3c5b0cf998f"
      },
      "outputs": [
        {
          "output_type": "stream",
          "name": "stdout",
          "text": [
            "Normalized the values.\n"
          ]
        }
      ],
      "source": [
        "#@title Convert raw values to their Z-scores \n",
        "\n",
        "# Calculate the Z-scores of each column in the training set:\n",
        "train_df_mean = train_df.mean()\n",
        "train_df_std = train_df.std()\n",
        "train_df_norm = (train_df - train_df_mean)/train_df_std\n",
        "\n",
        "# Calculate the Z-scores of each column in the test set.\n",
        "test_df_mean = test_df.mean()\n",
        "test_df_std = test_df.std()\n",
        "test_df_norm = (test_df - test_df_mean)/test_df_std\n",
        "\n",
        "print(\"Normalized the values.\")"
      ]
    },
    {
      "cell_type": "code",
      "source": [
        "train_df_norm"
      ],
      "metadata": {
        "id": "pyIVGqp4H-nk",
        "colab": {
          "base_uri": "https://localhost:8080/",
          "height": 424
        },
        "outputId": "622e33c1-75c3-4de3-eafc-830a1d26ec4e"
      },
      "execution_count": null,
      "outputs": [
        {
          "output_type": "execute_result",
          "data": {
            "text/plain": [
              "       longitude  latitude  housing_median_age  total_rooms  total_bedrooms  \\\n",
              "12700       -1.1       1.4                 1.1          0.0            -0.1   \n",
              "8501         0.5      -0.7                -0.4         -0.3             0.1   \n",
              "8247         0.6      -0.8                -0.5          1.5             2.8   \n",
              "2656         0.9      -0.9                -0.4          0.4             0.1   \n",
              "12017       -0.9       1.3                -1.3          2.1             1.8   \n",
              "...          ...       ...                 ...          ...             ...   \n",
              "12643       -1.1       0.8                 0.4         -1.0            -1.1   \n",
              "5734         0.7      -0.7                 0.9         -0.6            -0.5   \n",
              "8918         0.4      -0.7                -0.1         -0.2            -0.5   \n",
              "6255         0.7      -0.7                 0.6          0.1             1.2   \n",
              "2311         1.1      -0.8                 0.5         -0.0             0.1   \n",
              "\n",
              "       population  households  median_income  median_house_value  \n",
              "12700         0.1         0.1           -0.8                -0.8  \n",
              "8501          0.3         0.1           -0.4                -0.0  \n",
              "8247          1.7         2.8           -0.4                 0.3  \n",
              "2656          0.2         0.2            1.2                 0.3  \n",
              "12017         2.2         1.9           -0.2                -0.9  \n",
              "...           ...         ...            ...                 ...  \n",
              "12643        -1.1        -1.1            0.7                 2.5  \n",
              "5734          0.0        -0.4           -0.9                -0.4  \n",
              "8918         -0.4        -0.5            1.4                 1.2  \n",
              "6255          1.0         1.1           -0.9                 0.4  \n",
              "2311          0.4         0.1           -0.9                -0.8  \n",
              "\n",
              "[17000 rows x 9 columns]"
            ],
            "text/html": [
              "\n",
              "  <div id=\"df-53f7cbe3-23e1-4465-b218-b545f6a466b8\">\n",
              "    <div class=\"colab-df-container\">\n",
              "      <div>\n",
              "<style scoped>\n",
              "    .dataframe tbody tr th:only-of-type {\n",
              "        vertical-align: middle;\n",
              "    }\n",
              "\n",
              "    .dataframe tbody tr th {\n",
              "        vertical-align: top;\n",
              "    }\n",
              "\n",
              "    .dataframe thead th {\n",
              "        text-align: right;\n",
              "    }\n",
              "</style>\n",
              "<table border=\"1\" class=\"dataframe\">\n",
              "  <thead>\n",
              "    <tr style=\"text-align: right;\">\n",
              "      <th></th>\n",
              "      <th>longitude</th>\n",
              "      <th>latitude</th>\n",
              "      <th>housing_median_age</th>\n",
              "      <th>total_rooms</th>\n",
              "      <th>total_bedrooms</th>\n",
              "      <th>population</th>\n",
              "      <th>households</th>\n",
              "      <th>median_income</th>\n",
              "      <th>median_house_value</th>\n",
              "    </tr>\n",
              "  </thead>\n",
              "  <tbody>\n",
              "    <tr>\n",
              "      <th>12700</th>\n",
              "      <td>-1.1</td>\n",
              "      <td>1.4</td>\n",
              "      <td>1.1</td>\n",
              "      <td>0.0</td>\n",
              "      <td>-0.1</td>\n",
              "      <td>0.1</td>\n",
              "      <td>0.1</td>\n",
              "      <td>-0.8</td>\n",
              "      <td>-0.8</td>\n",
              "    </tr>\n",
              "    <tr>\n",
              "      <th>8501</th>\n",
              "      <td>0.5</td>\n",
              "      <td>-0.7</td>\n",
              "      <td>-0.4</td>\n",
              "      <td>-0.3</td>\n",
              "      <td>0.1</td>\n",
              "      <td>0.3</td>\n",
              "      <td>0.1</td>\n",
              "      <td>-0.4</td>\n",
              "      <td>-0.0</td>\n",
              "    </tr>\n",
              "    <tr>\n",
              "      <th>8247</th>\n",
              "      <td>0.6</td>\n",
              "      <td>-0.8</td>\n",
              "      <td>-0.5</td>\n",
              "      <td>1.5</td>\n",
              "      <td>2.8</td>\n",
              "      <td>1.7</td>\n",
              "      <td>2.8</td>\n",
              "      <td>-0.4</td>\n",
              "      <td>0.3</td>\n",
              "    </tr>\n",
              "    <tr>\n",
              "      <th>2656</th>\n",
              "      <td>0.9</td>\n",
              "      <td>-0.9</td>\n",
              "      <td>-0.4</td>\n",
              "      <td>0.4</td>\n",
              "      <td>0.1</td>\n",
              "      <td>0.2</td>\n",
              "      <td>0.2</td>\n",
              "      <td>1.2</td>\n",
              "      <td>0.3</td>\n",
              "    </tr>\n",
              "    <tr>\n",
              "      <th>12017</th>\n",
              "      <td>-0.9</td>\n",
              "      <td>1.3</td>\n",
              "      <td>-1.3</td>\n",
              "      <td>2.1</td>\n",
              "      <td>1.8</td>\n",
              "      <td>2.2</td>\n",
              "      <td>1.9</td>\n",
              "      <td>-0.2</td>\n",
              "      <td>-0.9</td>\n",
              "    </tr>\n",
              "    <tr>\n",
              "      <th>...</th>\n",
              "      <td>...</td>\n",
              "      <td>...</td>\n",
              "      <td>...</td>\n",
              "      <td>...</td>\n",
              "      <td>...</td>\n",
              "      <td>...</td>\n",
              "      <td>...</td>\n",
              "      <td>...</td>\n",
              "      <td>...</td>\n",
              "    </tr>\n",
              "    <tr>\n",
              "      <th>12643</th>\n",
              "      <td>-1.1</td>\n",
              "      <td>0.8</td>\n",
              "      <td>0.4</td>\n",
              "      <td>-1.0</td>\n",
              "      <td>-1.1</td>\n",
              "      <td>-1.1</td>\n",
              "      <td>-1.1</td>\n",
              "      <td>0.7</td>\n",
              "      <td>2.5</td>\n",
              "    </tr>\n",
              "    <tr>\n",
              "      <th>5734</th>\n",
              "      <td>0.7</td>\n",
              "      <td>-0.7</td>\n",
              "      <td>0.9</td>\n",
              "      <td>-0.6</td>\n",
              "      <td>-0.5</td>\n",
              "      <td>0.0</td>\n",
              "      <td>-0.4</td>\n",
              "      <td>-0.9</td>\n",
              "      <td>-0.4</td>\n",
              "    </tr>\n",
              "    <tr>\n",
              "      <th>8918</th>\n",
              "      <td>0.4</td>\n",
              "      <td>-0.7</td>\n",
              "      <td>-0.1</td>\n",
              "      <td>-0.2</td>\n",
              "      <td>-0.5</td>\n",
              "      <td>-0.4</td>\n",
              "      <td>-0.5</td>\n",
              "      <td>1.4</td>\n",
              "      <td>1.2</td>\n",
              "    </tr>\n",
              "    <tr>\n",
              "      <th>6255</th>\n",
              "      <td>0.7</td>\n",
              "      <td>-0.7</td>\n",
              "      <td>0.6</td>\n",
              "      <td>0.1</td>\n",
              "      <td>1.2</td>\n",
              "      <td>1.0</td>\n",
              "      <td>1.1</td>\n",
              "      <td>-0.9</td>\n",
              "      <td>0.4</td>\n",
              "    </tr>\n",
              "    <tr>\n",
              "      <th>2311</th>\n",
              "      <td>1.1</td>\n",
              "      <td>-0.8</td>\n",
              "      <td>0.5</td>\n",
              "      <td>-0.0</td>\n",
              "      <td>0.1</td>\n",
              "      <td>0.4</td>\n",
              "      <td>0.1</td>\n",
              "      <td>-0.9</td>\n",
              "      <td>-0.8</td>\n",
              "    </tr>\n",
              "  </tbody>\n",
              "</table>\n",
              "<p>17000 rows × 9 columns</p>\n",
              "</div>\n",
              "      <button class=\"colab-df-convert\" onclick=\"convertToInteractive('df-53f7cbe3-23e1-4465-b218-b545f6a466b8')\"\n",
              "              title=\"Convert this dataframe to an interactive table.\"\n",
              "              style=\"display:none;\">\n",
              "        \n",
              "  <svg xmlns=\"http://www.w3.org/2000/svg\" height=\"24px\"viewBox=\"0 0 24 24\"\n",
              "       width=\"24px\">\n",
              "    <path d=\"M0 0h24v24H0V0z\" fill=\"none\"/>\n",
              "    <path d=\"M18.56 5.44l.94 2.06.94-2.06 2.06-.94-2.06-.94-.94-2.06-.94 2.06-2.06.94zm-11 1L8.5 8.5l.94-2.06 2.06-.94-2.06-.94L8.5 2.5l-.94 2.06-2.06.94zm10 10l.94 2.06.94-2.06 2.06-.94-2.06-.94-.94-2.06-.94 2.06-2.06.94z\"/><path d=\"M17.41 7.96l-1.37-1.37c-.4-.4-.92-.59-1.43-.59-.52 0-1.04.2-1.43.59L10.3 9.45l-7.72 7.72c-.78.78-.78 2.05 0 2.83L4 21.41c.39.39.9.59 1.41.59.51 0 1.02-.2 1.41-.59l7.78-7.78 2.81-2.81c.8-.78.8-2.07 0-2.86zM5.41 20L4 18.59l7.72-7.72 1.47 1.35L5.41 20z\"/>\n",
              "  </svg>\n",
              "      </button>\n",
              "      \n",
              "  <style>\n",
              "    .colab-df-container {\n",
              "      display:flex;\n",
              "      flex-wrap:wrap;\n",
              "      gap: 12px;\n",
              "    }\n",
              "\n",
              "    .colab-df-convert {\n",
              "      background-color: #E8F0FE;\n",
              "      border: none;\n",
              "      border-radius: 50%;\n",
              "      cursor: pointer;\n",
              "      display: none;\n",
              "      fill: #1967D2;\n",
              "      height: 32px;\n",
              "      padding: 0 0 0 0;\n",
              "      width: 32px;\n",
              "    }\n",
              "\n",
              "    .colab-df-convert:hover {\n",
              "      background-color: #E2EBFA;\n",
              "      box-shadow: 0px 1px 2px rgba(60, 64, 67, 0.3), 0px 1px 3px 1px rgba(60, 64, 67, 0.15);\n",
              "      fill: #174EA6;\n",
              "    }\n",
              "\n",
              "    [theme=dark] .colab-df-convert {\n",
              "      background-color: #3B4455;\n",
              "      fill: #D2E3FC;\n",
              "    }\n",
              "\n",
              "    [theme=dark] .colab-df-convert:hover {\n",
              "      background-color: #434B5C;\n",
              "      box-shadow: 0px 1px 3px 1px rgba(0, 0, 0, 0.15);\n",
              "      filter: drop-shadow(0px 1px 2px rgba(0, 0, 0, 0.3));\n",
              "      fill: #FFFFFF;\n",
              "    }\n",
              "  </style>\n",
              "\n",
              "      <script>\n",
              "        const buttonEl =\n",
              "          document.querySelector('#df-53f7cbe3-23e1-4465-b218-b545f6a466b8 button.colab-df-convert');\n",
              "        buttonEl.style.display =\n",
              "          google.colab.kernel.accessAllowed ? 'block' : 'none';\n",
              "\n",
              "        async function convertToInteractive(key) {\n",
              "          const element = document.querySelector('#df-53f7cbe3-23e1-4465-b218-b545f6a466b8');\n",
              "          const dataTable =\n",
              "            await google.colab.kernel.invokeFunction('convertToInteractive',\n",
              "                                                     [key], {});\n",
              "          if (!dataTable) return;\n",
              "\n",
              "          const docLinkHtml = 'Like what you see? Visit the ' +\n",
              "            '<a target=\"_blank\" href=https://colab.research.google.com/notebooks/data_table.ipynb>data table notebook</a>'\n",
              "            + ' to learn more about interactive tables.';\n",
              "          element.innerHTML = '';\n",
              "          dataTable['output_type'] = 'display_data';\n",
              "          await google.colab.output.renderOutput(dataTable, element);\n",
              "          const docLink = document.createElement('div');\n",
              "          docLink.innerHTML = docLinkHtml;\n",
              "          element.appendChild(docLink);\n",
              "        }\n",
              "      </script>\n",
              "    </div>\n",
              "  </div>\n",
              "  "
            ]
          },
          "metadata": {},
          "execution_count": 8
        }
      ]
    },
    {
      "cell_type": "code",
      "source": [
        "train_df_norm.describe()"
      ],
      "metadata": {
        "id": "xUvYWPcB7C7l",
        "colab": {
          "base_uri": "https://localhost:8080/",
          "height": 300
        },
        "outputId": "7068682a-fd53-41af-ad25-2ec4ba482e67"
      },
      "execution_count": null,
      "outputs": [
        {
          "output_type": "execute_result",
          "data": {
            "text/plain": [
              "       longitude  latitude  housing_median_age  total_rooms  total_bedrooms  \\\n",
              "count    17000.0   17000.0             17000.0      17000.0         17000.0   \n",
              "mean         0.0       0.0                -0.0         -0.0            -0.0   \n",
              "std          1.0       1.0                 1.0          1.0             1.0   \n",
              "min         -2.4      -1.4                -2.2         -1.2            -1.3   \n",
              "25%         -1.1      -0.8                -0.8         -0.5            -0.6   \n",
              "50%          0.5      -0.6                 0.0         -0.2            -0.3   \n",
              "75%          0.8       1.0                 0.7          0.2             0.3   \n",
              "max          2.6       3.0                 1.9         16.2            14.0   \n",
              "\n",
              "       population  households  median_income  median_house_value  \n",
              "count     17000.0     17000.0        17000.0             17000.0  \n",
              "mean          0.0         0.0            0.0                 0.0  \n",
              "std           1.0         1.0            1.0                 1.0  \n",
              "min          -1.2        -1.3           -1.8                -1.7  \n",
              "25%          -0.6        -0.6           -0.7                -0.8  \n",
              "50%          -0.2        -0.2           -0.2                -0.2  \n",
              "75%           0.3         0.3            0.5                 0.5  \n",
              "max          29.8        14.5            5.8                 2.5  "
            ],
            "text/html": [
              "\n",
              "  <div id=\"df-d09ac1fd-eb2d-46dc-849c-2ed8d7669709\">\n",
              "    <div class=\"colab-df-container\">\n",
              "      <div>\n",
              "<style scoped>\n",
              "    .dataframe tbody tr th:only-of-type {\n",
              "        vertical-align: middle;\n",
              "    }\n",
              "\n",
              "    .dataframe tbody tr th {\n",
              "        vertical-align: top;\n",
              "    }\n",
              "\n",
              "    .dataframe thead th {\n",
              "        text-align: right;\n",
              "    }\n",
              "</style>\n",
              "<table border=\"1\" class=\"dataframe\">\n",
              "  <thead>\n",
              "    <tr style=\"text-align: right;\">\n",
              "      <th></th>\n",
              "      <th>longitude</th>\n",
              "      <th>latitude</th>\n",
              "      <th>housing_median_age</th>\n",
              "      <th>total_rooms</th>\n",
              "      <th>total_bedrooms</th>\n",
              "      <th>population</th>\n",
              "      <th>households</th>\n",
              "      <th>median_income</th>\n",
              "      <th>median_house_value</th>\n",
              "    </tr>\n",
              "  </thead>\n",
              "  <tbody>\n",
              "    <tr>\n",
              "      <th>count</th>\n",
              "      <td>17000.0</td>\n",
              "      <td>17000.0</td>\n",
              "      <td>17000.0</td>\n",
              "      <td>17000.0</td>\n",
              "      <td>17000.0</td>\n",
              "      <td>17000.0</td>\n",
              "      <td>17000.0</td>\n",
              "      <td>17000.0</td>\n",
              "      <td>17000.0</td>\n",
              "    </tr>\n",
              "    <tr>\n",
              "      <th>mean</th>\n",
              "      <td>0.0</td>\n",
              "      <td>0.0</td>\n",
              "      <td>-0.0</td>\n",
              "      <td>-0.0</td>\n",
              "      <td>-0.0</td>\n",
              "      <td>0.0</td>\n",
              "      <td>0.0</td>\n",
              "      <td>0.0</td>\n",
              "      <td>0.0</td>\n",
              "    </tr>\n",
              "    <tr>\n",
              "      <th>std</th>\n",
              "      <td>1.0</td>\n",
              "      <td>1.0</td>\n",
              "      <td>1.0</td>\n",
              "      <td>1.0</td>\n",
              "      <td>1.0</td>\n",
              "      <td>1.0</td>\n",
              "      <td>1.0</td>\n",
              "      <td>1.0</td>\n",
              "      <td>1.0</td>\n",
              "    </tr>\n",
              "    <tr>\n",
              "      <th>min</th>\n",
              "      <td>-2.4</td>\n",
              "      <td>-1.4</td>\n",
              "      <td>-2.2</td>\n",
              "      <td>-1.2</td>\n",
              "      <td>-1.3</td>\n",
              "      <td>-1.2</td>\n",
              "      <td>-1.3</td>\n",
              "      <td>-1.8</td>\n",
              "      <td>-1.7</td>\n",
              "    </tr>\n",
              "    <tr>\n",
              "      <th>25%</th>\n",
              "      <td>-1.1</td>\n",
              "      <td>-0.8</td>\n",
              "      <td>-0.8</td>\n",
              "      <td>-0.5</td>\n",
              "      <td>-0.6</td>\n",
              "      <td>-0.6</td>\n",
              "      <td>-0.6</td>\n",
              "      <td>-0.7</td>\n",
              "      <td>-0.8</td>\n",
              "    </tr>\n",
              "    <tr>\n",
              "      <th>50%</th>\n",
              "      <td>0.5</td>\n",
              "      <td>-0.6</td>\n",
              "      <td>0.0</td>\n",
              "      <td>-0.2</td>\n",
              "      <td>-0.3</td>\n",
              "      <td>-0.2</td>\n",
              "      <td>-0.2</td>\n",
              "      <td>-0.2</td>\n",
              "      <td>-0.2</td>\n",
              "    </tr>\n",
              "    <tr>\n",
              "      <th>75%</th>\n",
              "      <td>0.8</td>\n",
              "      <td>1.0</td>\n",
              "      <td>0.7</td>\n",
              "      <td>0.2</td>\n",
              "      <td>0.3</td>\n",
              "      <td>0.3</td>\n",
              "      <td>0.3</td>\n",
              "      <td>0.5</td>\n",
              "      <td>0.5</td>\n",
              "    </tr>\n",
              "    <tr>\n",
              "      <th>max</th>\n",
              "      <td>2.6</td>\n",
              "      <td>3.0</td>\n",
              "      <td>1.9</td>\n",
              "      <td>16.2</td>\n",
              "      <td>14.0</td>\n",
              "      <td>29.8</td>\n",
              "      <td>14.5</td>\n",
              "      <td>5.8</td>\n",
              "      <td>2.5</td>\n",
              "    </tr>\n",
              "  </tbody>\n",
              "</table>\n",
              "</div>\n",
              "      <button class=\"colab-df-convert\" onclick=\"convertToInteractive('df-d09ac1fd-eb2d-46dc-849c-2ed8d7669709')\"\n",
              "              title=\"Convert this dataframe to an interactive table.\"\n",
              "              style=\"display:none;\">\n",
              "        \n",
              "  <svg xmlns=\"http://www.w3.org/2000/svg\" height=\"24px\"viewBox=\"0 0 24 24\"\n",
              "       width=\"24px\">\n",
              "    <path d=\"M0 0h24v24H0V0z\" fill=\"none\"/>\n",
              "    <path d=\"M18.56 5.44l.94 2.06.94-2.06 2.06-.94-2.06-.94-.94-2.06-.94 2.06-2.06.94zm-11 1L8.5 8.5l.94-2.06 2.06-.94-2.06-.94L8.5 2.5l-.94 2.06-2.06.94zm10 10l.94 2.06.94-2.06 2.06-.94-2.06-.94-.94-2.06-.94 2.06-2.06.94z\"/><path d=\"M17.41 7.96l-1.37-1.37c-.4-.4-.92-.59-1.43-.59-.52 0-1.04.2-1.43.59L10.3 9.45l-7.72 7.72c-.78.78-.78 2.05 0 2.83L4 21.41c.39.39.9.59 1.41.59.51 0 1.02-.2 1.41-.59l7.78-7.78 2.81-2.81c.8-.78.8-2.07 0-2.86zM5.41 20L4 18.59l7.72-7.72 1.47 1.35L5.41 20z\"/>\n",
              "  </svg>\n",
              "      </button>\n",
              "      \n",
              "  <style>\n",
              "    .colab-df-container {\n",
              "      display:flex;\n",
              "      flex-wrap:wrap;\n",
              "      gap: 12px;\n",
              "    }\n",
              "\n",
              "    .colab-df-convert {\n",
              "      background-color: #E8F0FE;\n",
              "      border: none;\n",
              "      border-radius: 50%;\n",
              "      cursor: pointer;\n",
              "      display: none;\n",
              "      fill: #1967D2;\n",
              "      height: 32px;\n",
              "      padding: 0 0 0 0;\n",
              "      width: 32px;\n",
              "    }\n",
              "\n",
              "    .colab-df-convert:hover {\n",
              "      background-color: #E2EBFA;\n",
              "      box-shadow: 0px 1px 2px rgba(60, 64, 67, 0.3), 0px 1px 3px 1px rgba(60, 64, 67, 0.15);\n",
              "      fill: #174EA6;\n",
              "    }\n",
              "\n",
              "    [theme=dark] .colab-df-convert {\n",
              "      background-color: #3B4455;\n",
              "      fill: #D2E3FC;\n",
              "    }\n",
              "\n",
              "    [theme=dark] .colab-df-convert:hover {\n",
              "      background-color: #434B5C;\n",
              "      box-shadow: 0px 1px 3px 1px rgba(0, 0, 0, 0.15);\n",
              "      filter: drop-shadow(0px 1px 2px rgba(0, 0, 0, 0.3));\n",
              "      fill: #FFFFFF;\n",
              "    }\n",
              "  </style>\n",
              "\n",
              "      <script>\n",
              "        const buttonEl =\n",
              "          document.querySelector('#df-d09ac1fd-eb2d-46dc-849c-2ed8d7669709 button.colab-df-convert');\n",
              "        buttonEl.style.display =\n",
              "          google.colab.kernel.accessAllowed ? 'block' : 'none';\n",
              "\n",
              "        async function convertToInteractive(key) {\n",
              "          const element = document.querySelector('#df-d09ac1fd-eb2d-46dc-849c-2ed8d7669709');\n",
              "          const dataTable =\n",
              "            await google.colab.kernel.invokeFunction('convertToInteractive',\n",
              "                                                     [key], {});\n",
              "          if (!dataTable) return;\n",
              "\n",
              "          const docLinkHtml = 'Like what you see? Visit the ' +\n",
              "            '<a target=\"_blank\" href=https://colab.research.google.com/notebooks/data_table.ipynb>data table notebook</a>'\n",
              "            + ' to learn more about interactive tables.';\n",
              "          element.innerHTML = '';\n",
              "          dataTable['output_type'] = 'display_data';\n",
              "          await google.colab.output.renderOutput(dataTable, element);\n",
              "          const docLink = document.createElement('div');\n",
              "          docLink.innerHTML = docLinkHtml;\n",
              "          element.appendChild(docLink);\n",
              "        }\n",
              "      </script>\n",
              "    </div>\n",
              "  </div>\n",
              "  "
            ]
          },
          "metadata": {},
          "execution_count": 9
        }
      ]
    },
    {
      "cell_type": "markdown",
      "metadata": {
        "id": "b9ehCgIRjTxy"
      },
      "source": [
        "## Represent data\n",
        "\n",
        "The following code cell creates a feature layer containing three features:\n",
        "\n",
        "* `latitude` X `longitude` (a feature cross)\n",
        "* `median_income`\n",
        "* `population`\n",
        "\n",
        "This code cell specifies the features that you'll ultimately train the model on and how each of those features will be represented. The transformations (collected in `my_feature_layer`) don't actually get applied until you pass a DataFrame to it, which will happen when we train the model. "
      ]
    },
    {
      "cell_type": "code",
      "source": [
        "plt.scatter(train_df[\"latitude\"], train_df[\"median_house_value\"])"
      ],
      "metadata": {
        "id": "URWif05OvqTp",
        "colab": {
          "base_uri": "https://localhost:8080/"
        },
        "outputId": "471edf1f-ce54-4431-ac1a-b2b9dbe8fc41"
      },
      "execution_count": null,
      "outputs": [
        {
          "output_type": "execute_result",
          "data": {
            "text/plain": [
              "<matplotlib.collections.PathCollection at 0x7f9a8e4735b0>"
            ]
          },
          "metadata": {},
          "execution_count": 10
        },
        {
          "output_type": "display_data",
          "data": {
            "text/plain": [
              "<Figure size 432x288 with 1 Axes>"
            ],
            "image/png": "[encoded data removed]"
          },
          "metadata": {
            "needs_background": "light"
          }
        }
      ]
    },
    {
      "cell_type": "code",
      "execution_count": null,
      "metadata": {
        "id": "8EkNAQhnjSu-"
      },
      "outputs": [],
      "source": [
        "# Create an empty list that will eventually hold all created feature columns.\n",
        "feature_columns = []\n",
        "\n",
        "# We scaled all the columns, including latitude and longitude, into their\n",
        "# Z scores. So, instead of picking a resolution in degrees, we're going\n",
        "# to use resolution_in_Zs.  A resolution_in_Zs of 1 corresponds to \n",
        "# a full standard deviation. \n",
        "resolution_in_Zs = 0.3  # 3/10 of a standard deviation.\n",
        "\n",
        "# Create a bucket feature column for latitude.\n",
        "latitude_as_a_numeric_column = tf.feature_column.numeric_column(\"latitude\")\n",
        "latitude_boundaries = list(np.arange(int(min(train_df_norm['latitude'])), \n",
        "                                     int(max(train_df_norm['latitude'])), \n",
        "                                     resolution_in_Zs))\n",
        "latitude = tf.feature_column.bucketized_column(latitude_as_a_numeric_column, latitude_boundaries)\n",
        "\n",
        "# Create a bucket feature column for longitude.\n",
        "longitude_as_a_numeric_column = tf.feature_column.numeric_column(\"longitude\")\n",
        "longitude_boundaries = list(np.arange(int(min(train_df_norm['longitude'])), \n",
        "                                      int(max(train_df_norm['longitude'])), \n",
        "                                      resolution_in_Zs))\n",
        "longitude = tf.feature_column.bucketized_column(longitude_as_a_numeric_column, \n",
        "                                                longitude_boundaries)\n",
        "\n",
        "# Create a feature cross of latitude and longitude.\n",
        "latitude_x_longitude = tf.feature_column.crossed_column([latitude, longitude], hash_bucket_size=100)\n",
        "crossed_feature = tf.feature_column.indicator_column(latitude_x_longitude)\n",
        "feature_columns.append(crossed_feature)  \n",
        "\n",
        "# Represent median_income as a floating-point value.\n",
        "median_income = tf.feature_column.numeric_column(\"median_income\")\n",
        "feature_columns.append(median_income)\n",
        "\n",
        "# Represent population as a floating-point value.\n",
        "population = tf.feature_column.numeric_column(\"population\")\n",
        "feature_columns.append(population)\n",
        "\n",
        "# Convert the list of feature columns into a layer that will later be fed into\n",
        "# the model. \n",
        "my_feature_layer = tf.keras.layers.DenseFeatures(feature_columns)"
      ]
    },
    {
      "cell_type": "markdown",
      "metadata": {
        "id": "Ak_TMAzGOIFq"
      },
      "source": [
        "## Build a linear regression model as a baseline\n",
        "\n",
        "Before creating a deep neural net, find a [baseline](https://developers.google.com/machine-learning/glossary/#baseline) loss by running a simple linear regression model that uses the feature layer you just created. \n"
      ]
    },
    {
      "cell_type": "code",
      "execution_count": null,
      "metadata": {
        "id": "QF0BFRXTOeR3",
        "colab": {
          "base_uri": "https://localhost:8080/"
        },
        "outputId": "307bd6be-0023-45c5-e382-70eeed3d5e68"
      },
      "outputs": [
        {
          "output_type": "stream",
          "name": "stdout",
          "text": [
            "Defined the plot_the_loss_curve function.\n"
          ]
        }
      ],
      "source": [
        "#@title Define the plotting function.\n",
        "\n",
        "def plot_the_loss_curve(epochs, mse):\n",
        "  \"\"\"Plot a curve of loss vs. epoch.\"\"\"\n",
        "\n",
        "  plt.figure()\n",
        "  plt.xlabel(\"Epoch\")\n",
        "  plt.ylabel(\"Mean Squared Error\")\n",
        "\n",
        "  plt.plot(epochs, mse, label=\"Loss\")\n",
        "  plt.legend()\n",
        "  plt.ylim([mse.min()*0.95, mse.max() * 1.03])\n",
        "  plt.show()  \n",
        "\n",
        "print(\"Defined the plot_the_loss_curve function.\")"
      ]
    },
    {
      "cell_type": "code",
      "execution_count": null,
      "metadata": {
        "id": "RW4Qe710LgnG",
        "colab": {
          "base_uri": "https://localhost:8080/"
        },
        "outputId": "415774bb-8e5b-494f-ae54-284ae3779782"
      },
      "outputs": [
        {
          "output_type": "stream",
          "name": "stdout",
          "text": [
            "Defined the create_model and train_model functions.\n"
          ]
        }
      ],
      "source": [
        "#@title Define functions to create and train a linear regression model\n",
        "def create_model(my_learning_rate, feature_layer):\n",
        "  \"\"\"Create and compile a simple linear regression model.\"\"\"\n",
        "  # Most simple tf.keras models are sequential.\n",
        "  model = tf.keras.models.Sequential()\n",
        "\n",
        "  # Add the layer containing the feature columns to the model.\n",
        "  model.add(feature_layer)\n",
        "\n",
        "  # Add one linear layer to the model to yield a simple linear regressor.\n",
        "  model.add(tf.keras.layers.Dense(units=1))\n",
        "\n",
        "  # Construct the layers into a model that TensorFlow can execute.\n",
        "  model.compile(optimizer=tf.keras.optimizers.RMSprop(lr=my_learning_rate),\n",
        "                loss=\"mean_squared_error\",\n",
        "                metrics=[tf.keras.metrics.MeanSquaredError()])\n",
        "\n",
        "  return model           \n",
        "\n",
        "\n",
        "def train_model(model, dataset, epochs, batch_size, label_name):\n",
        "  \"\"\"Feed a dataset into the model in order to train it.\"\"\"\n",
        "\n",
        "  # Split the dataset into features and label.\n",
        "  features = {name:np.array(value) for name, value in dataset.items()}\n",
        "  label = np.array(features.pop(label_name))\n",
        "  history = model.fit(x=features, y=label, batch_size=batch_size,\n",
        "                      epochs=epochs, shuffle=True)\n",
        "\n",
        "  # Get details that will be useful for plotting the loss curve.\n",
        "  epochs = history.epoch\n",
        "  hist = pd.DataFrame(history.history)\n",
        "  rmse = hist[\"mean_squared_error\"]\n",
        "\n",
        "  return epochs, rmse   \n",
        "\n",
        "print(\"Defined the create_model and train_model functions.\")"
      ]
    },
    {
      "cell_type": "markdown",
      "metadata": {
        "id": "f47LmxF5X_pu"
      },
      "source": [
        "Run the following code cell to invoke the functions defined in the preceding two code cells. (Ignore the warning messages.)\n",
        "\n",
        "**Note:** Because we've scaled all the input data, **including the label**, the resulting loss values will be *much less* than previous models. \n",
        "\n",
        "**Note:** Depending on the version of TensorFlow, running this cell might generate WARNING messages. Please ignore these warnings. "
      ]
    },
    {
      "cell_type": "code",
      "execution_count": null,
      "metadata": {
        "id": "tsfE4ujDL4ju",
        "colab": {
          "base_uri": "https://localhost:8080/"
        },
        "outputId": "811e798a-f20b-4013-be09-2ad5171ebcbe"
      },
      "outputs": [
        {
          "output_type": "stream",
          "name": "stderr",
          "text": [
            "WARNING:absl:`lr` is deprecated, please use `learning_rate` instead, or use the legacy optimizer, e.g.,tf.keras.optimizers.legacy.RMSprop.\n"
          ]
        },
        {
          "output_type": "stream",
          "name": "stdout",
          "text": [
            "Epoch 1/40\n"
          ]
        },
        {
          "output_type": "stream",
          "name": "stderr",
          "text": [
            "WARNING:tensorflow:Layers in a Sequential model should only have a single input tensor. Received: inputs={'longitude': <tf.Tensor 'IteratorGetNext:3' shape=(1000,) dtype=float32>, 'latitude': <tf.Tensor 'IteratorGetNext:2' shape=(1000,) dtype=float32>, 'housing_median_age': <tf.Tensor 'IteratorGetNext:1' shape=(1000,) dtype=float32>, 'total_rooms': <tf.Tensor 'IteratorGetNext:7' shape=(1000,) dtype=float32>, 'total_bedrooms': <tf.Tensor 'IteratorGetNext:6' shape=(1000,) dtype=float32>, 'population': <tf.Tensor 'IteratorGetNext:5' shape=(1000,) dtype=float32>, 'households': <tf.Tensor 'IteratorGetNext:0' shape=(1000,) dtype=float32>, 'median_income': <tf.Tensor 'IteratorGetNext:4' shape=(1000,) dtype=float32>}. Consider rewriting this model with the Functional API.\n",
            "WARNING:tensorflow:Layers in a Sequential model should only have a single input tensor. Received: inputs={'longitude': <tf.Tensor 'IteratorGetNext:3' shape=(1000,) dtype=float32>, 'latitude': <tf.Tensor 'IteratorGetNext:2' shape=(1000,) dtype=float32>, 'housing_median_age': <tf.Tensor 'IteratorGetNext:1' shape=(1000,) dtype=float32>, 'total_rooms': <tf.Tensor 'IteratorGetNext:7' shape=(1000,) dtype=float32>, 'total_bedrooms': <tf.Tensor 'IteratorGetNext:6' shape=(1000,) dtype=float32>, 'population': <tf.Tensor 'IteratorGetNext:5' shape=(1000,) dtype=float32>, 'households': <tf.Tensor 'IteratorGetNext:0' shape=(1000,) dtype=float32>, 'median_income': <tf.Tensor 'IteratorGetNext:4' shape=(1000,) dtype=float32>}. Consider rewriting this model with the Functional API.\n"
          ]
        },
        {
          "output_type": "stream",
          "name": "stdout",
          "text": [
            "17/17 [==============================] - 1s 4ms/step - loss: 0.7259 - mean_squared_error: 0.7259\n",
            "Epoch 2/40\n",
            "17/17 [==============================] - 0s 3ms/step - loss: 0.6914 - mean_squared_error: 0.6914\n",
            "Epoch 3/40\n",
            "17/17 [==============================] - 0s 3ms/step - loss: 0.6633 - mean_squared_error: 0.6633\n",
            "Epoch 4/40\n",
            "17/17 [==============================] - 0s 2ms/step - loss: 0.6375 - mean_squared_error: 0.6375\n",
            "Epoch 5/40\n",
            "17/17 [==============================] - 0s 2ms/step - loss: 0.6133 - mean_squared_error: 0.6133\n",
            "Epoch 6/40\n",
            "17/17 [==============================] - 0s 2ms/step - loss: 0.5909 - mean_squared_error: 0.5909\n",
            "Epoch 7/40\n",
            "17/17 [==============================] - 0s 2ms/step - loss: 0.5701 - mean_squared_error: 0.5701\n",
            "Epoch 8/40\n",
            "17/17 [==============================] - 0s 4ms/step - loss: 0.5508 - mean_squared_error: 0.5508\n",
            "Epoch 9/40\n",
            "17/17 [==============================] - 0s 2ms/step - loss: 0.5330 - mean_squared_error: 0.5330\n",
            "Epoch 10/40\n",
            "17/17 [==============================] - 0s 2ms/step - loss: 0.5167 - mean_squared_error: 0.5167\n",
            "Epoch 11/40\n",
            "17/17 [==============================] - 0s 3ms/step - loss: 0.5014 - mean_squared_error: 0.5014\n",
            "Epoch 12/40\n",
            "17/17 [==============================] - 0s 2ms/step - loss: 0.4871 - mean_squared_error: 0.4871\n",
            "Epoch 13/40\n",
            "17/17 [==============================] - 0s 2ms/step - loss: 0.4740 - mean_squared_error: 0.4740\n",
            "Epoch 14/40\n",
            "17/17 [==============================] - 0s 3ms/step - loss: 0.4618 - mean_squared_error: 0.4618\n",
            "Epoch 15/40\n",
            "17/17 [==============================] - 0s 3ms/step - loss: 0.4507 - mean_squared_error: 0.4507\n",
            "Epoch 16/40\n",
            "17/17 [==============================] - 0s 2ms/step - loss: 0.4406 - mean_squared_error: 0.4406\n",
            "Epoch 17/40\n",
            "17/17 [==============================] - 0s 3ms/step - loss: 0.4316 - mean_squared_error: 0.4316\n",
            "Epoch 18/40\n",
            "17/17 [==============================] - 0s 2ms/step - loss: 0.4235 - mean_squared_error: 0.4235\n",
            "Epoch 19/40\n",
            "17/17 [==============================] - 0s 3ms/step - loss: 0.4164 - mean_squared_error: 0.4164\n",
            "Epoch 20/40\n",
            "17/17 [==============================] - 0s 3ms/step - loss: 0.4102 - mean_squared_error: 0.4102\n",
            "Epoch 21/40\n",
            "17/17 [==============================] - 0s 2ms/step - loss: 0.4049 - mean_squared_error: 0.4049\n",
            "Epoch 22/40\n",
            "17/17 [==============================] - 0s 3ms/step - loss: 0.4005 - mean_squared_error: 0.4005\n",
            "Epoch 23/40\n",
            "17/17 [==============================] - 0s 3ms/step - loss: 0.3968 - mean_squared_error: 0.3968\n",
            "Epoch 24/40\n",
            "17/17 [==============================] - 0s 2ms/step - loss: 0.3938 - mean_squared_error: 0.3938\n",
            "Epoch 25/40\n",
            "17/17 [==============================] - 0s 2ms/step - loss: 0.3912 - mean_squared_error: 0.3912\n",
            "Epoch 26/40\n",
            "17/17 [==============================] - 0s 3ms/step - loss: 0.3891 - mean_squared_error: 0.3891\n",
            "Epoch 27/40\n",
            "17/17 [==============================] - 0s 2ms/step - loss: 0.3872 - mean_squared_error: 0.3872\n",
            "Epoch 28/40\n",
            "17/17 [==============================] - 0s 2ms/step - loss: 0.3855 - mean_squared_error: 0.3855\n",
            "Epoch 29/40\n",
            "17/17 [==============================] - 0s 2ms/step - loss: 0.3838 - mean_squared_error: 0.3838\n",
            "Epoch 30/40\n",
            "17/17 [==============================] - 0s 2ms/step - loss: 0.3822 - mean_squared_error: 0.3822\n",
            "Epoch 31/40\n",
            "17/17 [==============================] - 0s 3ms/step - loss: 0.3807 - mean_squared_error: 0.3807\n",
            "Epoch 32/40\n",
            "17/17 [==============================] - 0s 3ms/step - loss: 0.3793 - mean_squared_error: 0.3793\n",
            "Epoch 33/40\n",
            "17/17 [==============================] - 0s 2ms/step - loss: 0.3780 - mean_squared_error: 0.3780\n",
            "Epoch 34/40\n",
            "17/17 [==============================] - 0s 2ms/step - loss: 0.3767 - mean_squared_error: 0.3767\n",
            "Epoch 35/40\n",
            "17/17 [==============================] - 0s 2ms/step - loss: 0.3755 - mean_squared_error: 0.3755\n",
            "Epoch 36/40\n",
            "17/17 [==============================] - 0s 3ms/step - loss: 0.3743 - mean_squared_error: 0.3743\n",
            "Epoch 37/40\n",
            "17/17 [==============================] - 0s 2ms/step - loss: 0.3732 - mean_squared_error: 0.3732\n",
            "Epoch 38/40\n",
            "17/17 [==============================] - 0s 2ms/step - loss: 0.3722 - mean_squared_error: 0.3722\n",
            "Epoch 39/40\n",
            "17/17 [==============================] - 0s 2ms/step - loss: 0.3713 - mean_squared_error: 0.3713\n",
            "Epoch 40/40\n",
            "17/17 [==============================] - 0s 3ms/step - loss: 0.3703 - mean_squared_error: 0.3703\n"
          ]
        },
        {
          "output_type": "display_data",
          "data": {
            "text/plain": [
              "<Figure size 432x288 with 1 Axes>"
            ],
            "image/png": "[encoded data removed]"
          },
          "metadata": {
            "needs_background": "light"
          }
        },
        {
          "output_type": "stream",
          "name": "stdout",
          "text": [
            "\n",
            " Evaluate the linear regression model against the test set:\n"
          ]
        },
        {
          "output_type": "stream",
          "name": "stderr",
          "text": [
            "WARNING:tensorflow:Layers in a Sequential model should only have a single input tensor. Received: inputs={'longitude': <tf.Tensor 'IteratorGetNext:3' shape=(1000,) dtype=float32>, 'latitude': <tf.Tensor 'IteratorGetNext:2' shape=(1000,) dtype=float32>, 'housing_median_age': <tf.Tensor 'IteratorGetNext:1' shape=(1000,) dtype=float32>, 'total_rooms': <tf.Tensor 'IteratorGetNext:7' shape=(1000,) dtype=float32>, 'total_bedrooms': <tf.Tensor 'IteratorGetNext:6' shape=(1000,) dtype=float32>, 'population': <tf.Tensor 'IteratorGetNext:5' shape=(1000,) dtype=float32>, 'households': <tf.Tensor 'IteratorGetNext:0' shape=(1000,) dtype=float32>, 'median_income': <tf.Tensor 'IteratorGetNext:4' shape=(1000,) dtype=float32>}. Consider rewriting this model with the Functional API.\n"
          ]
        },
        {
          "output_type": "stream",
          "name": "stdout",
          "text": [
            "3/3 [==============================] - 0s 5ms/step - loss: 0.4012 - mean_squared_error: 0.4012\n"
          ]
        },
        {
          "output_type": "execute_result",
          "data": {
            "text/plain": [
              "[0.40122362971305847, 0.40122362971305847]"
            ]
          },
          "metadata": {},
          "execution_count": 14
        }
      ],
      "source": [
        "# The following variables are the hyperparameters.\n",
        "learning_rate = 0.01\n",
        "epochs = 40\n",
        "batch_size = 1000\n",
        "label_name = \"median_house_value\"\n",
        "\n",
        "# Establish the model's topography.\n",
        "my_model = create_model(learning_rate, my_feature_layer)\n",
        "\n",
        "# Train the model on the normalized training set.\n",
        "epochs, mse = train_model(my_model, train_df_norm, epochs, batch_size, label_name)\n",
        "plot_the_loss_curve(epochs, mse)\n",
        "\n",
        "test_features = {name:np.array(value) for name, value in test_df_norm.items()}\n",
        "test_label = np.array(test_features.pop(label_name)) # isolate the label\n",
        "print(\"\\n Evaluate the linear regression model against the test set:\")\n",
        "my_model.evaluate(x = test_features, y = test_label, batch_size=batch_size)"
      ]
    },
    {
      "cell_type": "markdown",
      "metadata": {
        "id": "3014ezH3C7jT"
      },
      "source": [
        "## Define a deep neural net model\n",
        "\n",
        "The `create_model` function defines the topography of the deep neural net, specifying the following:\n",
        "\n",
        "* The number of [layers](https://developers.google.com/machine-learning/glossary/#layer) in the deep neural net.\n",
        "* The number of [nodes](https://developers.google.com/machine-learning/glossary/#node) in each layer.\n",
        "\n",
        "The `create_model` function also defines the [activation function](https://developers.google.com/machine-learning/glossary/#activation_function) of each layer."
      ]
    },
    {
      "cell_type": "code",
      "execution_count": null,
      "metadata": {
        "cellView": "both",
        "id": "pedD5GhlDC-y"
      },
      "outputs": [],
      "source": [
        "def create_model(my_learning_rate, my_feature_layer, dropout_rate):\n",
        "  \"\"\"Create and compile a simple linear regression model.\"\"\"\n",
        "  # Most simple tf.keras models are sequential.\n",
        "  model = tf.keras.models.Sequential()\n",
        "\n",
        "  # Add the layer containing the feature columns to the model.\n",
        "  model.add(my_feature_layer)\n",
        "\n",
        "  # Describe the topography of the model by calling the tf.keras.layers.Dense\n",
        "  # method once for each layer. We've specified the following arguments:\n",
        "  #   * units specifies the number of nodes in this layer.\n",
        "  #   * activation specifies the activation function (Rectified Linear Unit).\n",
        "  #   * name is just a string that can be useful when debugging.\n",
        "\n",
        "  # Define the first hidden layer with 20 nodes.   \n",
        "  model.add(tf.keras.layers.Dense(units=20, \n",
        "                                  activation='relu', \n",
        "                                  name='Hidden1'))\n",
        "\n",
        "  model.add(tf.keras.layers.Dropout(rate=dropout_rate))\n",
        "\n",
        "  # Define the second hidden layer with 12 nodes. \n",
        "  model.add(tf.keras.layers.Dense(units=12, \n",
        "                                  activation='relu', \n",
        "                                  name='Hidden2'))\n",
        "  \n",
        "  # Define the output layer.\n",
        "  model.add(tf.keras.layers.Dense(units=1,  \n",
        "                                  name='Output'))                              \n",
        "  \n",
        "  model.compile(optimizer=tf.keras.optimizers.Adam(lr=my_learning_rate),\n",
        "                loss=\"mean_squared_error\",\n",
        "                metrics=[tf.keras.metrics.MeanSquaredError()])\n",
        "\n",
        "  return model"
      ]
    },
    {
      "cell_type": "markdown",
      "metadata": {
        "id": "anH4A_yCcZx2"
      },
      "source": [
        "## Define a training function\n",
        "\n",
        "The `train_model` function trains the model from the input features and labels. The [tf.keras.Model.fit](https://www.tensorflow.org/api_docs/python/tf/keras/Sequential#fit) method performs the actual training. The `x` parameter of the `fit` method is very flexible, enabling you to pass feature data in a variety of ways. The following implementation passes a Python dictionary in which:\n",
        "\n",
        "* The *keys* are the names of each feature (for example, `longitude`, `latitude`, and so on).\n",
        "* The *value* of each key is a NumPy array containing the values of that feature. \n",
        "\n",
        "**Note:** Although you are passing *every* feature to `model.fit`, most of those values will be ignored. Only the features accessed by `my_feature_layer` will actually be used to train the model."
      ]
    },
    {
      "cell_type": "code",
      "execution_count": null,
      "metadata": {
        "id": "4jv_lJYTcrEF"
      },
      "outputs": [],
      "source": [
        "def train_model(model, dataset, epochs, label_name,\n",
        "                batch_size=None):\n",
        "  \"\"\"Train the model by feeding it data.\"\"\"\n",
        "\n",
        "  # Split the dataset into features and label.\n",
        "  features = {name:np.array(value) for name, value in dataset.items()}\n",
        "  label = np.array(features.pop(label_name))\n",
        "  history = model.fit(x=features, y=label, batch_size=batch_size,\n",
        "                      epochs=epochs, shuffle=True) \n",
        "\n",
        "  # The list of epochs is stored separately from the rest of history.\n",
        "  epochs = history.epoch\n",
        "  \n",
        "  # To track the progression of training, gather a snapshot\n",
        "  # of the model's mean squared error at each epoch. \n",
        "  hist = pd.DataFrame(history.history)\n",
        "  mse = hist[\"mean_squared_error\"]\n",
        "\n",
        "  return epochs, mse"
      ]
    },
    {
      "cell_type": "markdown",
      "metadata": {
        "id": "D-IXYVfvM4gD"
      },
      "source": [
        "## Call the functions to build and train a deep neural net\n",
        "\n",
        "Okay, it is time to actually train the deep neural net.  If time permits, experiment with the three hyperparameters to see if you can reduce the loss\n",
        "against the test set.\n"
      ]
    },
    {
      "cell_type": "code",
      "execution_count": null,
      "metadata": {
        "cellView": "both",
        "id": "nj3v5EKQFY8s",
        "colab": {
          "base_uri": "https://localhost:8080/"
        },
        "outputId": "5a8f283d-624c-4b9c-d1ef-1011709180d1"
      },
      "outputs": [
        {
          "output_type": "stream",
          "name": "stderr",
          "text": [
            "WARNING:absl:`lr` is deprecated, please use `learning_rate` instead, or use the legacy optimizer, e.g.,tf.keras.optimizers.legacy.Adam.\n"
          ]
        },
        {
          "output_type": "stream",
          "name": "stdout",
          "text": [
            "Epoch 1/20\n"
          ]
        },
        {
          "output_type": "stream",
          "name": "stderr",
          "text": [
            "WARNING:tensorflow:Layers in a Sequential model should only have a single input tensor. Received: inputs={'longitude': <tf.Tensor 'IteratorGetNext:3' shape=(1000,) dtype=float32>, 'latitude': <tf.Tensor 'IteratorGetNext:2' shape=(1000,) dtype=float32>, 'housing_median_age': <tf.Tensor 'IteratorGetNext:1' shape=(1000,) dtype=float32>, 'total_rooms': <tf.Tensor 'IteratorGetNext:7' shape=(1000,) dtype=float32>, 'total_bedrooms': <tf.Tensor 'IteratorGetNext:6' shape=(1000,) dtype=float32>, 'population': <tf.Tensor 'IteratorGetNext:5' shape=(1000,) dtype=float32>, 'households': <tf.Tensor 'IteratorGetNext:0' shape=(1000,) dtype=float32>, 'median_income': <tf.Tensor 'IteratorGetNext:4' shape=(1000,) dtype=float32>}. Consider rewriting this model with the Functional API.\n",
            "WARNING:tensorflow:Layers in a Sequential model should only have a single input tensor. Received: inputs={'longitude': <tf.Tensor 'IteratorGetNext:3' shape=(1000,) dtype=float32>, 'latitude': <tf.Tensor 'IteratorGetNext:2' shape=(1000,) dtype=float32>, 'housing_median_age': <tf.Tensor 'IteratorGetNext:1' shape=(1000,) dtype=float32>, 'total_rooms': <tf.Tensor 'IteratorGetNext:7' shape=(1000,) dtype=float32>, 'total_bedrooms': <tf.Tensor 'IteratorGetNext:6' shape=(1000,) dtype=float32>, 'population': <tf.Tensor 'IteratorGetNext:5' shape=(1000,) dtype=float32>, 'households': <tf.Tensor 'IteratorGetNext:0' shape=(1000,) dtype=float32>, 'median_income': <tf.Tensor 'IteratorGetNext:4' shape=(1000,) dtype=float32>}. Consider rewriting this model with the Functional API.\n"
          ]
        },
        {
          "output_type": "stream",
          "name": "stdout",
          "text": [
            "17/17 [==============================] - 1s 4ms/step - loss: 0.9978 - mean_squared_error: 0.9978\n",
            "Epoch 2/20\n",
            "17/17 [==============================] - 0s 4ms/step - loss: 0.8721 - mean_squared_error: 0.8721\n",
            "Epoch 3/20\n",
            "17/17 [==============================] - 0s 4ms/step - loss: 0.7636 - mean_squared_error: 0.7636\n",
            "Epoch 4/20\n",
            "17/17 [==============================] - 0s 4ms/step - loss: 0.6449 - mean_squared_error: 0.6449\n",
            "Epoch 5/20\n",
            "17/17 [==============================] - 0s 4ms/step - loss: 0.5298 - mean_squared_error: 0.5298\n",
            "Epoch 6/20\n",
            "17/17 [==============================] - 0s 4ms/step - loss: 0.4571 - mean_squared_error: 0.4571\n",
            "Epoch 7/20\n",
            "17/17 [==============================] - 0s 4ms/step - loss: 0.4237 - mean_squared_error: 0.4237\n",
            "Epoch 8/20\n",
            "17/17 [==============================] - 0s 5ms/step - loss: 0.4021 - mean_squared_error: 0.4021\n",
            "Epoch 9/20\n",
            "17/17 [==============================] - 0s 4ms/step - loss: 0.3929 - mean_squared_error: 0.3929\n",
            "Epoch 10/20\n",
            "17/17 [==============================] - 0s 4ms/step - loss: 0.3886 - mean_squared_error: 0.3886\n",
            "Epoch 11/20\n",
            "17/17 [==============================] - 0s 4ms/step - loss: 0.3772 - mean_squared_error: 0.3772\n",
            "Epoch 12/20\n",
            "17/17 [==============================] - 0s 4ms/step - loss: 0.3741 - mean_squared_error: 0.3741\n",
            "Epoch 13/20\n",
            "17/17 [==============================] - 0s 5ms/step - loss: 0.3679 - mean_squared_error: 0.3679\n",
            "Epoch 14/20\n",
            "17/17 [==============================] - 0s 4ms/step - loss: 0.3694 - mean_squared_error: 0.3694\n",
            "Epoch 15/20\n",
            "17/17 [==============================] - 0s 4ms/step - loss: 0.3665 - mean_squared_error: 0.3665\n",
            "Epoch 16/20\n",
            "17/17 [==============================] - 0s 4ms/step - loss: 0.3645 - mean_squared_error: 0.3645\n",
            "Epoch 17/20\n",
            "17/17 [==============================] - 0s 4ms/step - loss: 0.3613 - mean_squared_error: 0.3613\n",
            "Epoch 18/20\n",
            "17/17 [==============================] - 0s 4ms/step - loss: 0.3614 - mean_squared_error: 0.3614\n",
            "Epoch 19/20\n",
            "17/17 [==============================] - 0s 4ms/step - loss: 0.3594 - mean_squared_error: 0.3594\n",
            "Epoch 20/20\n",
            "17/17 [==============================] - 0s 4ms/step - loss: 0.3592 - mean_squared_error: 0.3592\n"
          ]
        },
        {
          "output_type": "stream",
          "name": "stderr",
          "text": [
            "WARNING:tensorflow:Layers in a Sequential model should only have a single input tensor. Received: inputs={'longitude': <tf.Tensor 'IteratorGetNext:3' shape=(1000,) dtype=float32>, 'latitude': <tf.Tensor 'IteratorGetNext:2' shape=(1000,) dtype=float32>, 'housing_median_age': <tf.Tensor 'IteratorGetNext:1' shape=(1000,) dtype=float32>, 'total_rooms': <tf.Tensor 'IteratorGetNext:7' shape=(1000,) dtype=float32>, 'total_bedrooms': <tf.Tensor 'IteratorGetNext:6' shape=(1000,) dtype=float32>, 'population': <tf.Tensor 'IteratorGetNext:5' shape=(1000,) dtype=float32>, 'households': <tf.Tensor 'IteratorGetNext:0' shape=(1000,) dtype=float32>, 'median_income': <tf.Tensor 'IteratorGetNext:4' shape=(1000,) dtype=float32>}. Consider rewriting this model with the Functional API.\n"
          ]
        },
        {
          "output_type": "stream",
          "name": "stdout",
          "text": [
            "\n",
            " Evaluate the new model against the test set:\n",
            "3/3 [==============================] - 0s 5ms/step - loss: 0.3726 - mean_squared_error: 0.3726\n"
          ]
        },
        {
          "output_type": "stream",
          "name": "stderr",
          "text": [
            "<ipython-input-17-fbd6b208d408>:38: FutureWarning: The frame.append method is deprecated and will be removed from pandas in a future version. Use pandas.concat instead.\n",
            "  data = data.append(row, ignore_index=True)\n",
            "WARNING:absl:`lr` is deprecated, please use `learning_rate` instead, or use the legacy optimizer, e.g.,tf.keras.optimizers.legacy.Adam.\n"
          ]
        },
        {
          "output_type": "stream",
          "name": "stdout",
          "text": [
            "Epoch 1/20\n"
          ]
        },
        {
          "output_type": "stream",
          "name": "stderr",
          "text": [
            "WARNING:tensorflow:Layers in a Sequential model should only have a single input tensor. Received: inputs={'longitude': <tf.Tensor 'IteratorGetNext:3' shape=(1000,) dtype=float32>, 'latitude': <tf.Tensor 'IteratorGetNext:2' shape=(1000,) dtype=float32>, 'housing_median_age': <tf.Tensor 'IteratorGetNext:1' shape=(1000,) dtype=float32>, 'total_rooms': <tf.Tensor 'IteratorGetNext:7' shape=(1000,) dtype=float32>, 'total_bedrooms': <tf.Tensor 'IteratorGetNext:6' shape=(1000,) dtype=float32>, 'population': <tf.Tensor 'IteratorGetNext:5' shape=(1000,) dtype=float32>, 'households': <tf.Tensor 'IteratorGetNext:0' shape=(1000,) dtype=float32>, 'median_income': <tf.Tensor 'IteratorGetNext:4' shape=(1000,) dtype=float32>}. Consider rewriting this model with the Functional API.\n",
            "WARNING:tensorflow:Layers in a Sequential model should only have a single input tensor. Received: inputs={'longitude': <tf.Tensor 'IteratorGetNext:3' shape=(1000,) dtype=float32>, 'latitude': <tf.Tensor 'IteratorGetNext:2' shape=(1000,) dtype=float32>, 'housing_median_age': <tf.Tensor 'IteratorGetNext:1' shape=(1000,) dtype=float32>, 'total_rooms': <tf.Tensor 'IteratorGetNext:7' shape=(1000,) dtype=float32>, 'total_bedrooms': <tf.Tensor 'IteratorGetNext:6' shape=(1000,) dtype=float32>, 'population': <tf.Tensor 'IteratorGetNext:5' shape=(1000,) dtype=float32>, 'households': <tf.Tensor 'IteratorGetNext:0' shape=(1000,) dtype=float32>, 'median_income': <tf.Tensor 'IteratorGetNext:4' shape=(1000,) dtype=float32>}. Consider rewriting this model with the Functional API.\n"
          ]
        },
        {
          "output_type": "stream",
          "name": "stdout",
          "text": [
            "17/17 [==============================] - 1s 7ms/step - loss: 1.0675 - mean_squared_error: 1.0675\n",
            "Epoch 2/20\n",
            "17/17 [==============================] - 0s 7ms/step - loss: 0.9380 - mean_squared_error: 0.9380\n",
            "Epoch 3/20\n",
            "17/17 [==============================] - 0s 6ms/step - loss: 0.8093 - mean_squared_error: 0.8093\n",
            "Epoch 4/20\n",
            "17/17 [==============================] - 0s 6ms/step - loss: 0.6696 - mean_squared_error: 0.6696\n",
            "Epoch 5/20\n",
            "17/17 [==============================] - 0s 6ms/step - loss: 0.5516 - mean_squared_error: 0.5516\n",
            "Epoch 6/20\n",
            "17/17 [==============================] - 0s 6ms/step - loss: 0.4724 - mean_squared_error: 0.4724\n",
            "Epoch 7/20\n",
            "17/17 [==============================] - 0s 7ms/step - loss: 0.4293 - mean_squared_error: 0.4293\n",
            "Epoch 8/20\n",
            "17/17 [==============================] - 0s 6ms/step - loss: 0.4131 - mean_squared_error: 0.4131\n",
            "Epoch 9/20\n",
            "17/17 [==============================] - 0s 6ms/step - loss: 0.4010 - mean_squared_error: 0.4010\n",
            "Epoch 10/20\n",
            "17/17 [==============================] - 0s 6ms/step - loss: 0.3942 - mean_squared_error: 0.3942\n",
            "Epoch 11/20\n",
            "17/17 [==============================] - 0s 6ms/step - loss: 0.3884 - mean_squared_error: 0.3884\n",
            "Epoch 12/20\n",
            "17/17 [==============================] - 0s 6ms/step - loss: 0.3805 - mean_squared_error: 0.3805\n",
            "Epoch 13/20\n",
            "17/17 [==============================] - 0s 6ms/step - loss: 0.3816 - mean_squared_error: 0.3816\n",
            "Epoch 14/20\n",
            "17/17 [==============================] - 0s 6ms/step - loss: 0.3791 - mean_squared_error: 0.3791\n",
            "Epoch 15/20\n",
            "17/17 [==============================] - 0s 6ms/step - loss: 0.3741 - mean_squared_error: 0.3741\n",
            "Epoch 16/20\n",
            "17/17 [==============================] - 0s 6ms/step - loss: 0.3724 - mean_squared_error: 0.3724\n",
            "Epoch 17/20\n",
            "17/17 [==============================] - 0s 6ms/step - loss: 0.3688 - mean_squared_error: 0.3688\n",
            "Epoch 18/20\n",
            "17/17 [==============================] - 0s 6ms/step - loss: 0.3674 - mean_squared_error: 0.3674\n",
            "Epoch 19/20\n",
            "17/17 [==============================] - 0s 6ms/step - loss: 0.3649 - mean_squared_error: 0.3649\n",
            "Epoch 20/20\n",
            "17/17 [==============================] - 0s 6ms/step - loss: 0.3643 - mean_squared_error: 0.3643\n"
          ]
        },
        {
          "output_type": "stream",
          "name": "stderr",
          "text": [
            "WARNING:tensorflow:Layers in a Sequential model should only have a single input tensor. Received: inputs={'longitude': <tf.Tensor 'IteratorGetNext:3' shape=(1000,) dtype=float32>, 'latitude': <tf.Tensor 'IteratorGetNext:2' shape=(1000,) dtype=float32>, 'housing_median_age': <tf.Tensor 'IteratorGetNext:1' shape=(1000,) dtype=float32>, 'total_rooms': <tf.Tensor 'IteratorGetNext:7' shape=(1000,) dtype=float32>, 'total_bedrooms': <tf.Tensor 'IteratorGetNext:6' shape=(1000,) dtype=float32>, 'population': <tf.Tensor 'IteratorGetNext:5' shape=(1000,) dtype=float32>, 'households': <tf.Tensor 'IteratorGetNext:0' shape=(1000,) dtype=float32>, 'median_income': <tf.Tensor 'IteratorGetNext:4' shape=(1000,) dtype=float32>}. Consider rewriting this model with the Functional API.\n"
          ]
        },
        {
          "output_type": "stream",
          "name": "stdout",
          "text": [
            "\n",
            " Evaluate the new model against the test set:\n",
            "3/3 [==============================] - 0s 6ms/step - loss: 0.3751 - mean_squared_error: 0.3751\n"
          ]
        },
        {
          "output_type": "stream",
          "name": "stderr",
          "text": [
            "<ipython-input-17-fbd6b208d408>:38: FutureWarning: The frame.append method is deprecated and will be removed from pandas in a future version. Use pandas.concat instead.\n",
            "  data = data.append(row, ignore_index=True)\n",
            "WARNING:absl:`lr` is deprecated, please use `learning_rate` instead, or use the legacy optimizer, e.g.,tf.keras.optimizers.legacy.Adam.\n"
          ]
        },
        {
          "output_type": "stream",
          "name": "stdout",
          "text": [
            "Epoch 1/20\n"
          ]
        },
        {
          "output_type": "stream",
          "name": "stderr",
          "text": [
            "WARNING:tensorflow:Layers in a Sequential model should only have a single input tensor. Received: inputs={'longitude': <tf.Tensor 'IteratorGetNext:3' shape=(1000,) dtype=float32>, 'latitude': <tf.Tensor 'IteratorGetNext:2' shape=(1000,) dtype=float32>, 'housing_median_age': <tf.Tensor 'IteratorGetNext:1' shape=(1000,) dtype=float32>, 'total_rooms': <tf.Tensor 'IteratorGetNext:7' shape=(1000,) dtype=float32>, 'total_bedrooms': <tf.Tensor 'IteratorGetNext:6' shape=(1000,) dtype=float32>, 'population': <tf.Tensor 'IteratorGetNext:5' shape=(1000,) dtype=float32>, 'households': <tf.Tensor 'IteratorGetNext:0' shape=(1000,) dtype=float32>, 'median_income': <tf.Tensor 'IteratorGetNext:4' shape=(1000,) dtype=float32>}. Consider rewriting this model with the Functional API.\n",
            "WARNING:tensorflow:Layers in a Sequential model should only have a single input tensor. Received: inputs={'longitude': <tf.Tensor 'IteratorGetNext:3' shape=(1000,) dtype=float32>, 'latitude': <tf.Tensor 'IteratorGetNext:2' shape=(1000,) dtype=float32>, 'housing_median_age': <tf.Tensor 'IteratorGetNext:1' shape=(1000,) dtype=float32>, 'total_rooms': <tf.Tensor 'IteratorGetNext:7' shape=(1000,) dtype=float32>, 'total_bedrooms': <tf.Tensor 'IteratorGetNext:6' shape=(1000,) dtype=float32>, 'population': <tf.Tensor 'IteratorGetNext:5' shape=(1000,) dtype=float32>, 'households': <tf.Tensor 'IteratorGetNext:0' shape=(1000,) dtype=float32>, 'median_income': <tf.Tensor 'IteratorGetNext:4' shape=(1000,) dtype=float32>}. Consider rewriting this model with the Functional API.\n"
          ]
        },
        {
          "output_type": "stream",
          "name": "stdout",
          "text": [
            "17/17 [==============================] - 1s 5ms/step - loss: 0.9704 - mean_squared_error: 0.9704\n",
            "Epoch 2/20\n",
            "17/17 [==============================] - 0s 4ms/step - loss: 0.8332 - mean_squared_error: 0.8332\n",
            "Epoch 3/20\n",
            "17/17 [==============================] - 0s 4ms/step - loss: 0.7126 - mean_squared_error: 0.7126\n",
            "Epoch 4/20\n",
            "17/17 [==============================] - 0s 5ms/step - loss: 0.5948 - mean_squared_error: 0.5948\n",
            "Epoch 5/20\n",
            "17/17 [==============================] - 0s 4ms/step - loss: 0.5042 - mean_squared_error: 0.5042\n",
            "Epoch 6/20\n",
            "17/17 [==============================] - 0s 4ms/step - loss: 0.4549 - mean_squared_error: 0.4549\n",
            "Epoch 7/20\n",
            "17/17 [==============================] - 0s 4ms/step - loss: 0.4348 - mean_squared_error: 0.4348\n",
            "Epoch 8/20\n",
            "17/17 [==============================] - 0s 4ms/step - loss: 0.4187 - mean_squared_error: 0.4187\n",
            "Epoch 9/20\n",
            "17/17 [==============================] - 0s 4ms/step - loss: 0.4077 - mean_squared_error: 0.4077\n",
            "Epoch 10/20\n",
            "17/17 [==============================] - 0s 4ms/step - loss: 0.3960 - mean_squared_error: 0.3960\n",
            "Epoch 11/20\n",
            "17/17 [==============================] - 0s 5ms/step - loss: 0.3925 - mean_squared_error: 0.3925\n",
            "Epoch 12/20\n",
            "17/17 [==============================] - 0s 4ms/step - loss: 0.3866 - mean_squared_error: 0.3866\n",
            "Epoch 13/20\n",
            "17/17 [==============================] - 0s 4ms/step - loss: 0.3829 - mean_squared_error: 0.3829\n",
            "Epoch 14/20\n",
            "17/17 [==============================] - 0s 4ms/step - loss: 0.3807 - mean_squared_error: 0.3807\n",
            "Epoch 15/20\n",
            "17/17 [==============================] - 0s 4ms/step - loss: 0.3737 - mean_squared_error: 0.3737\n",
            "Epoch 16/20\n",
            "17/17 [==============================] - 0s 4ms/step - loss: 0.3744 - mean_squared_error: 0.3744\n",
            "Epoch 17/20\n",
            "17/17 [==============================] - 0s 4ms/step - loss: 0.3775 - mean_squared_error: 0.3775\n",
            "Epoch 18/20\n",
            "17/17 [==============================] - 0s 4ms/step - loss: 0.3709 - mean_squared_error: 0.3709\n",
            "Epoch 19/20\n",
            "17/17 [==============================] - 0s 4ms/step - loss: 0.3691 - mean_squared_error: 0.3691\n",
            "Epoch 20/20\n",
            "17/17 [==============================] - 0s 5ms/step - loss: 0.3679 - mean_squared_error: 0.3679\n"
          ]
        },
        {
          "output_type": "stream",
          "name": "stderr",
          "text": [
            "WARNING:tensorflow:Layers in a Sequential model should only have a single input tensor. Received: inputs={'longitude': <tf.Tensor 'IteratorGetNext:3' shape=(1000,) dtype=float32>, 'latitude': <tf.Tensor 'IteratorGetNext:2' shape=(1000,) dtype=float32>, 'housing_median_age': <tf.Tensor 'IteratorGetNext:1' shape=(1000,) dtype=float32>, 'total_rooms': <tf.Tensor 'IteratorGetNext:7' shape=(1000,) dtype=float32>, 'total_bedrooms': <tf.Tensor 'IteratorGetNext:6' shape=(1000,) dtype=float32>, 'population': <tf.Tensor 'IteratorGetNext:5' shape=(1000,) dtype=float32>, 'households': <tf.Tensor 'IteratorGetNext:0' shape=(1000,) dtype=float32>, 'median_income': <tf.Tensor 'IteratorGetNext:4' shape=(1000,) dtype=float32>}. Consider rewriting this model with the Functional API.\n"
          ]
        },
        {
          "output_type": "stream",
          "name": "stdout",
          "text": [
            "\n",
            " Evaluate the new model against the test set:\n",
            "3/3 [==============================] - 0s 5ms/step - loss: 0.3753 - mean_squared_error: 0.3753\n"
          ]
        },
        {
          "output_type": "stream",
          "name": "stderr",
          "text": [
            "<ipython-input-17-fbd6b208d408>:38: FutureWarning: The frame.append method is deprecated and will be removed from pandas in a future version. Use pandas.concat instead.\n",
            "  data = data.append(row, ignore_index=True)\n",
            "WARNING:absl:`lr` is deprecated, please use `learning_rate` instead, or use the legacy optimizer, e.g.,tf.keras.optimizers.legacy.Adam.\n"
          ]
        },
        {
          "output_type": "stream",
          "name": "stdout",
          "text": [
            "Epoch 1/20\n"
          ]
        },
        {
          "output_type": "stream",
          "name": "stderr",
          "text": [
            "WARNING:tensorflow:Layers in a Sequential model should only have a single input tensor. Received: inputs={'longitude': <tf.Tensor 'IteratorGetNext:3' shape=(1000,) dtype=float32>, 'latitude': <tf.Tensor 'IteratorGetNext:2' shape=(1000,) dtype=float32>, 'housing_median_age': <tf.Tensor 'IteratorGetNext:1' shape=(1000,) dtype=float32>, 'total_rooms': <tf.Tensor 'IteratorGetNext:7' shape=(1000,) dtype=float32>, 'total_bedrooms': <tf.Tensor 'IteratorGetNext:6' shape=(1000,) dtype=float32>, 'population': <tf.Tensor 'IteratorGetNext:5' shape=(1000,) dtype=float32>, 'households': <tf.Tensor 'IteratorGetNext:0' shape=(1000,) dtype=float32>, 'median_income': <tf.Tensor 'IteratorGetNext:4' shape=(1000,) dtype=float32>}. Consider rewriting this model with the Functional API.\n",
            "WARNING:tensorflow:Layers in a Sequential model should only have a single input tensor. Received: inputs={'longitude': <tf.Tensor 'IteratorGetNext:3' shape=(1000,) dtype=float32>, 'latitude': <tf.Tensor 'IteratorGetNext:2' shape=(1000,) dtype=float32>, 'housing_median_age': <tf.Tensor 'IteratorGetNext:1' shape=(1000,) dtype=float32>, 'total_rooms': <tf.Tensor 'IteratorGetNext:7' shape=(1000,) dtype=float32>, 'total_bedrooms': <tf.Tensor 'IteratorGetNext:6' shape=(1000,) dtype=float32>, 'population': <tf.Tensor 'IteratorGetNext:5' shape=(1000,) dtype=float32>, 'households': <tf.Tensor 'IteratorGetNext:0' shape=(1000,) dtype=float32>, 'median_income': <tf.Tensor 'IteratorGetNext:4' shape=(1000,) dtype=float32>}. Consider rewriting this model with the Functional API.\n"
          ]
        },
        {
          "output_type": "stream",
          "name": "stdout",
          "text": [
            "17/17 [==============================] - 1s 4ms/step - loss: 0.8839 - mean_squared_error: 0.8839\n",
            "Epoch 2/20\n",
            "17/17 [==============================] - 0s 4ms/step - loss: 0.7474 - mean_squared_error: 0.7474\n",
            "Epoch 3/20\n",
            "17/17 [==============================] - 0s 4ms/step - loss: 0.6587 - mean_squared_error: 0.6587\n",
            "Epoch 4/20\n",
            "17/17 [==============================] - 0s 4ms/step - loss: 0.6027 - mean_squared_error: 0.6027\n",
            "Epoch 5/20\n",
            "17/17 [==============================] - 0s 5ms/step - loss: 0.5677 - mean_squared_error: 0.5677\n",
            "Epoch 6/20\n",
            "17/17 [==============================] - 0s 4ms/step - loss: 0.5365 - mean_squared_error: 0.5365\n",
            "Epoch 7/20\n",
            "17/17 [==============================] - 0s 4ms/step - loss: 0.5123 - mean_squared_error: 0.5123\n",
            "Epoch 8/20\n",
            "17/17 [==============================] - 0s 4ms/step - loss: 0.4858 - mean_squared_error: 0.4858\n",
            "Epoch 9/20\n",
            "17/17 [==============================] - 0s 4ms/step - loss: 0.4562 - mean_squared_error: 0.4562\n",
            "Epoch 10/20\n",
            "17/17 [==============================] - 0s 5ms/step - loss: 0.4335 - mean_squared_error: 0.4335\n",
            "Epoch 11/20\n",
            "17/17 [==============================] - 0s 4ms/step - loss: 0.4156 - mean_squared_error: 0.4156\n",
            "Epoch 12/20\n",
            "17/17 [==============================] - 0s 4ms/step - loss: 0.4050 - mean_squared_error: 0.4050\n",
            "Epoch 13/20\n",
            "17/17 [==============================] - 0s 4ms/step - loss: 0.4005 - mean_squared_error: 0.4005\n",
            "Epoch 14/20\n",
            "17/17 [==============================] - 0s 4ms/step - loss: 0.3919 - mean_squared_error: 0.3919\n",
            "Epoch 15/20\n",
            "17/17 [==============================] - 0s 4ms/step - loss: 0.3893 - mean_squared_error: 0.3893\n",
            "Epoch 16/20\n",
            "17/17 [==============================] - 0s 4ms/step - loss: 0.3829 - mean_squared_error: 0.3829\n",
            "Epoch 17/20\n",
            "17/17 [==============================] - 0s 4ms/step - loss: 0.3787 - mean_squared_error: 0.3787\n",
            "Epoch 18/20\n",
            "17/17 [==============================] - 0s 5ms/step - loss: 0.3786 - mean_squared_error: 0.3786\n",
            "Epoch 19/20\n",
            "17/17 [==============================] - 0s 4ms/step - loss: 0.3758 - mean_squared_error: 0.3758\n",
            "Epoch 20/20\n",
            "17/17 [==============================] - 0s 4ms/step - loss: 0.3755 - mean_squared_error: 0.3755\n"
          ]
        },
        {
          "output_type": "stream",
          "name": "stderr",
          "text": [
            "WARNING:tensorflow:Layers in a Sequential model should only have a single input tensor. Received: inputs={'longitude': <tf.Tensor 'IteratorGetNext:3' shape=(1000,) dtype=float32>, 'latitude': <tf.Tensor 'IteratorGetNext:2' shape=(1000,) dtype=float32>, 'housing_median_age': <tf.Tensor 'IteratorGetNext:1' shape=(1000,) dtype=float32>, 'total_rooms': <tf.Tensor 'IteratorGetNext:7' shape=(1000,) dtype=float32>, 'total_bedrooms': <tf.Tensor 'IteratorGetNext:6' shape=(1000,) dtype=float32>, 'population': <tf.Tensor 'IteratorGetNext:5' shape=(1000,) dtype=float32>, 'households': <tf.Tensor 'IteratorGetNext:0' shape=(1000,) dtype=float32>, 'median_income': <tf.Tensor 'IteratorGetNext:4' shape=(1000,) dtype=float32>}. Consider rewriting this model with the Functional API.\n"
          ]
        },
        {
          "output_type": "stream",
          "name": "stdout",
          "text": [
            "\n",
            " Evaluate the new model against the test set:\n"
          ]
        },
        {
          "output_type": "stream",
          "name": "stderr",
          "text": [
            "WARNING:tensorflow:5 out of the last 13 calls to <function Model.make_test_function.<locals>.test_function at 0x7f9a755e1550> triggered tf.function retracing. Tracing is expensive and the excessive number of tracings could be due to (1) creating @tf.function repeatedly in a loop, (2) passing tensors with different shapes, (3) passing Python objects instead of tensors. For (1), please define your @tf.function outside of the loop. For (2), @tf.function has reduce_retracing=True option that can avoid unnecessary retracing. For (3), please refer to https://www.tensorflow.org/guide/function#controlling_retracing and https://www.tensorflow.org/api_docs/python/tf/function for  more details.\n"
          ]
        },
        {
          "output_type": "stream",
          "name": "stdout",
          "text": [
            "3/3 [==============================] - 0s 6ms/step - loss: 0.3792 - mean_squared_error: 0.3792\n"
          ]
        },
        {
          "output_type": "stream",
          "name": "stderr",
          "text": [
            "<ipython-input-17-fbd6b208d408>:38: FutureWarning: The frame.append method is deprecated and will be removed from pandas in a future version. Use pandas.concat instead.\n",
            "  data = data.append(row, ignore_index=True)\n",
            "WARNING:absl:`lr` is deprecated, please use `learning_rate` instead, or use the legacy optimizer, e.g.,tf.keras.optimizers.legacy.Adam.\n"
          ]
        },
        {
          "output_type": "stream",
          "name": "stdout",
          "text": [
            "Epoch 1/20\n"
          ]
        },
        {
          "output_type": "stream",
          "name": "stderr",
          "text": [
            "WARNING:tensorflow:Layers in a Sequential model should only have a single input tensor. Received: inputs={'longitude': <tf.Tensor 'IteratorGetNext:3' shape=(1000,) dtype=float32>, 'latitude': <tf.Tensor 'IteratorGetNext:2' shape=(1000,) dtype=float32>, 'housing_median_age': <tf.Tensor 'IteratorGetNext:1' shape=(1000,) dtype=float32>, 'total_rooms': <tf.Tensor 'IteratorGetNext:7' shape=(1000,) dtype=float32>, 'total_bedrooms': <tf.Tensor 'IteratorGetNext:6' shape=(1000,) dtype=float32>, 'population': <tf.Tensor 'IteratorGetNext:5' shape=(1000,) dtype=float32>, 'households': <tf.Tensor 'IteratorGetNext:0' shape=(1000,) dtype=float32>, 'median_income': <tf.Tensor 'IteratorGetNext:4' shape=(1000,) dtype=float32>}. Consider rewriting this model with the Functional API.\n",
            "WARNING:tensorflow:Layers in a Sequential model should only have a single input tensor. Received: inputs={'longitude': <tf.Tensor 'IteratorGetNext:3' shape=(1000,) dtype=float32>, 'latitude': <tf.Tensor 'IteratorGetNext:2' shape=(1000,) dtype=float32>, 'housing_median_age': <tf.Tensor 'IteratorGetNext:1' shape=(1000,) dtype=float32>, 'total_rooms': <tf.Tensor 'IteratorGetNext:7' shape=(1000,) dtype=float32>, 'total_bedrooms': <tf.Tensor 'IteratorGetNext:6' shape=(1000,) dtype=float32>, 'population': <tf.Tensor 'IteratorGetNext:5' shape=(1000,) dtype=float32>, 'households': <tf.Tensor 'IteratorGetNext:0' shape=(1000,) dtype=float32>, 'median_income': <tf.Tensor 'IteratorGetNext:4' shape=(1000,) dtype=float32>}. Consider rewriting this model with the Functional API.\n"
          ]
        },
        {
          "output_type": "stream",
          "name": "stdout",
          "text": [
            "17/17 [==============================] - 1s 4ms/step - loss: 0.9857 - mean_squared_error: 0.9857\n",
            "Epoch 2/20\n",
            "17/17 [==============================] - 0s 4ms/step - loss: 0.8843 - mean_squared_error: 0.8843\n",
            "Epoch 3/20\n",
            "17/17 [==============================] - 0s 4ms/step - loss: 0.7770 - mean_squared_error: 0.7770\n",
            "Epoch 4/20\n",
            "17/17 [==============================] - 0s 4ms/step - loss: 0.6715 - mean_squared_error: 0.6715\n",
            "Epoch 5/20\n",
            "17/17 [==============================] - 0s 4ms/step - loss: 0.5770 - mean_squared_error: 0.5770\n",
            "Epoch 6/20\n",
            "17/17 [==============================] - 0s 4ms/step - loss: 0.5231 - mean_squared_error: 0.5231\n",
            "Epoch 7/20\n",
            "17/17 [==============================] - 0s 4ms/step - loss: 0.4871 - mean_squared_error: 0.4871\n",
            "Epoch 8/20\n",
            "17/17 [==============================] - 0s 4ms/step - loss: 0.4614 - mean_squared_error: 0.4614\n",
            "Epoch 9/20\n",
            "17/17 [==============================] - 0s 5ms/step - loss: 0.4448 - mean_squared_error: 0.4448\n",
            "Epoch 10/20\n",
            "17/17 [==============================] - 0s 5ms/step - loss: 0.4294 - mean_squared_error: 0.4294\n",
            "Epoch 11/20\n",
            "17/17 [==============================] - 0s 5ms/step - loss: 0.4176 - mean_squared_error: 0.4176\n",
            "Epoch 12/20\n",
            "17/17 [==============================] - 0s 5ms/step - loss: 0.4089 - mean_squared_error: 0.4089\n",
            "Epoch 13/20\n",
            "17/17 [==============================] - 0s 6ms/step - loss: 0.4060 - mean_squared_error: 0.4060\n",
            "Epoch 14/20\n",
            "17/17 [==============================] - 0s 6ms/step - loss: 0.3986 - mean_squared_error: 0.3986\n",
            "Epoch 15/20\n",
            "17/17 [==============================] - 0s 6ms/step - loss: 0.3942 - mean_squared_error: 0.3942\n",
            "Epoch 16/20\n",
            "17/17 [==============================] - 0s 6ms/step - loss: 0.3947 - mean_squared_error: 0.3947\n",
            "Epoch 17/20\n",
            "17/17 [==============================] - 0s 6ms/step - loss: 0.3884 - mean_squared_error: 0.3884\n",
            "Epoch 18/20\n",
            "17/17 [==============================] - 0s 6ms/step - loss: 0.3855 - mean_squared_error: 0.3855\n",
            "Epoch 19/20\n",
            "17/17 [==============================] - 0s 6ms/step - loss: 0.3821 - mean_squared_error: 0.3821\n",
            "Epoch 20/20\n",
            "17/17 [==============================] - 0s 6ms/step - loss: 0.3800 - mean_squared_error: 0.3800\n"
          ]
        },
        {
          "output_type": "stream",
          "name": "stderr",
          "text": [
            "WARNING:tensorflow:Layers in a Sequential model should only have a single input tensor. Received: inputs={'longitude': <tf.Tensor 'IteratorGetNext:3' shape=(1000,) dtype=float32>, 'latitude': <tf.Tensor 'IteratorGetNext:2' shape=(1000,) dtype=float32>, 'housing_median_age': <tf.Tensor 'IteratorGetNext:1' shape=(1000,) dtype=float32>, 'total_rooms': <tf.Tensor 'IteratorGetNext:7' shape=(1000,) dtype=float32>, 'total_bedrooms': <tf.Tensor 'IteratorGetNext:6' shape=(1000,) dtype=float32>, 'population': <tf.Tensor 'IteratorGetNext:5' shape=(1000,) dtype=float32>, 'households': <tf.Tensor 'IteratorGetNext:0' shape=(1000,) dtype=float32>, 'median_income': <tf.Tensor 'IteratorGetNext:4' shape=(1000,) dtype=float32>}. Consider rewriting this model with the Functional API.\n"
          ]
        },
        {
          "output_type": "stream",
          "name": "stdout",
          "text": [
            "\n",
            " Evaluate the new model against the test set:\n"
          ]
        },
        {
          "output_type": "stream",
          "name": "stderr",
          "text": [
            "WARNING:tensorflow:5 out of the last 13 calls to <function Model.make_test_function.<locals>.test_function at 0x7f9a75328ee0> triggered tf.function retracing. Tracing is expensive and the excessive number of tracings could be due to (1) creating @tf.function repeatedly in a loop, (2) passing tensors with different shapes, (3) passing Python objects instead of tensors. For (1), please define your @tf.function outside of the loop. For (2), @tf.function has reduce_retracing=True option that can avoid unnecessary retracing. For (3), please refer to https://www.tensorflow.org/guide/function#controlling_retracing and https://www.tensorflow.org/api_docs/python/tf/function for  more details.\n"
          ]
        },
        {
          "output_type": "stream",
          "name": "stdout",
          "text": [
            "3/3 [==============================] - 0s 7ms/step - loss: 0.3807 - mean_squared_error: 0.3807\n"
          ]
        },
        {
          "output_type": "stream",
          "name": "stderr",
          "text": [
            "<ipython-input-17-fbd6b208d408>:38: FutureWarning: The frame.append method is deprecated and will be removed from pandas in a future version. Use pandas.concat instead.\n",
            "  data = data.append(row, ignore_index=True)\n",
            "WARNING:absl:`lr` is deprecated, please use `learning_rate` instead, or use the legacy optimizer, e.g.,tf.keras.optimizers.legacy.Adam.\n"
          ]
        },
        {
          "output_type": "stream",
          "name": "stdout",
          "text": [
            "Epoch 1/20\n"
          ]
        },
        {
          "output_type": "stream",
          "name": "stderr",
          "text": [
            "WARNING:tensorflow:Layers in a Sequential model should only have a single input tensor. Received: inputs={'longitude': <tf.Tensor 'IteratorGetNext:3' shape=(1000,) dtype=float32>, 'latitude': <tf.Tensor 'IteratorGetNext:2' shape=(1000,) dtype=float32>, 'housing_median_age': <tf.Tensor 'IteratorGetNext:1' shape=(1000,) dtype=float32>, 'total_rooms': <tf.Tensor 'IteratorGetNext:7' shape=(1000,) dtype=float32>, 'total_bedrooms': <tf.Tensor 'IteratorGetNext:6' shape=(1000,) dtype=float32>, 'population': <tf.Tensor 'IteratorGetNext:5' shape=(1000,) dtype=float32>, 'households': <tf.Tensor 'IteratorGetNext:0' shape=(1000,) dtype=float32>, 'median_income': <tf.Tensor 'IteratorGetNext:4' shape=(1000,) dtype=float32>}. Consider rewriting this model with the Functional API.\n",
            "WARNING:tensorflow:Layers in a Sequential model should only have a single input tensor. Received: inputs={'longitude': <tf.Tensor 'IteratorGetNext:3' shape=(1000,) dtype=float32>, 'latitude': <tf.Tensor 'IteratorGetNext:2' shape=(1000,) dtype=float32>, 'housing_median_age': <tf.Tensor 'IteratorGetNext:1' shape=(1000,) dtype=float32>, 'total_rooms': <tf.Tensor 'IteratorGetNext:7' shape=(1000,) dtype=float32>, 'total_bedrooms': <tf.Tensor 'IteratorGetNext:6' shape=(1000,) dtype=float32>, 'population': <tf.Tensor 'IteratorGetNext:5' shape=(1000,) dtype=float32>, 'households': <tf.Tensor 'IteratorGetNext:0' shape=(1000,) dtype=float32>, 'median_income': <tf.Tensor 'IteratorGetNext:4' shape=(1000,) dtype=float32>}. Consider rewriting this model with the Functional API.\n"
          ]
        },
        {
          "output_type": "stream",
          "name": "stdout",
          "text": [
            "17/17 [==============================] - 1s 4ms/step - loss: 1.0347 - mean_squared_error: 1.0347\n",
            "Epoch 2/20\n",
            "17/17 [==============================] - 0s 4ms/step - loss: 0.9371 - mean_squared_error: 0.9371\n",
            "Epoch 3/20\n",
            "17/17 [==============================] - 0s 4ms/step - loss: 0.8362 - mean_squared_error: 0.8362\n",
            "Epoch 4/20\n",
            "17/17 [==============================] - 0s 4ms/step - loss: 0.7320 - mean_squared_error: 0.7320\n",
            "Epoch 5/20\n",
            "17/17 [==============================] - 0s 4ms/step - loss: 0.6485 - mean_squared_error: 0.6485\n",
            "Epoch 6/20\n",
            "17/17 [==============================] - 0s 5ms/step - loss: 0.5730 - mean_squared_error: 0.5730\n",
            "Epoch 7/20\n",
            "17/17 [==============================] - 0s 4ms/step - loss: 0.5290 - mean_squared_error: 0.5290\n",
            "Epoch 8/20\n",
            "17/17 [==============================] - 0s 5ms/step - loss: 0.5000 - mean_squared_error: 0.5000\n",
            "Epoch 9/20\n",
            "17/17 [==============================] - 0s 4ms/step - loss: 0.4782 - mean_squared_error: 0.4782\n",
            "Epoch 10/20\n",
            "17/17 [==============================] - 0s 5ms/step - loss: 0.4615 - mean_squared_error: 0.4615\n",
            "Epoch 11/20\n",
            "17/17 [==============================] - 0s 4ms/step - loss: 0.4522 - mean_squared_error: 0.4522\n",
            "Epoch 12/20\n",
            "17/17 [==============================] - 0s 4ms/step - loss: 0.4339 - mean_squared_error: 0.4339\n",
            "Epoch 13/20\n",
            "17/17 [==============================] - 0s 4ms/step - loss: 0.4324 - mean_squared_error: 0.4324\n",
            "Epoch 14/20\n",
            "17/17 [==============================] - 0s 4ms/step - loss: 0.4246 - mean_squared_error: 0.4246\n",
            "Epoch 15/20\n",
            "17/17 [==============================] - 0s 4ms/step - loss: 0.4160 - mean_squared_error: 0.4160\n",
            "Epoch 16/20\n",
            "17/17 [==============================] - 0s 4ms/step - loss: 0.4123 - mean_squared_error: 0.4123\n",
            "Epoch 17/20\n",
            "17/17 [==============================] - 0s 4ms/step - loss: 0.4073 - mean_squared_error: 0.4073\n",
            "Epoch 18/20\n",
            "17/17 [==============================] - 0s 4ms/step - loss: 0.4030 - mean_squared_error: 0.4030\n",
            "Epoch 19/20\n",
            "17/17 [==============================] - 0s 5ms/step - loss: 0.3956 - mean_squared_error: 0.3956\n",
            "Epoch 20/20\n",
            "17/17 [==============================] - 0s 4ms/step - loss: 0.4010 - mean_squared_error: 0.4010\n"
          ]
        },
        {
          "output_type": "stream",
          "name": "stderr",
          "text": [
            "WARNING:tensorflow:Layers in a Sequential model should only have a single input tensor. Received: inputs={'longitude': <tf.Tensor 'IteratorGetNext:3' shape=(1000,) dtype=float32>, 'latitude': <tf.Tensor 'IteratorGetNext:2' shape=(1000,) dtype=float32>, 'housing_median_age': <tf.Tensor 'IteratorGetNext:1' shape=(1000,) dtype=float32>, 'total_rooms': <tf.Tensor 'IteratorGetNext:7' shape=(1000,) dtype=float32>, 'total_bedrooms': <tf.Tensor 'IteratorGetNext:6' shape=(1000,) dtype=float32>, 'population': <tf.Tensor 'IteratorGetNext:5' shape=(1000,) dtype=float32>, 'households': <tf.Tensor 'IteratorGetNext:0' shape=(1000,) dtype=float32>, 'median_income': <tf.Tensor 'IteratorGetNext:4' shape=(1000,) dtype=float32>}. Consider rewriting this model with the Functional API.\n"
          ]
        },
        {
          "output_type": "stream",
          "name": "stdout",
          "text": [
            "\n",
            " Evaluate the new model against the test set:\n",
            "3/3 [==============================] - 0s 5ms/step - loss: 0.3808 - mean_squared_error: 0.3808\n"
          ]
        },
        {
          "output_type": "stream",
          "name": "stderr",
          "text": [
            "<ipython-input-17-fbd6b208d408>:38: FutureWarning: The frame.append method is deprecated and will be removed from pandas in a future version. Use pandas.concat instead.\n",
            "  data = data.append(row, ignore_index=True)\n",
            "WARNING:absl:`lr` is deprecated, please use `learning_rate` instead, or use the legacy optimizer, e.g.,tf.keras.optimizers.legacy.Adam.\n"
          ]
        },
        {
          "output_type": "stream",
          "name": "stdout",
          "text": [
            "Epoch 1/20\n"
          ]
        },
        {
          "output_type": "stream",
          "name": "stderr",
          "text": [
            "WARNING:tensorflow:Layers in a Sequential model should only have a single input tensor. Received: inputs={'longitude': <tf.Tensor 'IteratorGetNext:3' shape=(1000,) dtype=float32>, 'latitude': <tf.Tensor 'IteratorGetNext:2' shape=(1000,) dtype=float32>, 'housing_median_age': <tf.Tensor 'IteratorGetNext:1' shape=(1000,) dtype=float32>, 'total_rooms': <tf.Tensor 'IteratorGetNext:7' shape=(1000,) dtype=float32>, 'total_bedrooms': <tf.Tensor 'IteratorGetNext:6' shape=(1000,) dtype=float32>, 'population': <tf.Tensor 'IteratorGetNext:5' shape=(1000,) dtype=float32>, 'households': <tf.Tensor 'IteratorGetNext:0' shape=(1000,) dtype=float32>, 'median_income': <tf.Tensor 'IteratorGetNext:4' shape=(1000,) dtype=float32>}. Consider rewriting this model with the Functional API.\n",
            "WARNING:tensorflow:Layers in a Sequential model should only have a single input tensor. Received: inputs={'longitude': <tf.Tensor 'IteratorGetNext:3' shape=(1000,) dtype=float32>, 'latitude': <tf.Tensor 'IteratorGetNext:2' shape=(1000,) dtype=float32>, 'housing_median_age': <tf.Tensor 'IteratorGetNext:1' shape=(1000,) dtype=float32>, 'total_rooms': <tf.Tensor 'IteratorGetNext:7' shape=(1000,) dtype=float32>, 'total_bedrooms': <tf.Tensor 'IteratorGetNext:6' shape=(1000,) dtype=float32>, 'population': <tf.Tensor 'IteratorGetNext:5' shape=(1000,) dtype=float32>, 'households': <tf.Tensor 'IteratorGetNext:0' shape=(1000,) dtype=float32>, 'median_income': <tf.Tensor 'IteratorGetNext:4' shape=(1000,) dtype=float32>}. Consider rewriting this model with the Functional API.\n"
          ]
        },
        {
          "output_type": "stream",
          "name": "stdout",
          "text": [
            "17/17 [==============================] - 1s 4ms/step - loss: 0.9816 - mean_squared_error: 0.9816\n",
            "Epoch 2/20\n",
            "17/17 [==============================] - 0s 4ms/step - loss: 0.8905 - mean_squared_error: 0.8905\n",
            "Epoch 3/20\n",
            "17/17 [==============================] - 0s 4ms/step - loss: 0.8205 - mean_squared_error: 0.8205\n",
            "Epoch 4/20\n",
            "17/17 [==============================] - 0s 4ms/step - loss: 0.7596 - mean_squared_error: 0.7596\n",
            "Epoch 5/20\n",
            "17/17 [==============================] - 0s 4ms/step - loss: 0.7016 - mean_squared_error: 0.7016\n",
            "Epoch 6/20\n",
            "17/17 [==============================] - 0s 4ms/step - loss: 0.6464 - mean_squared_error: 0.6464\n",
            "Epoch 7/20\n",
            "17/17 [==============================] - 0s 5ms/step - loss: 0.5912 - mean_squared_error: 0.5912\n",
            "Epoch 8/20\n",
            "17/17 [==============================] - 0s 4ms/step - loss: 0.5405 - mean_squared_error: 0.5405\n",
            "Epoch 9/20\n",
            "17/17 [==============================] - 0s 5ms/step - loss: 0.4996 - mean_squared_error: 0.4996\n",
            "Epoch 10/20\n",
            "17/17 [==============================] - 0s 6ms/step - loss: 0.4741 - mean_squared_error: 0.4741\n",
            "Epoch 11/20\n",
            "17/17 [==============================] - 0s 4ms/step - loss: 0.4540 - mean_squared_error: 0.4540\n",
            "Epoch 12/20\n",
            "17/17 [==============================] - 0s 5ms/step - loss: 0.4392 - mean_squared_error: 0.4392\n",
            "Epoch 13/20\n",
            "17/17 [==============================] - 0s 4ms/step - loss: 0.4335 - mean_squared_error: 0.4335\n",
            "Epoch 14/20\n",
            "17/17 [==============================] - 0s 5ms/step - loss: 0.4262 - mean_squared_error: 0.4262\n",
            "Epoch 15/20\n",
            "17/17 [==============================] - 0s 5ms/step - loss: 0.4207 - mean_squared_error: 0.4207\n",
            "Epoch 16/20\n",
            "17/17 [==============================] - 0s 5ms/step - loss: 0.4150 - mean_squared_error: 0.4150\n",
            "Epoch 17/20\n",
            "17/17 [==============================] - 0s 4ms/step - loss: 0.4112 - mean_squared_error: 0.4112\n",
            "Epoch 18/20\n",
            "17/17 [==============================] - 0s 4ms/step - loss: 0.4078 - mean_squared_error: 0.4078\n",
            "Epoch 19/20\n",
            "17/17 [==============================] - 0s 4ms/step - loss: 0.4039 - mean_squared_error: 0.4039\n",
            "Epoch 20/20\n",
            "17/17 [==============================] - 0s 5ms/step - loss: 0.4001 - mean_squared_error: 0.4001\n"
          ]
        },
        {
          "output_type": "stream",
          "name": "stderr",
          "text": [
            "WARNING:tensorflow:Layers in a Sequential model should only have a single input tensor. Received: inputs={'longitude': <tf.Tensor 'IteratorGetNext:3' shape=(1000,) dtype=float32>, 'latitude': <tf.Tensor 'IteratorGetNext:2' shape=(1000,) dtype=float32>, 'housing_median_age': <tf.Tensor 'IteratorGetNext:1' shape=(1000,) dtype=float32>, 'total_rooms': <tf.Tensor 'IteratorGetNext:7' shape=(1000,) dtype=float32>, 'total_bedrooms': <tf.Tensor 'IteratorGetNext:6' shape=(1000,) dtype=float32>, 'population': <tf.Tensor 'IteratorGetNext:5' shape=(1000,) dtype=float32>, 'households': <tf.Tensor 'IteratorGetNext:0' shape=(1000,) dtype=float32>, 'median_income': <tf.Tensor 'IteratorGetNext:4' shape=(1000,) dtype=float32>}. Consider rewriting this model with the Functional API.\n"
          ]
        },
        {
          "output_type": "stream",
          "name": "stdout",
          "text": [
            "\n",
            " Evaluate the new model against the test set:\n",
            "3/3 [==============================] - 0s 6ms/step - loss: 0.3902 - mean_squared_error: 0.3902\n"
          ]
        },
        {
          "output_type": "stream",
          "name": "stderr",
          "text": [
            "<ipython-input-17-fbd6b208d408>:38: FutureWarning: The frame.append method is deprecated and will be removed from pandas in a future version. Use pandas.concat instead.\n",
            "  data = data.append(row, ignore_index=True)\n",
            "WARNING:absl:`lr` is deprecated, please use `learning_rate` instead, or use the legacy optimizer, e.g.,tf.keras.optimizers.legacy.Adam.\n"
          ]
        },
        {
          "output_type": "stream",
          "name": "stdout",
          "text": [
            "Epoch 1/20\n"
          ]
        },
        {
          "output_type": "stream",
          "name": "stderr",
          "text": [
            "WARNING:tensorflow:Layers in a Sequential model should only have a single input tensor. Received: inputs={'longitude': <tf.Tensor 'IteratorGetNext:3' shape=(1000,) dtype=float32>, 'latitude': <tf.Tensor 'IteratorGetNext:2' shape=(1000,) dtype=float32>, 'housing_median_age': <tf.Tensor 'IteratorGetNext:1' shape=(1000,) dtype=float32>, 'total_rooms': <tf.Tensor 'IteratorGetNext:7' shape=(1000,) dtype=float32>, 'total_bedrooms': <tf.Tensor 'IteratorGetNext:6' shape=(1000,) dtype=float32>, 'population': <tf.Tensor 'IteratorGetNext:5' shape=(1000,) dtype=float32>, 'households': <tf.Tensor 'IteratorGetNext:0' shape=(1000,) dtype=float32>, 'median_income': <tf.Tensor 'IteratorGetNext:4' shape=(1000,) dtype=float32>}. Consider rewriting this model with the Functional API.\n",
            "WARNING:tensorflow:Layers in a Sequential model should only have a single input tensor. Received: inputs={'longitude': <tf.Tensor 'IteratorGetNext:3' shape=(1000,) dtype=float32>, 'latitude': <tf.Tensor 'IteratorGetNext:2' shape=(1000,) dtype=float32>, 'housing_median_age': <tf.Tensor 'IteratorGetNext:1' shape=(1000,) dtype=float32>, 'total_rooms': <tf.Tensor 'IteratorGetNext:7' shape=(1000,) dtype=float32>, 'total_bedrooms': <tf.Tensor 'IteratorGetNext:6' shape=(1000,) dtype=float32>, 'population': <tf.Tensor 'IteratorGetNext:5' shape=(1000,) dtype=float32>, 'households': <tf.Tensor 'IteratorGetNext:0' shape=(1000,) dtype=float32>, 'median_income': <tf.Tensor 'IteratorGetNext:4' shape=(1000,) dtype=float32>}. Consider rewriting this model with the Functional API.\n"
          ]
        },
        {
          "output_type": "stream",
          "name": "stdout",
          "text": [
            "17/17 [==============================] - 1s 4ms/step - loss: 0.8585 - mean_squared_error: 0.8585\n",
            "Epoch 2/20\n",
            "17/17 [==============================] - 0s 5ms/step - loss: 0.7401 - mean_squared_error: 0.7401\n",
            "Epoch 3/20\n",
            "17/17 [==============================] - 0s 4ms/step - loss: 0.6444 - mean_squared_error: 0.6444\n",
            "Epoch 4/20\n",
            "17/17 [==============================] - 0s 4ms/step - loss: 0.5634 - mean_squared_error: 0.5634\n",
            "Epoch 5/20\n",
            "17/17 [==============================] - 0s 4ms/step - loss: 0.5189 - mean_squared_error: 0.5189\n",
            "Epoch 6/20\n",
            "17/17 [==============================] - 0s 4ms/step - loss: 0.4919 - mean_squared_error: 0.4919\n",
            "Epoch 7/20\n",
            "17/17 [==============================] - 0s 4ms/step - loss: 0.4716 - mean_squared_error: 0.4716\n",
            "Epoch 8/20\n",
            "17/17 [==============================] - 0s 4ms/step - loss: 0.4540 - mean_squared_error: 0.4540\n",
            "Epoch 9/20\n",
            "17/17 [==============================] - 0s 4ms/step - loss: 0.4478 - mean_squared_error: 0.4478\n",
            "Epoch 10/20\n",
            "17/17 [==============================] - 0s 5ms/step - loss: 0.4326 - mean_squared_error: 0.4326\n",
            "Epoch 11/20\n",
            "17/17 [==============================] - 0s 4ms/step - loss: 0.4248 - mean_squared_error: 0.4248\n",
            "Epoch 12/20\n",
            "17/17 [==============================] - 0s 4ms/step - loss: 0.4191 - mean_squared_error: 0.4191\n",
            "Epoch 13/20\n",
            "17/17 [==============================] - 0s 4ms/step - loss: 0.4150 - mean_squared_error: 0.4150\n",
            "Epoch 14/20\n",
            "17/17 [==============================] - 0s 5ms/step - loss: 0.4091 - mean_squared_error: 0.4091\n",
            "Epoch 15/20\n",
            "17/17 [==============================] - 0s 4ms/step - loss: 0.4106 - mean_squared_error: 0.4106\n",
            "Epoch 16/20\n",
            "17/17 [==============================] - 0s 5ms/step - loss: 0.4017 - mean_squared_error: 0.4017\n",
            "Epoch 17/20\n",
            "17/17 [==============================] - 0s 4ms/step - loss: 0.3973 - mean_squared_error: 0.3973\n",
            "Epoch 18/20\n",
            "17/17 [==============================] - 0s 5ms/step - loss: 0.3963 - mean_squared_error: 0.3963\n",
            "Epoch 19/20\n",
            "17/17 [==============================] - 0s 6ms/step - loss: 0.3945 - mean_squared_error: 0.3945\n",
            "Epoch 20/20\n",
            "17/17 [==============================] - 0s 6ms/step - loss: 0.3932 - mean_squared_error: 0.3932\n"
          ]
        },
        {
          "output_type": "stream",
          "name": "stderr",
          "text": [
            "WARNING:tensorflow:Layers in a Sequential model should only have a single input tensor. Received: inputs={'longitude': <tf.Tensor 'IteratorGetNext:3' shape=(1000,) dtype=float32>, 'latitude': <tf.Tensor 'IteratorGetNext:2' shape=(1000,) dtype=float32>, 'housing_median_age': <tf.Tensor 'IteratorGetNext:1' shape=(1000,) dtype=float32>, 'total_rooms': <tf.Tensor 'IteratorGetNext:7' shape=(1000,) dtype=float32>, 'total_bedrooms': <tf.Tensor 'IteratorGetNext:6' shape=(1000,) dtype=float32>, 'population': <tf.Tensor 'IteratorGetNext:5' shape=(1000,) dtype=float32>, 'households': <tf.Tensor 'IteratorGetNext:0' shape=(1000,) dtype=float32>, 'median_income': <tf.Tensor 'IteratorGetNext:4' shape=(1000,) dtype=float32>}. Consider rewriting this model with the Functional API.\n"
          ]
        },
        {
          "output_type": "stream",
          "name": "stdout",
          "text": [
            "\n",
            " Evaluate the new model against the test set:\n",
            "3/3 [==============================] - 0s 8ms/step - loss: 0.3819 - mean_squared_error: 0.3819\n"
          ]
        },
        {
          "output_type": "stream",
          "name": "stderr",
          "text": [
            "<ipython-input-17-fbd6b208d408>:38: FutureWarning: The frame.append method is deprecated and will be removed from pandas in a future version. Use pandas.concat instead.\n",
            "  data = data.append(row, ignore_index=True)\n",
            "WARNING:absl:`lr` is deprecated, please use `learning_rate` instead, or use the legacy optimizer, e.g.,tf.keras.optimizers.legacy.Adam.\n"
          ]
        },
        {
          "output_type": "stream",
          "name": "stdout",
          "text": [
            "Epoch 1/20\n"
          ]
        },
        {
          "output_type": "stream",
          "name": "stderr",
          "text": [
            "WARNING:tensorflow:Layers in a Sequential model should only have a single input tensor. Received: inputs={'longitude': <tf.Tensor 'IteratorGetNext:3' shape=(1000,) dtype=float32>, 'latitude': <tf.Tensor 'IteratorGetNext:2' shape=(1000,) dtype=float32>, 'housing_median_age': <tf.Tensor 'IteratorGetNext:1' shape=(1000,) dtype=float32>, 'total_rooms': <tf.Tensor 'IteratorGetNext:7' shape=(1000,) dtype=float32>, 'total_bedrooms': <tf.Tensor 'IteratorGetNext:6' shape=(1000,) dtype=float32>, 'population': <tf.Tensor 'IteratorGetNext:5' shape=(1000,) dtype=float32>, 'households': <tf.Tensor 'IteratorGetNext:0' shape=(1000,) dtype=float32>, 'median_income': <tf.Tensor 'IteratorGetNext:4' shape=(1000,) dtype=float32>}. Consider rewriting this model with the Functional API.\n",
            "WARNING:tensorflow:Layers in a Sequential model should only have a single input tensor. Received: inputs={'longitude': <tf.Tensor 'IteratorGetNext:3' shape=(1000,) dtype=float32>, 'latitude': <tf.Tensor 'IteratorGetNext:2' shape=(1000,) dtype=float32>, 'housing_median_age': <tf.Tensor 'IteratorGetNext:1' shape=(1000,) dtype=float32>, 'total_rooms': <tf.Tensor 'IteratorGetNext:7' shape=(1000,) dtype=float32>, 'total_bedrooms': <tf.Tensor 'IteratorGetNext:6' shape=(1000,) dtype=float32>, 'population': <tf.Tensor 'IteratorGetNext:5' shape=(1000,) dtype=float32>, 'households': <tf.Tensor 'IteratorGetNext:0' shape=(1000,) dtype=float32>, 'median_income': <tf.Tensor 'IteratorGetNext:4' shape=(1000,) dtype=float32>}. Consider rewriting this model with the Functional API.\n"
          ]
        },
        {
          "output_type": "stream",
          "name": "stdout",
          "text": [
            "17/17 [==============================] - 1s 4ms/step - loss: 0.9416 - mean_squared_error: 0.9416\n",
            "Epoch 2/20\n",
            "17/17 [==============================] - 0s 5ms/step - loss: 0.8637 - mean_squared_error: 0.8637\n",
            "Epoch 3/20\n",
            "17/17 [==============================] - 0s 4ms/step - loss: 0.7936 - mean_squared_error: 0.7936\n",
            "Epoch 4/20\n",
            "17/17 [==============================] - 0s 4ms/step - loss: 0.7240 - mean_squared_error: 0.7240\n",
            "Epoch 5/20\n",
            "17/17 [==============================] - 0s 4ms/step - loss: 0.6580 - mean_squared_error: 0.6580\n",
            "Epoch 6/20\n",
            "17/17 [==============================] - 0s 4ms/step - loss: 0.6009 - mean_squared_error: 0.6009\n",
            "Epoch 7/20\n",
            "17/17 [==============================] - 0s 4ms/step - loss: 0.5598 - mean_squared_error: 0.5598\n",
            "Epoch 8/20\n",
            "17/17 [==============================] - 0s 5ms/step - loss: 0.5363 - mean_squared_error: 0.5363\n",
            "Epoch 9/20\n",
            "17/17 [==============================] - 0s 4ms/step - loss: 0.5129 - mean_squared_error: 0.5129\n",
            "Epoch 10/20\n",
            "17/17 [==============================] - 0s 4ms/step - loss: 0.4901 - mean_squared_error: 0.4901\n",
            "Epoch 11/20\n",
            "17/17 [==============================] - 0s 4ms/step - loss: 0.4827 - mean_squared_error: 0.4827\n",
            "Epoch 12/20\n",
            "17/17 [==============================] - 0s 4ms/step - loss: 0.4715 - mean_squared_error: 0.4715\n",
            "Epoch 13/20\n",
            "17/17 [==============================] - 0s 5ms/step - loss: 0.4602 - mean_squared_error: 0.4602\n",
            "Epoch 14/20\n",
            "17/17 [==============================] - 0s 4ms/step - loss: 0.4518 - mean_squared_error: 0.4518\n",
            "Epoch 15/20\n",
            "17/17 [==============================] - 0s 5ms/step - loss: 0.4454 - mean_squared_error: 0.4454\n",
            "Epoch 16/20\n",
            "17/17 [==============================] - 0s 4ms/step - loss: 0.4360 - mean_squared_error: 0.4360\n",
            "Epoch 17/20\n",
            "17/17 [==============================] - 0s 5ms/step - loss: 0.4350 - mean_squared_error: 0.4350\n",
            "Epoch 18/20\n",
            "17/17 [==============================] - 0s 4ms/step - loss: 0.4249 - mean_squared_error: 0.4249\n",
            "Epoch 19/20\n",
            "17/17 [==============================] - 0s 4ms/step - loss: 0.4236 - mean_squared_error: 0.4236\n",
            "Epoch 20/20\n",
            "17/17 [==============================] - 0s 4ms/step - loss: 0.4164 - mean_squared_error: 0.4164\n"
          ]
        },
        {
          "output_type": "stream",
          "name": "stderr",
          "text": [
            "WARNING:tensorflow:Layers in a Sequential model should only have a single input tensor. Received: inputs={'longitude': <tf.Tensor 'IteratorGetNext:3' shape=(1000,) dtype=float32>, 'latitude': <tf.Tensor 'IteratorGetNext:2' shape=(1000,) dtype=float32>, 'housing_median_age': <tf.Tensor 'IteratorGetNext:1' shape=(1000,) dtype=float32>, 'total_rooms': <tf.Tensor 'IteratorGetNext:7' shape=(1000,) dtype=float32>, 'total_bedrooms': <tf.Tensor 'IteratorGetNext:6' shape=(1000,) dtype=float32>, 'population': <tf.Tensor 'IteratorGetNext:5' shape=(1000,) dtype=float32>, 'households': <tf.Tensor 'IteratorGetNext:0' shape=(1000,) dtype=float32>, 'median_income': <tf.Tensor 'IteratorGetNext:4' shape=(1000,) dtype=float32>}. Consider rewriting this model with the Functional API.\n"
          ]
        },
        {
          "output_type": "stream",
          "name": "stdout",
          "text": [
            "\n",
            " Evaluate the new model against the test set:\n",
            "3/3 [==============================] - 0s 6ms/step - loss: 0.3960 - mean_squared_error: 0.3960\n",
            "   dropout_rate  train_mse  test_mse  diff_in_%\n",
            "0        0.1000     0.3592    0.3726     3.7336\n",
            "1        0.1500     0.3643    0.3751     2.9798\n",
            "2        0.2000     0.3679    0.3753     2.0157\n",
            "3        0.2500     0.3755    0.3792     0.9817\n",
            "4        0.3000     0.3800    0.3807     0.1869\n",
            "5        0.3500     0.4010    0.3808     5.0339\n",
            "6        0.4000     0.4001    0.3902     2.4769\n",
            "7        0.4500     0.3932    0.3819     2.8902\n",
            "8        0.5000     0.4164    0.3960     4.8890\n"
          ]
        },
        {
          "output_type": "stream",
          "name": "stderr",
          "text": [
            "<ipython-input-17-fbd6b208d408>:38: FutureWarning: The frame.append method is deprecated and will be removed from pandas in a future version. Use pandas.concat instead.\n",
            "  data = data.append(row, ignore_index=True)\n"
          ]
        }
      ],
      "source": [
        "dropout_rate = 0.10\n",
        "\n",
        "data = pd.DataFrame()\n",
        "pd.options.display.float_format = \"{:.4f}\".format\n",
        "data[\"dropout_rate\"] = pd.Series(dtype='object')\n",
        "data[\"train_mse\"] = pd.Series(dtype='object')\n",
        "data[\"test_mse\"] = pd.Series(dtype='object')\n",
        "data[\"diff_in_%\"] = pd.Series(dtype='object')\n",
        "\n",
        "while (dropout_rate<0.50):\n",
        "  # The following variables are the hyperparameters.\n",
        "  learning_rate = 0.01\n",
        "  epochs = 20\n",
        "  batch_size = 1000\n",
        "\n",
        "  # Specify the label\n",
        "  label_name = \"median_house_value\"\n",
        "\n",
        "  # Establish the model's topography.\n",
        "  my_model = create_model(learning_rate, my_feature_layer, dropout_rate)\n",
        "\n",
        "  # Train the model on the normalized training set. We're passing the entire\n",
        "  # normalized training set, but the model will only use the features\n",
        "  # defined by the feature_layer.\n",
        "  epochs, train_mse = train_model(my_model, train_df_norm, epochs, \n",
        "                            label_name, batch_size)\n",
        "  #plot_the_loss_curve(epochs, mse)\n",
        "\n",
        "  # After building a model against the training set, test that model\n",
        "  # against the test set.\n",
        "  test_features = {name:np.array(value) for name, value in test_df_norm.items()}\n",
        "  test_label = np.array(test_features.pop(label_name)) # isolate the label\n",
        "  print(\"\\n Evaluate the new model against the test set:\")\n",
        "  test_mse =my_model.evaluate(x = test_features, y = test_label, batch_size=batch_size)\n",
        "  diff = abs((test_mse[0]-train_mse[19])/train_mse[19]*100)\n",
        "  # Add rows to the DataFrame\n",
        "  row = {'dropout_rate': dropout_rate, 'train_mse': train_mse[19], 'test_mse': test_mse[0], 'diff_in_%' :  diff}\n",
        "  data = data.append(row, ignore_index=True)\n",
        "  dropout_rate = dropout_rate + .05 \n",
        "  \n",
        "print(data)"
      ]
    },
    {
      "cell_type": "markdown",
      "metadata": {
        "id": "wlPXK-SmmjQ2"
      },
      "source": [
        "## Task 1: Compare the two models\n",
        "\n",
        "How did the deep neural net perform against the baseline linear regression model?"
      ]
    },
    {
      "cell_type": "code",
      "source": [
        "data\n"
      ],
      "metadata": {
        "colab": {
          "base_uri": "https://localhost:8080/",
          "height": 332
        },
        "id": "JJpQ-o2389s-",
        "outputId": "c077ec5c-6246-4b6f-953f-99832aa28831"
      },
      "execution_count": null,
      "outputs": [
        {
          "output_type": "execute_result",
          "data": {
            "text/plain": [
              "   dropout_rate  train_mse  test_mse  diff_in_%\n",
              "0        0.1000     0.3592    0.3726     3.7336\n",
              "1        0.1500     0.3643    0.3751     2.9798\n",
              "2        0.2000     0.3679    0.3753     2.0157\n",
              "3        0.2500     0.3755    0.3792     0.9817\n",
              "4        0.3000     0.3800    0.3807     0.1869\n",
              "5        0.3500     0.4010    0.3808     5.0339\n",
              "6        0.4000     0.4001    0.3902     2.4769\n",
              "7        0.4500     0.3932    0.3819     2.8902\n",
              "8        0.5000     0.4164    0.3960     4.8890"
            ],
            "text/html": [
              "\n",
              "  <div id=\"df-ce677cd1-c77f-4d52-b650-8ccb54b9adfb\">\n",
              "    <div class=\"colab-df-container\">\n",
              "      <div>\n",
              "<style scoped>\n",
              "    .dataframe tbody tr th:only-of-type {\n",
              "        vertical-align: middle;\n",
              "    }\n",
              "\n",
              "    .dataframe tbody tr th {\n",
              "        vertical-align: top;\n",
              "    }\n",
              "\n",
              "    .dataframe thead th {\n",
              "        text-align: right;\n",
              "    }\n",
              "</style>\n",
              "<table border=\"1\" class=\"dataframe\">\n",
              "  <thead>\n",
              "    <tr style=\"text-align: right;\">\n",
              "      <th></th>\n",
              "      <th>dropout_rate</th>\n",
              "      <th>train_mse</th>\n",
              "      <th>test_mse</th>\n",
              "      <th>diff_in_%</th>\n",
              "    </tr>\n",
              "  </thead>\n",
              "  <tbody>\n",
              "    <tr>\n",
              "      <th>0</th>\n",
              "      <td>0.1000</td>\n",
              "      <td>0.3592</td>\n",
              "      <td>0.3726</td>\n",
              "      <td>3.7336</td>\n",
              "    </tr>\n",
              "    <tr>\n",
              "      <th>1</th>\n",
              "      <td>0.1500</td>\n",
              "      <td>0.3643</td>\n",
              "      <td>0.3751</td>\n",
              "      <td>2.9798</td>\n",
              "    </tr>\n",
              "    <tr>\n",
              "      <th>2</th>\n",
              "      <td>0.2000</td>\n",
              "      <td>0.3679</td>\n",
              "      <td>0.3753</td>\n",
              "      <td>2.0157</td>\n",
              "    </tr>\n",
              "    <tr>\n",
              "      <th>3</th>\n",
              "      <td>0.2500</td>\n",
              "      <td>0.3755</td>\n",
              "      <td>0.3792</td>\n",
              "      <td>0.9817</td>\n",
              "    </tr>\n",
              "    <tr>\n",
              "      <th>4</th>\n",
              "      <td>0.3000</td>\n",
              "      <td>0.3800</td>\n",
              "      <td>0.3807</td>\n",
              "      <td>0.1869</td>\n",
              "    </tr>\n",
              "    <tr>\n",
              "      <th>5</th>\n",
              "      <td>0.3500</td>\n",
              "      <td>0.4010</td>\n",
              "      <td>0.3808</td>\n",
              "      <td>5.0339</td>\n",
              "    </tr>\n",
              "    <tr>\n",
              "      <th>6</th>\n",
              "      <td>0.4000</td>\n",
              "      <td>0.4001</td>\n",
              "      <td>0.3902</td>\n",
              "      <td>2.4769</td>\n",
              "    </tr>\n",
              "    <tr>\n",
              "      <th>7</th>\n",
              "      <td>0.4500</td>\n",
              "      <td>0.3932</td>\n",
              "      <td>0.3819</td>\n",
              "      <td>2.8902</td>\n",
              "    </tr>\n",
              "    <tr>\n",
              "      <th>8</th>\n",
              "      <td>0.5000</td>\n",
              "      <td>0.4164</td>\n",
              "      <td>0.3960</td>\n",
              "      <td>4.8890</td>\n",
              "    </tr>\n",
              "  </tbody>\n",
              "</table>\n",
              "</div>\n",
              "      <button class=\"colab-df-convert\" onclick=\"convertToInteractive('df-ce677cd1-c77f-4d52-b650-8ccb54b9adfb')\"\n",
              "              title=\"Convert this dataframe to an interactive table.\"\n",
              "              style=\"display:none;\">\n",
              "        \n",
              "  <svg xmlns=\"http://www.w3.org/2000/svg\" height=\"24px\"viewBox=\"0 0 24 24\"\n",
              "       width=\"24px\">\n",
              "    <path d=\"M0 0h24v24H0V0z\" fill=\"none\"/>\n",
              "    <path d=\"M18.56 5.44l.94 2.06.94-2.06 2.06-.94-2.06-.94-.94-2.06-.94 2.06-2.06.94zm-11 1L8.5 8.5l.94-2.06 2.06-.94-2.06-.94L8.5 2.5l-.94 2.06-2.06.94zm10 10l.94 2.06.94-2.06 2.06-.94-2.06-.94-.94-2.06-.94 2.06-2.06.94z\"/><path d=\"M17.41 7.96l-1.37-1.37c-.4-.4-.92-.59-1.43-.59-.52 0-1.04.2-1.43.59L10.3 9.45l-7.72 7.72c-.78.78-.78 2.05 0 2.83L4 21.41c.39.39.9.59 1.41.59.51 0 1.02-.2 1.41-.59l7.78-7.78 2.81-2.81c.8-.78.8-2.07 0-2.86zM5.41 20L4 18.59l7.72-7.72 1.47 1.35L5.41 20z\"/>\n",
              "  </svg>\n",
              "      </button>\n",
              "      \n",
              "  <style>\n",
              "    .colab-df-container {\n",
              "      display:flex;\n",
              "      flex-wrap:wrap;\n",
              "      gap: 12px;\n",
              "    }\n",
              "\n",
              "    .colab-df-convert {\n",
              "      background-color: #E8F0FE;\n",
              "      border: none;\n",
              "      border-radius: 50%;\n",
              "      cursor: pointer;\n",
              "      display: none;\n",
              "      fill: #1967D2;\n",
              "      height: 32px;\n",
              "      padding: 0 0 0 0;\n",
              "      width: 32px;\n",
              "    }\n",
              "\n",
              "    .colab-df-convert:hover {\n",
              "      background-color: #E2EBFA;\n",
              "      box-shadow: 0px 1px 2px rgba(60, 64, 67, 0.3), 0px 1px 3px 1px rgba(60, 64, 67, 0.15);\n",
              "      fill: #174EA6;\n",
              "    }\n",
              "\n",
              "    [theme=dark] .colab-df-convert {\n",
              "      background-color: #3B4455;\n",
              "      fill: #D2E3FC;\n",
              "    }\n",
              "\n",
              "    [theme=dark] .colab-df-convert:hover {\n",
              "      background-color: #434B5C;\n",
              "      box-shadow: 0px 1px 3px 1px rgba(0, 0, 0, 0.15);\n",
              "      filter: drop-shadow(0px 1px 2px rgba(0, 0, 0, 0.3));\n",
              "      fill: #FFFFFF;\n",
              "    }\n",
              "  </style>\n",
              "\n",
              "      <script>\n",
              "        const buttonEl =\n",
              "          document.querySelector('#df-ce677cd1-c77f-4d52-b650-8ccb54b9adfb button.colab-df-convert');\n",
              "        buttonEl.style.display =\n",
              "          google.colab.kernel.accessAllowed ? 'block' : 'none';\n",
              "\n",
              "        async function convertToInteractive(key) {\n",
              "          const element = document.querySelector('#df-ce677cd1-c77f-4d52-b650-8ccb54b9adfb');\n",
              "          const dataTable =\n",
              "            await google.colab.kernel.invokeFunction('convertToInteractive',\n",
              "                                                     [key], {});\n",
              "          if (!dataTable) return;\n",
              "\n",
              "          const docLinkHtml = 'Like what you see? Visit the ' +\n",
              "            '<a target=\"_blank\" href=https://colab.research.google.com/notebooks/data_table.ipynb>data table notebook</a>'\n",
              "            + ' to learn more about interactive tables.';\n",
              "          element.innerHTML = '';\n",
              "          dataTable['output_type'] = 'display_data';\n",
              "          await google.colab.output.renderOutput(dataTable, element);\n",
              "          const docLink = document.createElement('div');\n",
              "          docLink.innerHTML = docLinkHtml;\n",
              "          element.appendChild(docLink);\n",
              "        }\n",
              "      </script>\n",
              "    </div>\n",
              "  </div>\n",
              "  "
            ]
          },
          "metadata": {},
          "execution_count": 18
        }
      ]
    },
    {
      "cell_type": "markdown",
      "metadata": {
        "id": "Y5IKmk7D49_n"
      },
      "source": [
        "## Task 2: Optimize the deep neural network's topography\n",
        "\n",
        "Experiment with the number of layers of the deep neural network and the number of nodes in each layer.  Aim to achieve both of the following goals:\n",
        "\n",
        "*  Lower the loss against the test set.\n",
        "*  Minimize the overall number of nodes in the deep neural net. \n",
        "\n",
        "The two goals may be in conflict."
      ]
    },
    {
      "cell_type": "markdown",
      "metadata": {
        "id": "Pu7R_ZpDopIj"
      },
      "source": [
        "## Task 3: Regularize the deep neural network\n",
        "\n",
        "Notice that the model's loss against the test set may be *much higher* than the loss against the training set.  In other words, the deep neural network may be [overfitting](https://developers.google.com/machine-learning/glossary/#overfitting) to the data in the training set.  To reduce overfitting, regularize the model. Several different ways to regularize a model, including:\n",
        "\n",
        "  * [L1 regularization](https://developers.google.com/machine-learning/glossary/#L1_regularization)\n",
        "  * [L2 regularization](https://developers.google.com/machine-learning/glossary/#L2_regularization)\n",
        "  * [Dropout regularization](https://developers.google.com/machine-learning/glossary/#dropout_regularization)\n",
        "\n",
        "Your task is to experiment with one or more regularization mechanisms to bring the test loss closer to the training loss (while still keeping test loss relatively low).  \n",
        "\n",
        "**Note:** When you add a regularization function to a model, you might need to tweak other hyperparameters. \n",
        "\n",
        "### Implementing L1 or L2 regularization\n",
        "\n",
        "To use L1 or L2 regularization on a hidden layer, specify the `kernel_regularizer` argument to [tf.keras.layers.Dense](https://www.tensorflow.org/api_docs/python/tf/keras/layers/Dense). Assign one of the following methods to this argument:\n",
        "\n",
        "* `tf.keras.regularizers.l1` for L1 regularization\n",
        "* `tf.keras.regularizers.l2` for L2 regularization\n",
        "\n",
        "Each of the preceding methods takes an `l` parameter, which adjusts the [regularization rate](https://developers.google.com/machine-learning/glossary/#regularization_rate). Assign a decimal value between 0 and 1.0 to `l`; the higher the decimal, the greater the regularization. For example, the following applies L2 regularization at a strength of 0.01. \n",
        "\n",
        "```\n",
        "model.add(tf.keras.layers.Dense(units=20, \n",
        "                                activation='relu',\n",
        "                                kernel_regularizer=tf.keras.regularizers.l2(l=0.01),\n",
        "                                name='Hidden1'))\n",
        "```\n",
        "\n",
        "### Implementing Dropout regularization\n",
        "\n",
        "# I have tried to add various Dropout rates between the two hidden layers. Adding dropout rate significantly reduces the gap between the training and test errors. Turns out that the 0.30 is the best Dropout rate to reduce the gap between them. However, it actually increases the MSE of both training and test dataset Here is the data:\n",
        "\n",
        "![image.png](data:image/png;base64,iVBORw0KGgoAAAANSUhEUgAAAR8AAADJCAYAAAAaRzbLAAAZbUlEQVR4nO2dvXLiSBeGX321lwITeH0F8hXAJBM5dSZCk0zmcLJJIITMqaNJVlyBuQLKgeFe+gskQD/drZboH3n6faq2ahepW31ON8eitTwkh8NBgBBCPPMPAPz777+hx/FXkyQJhGCNrxJ7Thh/gv+FHgQhJE5YfAghQWDxIYQEgcWHEBKE7uKzWyB5WOPkYTCEkJLO990J64cESZJUzpO95oPKdZMFdrVjOyySB6wlg/kr7nxO6wcki133iSPp30Z/u4XvBeYWmzl2vR5C0Jrv3W8s9xlyISDenzFRvdanz8GD+43lfQ4hBI6rA35VKs1uMQfydzxLBvPPrdclYZhtBOJ9UBsf0vlO7zA1ea1PnwM4fR4A/AAATL7dY//nCGCC0/oBc+QQM0XDw+EgahxXIgUEAAGkYrXKBNKVOAohhMhFdn4NEEAm8qKRWKXnNtXXz8dSsTrmIqv2e6xdtKM9RJZXTs/PY2q2g0jrHUtQxFCL+3w9Xf+6MdcBoGhz7q/PmM4pgMDlhXOOdDlWIZufTOS1sdb7Oq7SSgzVYzZz0t1fexxD1kPo+C+dat539fmuX794XfZaF9bWUH4d63GVFjk/rkTaEX+j+BQDuE5YOZBa8ZEXh2qwRSKahekaiPR4R3t58amcb5DsWky1GHKRNfvr6L8+ce02VZoLrd1f/zHJFk41x83xqTm3bf8hOTevXVuzqOzmpKM/zTj6rYcxxN/1vpPMZ+M9oHxNg/01VC/cuqYARH3P5/Qf3vYZXi4f0GbY5FnrbinLN5g12uSb673V5PkFGQ74PFXbXD/31Y4btrdNLQbMsKl8Rp58f0S6/8BR1fi0xq9titXPxpj3b/jvhjHfNCbUczz7kQGHT+PP89drT/D9MQWyHOcpmXy7B2rX3uJPc0vFdk6M+pOMYyBB4zd83/lg2Bqa4PldQAgBITaYrp+wvM+xma7xkBQb0Q+SHed68Tl+YN93tNI2U9yle3zo3ikojw9ub5fT+qHcrU+QTJcGedhjOU2ubZI5tsHH5IHJM96PKxzmskVlOyea/rTjcIiL+Ie878bKaY2nt0ccN1Osn5a4zwWEyHG/fGo98aoXn+kd0r4Xk7Y54mOf4k6781UeH9zeIrsFpsv74imBEBDHlUEesuv5l3/ku/r+xuSJyTPexXlRTXF9sGQ7Jx39KcfhGNvxD3nfjZIdFtM3PL6e79jP7+Ep7iQB1ovP5Bvusb0+Kjut8TDvqN2T73hMt5hXZv60/oVt+ojvlaRv59dn/bXjne0n+HYPbM/3uaox9fiI0cXut+Quo9p/OeZft/y17Tle6ZiCU1lUtnPSqz/J4ra4Hoyue0v8Q953I2S3mOOweq0U2/OnlyM+9vf41ijCjf/PZ4bNcQUsp+Wt/gdeOv/iTvD8niPbzi+3m9O3Rxwb/59Blr/go7wlnS7vkV+Od7efbSrHpx94aXweLvZDlpgOvf2ebZBnW8zL6/+6W6F6hXb/Ezy/H/H4Nq3cYpv/PxNG4+0YUzB2i0rM0+Kz/Qywn5OO/pTjsLAevMc/5H03MnYLzA8rvF5vS/H8kmE7Lz5+HlY/0XzinhwOB+FWqXHC+mGKjxeBjep5/19O7PoEGbHnhPFTqUEICcRfWHx2WFRvexv/eHsqMhpiz0es8duM200OPXzsIrHfYsuIPSeMPym+25UkSeix/PUwx21iz0ns8f8DIOoK7IPY/8rJiD0njJ8bzoSQQLD4EEKCwOJDCAkCiw8hJAgsPoSQILD4qDhdXSRJkmi/MV1TX7QE2l8MW3HXvgMV4H/m8xGH6hqNNkHWRo/4i9Mf5PPUMY/13FVE8bV2coF8W6NKxNkkl16VbhqlZN04KLO/oanMHC224i61sFcNo0gb/bjNiY84+lyjvS5GFT8g0lXesCmej6nnUWlqbF4vz1pKWbQ1qkQIIUlWtxbycqZkQr5M8bEVd0s12ljEwnFOfMTR5xq+i++g+JsqV9Exj+05vTZrvgfk88+PXRJOnwfprwAcOr2uO/xe7pE+fu/82ZIxYi3uyTNesi3myQI7nLB+aHpe3OIjjj7X2P1eYp+9fIH4G+jm8fSJA4C3p8rHyvKzXVs7C1zdPlf40zlGFEIzJbsFkrP8KcshfK0y5wyPe7YRyJFgnmyBdIVj0Jz4iEN1jR3+bIEsD+mT6YhfgzL+Uv26ehV4n6DYY5rOsfghsJltkGdlGwBAijQFmkPgnY8RJ3weNIdnm4s283j36+tvOl8YGnfxLeg/P8pjj2+YqjYdveAjDvk1CivnCj+Duqw64lfSFX/FTjj5jsf0enc121RVsi+4l2g4WXwkyG8bgfumB1LW9vsjUse/vOEKW3E333CT51es0j3ebvlpjx74iMPsGsXHuOyl+9dDbXJL/FW08zi9M1/nuz/YIsOPZgHmhrOM4gnA9aFHdQOv8Ttjx5VIlb85VoCvsuFsK+7mhmf5g3jVDU+3OfERh+4akr4ajCb+62jbG87a+BvnK5+oNZ68lYBPuzQ0f0Gy+auUrR9bU//K49cpPsJa3Hmm/+VQ5znxEYfyGkKo3nRnxhN/9RdK23Gax18pdo3XZTkAICgT80Ds+gQZseeE8VOpQQgJBIsPISQILD6EkCDQ4ewJ5rhN7DmJPX46nD0Q++aijNhzwvi54UwICQSLDyEkCCw+hJAgsPgQQoLA4kMICULcxWew57d67gnrh4art0uY6wMbDmOti1gX9why4jz+5vG6akO9XjzRx+Gs8y0bOpxrr5s6rOP9YmkPz+1xJdKKFrL+beVuRSW8f7HUroO6dvbluC7u0DnxEL/OU6xdLwWjiV/rWzZxWMvcz7LLtB3W8RafGzy/9UkI/UaTYNlBXTloGHfgnHiI38RTLGt3Zizxa+MwcHFLVRzti0jjj/Zj102e2+MH9lWLG4DtvONnQjziykEtcxHr4g6VEx/xm3qKAUjXi0v6xK+Nw5KLW+Wwjrb4tDH13J6w/rVFuvqJWdnu+f2qjDyugOV0bBpVA4dxkiBJ5thmOd6lq6t0EV90dLq4x5YTB/HPNsizLeaX/YxfOKSyzpvrJQSa+DvimG1EeXyKJVZ47e3ibq6bKyw+F8w8t7uFfhImzy/IsMWfUVWf2x3UXS5iXdzhc+ImfhNPcdd68YM+fnUct7u4desm2uIzxHO7WySYH1Y4vmucvKdPHJDirnnP6xH7DmoDF7Eubs85CRK/xFNstF4ccJPDuRLH7S7ujrxFu+Hcy3Nb/rdkIzLPJNrN4D8aaNdBLXtNF3f4nLiPX3a966arer2cGU38knb1p2R6F7duw7nLYR1x8RHmnts8azlugeoj18prkgXnv/gIiw5qhYtYF/cYcuI6fp2nWLdeSkYTf4dvWe1w1rufTRzWdDh7IHZ9gozYc8L4qdQghASCxYcQEgQWH0JIEOhw9gRz3Cb2nMQePx3OHoh9c1FG7Dlh/NxwJoQEgsWHEBIEFh9CSBBYfAghQWDxIYQEgcVHhRW/c0BsOIylx0ulwg1+Yy8EdVh359Q1vdZkR66knmZd/HQ434Itv3MBvrDDWasVbfZk4jcucZuT0A7r7j6dxm+wJmtjVeZK52nuoR0WdDibY83vXOC9+FhzGGu8xO2GvfzGTnMS3GHd3afXNSFZkxeMciXTZtz+nuDHLgm2/c6+seYwPn3iAODtqfsncAb7jR0wFoe1SZ9e0KzJm9Y6zDzddDjfxFC/81gY6DA+fmAP4PG1VGweV0i3c8n+wVC/sS98O6xN+/RB3zVputZNPd10ON+IHb9zOG5xGFf+Yk6+4zFt/1Uc6jf2RwCHtUGfPui/Js3WehOVp5sO55448zt7wprDeHon8Rk3GeY3dsnYHNbyPt1jsiZv8j1XkcZPh/MA7Pidz+DLOpwbG42Sp0b9/cYFbnMS1mFt0qfb+HVrsrl+dbmqt6nOoYmnmw7nodjwO5f4Lz7CnsO44fitP90Y4DcucZ6TkA7rzj59PO1TrUmJQF6ZK42nudPTTYfzKIhdnyAj9pwwfio1CCGBYPEhhASBxYcQEgQ6nD3BHLeJPSexx0+Hswdi31yUEXtOGD83nAkhgWDxIYQEgcWHEBIEFh9CSBBYfAghQWDxUdHDAXxmt0gkrttA2Bq/rp9B7l9P2HJY61zUmmuE9noPuX5r/g1czFK/d6utQjTGL5bK6OMAFtdz0kxkLd3k2B3O4npOa/wmft++7t8Ctzmx5HDWuqg11wjt9e7lcC7RrN/6adf8KJWzhg5vFh8ZvR3A5+My1+1XcDgrxq/rZ7D7t8BpTiw5nLUu6j7XCO311jmcixO061fej9rvberw5scuCX29tqf1E5b3OTYjcafaGr+un1vdvy6x5XDWuah7XSO017vj+qbrt+Zi1vi9TR3e/wyLJjY0XtvTGk/Le+RiBiD8G0+OrfHr/L6m7t8QGDic59vi37Mc4qwcnW2QZwnmSXkMKdIUkHelusbZoXwM5PXuuL7x/Jcu5rzspfR7r14F3idFPw/TORY/BDaGeeOdjxEqr+0J66cl7vPNyITxTWyNX+f3Heb+9cNwh7O5i1p+jdBeb/31zedf7mJW+71N8sbiI8Hca3vEx7768yFTLPfAfjlF8rAOdh9ka/zQ9GPN/esA+w7nkoqL2uQaob3e3dc3Xb8SF7OR3/vcXOHw5oazjD4O5yoj2XC2Nn5dP8Pcv2fc5sSuw7nap1luQnu9+zic28ea8yXPSbffuzygdHiz+KgwdgDXGo2k+Ah741f2ozumcf+WOM+JDYdzl4tadY3QXu++DudrQJL1q3Exq/zehg5vOpw9ELs+QUbsOWH8VGoQQgLB4kMICQKLDyEkCHQ4e4I5bhN7TmKPnw5nD8S+uSgj9pwwfm44E0ICweJDCAkCiw8hJAgsPoSQILD4EEKCEHfxseI5PmH90HDc+hb2yvDgMNa1C+0wdhN/20et9FSbOIwd0iv/uhhdOqzj/WKpLc9xt6ITo3Y43+AwVrUL7TC2FX9T/9nSiCo81YYOY2f0cjhrYnTssI63+FjzNI+w+PhwGGvaSQ76dRhbir8Yd7UfWfztb4KbOoy9oXM4a2J07bCO9mOXbU/zVcjk/xa7iQ+Hsa5dC88OY1vxY/KMl2yLebLADiesH+Y4rF7RJSU0z5sndPnXxOjaYU2H84WhnuMJnt8Fni+nPmA6XeCbGJNa1ZHDWNWuRmiHMTA4fhQ60BxlDtIVjiY61F7uZ9d0518Zo2OHdbR3Pm3seI4nzy/IsMWfEew5X3HkMNa0OxPaYVwwNP4dFkmCPz/KY49vmBre2Zq7n93SnX99jC4d1tEWH2ee5tMnDkhx17wf9YgPh7FJu1AOY1vxN6Xpk+dXrNI93v7r+blakzeXmOS/V4y2HdbRbjhb8hznWX0jLc/a7lyM2eE81GGsbRfaYWwp/uamaqkHNf1hxOpY/Kp1ezicjWIUwoXDOuLiI+x4jpu+XEnC/Rcf4cFhrGkX2mHcGvvA+EX5x0SaA42n2tBh7IyeDmdljI4d1nQ4eyB2fYKM2HPC+KnUIIQEgsWHEBIEFh9CSBDocPYEc9wm9pzEHj8dzh6IfXNRRuw5YfzccCaEBILFhxASBBYfQkgQWHwIIUFg8SGEBCHu4tPT4Sz39f7lDufW8bZSou217u7TOTbib7iN6+d0z7vS7+yB4Q7nyvxq49e0k7SV5iDeL5b29PyqfL1j1Khacxh36FHPfbe81vo+hfgqDmfJ2Vn9C5ryU3XrpcBp/H0czga+6frpZfydfmeV+7oAUX+rfZDnV6ZPGGHxseUw1jib6/3qtRKyAuY0J9bibx2svImGrpcCr2tC43Du4+mu9qNtZ+C+Bh3OQzy/cv5Gh3MhRgPenuQfLbq81tI+PWAt/ubR30vss5eaw3lM865E43Du45uuxq9tZ+i+jrb4tOnw/GraPb9fVZPHFbCcBtjj0GLgME4SJMkc2yzH+3mVHD+wB/D4WsZ3XCHdzov9g7PXWlV5VH0GYWD89ZPwZwtkFx3hV5h34OpQ/inXAM82yLMt5pf9mV84pLITG/F3tJttRHmcGlUDOjy/hvxtDmdU/2JOvuMxBQ6fu26vtYHf2R+3xF/20NCNNhnnvJs5tE08zbL41e3M3NfRFp9bPL9a/iaH8/RO4XP+7OW11nqhHWDfYV18HMteNC7qEcx7k0EObalv2iD+SjtjL3S0G86DHM7tDcS/2+EsU8bKNiMb5xl4od3mxK7DWvaaybyH23Du4XCuIfdN63/xVNLOwAuNqJ92CdHD86vx9f7NDudWP6qnO/JfcVX2Kb6Ow1n1htTPu2a9lDiNv4/DudM3rYi/o53afV0AOpz9ELs+QUbsOWH8VGoQQgLB4kMICQKLDyEkCHQ4e4I5bhN7TmKPnw5nD8S+uSgj9pwwfm44E0ICweJDCAkCiw8hJAgsPoSQILD4EEKCwOKjworfOSBWHM4dnmKNw7eXQ9gFzh3O3TF2ua9dYuzQ7hVjvZ9b3d9xf7FUiS2/cwG+rMNZowrVOXwNHMJuc+LB4dwRY5f72nn8PWJqtb6cr+vnNvc3ov9WuwprfucC78XHmsNY3W6o+/eM05x4cTjrjnW5r/2uic4fAaif3MP3rDpmFj8/dkmw7Xf2jW2HscxT3Mf9q3MIu8Cnw/lCNcYO97Vf+jm01THq+unn/r7AO582sgqfZ+pfZyhbjebOp/f4q/4Xze1B86NF3dmSilR6dyHPi8ucuIm/ISirX1EvXVPItJxiOKeNRu0Ydf2ojhnGzzsfI+z4ncNxu8MYaHuKTdy/Jg5h97h1OMtjlLmvPd45D3BoS2PU9dPb/V2Pn8VHgjO/syfsO4xLdJ5iift3kEPYAj4dztIYle7rMJg5tLs9zbp+zNzfDfixS4Ydv/MZfFGHs5mn+Hq9lkY15NMexw5nE0+y7mmb0/gNvNzN9SuNUdfPje5v8GmXBht+5xL/xUfYcRjrPMU6h6/WIVzgPCe+Hc7NGDvc127j18UkKz6KGE36Gej+Bh3OfohdnyAj9pwwfio1CCGBYPEhhASBxYcQEgQ6nD3BHLeJPSexx0+Hswdi31yUEXtOGD83nAkhgWDxIYQEgcWHEBIEFh9CSBBYfAghQWDxUWHsAO7wHIeip4MaKL6hLfNQ6/zUXZ5eVZ9BseK3htZh3W7r1+FsgtHcNBzPtXONjyli5xdLZfRxAHcrOjFqh7O4npNmIqt9M1/vp+7Uc0r7LPCfk8ug7PiddQ5rEdrhbIBmbion1XWoOlVs9VhHboSgTExN6aZ5OcuhZj+xShWK0DHSe/wnrH9tkb38xF3t9Rk2QuD9WSrwwe8lsHpV+V9UfQamV25m2FQ8PdO7FDh84oSzqvUR388HZz+QXRw2XbkJjeHcnD5xqEnBvuHe4Jg+N1dYfCQMcQDLPMeh6Dv+0/oJy/scG4mlT3MRrad3UJ8esOV31jqsR+VwbmM8N5NnvGRbzJMFdjhh/TDHYfVa+J01x0z93v9YjeqvZYJv9+pjz+8Cz+V/ndYPmE4X+CY2GM/7TjP+0xpPy3vkYgagR9U8fmAPYPUq8D4p+nmYzrH4IbCZDuwzCLq5RbF3Md8W/57lEJc7pg3yLME8KY8hRZqi+Ouvy03oRdFzvmcbgRxlnOkKx4oqVnlMl5sKvPMxwtzh3PQcjwPV+E9YPy1xnw8tlDJP7+7GPn0z3O+sd1gHdjhL6TvfOyySBH9+lPE/vmF6ubPXHTPze7P4SLjJ4azzHHvCfPxHfOyrHxmnWO6B/XKK5GGt/7uo9PR+Du/TA8781lWH9cgczlf6zXdTKD95fsUq3ePtv5P2WAuJ3xsAn3bJMXcAm3iOMWaHcw2Vh1r2erenV9en/5ycset3rvbZdFgHczgb05ybRvzNp1TVn8DRHashV7SCDmcNpg5gnee4JMhCM3YY1xo1FmOHn7rD0yvvsyDom8+G31nnsJYc9+twNqWj+Ijmb7PV41Qe68qNoMPZG7HrE2TEnhPGT6UGISQQLD6EkCCw+BBCgkCHsyeY4zax5yT2+Olw9kDsm4syYs8J4+eGMyEkECw+hJAgsPgQQoLA4kMICQKLDyEkCHEXHysu35E6nHXY8jt39KNzPzvHiae5R/y6ds7puSY1cehyc4vfGkDM32q35PIdpcNZh22/s6wfvftZCNc5sTW3XQ5jXfyqdgVu4+9ek1c64tDlZqDfWojYv9XeSoj5hNXl4F+s+PSO+3xcpono6kel6HCcE1tze1yJtNZPpajorqFrVzKa4tMjVzopfvVY+zx5/NF+7LLl8j0zJoezDlt+5+H5c4+1udV4irXX0LmPPWKyJs1zJV/3smN0OPdmoMv3SzicddjyO3fkLyhD51bvMNZdw7ydC25Zk41caXIzyG9dIdo7nzbDXb5Vxulw1mHL72zuufbP0LnVe4rV1+jTzj391mQjV7p1P9hvXRBt8XHm8h2Bw1mHLb8zbvFcO8bW3Oo8xbpr9PIb+0CzJvvkSrfujf3WVaLdcLbk8h2nw1mHLb+zrh9Vmytuc2LJ06z1FGuuYeA3dhm/fk0251gThy43g/3WBYj6aZcQdly+Y3U467Did9b10+F+Fh5yYmNuhd5hrL5GRzvh42mfak1K5rgrV32P0eE8HmLXJ8iIPSeMn0oNQkggWHwIIUFg8SGEBIEOZ08wx21iz0ns8f8ftz/bxf52EpMAAAAASUVORK5CYII=)\n",
        "\n",
        "\n",
        "You implement dropout regularization as a separate layer in the topography. For example, the following code demonstrates how to add a dropout regularization layer between the first hidden layer and the second hidden layer:\n",
        "\n",
        "```\n",
        "model.add(tf.keras.layers.Dense( *define first hidden layer*)\n",
        " \n",
        "model.add(tf.keras.layers.Dropout(rate=0.25))\n",
        "\n",
        "model.add(tf.keras.layers.Dense( *define second hidden layer*)\n",
        "```\n",
        "\n",
        "The `rate` parameter to [tf.keras.layers.Dropout](https://www.tensorflow.org/api_docs/python/tf/keras/layers/Dropout) specifies the fraction of nodes that the model should drop out during training. \n"
      ]
    },
    {
      "cell_type": "code",
      "source": [],
      "metadata": {
        "id": "FJaH45GVDpfM"
      },
      "execution_count": null,
      "outputs": []
    }
  ],
  "metadata": {
    "colab": {
      "provenance": [],
      "include_colab_link": true
    },
    "kernelspec": {
      "display_name": "Python 3",
      "name": "python3"
    }
  },
  "nbformat": 4,
  "nbformat_minor": 0
}